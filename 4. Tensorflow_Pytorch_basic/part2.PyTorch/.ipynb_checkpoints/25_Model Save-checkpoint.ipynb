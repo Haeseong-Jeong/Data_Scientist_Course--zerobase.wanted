{
 "cells": [
  {
   "cell_type": "markdown",
   "id": "6d74b558",
   "metadata": {},
   "source": [
    "# Model Save"
   ]
  },
  {
   "cell_type": "code",
   "execution_count": 1,
   "id": "d24b893a",
   "metadata": {
    "ExecuteTime": {
     "end_time": "2023-10-14T11:56:32.284360Z",
     "start_time": "2023-10-14T11:56:26.671933Z"
    }
   },
   "outputs": [],
   "source": [
    "import torch\n",
    "from torch import nn \n",
    "from torch import optim\n",
    "import torch.nn.functional as F\n",
    "\n",
    "from torchvision import datasets, transforms"
   ]
  },
  {
   "cell_type": "markdown",
   "id": "f0211385",
   "metadata": {
    "ExecuteTime": {
     "end_time": "2023-10-14T10:11:57.277099Z",
     "start_time": "2023-10-14T10:11:57.263100Z"
    }
   },
   "source": [
    "##### 디바이스 설정"
   ]
  },
  {
   "cell_type": "code",
   "execution_count": 2,
   "id": "f66966c7",
   "metadata": {
    "ExecuteTime": {
     "end_time": "2023-10-14T11:56:34.385660Z",
     "start_time": "2023-10-14T11:56:33.417770Z"
    }
   },
   "outputs": [
    {
     "data": {
      "text/plain": [
       "device(type='cuda')"
      ]
     },
     "execution_count": 2,
     "metadata": {},
     "output_type": "execute_result"
    }
   ],
   "source": [
    "device = torch.device('cuda' if torch.cuda.is_available() else 'cpu')\n",
    "device"
   ]
  },
  {
   "cell_type": "markdown",
   "id": "1bfc1480",
   "metadata": {},
   "source": [
    "##### 데이터 로더 설정"
   ]
  },
  {
   "cell_type": "code",
   "execution_count": 3,
   "id": "3213d258",
   "metadata": {
    "ExecuteTime": {
     "end_time": "2023-10-14T11:56:37.273117Z",
     "start_time": "2023-10-14T11:56:37.139284Z"
    }
   },
   "outputs": [],
   "source": [
    "batch_size = 32\n",
    "\n",
    "train_loader = torch.utils.data.DataLoader(\n",
    "    datasets.MNIST('dataset/', train=True, download=True,\n",
    "                   transform=transforms.Compose([\n",
    "                       transforms.ToTensor(),\n",
    "                       transforms.Normalize(mean=(0.5,), std=(0.5,))\n",
    "                   ])),\n",
    "    batch_size=batch_size,\n",
    "    shuffle=True)"
   ]
  },
  {
   "cell_type": "markdown",
   "id": "e9720c3d",
   "metadata": {},
   "source": [
    "##### 딥러닝 모델 구축"
   ]
  },
  {
   "cell_type": "code",
   "execution_count": 4,
   "id": "655e90c5",
   "metadata": {
    "ExecuteTime": {
     "end_time": "2023-10-14T11:56:38.646361Z",
     "start_time": "2023-10-14T11:56:38.616703Z"
    }
   },
   "outputs": [],
   "source": [
    "class ResidualBlock(nn.Module):\n",
    "    def __init__(self, in_channel, out_channel):\n",
    "        super(ResidualBlock, self).__init__()\n",
    "        \n",
    "        self.in_channel, self.out_channel = in_channel, out_channel\n",
    "        \n",
    "        self.conv1 = nn.Conv2d(in_channel, out_channel, kernel_size=1, padding=0)\n",
    "        self.conv2 = nn.Conv2d(out_channel, out_channel, kernel_size=3, padding=1)\n",
    "        self.conv3 = nn.Conv2d(out_channel, out_channel, kernel_size=1, padding=0)\n",
    "        \n",
    "        if in_channel != out_channel:\n",
    "            self.shortcut = nn.Sequential(\n",
    "                nn.Conv2d(in_channel, out_channel, kernel_size=1, padding=0)\n",
    "            )\n",
    "        else:\n",
    "            self.shortcut = nn.Sequential()\n",
    "    \n",
    "    def forward(self, x):\n",
    "        out = F.relu(self.conv1(x))\n",
    "        out = F.relu(self.conv2(out))\n",
    "        out = F.relu(self.conv3(out))\n",
    "        out = out + self.shortcut(x)\n",
    "        return out\n",
    "\n",
    "class ResNet(nn.Module):\n",
    "    def __init__(self, color='gray'):\n",
    "        super(ResNet, self).__init__()\n",
    "        if color == \"gray\":\n",
    "            self.conv1 = nn.Conv2d(1, 32, kernel_size=3, stride=1, padding=1)\n",
    "        elif color == \"rgb\":\n",
    "            self.conv1 = nn.Conv2d(3, 32, kernel_size=3, stride=1, padding=1)\n",
    "            \n",
    "        self.resblock1 = ResidualBlock(32, 64)\n",
    "        self.resblock2 = ResidualBlock(64, 64)\n",
    "        \n",
    "        self.avgpool = nn.AdaptiveAvgPool2d((1,1))\n",
    "        self.fc1 = nn.Linear(64, 64)\n",
    "        self.fc2 = nn.Linear(64, 10)\n",
    "        \n",
    "    def forward(self, x):\n",
    "        x = F.relu(self.conv1(x))\n",
    "        x = F.max_pool2d(x, 2, 2)\n",
    "        x = self.resblock1(x)\n",
    "        x = self.resblock2(x)\n",
    "        x = self.avgpool(x)\n",
    "        x = torch.flatten(x,1)\n",
    "        x = F.relu(self.fc1(x))\n",
    "        x = self.fc2(x)\n",
    "        x = F.log_softmax(x, dim=1)\n",
    "        return x"
   ]
  },
  {
   "cell_type": "markdown",
   "id": "0663c1b7",
   "metadata": {},
   "source": [
    "##### 모델 생성"
   ]
  },
  {
   "cell_type": "code",
   "execution_count": 5,
   "id": "e3d424a5",
   "metadata": {
    "ExecuteTime": {
     "end_time": "2023-10-14T11:56:44.712287Z",
     "start_time": "2023-10-14T11:56:43.701248Z"
    }
   },
   "outputs": [],
   "source": [
    "model = ResNet().to(device)"
   ]
  },
  {
   "cell_type": "code",
   "execution_count": 6,
   "id": "222cdc5b",
   "metadata": {
    "ExecuteTime": {
     "end_time": "2023-10-14T11:56:45.931318Z",
     "start_time": "2023-10-14T11:56:45.913288Z"
    }
   },
   "outputs": [
    {
     "name": "stdout",
     "output_type": "stream",
     "text": [
      "ResNet(\n",
      "  (conv1): Conv2d(1, 32, kernel_size=(3, 3), stride=(1, 1), padding=(1, 1))\n",
      "  (resblock1): ResidualBlock(\n",
      "    (conv1): Conv2d(32, 64, kernel_size=(1, 1), stride=(1, 1))\n",
      "    (conv2): Conv2d(64, 64, kernel_size=(3, 3), stride=(1, 1), padding=(1, 1))\n",
      "    (conv3): Conv2d(64, 64, kernel_size=(1, 1), stride=(1, 1))\n",
      "    (shortcut): Sequential(\n",
      "      (0): Conv2d(32, 64, kernel_size=(1, 1), stride=(1, 1))\n",
      "    )\n",
      "  )\n",
      "  (resblock2): ResidualBlock(\n",
      "    (conv1): Conv2d(64, 64, kernel_size=(1, 1), stride=(1, 1))\n",
      "    (conv2): Conv2d(64, 64, kernel_size=(3, 3), stride=(1, 1), padding=(1, 1))\n",
      "    (conv3): Conv2d(64, 64, kernel_size=(1, 1), stride=(1, 1))\n",
      "    (shortcut): Sequential()\n",
      "  )\n",
      "  (avgpool): AdaptiveAvgPool2d(output_size=(1, 1))\n",
      "  (fc1): Linear(in_features=64, out_features=64, bias=True)\n",
      "  (fc2): Linear(in_features=64, out_features=10, bias=True)\n",
      ")\n"
     ]
    }
   ],
   "source": [
    "print(model)"
   ]
  },
  {
   "cell_type": "markdown",
   "id": "480f24fc",
   "metadata": {},
   "source": [
    "### weight만 저장"
   ]
  },
  {
   "cell_type": "code",
   "execution_count": 7,
   "id": "ca897410",
   "metadata": {
    "ExecuteTime": {
     "end_time": "2023-10-14T11:58:36.556358Z",
     "start_time": "2023-10-14T11:58:36.525746Z"
    }
   },
   "outputs": [],
   "source": [
    "torch.save(model.state_dict(), 'model_weights.pth')"
   ]
  },
  {
   "cell_type": "markdown",
   "id": "daaf99d7",
   "metadata": {},
   "source": [
    "불러오기"
   ]
  },
  {
   "cell_type": "code",
   "execution_count": 9,
   "id": "ddeb245b",
   "metadata": {
    "ExecuteTime": {
     "end_time": "2023-10-14T11:58:54.792375Z",
     "start_time": "2023-10-14T11:58:50.718948Z"
    }
   },
   "outputs": [
    {
     "data": {
      "text/plain": [
       "<All keys matched successfully>"
      ]
     },
     "execution_count": 9,
     "metadata": {},
     "output_type": "execute_result"
    }
   ],
   "source": [
    "model.load_state_dict(torch.load('model_weights.pth'))"
   ]
  },
  {
   "cell_type": "code",
   "execution_count": null,
   "id": "04e1e7a3",
   "metadata": {},
   "outputs": [],
   "source": []
  },
  {
   "cell_type": "markdown",
   "id": "e3f4ca63",
   "metadata": {},
   "source": [
    "### 구조도 함께 저장"
   ]
  },
  {
   "cell_type": "code",
   "execution_count": 10,
   "id": "e848f111",
   "metadata": {
    "ExecuteTime": {
     "end_time": "2023-10-14T11:59:37.166029Z",
     "start_time": "2023-10-14T11:59:37.137023Z"
    }
   },
   "outputs": [],
   "source": [
    "torch.save(model, 'model.pth')"
   ]
  },
  {
   "cell_type": "markdown",
   "id": "79e3ddf0",
   "metadata": {},
   "source": [
    "불러오기"
   ]
  },
  {
   "cell_type": "code",
   "execution_count": 11,
   "id": "30ec930d",
   "metadata": {
    "ExecuteTime": {
     "end_time": "2023-10-14T12:00:18.123164Z",
     "start_time": "2023-10-14T12:00:18.092877Z"
    }
   },
   "outputs": [],
   "source": [
    "model = torch.load('model.pth')"
   ]
  },
  {
   "cell_type": "code",
   "execution_count": null,
   "id": "5677062c",
   "metadata": {},
   "outputs": [],
   "source": []
  },
  {
   "cell_type": "markdown",
   "id": "55d2ef6d",
   "metadata": {},
   "source": [
    "### 불러온 모델로 Traning"
   ]
  },
  {
   "cell_type": "code",
   "execution_count": 12,
   "id": "3e6152e0",
   "metadata": {
    "ExecuteTime": {
     "end_time": "2023-10-14T12:02:00.223136Z",
     "start_time": "2023-10-14T12:02:00.210104Z"
    }
   },
   "outputs": [],
   "source": [
    "from torch.optim.lr_scheduler import ReduceLROnPlateau\n",
    "\n",
    "optimizer = optim.SGD(model.parameters(), lr=0.003)\n",
    "scheduler = ReduceLROnPlateau(optimizer, mode='min', verbose=True)"
   ]
  },
  {
   "cell_type": "code",
   "execution_count": 13,
   "id": "954b59e1",
   "metadata": {
    "ExecuteTime": {
     "end_time": "2023-10-14T12:02:02.357964Z",
     "start_time": "2023-10-14T12:02:02.340945Z"
    }
   },
   "outputs": [],
   "source": [
    "def train_loop(dataloader, model, loss_fn, optimizer, scheduler, epoch):\n",
    "    model.train()\n",
    "    size = len(dataloader)\n",
    "    for batch, (x, y) in enumerate(dataloader):\n",
    "        x, y = x.to(device), y.to(device)\n",
    "        \n",
    "        pred = model(x)\n",
    "        loss = loss_fn(pred, y)\n",
    "        \n",
    "        optimizer.zero_grad() # 기울기 초기화\n",
    "        loss.backward()       # 미분값 계산\n",
    "        optimizer.step()      # 가중치 업데이트\n",
    "        \n",
    "        if batch % 100 == 0: # batch 100번 마다 기록 출력\n",
    "            loss = loss.item()\n",
    "            print(f\"epoch {epoch+1} : [{batch}/{size}] loss : {loss}\")\n",
    "            \n",
    "    scheduler.step(loss) # epoch마다 스케쥴작업\n",
    "    \n",
    "    return loss.item()"
   ]
  },
  {
   "cell_type": "code",
   "execution_count": 14,
   "id": "54a65a0b",
   "metadata": {
    "ExecuteTime": {
     "end_time": "2023-10-14T12:03:34.441631Z",
     "start_time": "2023-10-14T12:02:20.584115Z"
    },
    "scrolled": false
   },
   "outputs": [
    {
     "name": "stdout",
     "output_type": "stream",
     "text": [
      "epoch 1 : [0/1875] loss : 2.3070342540740967\n",
      "epoch 1 : [100/1875] loss : 2.3304343223571777\n",
      "epoch 1 : [200/1875] loss : 2.307098865509033\n",
      "epoch 1 : [300/1875] loss : 2.2731873989105225\n",
      "epoch 1 : [400/1875] loss : 2.31030011177063\n",
      "epoch 1 : [500/1875] loss : 2.330646514892578\n",
      "epoch 1 : [600/1875] loss : 2.314789295196533\n",
      "epoch 1 : [700/1875] loss : 2.3190481662750244\n",
      "epoch 1 : [800/1875] loss : 2.316894292831421\n",
      "epoch 1 : [900/1875] loss : 2.3055002689361572\n",
      "epoch 1 : [1000/1875] loss : 2.287764549255371\n",
      "epoch 1 : [1100/1875] loss : 2.3079030513763428\n",
      "epoch 1 : [1200/1875] loss : 2.300863027572632\n",
      "epoch 1 : [1300/1875] loss : 2.2941646575927734\n",
      "epoch 1 : [1400/1875] loss : 2.289180278778076\n",
      "epoch 1 : [1500/1875] loss : 2.30958890914917\n",
      "epoch 1 : [1600/1875] loss : 2.312286853790283\n",
      "epoch 1 : [1700/1875] loss : 2.2961041927337646\n",
      "epoch 1 : [1800/1875] loss : 2.3020691871643066\n",
      "                                              \n",
      "Epoch:1 Total loss:2.2981860637664795\n",
      "------------------------------------------------\n",
      "epoch 2 : [0/1875] loss : 2.3005943298339844\n",
      "epoch 2 : [100/1875] loss : 2.3012492656707764\n",
      "epoch 2 : [200/1875] loss : 2.293990135192871\n",
      "epoch 2 : [300/1875] loss : 2.279294013977051\n",
      "epoch 2 : [400/1875] loss : 2.30590558052063\n",
      "epoch 2 : [500/1875] loss : 2.297670364379883\n",
      "epoch 2 : [600/1875] loss : 2.2939090728759766\n",
      "epoch 2 : [700/1875] loss : 2.2968690395355225\n",
      "epoch 2 : [800/1875] loss : 2.3154661655426025\n",
      "epoch 2 : [900/1875] loss : 2.3043088912963867\n",
      "epoch 2 : [1000/1875] loss : 2.279874324798584\n",
      "epoch 2 : [1100/1875] loss : 2.306643486022949\n",
      "epoch 2 : [1200/1875] loss : 2.3021740913391113\n",
      "epoch 2 : [1300/1875] loss : 2.2932615280151367\n",
      "epoch 2 : [1400/1875] loss : 2.286513566970825\n",
      "epoch 2 : [1500/1875] loss : 2.285982847213745\n",
      "epoch 2 : [1600/1875] loss : 2.308321952819824\n",
      "epoch 2 : [1700/1875] loss : 2.2992844581604004\n",
      "epoch 2 : [1800/1875] loss : 2.2979698181152344\n",
      "                                              \n",
      "Epoch:2 Total loss:2.3084282875061035\n",
      "------------------------------------------------\n",
      "epoch 3 : [0/1875] loss : 2.29990816116333\n",
      "epoch 3 : [100/1875] loss : 2.289907217025757\n",
      "epoch 3 : [200/1875] loss : 2.3010058403015137\n",
      "epoch 3 : [300/1875] loss : 2.309567928314209\n",
      "epoch 3 : [400/1875] loss : 2.2894294261932373\n",
      "epoch 3 : [500/1875] loss : 2.294705390930176\n",
      "epoch 3 : [600/1875] loss : 2.318800210952759\n",
      "epoch 3 : [700/1875] loss : 2.2875239849090576\n",
      "epoch 3 : [800/1875] loss : 2.2849209308624268\n",
      "epoch 3 : [900/1875] loss : 2.261098861694336\n",
      "epoch 3 : [1000/1875] loss : 2.2777864933013916\n",
      "epoch 3 : [1100/1875] loss : 2.31192684173584\n",
      "epoch 3 : [1200/1875] loss : 2.2327523231506348\n",
      "epoch 3 : [1300/1875] loss : 2.2861320972442627\n",
      "epoch 3 : [1400/1875] loss : 2.3297512531280518\n",
      "epoch 3 : [1500/1875] loss : 2.3038694858551025\n",
      "epoch 3 : [1600/1875] loss : 2.2911086082458496\n",
      "epoch 3 : [1700/1875] loss : 2.282883644104004\n",
      "epoch 3 : [1800/1875] loss : 2.2926056385040283\n",
      "                                              \n",
      "Epoch:3 Total loss:2.284304141998291\n",
      "------------------------------------------------\n"
     ]
    }
   ],
   "source": [
    "for epoch in range(3):\n",
    "    epoch_loss = train_loop(train_loader, model, F.nll_loss, optimizer, scheduler, epoch)\n",
    "    print('                                              ')\n",
    "    print(f\"Epoch:{epoch+1} Total loss:{epoch_loss}\" ) # Total이 맞는 표현일까?? 마지막 loss면 Last 아닐까?\n",
    "    print('------------------------------------------------')\n",
    "    "
   ]
  },
  {
   "cell_type": "markdown",
   "id": "af7e4ed1",
   "metadata": {},
   "source": [
    "### Save/load and Resuming Training"
   ]
  },
  {
   "cell_type": "markdown",
   "id": "d949068c",
   "metadata": {},
   "source": [
    "학습을 하다보면 중간에 끊기거나 등등 학습이 중단 될 경우가 종종있다.<br>\n",
    "이처럼 학습을 끊었다 다시 할 경우에 epoch를 같이 저장하면 그 뒤에 바로 이어서 할수 있는 기능이 있다."
   ]
  },
  {
   "cell_type": "code",
   "execution_count": 18,
   "id": "3c72d4c0",
   "metadata": {
    "ExecuteTime": {
     "end_time": "2023-10-14T12:10:38.384702Z",
     "start_time": "2023-10-14T12:10:38.378715Z"
    }
   },
   "outputs": [],
   "source": [
    "checkpoint_path = 'checkpoint.pth'"
   ]
  },
  {
   "cell_type": "markdown",
   "id": "6802eae6",
   "metadata": {},
   "source": [
    "epoch, weight, optimizer, loss 등등 딕셔너리 형태로 저장 가능"
   ]
  },
  {
   "cell_type": "code",
   "execution_count": 19,
   "id": "7ed2fd35",
   "metadata": {
    "ExecuteTime": {
     "end_time": "2023-10-14T12:10:39.983630Z",
     "start_time": "2023-10-14T12:10:39.958691Z"
    }
   },
   "outputs": [],
   "source": [
    "torch.save({\n",
    "    'epoch' : epoch,\n",
    "    'model_state_dict' : model.state_dict(),\n",
    "    'optimizer_state_dict' : optimizer.state_dict(),\n",
    "    'loss' : epoch_loss\n",
    "}, checkpoint_path)"
   ]
  },
  {
   "cell_type": "code",
   "execution_count": 20,
   "id": "defa9b04",
   "metadata": {
    "ExecuteTime": {
     "end_time": "2023-10-14T12:10:44.971061Z",
     "start_time": "2023-10-14T12:10:44.958064Z"
    }
   },
   "outputs": [],
   "source": [
    "model = ResNet().to(device)\n",
    "optimizer = optim.SGD(model.parameters(), lr=0.0003)"
   ]
  },
  {
   "cell_type": "code",
   "execution_count": 22,
   "id": "cc2923b0",
   "metadata": {
    "ExecuteTime": {
     "end_time": "2023-10-14T12:11:48.402303Z",
     "start_time": "2023-10-14T12:11:48.379271Z"
    }
   },
   "outputs": [
    {
     "data": {
      "text/plain": [
       "dict_keys(['epoch', 'model_state_dict', 'optimizer_state_dict', 'loss'])"
      ]
     },
     "execution_count": 22,
     "metadata": {},
     "output_type": "execute_result"
    }
   ],
   "source": [
    "checkpoint = torch.load(checkpoint_path)\n",
    "checkpoint.keys()"
   ]
  },
  {
   "cell_type": "markdown",
   "id": "4e0efa9d",
   "metadata": {},
   "source": [
    "불러온 모델 적용 방법"
   ]
  },
  {
   "cell_type": "code",
   "execution_count": 24,
   "id": "63344ae7",
   "metadata": {
    "ExecuteTime": {
     "end_time": "2023-10-14T12:13:51.794660Z",
     "start_time": "2023-10-14T12:13:51.777695Z"
    }
   },
   "outputs": [],
   "source": [
    "model.load_state_dict(checkpoint['model_state_dict'])\n",
    "optimizer.load_state_dict(checkpoint['optimizer_state_dict'])\n",
    "\n",
    "epoch = checkpoint['epoch']\n",
    "loss = checkpoint['loss']"
   ]
  },
  {
   "cell_type": "code",
   "execution_count": null,
   "id": "ef64f0d1",
   "metadata": {},
   "outputs": [],
   "source": []
  }
 ],
 "metadata": {
  "kernelspec": {
   "display_name": "GPU",
   "language": "python",
   "name": "gpu"
  },
  "language_info": {
   "codemirror_mode": {
    "name": "ipython",
    "version": 3
   },
   "file_extension": ".py",
   "mimetype": "text/x-python",
   "name": "python",
   "nbconvert_exporter": "python",
   "pygments_lexer": "ipython3",
   "version": "3.8.18"
  },
  "varInspector": {
   "cols": {
    "lenName": 16,
    "lenType": 16,
    "lenVar": 40
   },
   "kernels_config": {
    "python": {
     "delete_cmd_postfix": "",
     "delete_cmd_prefix": "del ",
     "library": "var_list.py",
     "varRefreshCmd": "print(var_dic_list())"
    },
    "r": {
     "delete_cmd_postfix": ") ",
     "delete_cmd_prefix": "rm(",
     "library": "var_list.r",
     "varRefreshCmd": "cat(var_dic_list()) "
    }
   },
   "types_to_exclude": [
    "module",
    "function",
    "builtin_function_or_method",
    "instance",
    "_Feature"
   ],
   "window_display": false
  }
 },
 "nbformat": 4,
 "nbformat_minor": 5
}
