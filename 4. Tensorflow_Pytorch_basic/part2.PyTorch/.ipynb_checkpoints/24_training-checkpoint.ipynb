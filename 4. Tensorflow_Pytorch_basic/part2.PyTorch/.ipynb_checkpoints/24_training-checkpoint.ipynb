{
 "cells": [
  {
   "cell_type": "markdown",
   "id": "6d74b558",
   "metadata": {},
   "source": [
    "# Training logic"
   ]
  },
  {
   "cell_type": "code",
   "execution_count": 1,
   "id": "d24b893a",
   "metadata": {
    "ExecuteTime": {
     "end_time": "2023-10-14T10:11:56.195107Z",
     "start_time": "2023-10-14T10:11:49.573504Z"
    }
   },
   "outputs": [],
   "source": [
    "import torch\n",
    "from torch import nn \n",
    "from torch import optim\n",
    "import torch.nn.functional as F\n",
    "\n",
    "from torchvision import datasets, transforms"
   ]
  },
  {
   "cell_type": "markdown",
   "id": "f0211385",
   "metadata": {
    "ExecuteTime": {
     "end_time": "2023-10-14T10:11:57.277099Z",
     "start_time": "2023-10-14T10:11:57.263100Z"
    }
   },
   "source": [
    "##### 디바이스 설정"
   ]
  },
  {
   "cell_type": "code",
   "execution_count": 3,
   "id": "f66966c7",
   "metadata": {
    "ExecuteTime": {
     "end_time": "2023-10-14T10:12:07.503010Z",
     "start_time": "2023-10-14T10:12:06.518929Z"
    }
   },
   "outputs": [
    {
     "data": {
      "text/plain": [
       "device(type='cuda')"
      ]
     },
     "execution_count": 3,
     "metadata": {},
     "output_type": "execute_result"
    }
   ],
   "source": [
    "device = torch.device('cuda' if torch.cuda.is_available() else 'cpu')\n",
    "device"
   ]
  },
  {
   "cell_type": "markdown",
   "id": "1bfc1480",
   "metadata": {},
   "source": [
    "##### 데이터 로더 설정"
   ]
  },
  {
   "cell_type": "code",
   "execution_count": 4,
   "id": "3213d258",
   "metadata": {
    "ExecuteTime": {
     "end_time": "2023-10-14T10:12:28.506508Z",
     "start_time": "2023-10-14T10:12:28.359262Z"
    }
   },
   "outputs": [],
   "source": [
    "batch_size = 32\n",
    "\n",
    "train_loader = torch.utils.data.DataLoader(\n",
    "    datasets.MNIST('dataset/', train=True, download=True,\n",
    "                   transform=transforms.Compose([\n",
    "                       transforms.ToTensor(),\n",
    "                       transforms.Normalize(mean=(0.5,), std=(0.5,))\n",
    "                   ])),\n",
    "    batch_size=batch_size,\n",
    "    shuffle=True)"
   ]
  },
  {
   "cell_type": "markdown",
   "id": "e9720c3d",
   "metadata": {},
   "source": [
    "##### 딥러닝 모델 구축"
   ]
  },
  {
   "cell_type": "code",
   "execution_count": 5,
   "id": "655e90c5",
   "metadata": {
    "ExecuteTime": {
     "end_time": "2023-10-14T10:13:55.590479Z",
     "start_time": "2023-10-14T10:13:55.570991Z"
    }
   },
   "outputs": [],
   "source": [
    "class ResidualBlock(nn.Module):\n",
    "    def __init__(self, in_channel, out_channel):\n",
    "        super(ResidualBlock, self).__init__()\n",
    "        \n",
    "        self.in_channel, self.out_channel = in_channel, out_channel\n",
    "        \n",
    "        self.conv1 = nn.Conv2d(in_channel, out_channel, kernel_size=1, padding=0)\n",
    "        self.conv2 = nn.Conv2d(out_channel, out_channel, kernel_size=3, padding=1)\n",
    "        self.conv3 = nn.Conv2d(out_channel, out_channel, kernel_size=1, padding=0)\n",
    "        \n",
    "        if in_channel != out_channel:\n",
    "            self.shortcut = nn.Sequential(\n",
    "                nn.Conv2d(in_channel, out_channel, kernel_size=1, padding=0)\n",
    "            )\n",
    "        else:\n",
    "            self.shortcut = nn.Sequential()\n",
    "    \n",
    "    def forward(self, x):\n",
    "        out = F.relu(self.conv1(x))\n",
    "        out = F.relu(self.conv2(out))\n",
    "        out = F.relu(self.conv3(out))\n",
    "        out = out + self.shortcut(x)\n",
    "        return out\n",
    "\n",
    "class ResNet(nn.Module):\n",
    "    def __init__(self, color='gray'):\n",
    "        super(ResNet, self).__init__()\n",
    "        if color == \"gray\":\n",
    "            self.conv1 = nn.Conv2d(1, 32, kernel_size=3, stride=1, padding=1)\n",
    "        elif color == \"rgb\":\n",
    "            self.conv1 = nn.Conv2d(3, 32, kernel_size=3, stride=1, padding=1)\n",
    "            \n",
    "        self.resblock1 = ResidualBlock(32, 64)\n",
    "        self.resblock2 = ResidualBlock(64, 64)\n",
    "        \n",
    "        self.avgpool = nn.AdaptiveAvgPool2d((1,1))\n",
    "        self.fc1 = nn.Linear(64, 64)\n",
    "        self.fc2 = nn.Linear(64, 10)\n",
    "        \n",
    "    def forward(self, x):\n",
    "        x = F.relu(self.conv1(x))\n",
    "        x = F.max_pool2d(x, 2, 2)\n",
    "        x = self.resblock1(x)\n",
    "        x = self.resblock2(x)\n",
    "        x = self.avgpool(x)\n",
    "        x = torch.flatten(x,1)\n",
    "        x = F.relu(self.fc1(x))\n",
    "        x = self.fc2(x)\n",
    "        x = F.log_softmax(x, dim=1)\n",
    "        return x"
   ]
  },
  {
   "cell_type": "markdown",
   "id": "0663c1b7",
   "metadata": {},
   "source": [
    "##### 모델 생성"
   ]
  },
  {
   "cell_type": "code",
   "execution_count": 6,
   "id": "e3d424a5",
   "metadata": {
    "ExecuteTime": {
     "end_time": "2023-10-14T10:14:05.298932Z",
     "start_time": "2023-10-14T10:14:04.260182Z"
    }
   },
   "outputs": [],
   "source": [
    "model = ResNet().to(device)"
   ]
  },
  {
   "cell_type": "code",
   "execution_count": 7,
   "id": "222cdc5b",
   "metadata": {
    "ExecuteTime": {
     "end_time": "2023-10-14T10:14:17.547911Z",
     "start_time": "2023-10-14T10:14:17.534896Z"
    }
   },
   "outputs": [
    {
     "name": "stdout",
     "output_type": "stream",
     "text": [
      "ResNet(\n",
      "  (conv1): Conv2d(1, 32, kernel_size=(3, 3), stride=(1, 1), padding=(1, 1))\n",
      "  (resblock1): ResidualBlock(\n",
      "    (conv1): Conv2d(32, 64, kernel_size=(1, 1), stride=(1, 1))\n",
      "    (conv2): Conv2d(64, 64, kernel_size=(3, 3), stride=(1, 1), padding=(1, 1))\n",
      "    (conv3): Conv2d(64, 64, kernel_size=(1, 1), stride=(1, 1))\n",
      "    (shortcut): Sequential(\n",
      "      (0): Conv2d(32, 64, kernel_size=(1, 1), stride=(1, 1))\n",
      "    )\n",
      "  )\n",
      "  (resblock2): ResidualBlock(\n",
      "    (conv1): Conv2d(64, 64, kernel_size=(1, 1), stride=(1, 1))\n",
      "    (conv2): Conv2d(64, 64, kernel_size=(3, 3), stride=(1, 1), padding=(1, 1))\n",
      "    (conv3): Conv2d(64, 64, kernel_size=(1, 1), stride=(1, 1))\n",
      "    (shortcut): Sequential()\n",
      "  )\n",
      "  (avgpool): AdaptiveAvgPool2d(output_size=(1, 1))\n",
      "  (fc1): Linear(in_features=64, out_features=64, bias=True)\n",
      "  (fc2): Linear(in_features=64, out_features=10, bias=True)\n",
      ")\n"
     ]
    }
   ],
   "source": [
    "print(model)"
   ]
  },
  {
   "cell_type": "markdown",
   "id": "3b899c32",
   "metadata": {},
   "source": [
    "### - Learning Rate Scheduler"
   ]
  },
  {
   "cell_type": "code",
   "execution_count": 12,
   "id": "3e6152e0",
   "metadata": {
    "ExecuteTime": {
     "end_time": "2023-10-14T10:23:27.424034Z",
     "start_time": "2023-10-14T10:23:27.403999Z"
    }
   },
   "outputs": [],
   "source": [
    "optimizer = optim.SGD(model.parameters(), lr=0.003)"
   ]
  },
  {
   "cell_type": "code",
   "execution_count": 13,
   "id": "ad8972ab",
   "metadata": {
    "ExecuteTime": {
     "end_time": "2023-10-14T10:23:27.896369Z",
     "start_time": "2023-10-14T10:23:27.881368Z"
    }
   },
   "outputs": [],
   "source": [
    "from torch.optim.lr_scheduler import ReduceLROnPlateau"
   ]
  },
  {
   "cell_type": "code",
   "execution_count": 14,
   "id": "6b779fbf",
   "metadata": {
    "ExecuteTime": {
     "end_time": "2023-10-14T10:23:28.478589Z",
     "start_time": "2023-10-14T10:23:28.468585Z"
    }
   },
   "outputs": [],
   "source": [
    "scheduler = ReduceLROnPlateau(optimizer, mode='min', verbose=True)"
   ]
  },
  {
   "cell_type": "markdown",
   "id": "fd19775f",
   "metadata": {},
   "source": [
    "- loss를 사용할때는 mode = min\n",
    "- accuracy는 mode = max\n",
    "- verbose = True : 기록 출력"
   ]
  },
  {
   "cell_type": "code",
   "execution_count": 17,
   "id": "954b59e1",
   "metadata": {
    "ExecuteTime": {
     "end_time": "2023-10-14T10:28:40.116001Z",
     "start_time": "2023-10-14T10:28:40.098982Z"
    }
   },
   "outputs": [],
   "source": [
    "def train_loop(dataloader, model, loss_fn, optimizer, scheduler, epoch):\n",
    "    model.train()\n",
    "    size = len(dataloader)\n",
    "    for batch, (x, y) in enumerate(dataloader):\n",
    "        x, y = x.to(device), y.to(device)\n",
    "        \n",
    "        pred = model(x)\n",
    "        loss = loss_fn(pred, y)\n",
    "        \n",
    "        optimizer.zero_grad() # 기울기 초기화\n",
    "        loss.backward()       # 미분값 계산\n",
    "        optimizer.step()      # 가중치 업데이트\n",
    "        \n",
    "        if batch % 100 == 0: # batch 100번 마다 기록 출력\n",
    "            loss = loss.item()\n",
    "            print(f\"epoch {epoch+1} : [{batch}/{size}] loss : {loss}\")\n",
    "            \n",
    "    scheduler.step(loss) # epoch마다 스케쥴작업\n",
    "    \n",
    "    return loss.item()"
   ]
  },
  {
   "cell_type": "code",
   "execution_count": 18,
   "id": "54a65a0b",
   "metadata": {
    "ExecuteTime": {
     "end_time": "2023-10-14T10:33:18.340333Z",
     "start_time": "2023-10-14T10:28:45.132239Z"
    },
    "scrolled": false
   },
   "outputs": [
    {
     "name": "stdout",
     "output_type": "stream",
     "text": [
      "epoch 1 : [0/1875] loss : 1.7300424575805664\n",
      "epoch 1 : [100/1875] loss : 1.7123202085494995\n",
      "epoch 1 : [200/1875] loss : 1.908084511756897\n",
      "epoch 1 : [300/1875] loss : 1.741002082824707\n",
      "epoch 1 : [400/1875] loss : 1.6412979364395142\n",
      "epoch 1 : [500/1875] loss : 1.3772528171539307\n",
      "epoch 1 : [600/1875] loss : 1.6604217290878296\n",
      "epoch 1 : [700/1875] loss : 1.8138378858566284\n",
      "epoch 1 : [800/1875] loss : 1.714860200881958\n",
      "epoch 1 : [900/1875] loss : 1.7126504182815552\n",
      "epoch 1 : [1000/1875] loss : 1.841030240058899\n",
      "epoch 1 : [1100/1875] loss : 1.5421550273895264\n",
      "epoch 1 : [1200/1875] loss : 1.491504192352295\n",
      "epoch 1 : [1300/1875] loss : 1.9426727294921875\n",
      "epoch 1 : [1400/1875] loss : 1.5088533163070679\n",
      "epoch 1 : [1500/1875] loss : 1.9766641855239868\n",
      "epoch 1 : [1600/1875] loss : 1.8407410383224487\n",
      "epoch 1 : [1700/1875] loss : 1.6930999755859375\n",
      "epoch 1 : [1800/1875] loss : 1.6835341453552246\n",
      "                                              \n",
      "Epoch:1 Total loss:1.625927448272705\n",
      "----------------------------------------------\n",
      "epoch 2 : [0/1875] loss : 1.8360826969146729\n",
      "epoch 2 : [100/1875] loss : 1.8489134311676025\n",
      "epoch 2 : [200/1875] loss : 1.849614143371582\n",
      "epoch 2 : [300/1875] loss : 1.702353596687317\n",
      "epoch 2 : [400/1875] loss : 1.6018723249435425\n",
      "epoch 2 : [500/1875] loss : 1.634430170059204\n",
      "epoch 2 : [600/1875] loss : 1.600545883178711\n",
      "epoch 2 : [700/1875] loss : 1.6906787157058716\n",
      "epoch 2 : [800/1875] loss : 1.7291733026504517\n",
      "epoch 2 : [900/1875] loss : 1.6916910409927368\n",
      "epoch 2 : [1000/1875] loss : 1.7118804454803467\n",
      "epoch 2 : [1100/1875] loss : 1.5539730787277222\n",
      "epoch 2 : [1200/1875] loss : 1.5421065092086792\n",
      "epoch 2 : [1300/1875] loss : 1.7164067029953003\n",
      "epoch 2 : [1400/1875] loss : 1.6803655624389648\n",
      "epoch 2 : [1500/1875] loss : 1.6165776252746582\n",
      "epoch 2 : [1600/1875] loss : 1.681687593460083\n",
      "epoch 2 : [1700/1875] loss : 1.8404494524002075\n",
      "epoch 2 : [1800/1875] loss : 1.8183557987213135\n",
      "                                              \n",
      "Epoch:2 Total loss:1.4076067209243774\n",
      "----------------------------------------------\n",
      "epoch 3 : [0/1875] loss : 1.7007801532745361\n",
      "epoch 3 : [100/1875] loss : 1.5749073028564453\n",
      "epoch 3 : [200/1875] loss : 1.6033623218536377\n",
      "epoch 3 : [300/1875] loss : 1.4994508028030396\n",
      "epoch 3 : [400/1875] loss : 1.6143858432769775\n",
      "epoch 3 : [500/1875] loss : 1.6304597854614258\n",
      "epoch 3 : [600/1875] loss : 1.7029860019683838\n",
      "epoch 3 : [700/1875] loss : 1.5153372287750244\n",
      "epoch 3 : [800/1875] loss : 1.7514811754226685\n",
      "epoch 3 : [900/1875] loss : 1.514020323753357\n",
      "epoch 3 : [1000/1875] loss : 1.5623363256454468\n",
      "epoch 3 : [1100/1875] loss : 1.6965044736862183\n",
      "epoch 3 : [1200/1875] loss : 1.7004035711288452\n",
      "epoch 3 : [1300/1875] loss : 1.6201167106628418\n",
      "epoch 3 : [1400/1875] loss : 1.4724810123443604\n",
      "epoch 3 : [1500/1875] loss : 1.698053002357483\n",
      "epoch 3 : [1600/1875] loss : 1.5940680503845215\n",
      "epoch 3 : [1700/1875] loss : 2.151460886001587\n",
      "epoch 3 : [1800/1875] loss : 1.6276558637619019\n",
      "                                              \n",
      "Epoch:3 Total loss:1.736443281173706\n",
      "----------------------------------------------\n",
      "epoch 4 : [0/1875] loss : 1.4300309419631958\n",
      "epoch 4 : [100/1875] loss : 1.655498743057251\n",
      "epoch 4 : [200/1875] loss : 1.8926565647125244\n",
      "epoch 4 : [300/1875] loss : 1.217974305152893\n",
      "epoch 4 : [400/1875] loss : 1.5699151754379272\n",
      "epoch 4 : [500/1875] loss : 1.5163456201553345\n",
      "epoch 4 : [600/1875] loss : 1.5980470180511475\n",
      "epoch 4 : [700/1875] loss : 1.799238920211792\n",
      "epoch 4 : [800/1875] loss : 1.8190635442733765\n",
      "epoch 4 : [900/1875] loss : 1.4213330745697021\n",
      "epoch 4 : [1000/1875] loss : 1.7774401903152466\n",
      "epoch 4 : [1100/1875] loss : 1.6980528831481934\n",
      "epoch 4 : [1200/1875] loss : 1.6358083486557007\n",
      "epoch 4 : [1300/1875] loss : 1.5906033515930176\n",
      "epoch 4 : [1400/1875] loss : 1.4254305362701416\n",
      "epoch 4 : [1500/1875] loss : 1.7475062608718872\n",
      "epoch 4 : [1600/1875] loss : 1.4542313814163208\n",
      "epoch 4 : [1700/1875] loss : 1.5721293687820435\n",
      "epoch 4 : [1800/1875] loss : 1.803840160369873\n",
      "                                              \n",
      "Epoch:4 Total loss:1.5758256912231445\n",
      "----------------------------------------------\n",
      "epoch 5 : [0/1875] loss : 1.6116658449172974\n",
      "epoch 5 : [100/1875] loss : 1.6643446683883667\n",
      "epoch 5 : [200/1875] loss : 1.553968906402588\n",
      "epoch 5 : [300/1875] loss : 1.5850869417190552\n",
      "epoch 5 : [400/1875] loss : 1.6553341150283813\n",
      "epoch 5 : [500/1875] loss : 1.517569661140442\n",
      "epoch 5 : [600/1875] loss : 1.5613672733306885\n",
      "epoch 5 : [700/1875] loss : 1.4730652570724487\n",
      "epoch 5 : [800/1875] loss : 1.9673802852630615\n",
      "epoch 5 : [900/1875] loss : 1.6557012796401978\n",
      "epoch 5 : [1000/1875] loss : 1.4586559534072876\n",
      "epoch 5 : [1100/1875] loss : 1.5366795063018799\n",
      "epoch 5 : [1200/1875] loss : 1.6838711500167847\n",
      "epoch 5 : [1300/1875] loss : 1.554998517036438\n",
      "epoch 5 : [1400/1875] loss : 1.7626131772994995\n",
      "epoch 5 : [1500/1875] loss : 1.615234375\n",
      "epoch 5 : [1600/1875] loss : 1.5235282182693481\n",
      "epoch 5 : [1700/1875] loss : 1.30118727684021\n",
      "epoch 5 : [1800/1875] loss : 1.3303041458129883\n",
      "                                              \n",
      "Epoch:5 Total loss:1.260513186454773\n",
      "----------------------------------------------\n",
      "epoch 6 : [0/1875] loss : 1.569588541984558\n",
      "epoch 6 : [100/1875] loss : 1.4116016626358032\n",
      "epoch 6 : [200/1875] loss : 1.7735216617584229\n",
      "epoch 6 : [300/1875] loss : 1.3350887298583984\n",
      "epoch 6 : [400/1875] loss : 1.2897918224334717\n",
      "epoch 6 : [500/1875] loss : 1.508864164352417\n",
      "epoch 6 : [600/1875] loss : 1.4377593994140625\n",
      "epoch 6 : [700/1875] loss : 1.4525704383850098\n",
      "epoch 6 : [800/1875] loss : 2.0501904487609863\n",
      "epoch 6 : [900/1875] loss : 1.578369379043579\n",
      "epoch 6 : [1000/1875] loss : 1.344127893447876\n",
      "epoch 6 : [1100/1875] loss : 1.5259130001068115\n",
      "epoch 6 : [1200/1875] loss : 1.745462417602539\n",
      "epoch 6 : [1300/1875] loss : 1.2887918949127197\n",
      "epoch 6 : [1400/1875] loss : 1.5307462215423584\n",
      "epoch 6 : [1500/1875] loss : 1.8390613794326782\n",
      "epoch 6 : [1600/1875] loss : 1.2801357507705688\n",
      "epoch 6 : [1700/1875] loss : 1.4565794467926025\n",
      "epoch 6 : [1800/1875] loss : 1.685680866241455\n",
      "                                              \n",
      "Epoch:6 Total loss:1.7035681009292603\n",
      "----------------------------------------------\n",
      "epoch 7 : [0/1875] loss : 1.2199546098709106\n",
      "epoch 7 : [100/1875] loss : 1.292968988418579\n",
      "epoch 7 : [200/1875] loss : 1.4173645973205566\n",
      "epoch 7 : [300/1875] loss : 1.4210957288742065\n",
      "epoch 7 : [400/1875] loss : 1.7209330797195435\n",
      "epoch 7 : [500/1875] loss : 1.4373542070388794\n",
      "epoch 7 : [600/1875] loss : 1.4025431871414185\n",
      "epoch 7 : [700/1875] loss : 1.4228185415267944\n",
      "epoch 7 : [800/1875] loss : 1.3110277652740479\n",
      "epoch 7 : [900/1875] loss : 1.1418503522872925\n",
      "epoch 7 : [1000/1875] loss : 1.1481647491455078\n",
      "epoch 7 : [1100/1875] loss : 1.194112777709961\n",
      "epoch 7 : [1200/1875] loss : 1.3871474266052246\n",
      "epoch 7 : [1300/1875] loss : 1.3617254495620728\n",
      "epoch 7 : [1400/1875] loss : 1.0925250053405762\n",
      "epoch 7 : [1500/1875] loss : 1.64951753616333\n",
      "epoch 7 : [1600/1875] loss : 1.828757643699646\n",
      "epoch 7 : [1700/1875] loss : 1.0976895093917847\n",
      "epoch 7 : [1800/1875] loss : 1.0957831144332886\n",
      "                                              \n",
      "Epoch:7 Total loss:1.301191806793213\n",
      "----------------------------------------------\n",
      "epoch 8 : [0/1875] loss : 1.2052228450775146\n",
      "epoch 8 : [100/1875] loss : 0.9752201437950134\n",
      "epoch 8 : [200/1875] loss : 1.1562108993530273\n",
      "epoch 8 : [300/1875] loss : 1.4822545051574707\n",
      "epoch 8 : [400/1875] loss : 1.4443004131317139\n",
      "epoch 8 : [500/1875] loss : 1.2456464767456055\n",
      "epoch 8 : [600/1875] loss : 1.3086493015289307\n",
      "epoch 8 : [700/1875] loss : 0.9758962392807007\n",
      "epoch 8 : [800/1875] loss : 1.212160587310791\n",
      "epoch 8 : [900/1875] loss : 1.340648889541626\n",
      "epoch 8 : [1000/1875] loss : 1.1266862154006958\n",
      "epoch 8 : [1100/1875] loss : 1.3646986484527588\n",
      "epoch 8 : [1200/1875] loss : 0.9285686612129211\n",
      "epoch 8 : [1300/1875] loss : 1.3701963424682617\n",
      "epoch 8 : [1400/1875] loss : 1.1800322532653809\n",
      "epoch 8 : [1500/1875] loss : 1.1016840934753418\n",
      "epoch 8 : [1600/1875] loss : 1.2606981992721558\n",
      "epoch 8 : [1700/1875] loss : 1.1877946853637695\n",
      "epoch 8 : [1800/1875] loss : 1.284705638885498\n",
      "                                              \n",
      "Epoch:8 Total loss:1.2476547956466675\n",
      "----------------------------------------------\n",
      "epoch 9 : [0/1875] loss : 1.1757086515426636\n"
     ]
    },
    {
     "name": "stdout",
     "output_type": "stream",
     "text": [
      "epoch 9 : [100/1875] loss : 1.2949743270874023\n",
      "epoch 9 : [200/1875] loss : 1.129211664199829\n",
      "epoch 9 : [300/1875] loss : 1.4545925855636597\n",
      "epoch 9 : [400/1875] loss : 1.1834051609039307\n",
      "epoch 9 : [500/1875] loss : 1.1695116758346558\n",
      "epoch 9 : [600/1875] loss : 1.4029104709625244\n",
      "epoch 9 : [700/1875] loss : 1.155512809753418\n",
      "epoch 9 : [800/1875] loss : 1.4550851583480835\n",
      "epoch 9 : [900/1875] loss : 1.2941515445709229\n",
      "epoch 9 : [1000/1875] loss : 1.361046314239502\n",
      "epoch 9 : [1100/1875] loss : 1.4774689674377441\n",
      "epoch 9 : [1200/1875] loss : 1.175002098083496\n",
      "epoch 9 : [1300/1875] loss : 1.0194416046142578\n",
      "epoch 9 : [1400/1875] loss : 1.5190025568008423\n",
      "epoch 9 : [1500/1875] loss : 1.461818814277649\n",
      "epoch 9 : [1600/1875] loss : 1.3104019165039062\n",
      "epoch 9 : [1700/1875] loss : 1.399703025817871\n",
      "epoch 9 : [1800/1875] loss : 1.2219456434249878\n",
      "                                              \n",
      "Epoch:9 Total loss:1.2137383222579956\n",
      "----------------------------------------------\n",
      "epoch 10 : [0/1875] loss : 1.2933828830718994\n",
      "epoch 10 : [100/1875] loss : 0.9951921701431274\n",
      "epoch 10 : [200/1875] loss : 1.095288872718811\n",
      "epoch 10 : [300/1875] loss : 1.2809770107269287\n",
      "epoch 10 : [400/1875] loss : 1.064157485961914\n",
      "epoch 10 : [500/1875] loss : 1.2281023263931274\n",
      "epoch 10 : [600/1875] loss : 1.2811996936798096\n",
      "epoch 10 : [700/1875] loss : 1.301662802696228\n",
      "epoch 10 : [800/1875] loss : 1.4009819030761719\n",
      "epoch 10 : [900/1875] loss : 1.2102197408676147\n",
      "epoch 10 : [1000/1875] loss : 1.4429837465286255\n",
      "epoch 10 : [1100/1875] loss : 1.3359291553497314\n",
      "epoch 10 : [1200/1875] loss : 0.9372811913490295\n",
      "epoch 10 : [1300/1875] loss : 1.0346357822418213\n",
      "epoch 10 : [1400/1875] loss : 1.1512857675552368\n",
      "epoch 10 : [1500/1875] loss : 1.1209368705749512\n",
      "epoch 10 : [1600/1875] loss : 1.2590806484222412\n",
      "epoch 10 : [1700/1875] loss : 1.1371870040893555\n",
      "epoch 10 : [1800/1875] loss : 1.3720492124557495\n",
      "                                              \n",
      "Epoch:10 Total loss:1.0760271549224854\n",
      "----------------------------------------------\n"
     ]
    }
   ],
   "source": [
    "for epoch in range(10):\n",
    "    epoch_loss = train_loop(train_loader, model, F.nll_loss, optimizer, scheduler, epoch)\n",
    "    print('                                              ')\n",
    "    print(f\"Epoch:{epoch+1} Total loss:{epoch_loss}\" ) # Total이 맞는 표현일까?? 마지막 loss면 Last 아닐까?\n",
    "    print('------------------------------------------------')\n",
    "    "
   ]
  },
  {
   "cell_type": "code",
   "execution_count": null,
   "id": "37bf60c9",
   "metadata": {},
   "outputs": [],
   "source": []
  },
  {
   "cell_type": "code",
   "execution_count": null,
   "id": "44b036f1",
   "metadata": {},
   "outputs": [],
   "source": []
  }
 ],
 "metadata": {
  "kernelspec": {
   "display_name": "GPU",
   "language": "python",
   "name": "gpu"
  },
  "language_info": {
   "codemirror_mode": {
    "name": "ipython",
    "version": 3
   },
   "file_extension": ".py",
   "mimetype": "text/x-python",
   "name": "python",
   "nbconvert_exporter": "python",
   "pygments_lexer": "ipython3",
   "version": "3.8.18"
  },
  "varInspector": {
   "cols": {
    "lenName": 16,
    "lenType": 16,
    "lenVar": 40
   },
   "kernels_config": {
    "python": {
     "delete_cmd_postfix": "",
     "delete_cmd_prefix": "del ",
     "library": "var_list.py",
     "varRefreshCmd": "print(var_dic_list())"
    },
    "r": {
     "delete_cmd_postfix": ") ",
     "delete_cmd_prefix": "rm(",
     "library": "var_list.r",
     "varRefreshCmd": "cat(var_dic_list()) "
    }
   },
   "types_to_exclude": [
    "module",
    "function",
    "builtin_function_or_method",
    "instance",
    "_Feature"
   ],
   "window_display": false
  }
 },
 "nbformat": 4,
 "nbformat_minor": 5
}
