{
 "cells": [
  {
   "cell_type": "markdown",
   "id": "6d74b558",
   "metadata": {},
   "source": [
    "# `Dataset` sub - class"
   ]
  },
  {
   "cell_type": "code",
   "execution_count": 1,
   "id": "d24b893a",
   "metadata": {
    "ExecuteTime": {
     "end_time": "2023-10-14T12:42:33.393074Z",
     "start_time": "2023-10-14T12:42:30.581801Z"
    }
   },
   "outputs": [],
   "source": [
    "import os\n",
    "from glob import glob\n",
    "from PIL import Image\n",
    "\n",
    "import torch\n",
    "from torchvision import datasets, transforms"
   ]
  },
  {
   "cell_type": "markdown",
   "id": "279c2f6f",
   "metadata": {},
   "source": [
    "#### 직접 torch.utils.data.Dataset 상속받아서 데이터셋 구현하기"
   ]
  },
  {
   "cell_type": "code",
   "execution_count": 2,
   "id": "32f8706b",
   "metadata": {
    "ExecuteTime": {
     "end_time": "2023-10-14T12:44:59.493074Z",
     "start_time": "2023-10-14T12:44:59.477066Z"
    }
   },
   "outputs": [],
   "source": [
    "cifar_dir = '../datasets/cifar/'"
   ]
  },
  {
   "cell_type": "code",
   "execution_count": 3,
   "id": "c8852385",
   "metadata": {
    "ExecuteTime": {
     "end_time": "2023-10-14T12:45:02.599820Z",
     "start_time": "2023-10-14T12:45:02.588820Z"
    }
   },
   "outputs": [
    {
     "data": {
      "text/plain": [
       "['labels.txt', 'test', 'test_dataset.csv', 'train', 'train_dataset.csv']"
      ]
     },
     "execution_count": 3,
     "metadata": {},
     "output_type": "execute_result"
    }
   ],
   "source": [
    "os.listdir(cifar_dir)"
   ]
  },
  {
   "cell_type": "code",
   "execution_count": 4,
   "id": "45d5b00e",
   "metadata": {
    "ExecuteTime": {
     "end_time": "2023-10-14T12:46:08.974022Z",
     "start_time": "2023-10-14T12:46:08.019014Z"
    },
    "scrolled": true
   },
   "outputs": [
    {
     "data": {
      "text/plain": [
       "(['0_frog.png', '10000_automobile.png', '10001_frog.png'],\n",
       " ['0_cat.png', '1000_dog.png', '1001_airplane.png'])"
      ]
     },
     "execution_count": 4,
     "metadata": {},
     "output_type": "execute_result"
    }
   ],
   "source": [
    "train_dir = cifar_dir + 'train'\n",
    "test_dir = cifar_dir + 'test'\n",
    "\n",
    "os.listdir(train_dir)[:3], os.listdir(test_dir)[:3]"
   ]
  },
  {
   "cell_type": "markdown",
   "id": "bb56fb13",
   "metadata": {},
   "source": [
    "text파일 안에 라벨링이 되어있어 불러오는 작업을 해야한다."
   ]
  },
  {
   "cell_type": "code",
   "execution_count": 8,
   "id": "66f8dfa8",
   "metadata": {
    "ExecuteTime": {
     "end_time": "2023-10-14T12:50:42.486568Z",
     "start_time": "2023-10-14T12:50:42.478524Z"
    }
   },
   "outputs": [
    {
     "data": {
      "text/plain": [
       "'../datasets/cifar/labels.txt'"
      ]
     },
     "execution_count": 8,
     "metadata": {},
     "output_type": "execute_result"
    }
   ],
   "source": [
    "os.path.join(cifar_dir, 'labels.txt')"
   ]
  },
  {
   "cell_type": "code",
   "execution_count": 10,
   "id": "7aa7ceee",
   "metadata": {
    "ExecuteTime": {
     "end_time": "2023-10-14T12:51:19.995786Z",
     "start_time": "2023-10-14T12:51:19.988789Z"
    }
   },
   "outputs": [
    {
     "data": {
      "text/plain": [
       "'airplane\\nautomobile\\nbird\\ncat\\ndeer\\ndog\\nfrog\\nhorse\\nship\\ntruck\\n'"
      ]
     },
     "execution_count": 10,
     "metadata": {},
     "output_type": "execute_result"
    }
   ],
   "source": [
    "label_list = open(os.path.join(cifar_dir, 'labels.txt'), 'r')\n",
    "label_list.read()"
   ]
  },
  {
   "cell_type": "code",
   "execution_count": 12,
   "id": "1ddfc2cb",
   "metadata": {
    "ExecuteTime": {
     "end_time": "2023-10-14T12:52:05.288279Z",
     "start_time": "2023-10-14T12:52:05.265288Z"
    }
   },
   "outputs": [
    {
     "data": {
      "text/plain": [
       "['airplane',\n",
       " 'automobile',\n",
       " 'bird',\n",
       " 'cat',\n",
       " 'deer',\n",
       " 'dog',\n",
       " 'frog',\n",
       " 'horse',\n",
       " 'ship',\n",
       " 'truck']"
      ]
     },
     "execution_count": 12,
     "metadata": {},
     "output_type": "execute_result"
    }
   ],
   "source": [
    "with open(os.path.join(cifar_dir, 'labels.txt'), 'r') as f:\n",
    "    label_list = f.read().strip().split('\\n')\n",
    "label_list"
   ]
  },
  {
   "cell_type": "code",
   "execution_count": 13,
   "id": "cf3b0f87",
   "metadata": {
    "ExecuteTime": {
     "end_time": "2023-10-14T12:52:25.143833Z",
     "start_time": "2023-10-14T12:52:25.133816Z"
    }
   },
   "outputs": [
    {
     "data": {
      "text/plain": [
       "4"
      ]
     },
     "execution_count": 13,
     "metadata": {},
     "output_type": "execute_result"
    }
   ],
   "source": [
    "label_list.index('deer')"
   ]
  },
  {
   "cell_type": "markdown",
   "id": "c2570ef7",
   "metadata": {},
   "source": [
    "- 불러온 이름라벨들의 인덱스 번호로 숫자라벨을 정해줄 것이다."
   ]
  },
  {
   "cell_type": "code",
   "execution_count": 24,
   "id": "bd595e8a",
   "metadata": {
    "ExecuteTime": {
     "end_time": "2023-10-14T13:07:27.695830Z",
     "start_time": "2023-10-14T13:07:27.350503Z"
    }
   },
   "outputs": [],
   "source": [
    "train_paths = glob(train_dir + '/*png') # ~~ png로 끝나는 모든 것들\n",
    "test_paths = glob(test_dir + '/*png') # ~~ png로 끝나는 모든 것들"
   ]
  },
  {
   "cell_type": "markdown",
   "id": "28c330b7",
   "metadata": {},
   "source": [
    "##### Dataset 클래스 구현"
   ]
  },
  {
   "cell_type": "code",
   "execution_count": 33,
   "id": "16778d05",
   "metadata": {
    "ExecuteTime": {
     "end_time": "2023-10-14T13:09:16.773926Z",
     "start_time": "2023-10-14T13:09:16.753890Z"
    }
   },
   "outputs": [],
   "source": [
    "class Dataset(torch.utils.data.Dataset):\n",
    "    def __init__(self, data_paths, transform=None):\n",
    "        super(Dataset).__init__()\n",
    "        self.data_paths = data_paths\n",
    "        self.transform = transform\n",
    "    \n",
    "    def __len__(self, ):\n",
    "        return len(self.data_paths)\n",
    "    \n",
    "    def __getitem__(self, idx):\n",
    "        path = self.data_paths[idx]    # 하나의 이미지에 대한 경로\n",
    "        image = Image.open(path)       # 이미지 오픈\n",
    "        label_name = path.split('.png')[0].split('_')[-1].strip() # 이미지 이름 : 0_frog.png\n",
    "        label = label_list.index(label_name)\n",
    "        \n",
    "        if self.transform: # 별도의 변환 작업이 있다면\n",
    "            image = self.transform(image)\n",
    "        \n",
    "        return image, label\n",
    "        "
   ]
  },
  {
   "cell_type": "markdown",
   "id": "1bfc1480",
   "metadata": {},
   "source": [
    "##### 디바이스 설정"
   ]
  },
  {
   "cell_type": "code",
   "execution_count": 34,
   "id": "4b2ca5d5",
   "metadata": {
    "ExecuteTime": {
     "end_time": "2023-10-14T13:09:17.656884Z",
     "start_time": "2023-10-14T13:09:17.635877Z"
    }
   },
   "outputs": [
    {
     "data": {
      "text/plain": [
       "device(type='cuda')"
      ]
     },
     "execution_count": 34,
     "metadata": {},
     "output_type": "execute_result"
    }
   ],
   "source": [
    "device = torch.device('cuda' if torch.cuda.is_available() else 'cpu')\n",
    "device"
   ]
  },
  {
   "cell_type": "markdown",
   "id": "0bd4df58",
   "metadata": {},
   "source": [
    "##### 데이터 로더 설정 (custom data)"
   ]
  },
  {
   "cell_type": "code",
   "execution_count": 35,
   "id": "7d41433f",
   "metadata": {
    "ExecuteTime": {
     "end_time": "2023-10-14T13:09:18.635624Z",
     "start_time": "2023-10-14T13:09:18.626625Z"
    }
   },
   "outputs": [],
   "source": [
    "batch_size = 32\n",
    "\n",
    "train_loader = torch.utils.data.DataLoader(\n",
    "    Dataset(train_paths, transform=transforms.ToTensor()),\n",
    "    batch_size=batch_size,\n",
    "    shuffle=True\n",
    ")\n",
    "\n",
    "test_loader = torch.utils.data.DataLoader(\n",
    "    Dataset(test_paths, transform=transforms.ToTensor()),\n",
    "    batch_size=batch_size,\n",
    "    shuffle=True\n",
    ")"
   ]
  },
  {
   "cell_type": "code",
   "execution_count": 37,
   "id": "5d0a0faa",
   "metadata": {
    "ExecuteTime": {
     "end_time": "2023-10-14T13:09:29.576300Z",
     "start_time": "2023-10-14T13:09:29.454303Z"
    }
   },
   "outputs": [
    {
     "data": {
      "text/plain": [
       "(torch.Size([32, 3, 32, 32]), torch.Size([32]))"
      ]
     },
     "execution_count": 37,
     "metadata": {},
     "output_type": "execute_result"
    }
   ],
   "source": [
    "x, y = next(iter(train_loader))\n",
    "x.shape, y.shape"
   ]
  }
 ],
 "metadata": {
  "kernelspec": {
   "display_name": "GPU",
   "language": "python",
   "name": "gpu"
  },
  "language_info": {
   "codemirror_mode": {
    "name": "ipython",
    "version": 3
   },
   "file_extension": ".py",
   "mimetype": "text/x-python",
   "name": "python",
   "nbconvert_exporter": "python",
   "pygments_lexer": "ipython3",
   "version": "3.8.18"
  },
  "varInspector": {
   "cols": {
    "lenName": 16,
    "lenType": 16,
    "lenVar": 40
   },
   "kernels_config": {
    "python": {
     "delete_cmd_postfix": "",
     "delete_cmd_prefix": "del ",
     "library": "var_list.py",
     "varRefreshCmd": "print(var_dic_list())"
    },
    "r": {
     "delete_cmd_postfix": ") ",
     "delete_cmd_prefix": "rm(",
     "library": "var_list.r",
     "varRefreshCmd": "cat(var_dic_list()) "
    }
   },
   "types_to_exclude": [
    "module",
    "function",
    "builtin_function_or_method",
    "instance",
    "_Feature"
   ],
   "window_display": false
  }
 },
 "nbformat": 4,
 "nbformat_minor": 5
}
