{
 "cells": [
  {
   "cell_type": "markdown",
   "id": "09c27e83",
   "metadata": {},
   "source": [
    "# 텐서 연산"
   ]
  },
  {
   "cell_type": "code",
   "execution_count": 2,
   "id": "11de987b",
   "metadata": {
    "ExecuteTime": {
     "end_time": "2023-10-14T07:04:04.756244Z",
     "start_time": "2023-10-14T07:04:01.988421Z"
    }
   },
   "outputs": [],
   "source": [
    "import torch\n",
    "import numpy as np"
   ]
  },
  {
   "cell_type": "markdown",
   "id": "85e98ca2",
   "metadata": {},
   "source": [
    "### 기본 연산"
   ]
  },
  {
   "cell_type": "code",
   "execution_count": 37,
   "id": "15aada19",
   "metadata": {
    "ExecuteTime": {
     "end_time": "2023-10-14T07:11:55.421765Z",
     "start_time": "2023-10-14T07:11:55.402768Z"
    }
   },
   "outputs": [],
   "source": [
    "x = torch.arange(0, 5)\n",
    "y = torch.arange(1, 6)"
   ]
  },
  {
   "cell_type": "code",
   "execution_count": 38,
   "id": "638057e7",
   "metadata": {
    "ExecuteTime": {
     "end_time": "2023-10-14T07:11:55.734467Z",
     "start_time": "2023-10-14T07:11:55.724466Z"
    }
   },
   "outputs": [
    {
     "name": "stdout",
     "output_type": "stream",
     "text": [
      "tensor([1, 3, 5, 7, 9])\n",
      "tensor([1, 3, 5, 7, 9])\n",
      "tensor([1, 3, 5, 7, 9])\n"
     ]
    }
   ],
   "source": [
    "print(x + y)\n",
    "print(torch.add(x, y))\n",
    "print(x.add(y))"
   ]
  },
  {
   "cell_type": "code",
   "execution_count": 39,
   "id": "d4748c66",
   "metadata": {
    "ExecuteTime": {
     "end_time": "2023-10-14T07:11:56.111750Z",
     "start_time": "2023-10-14T07:11:56.096712Z"
    }
   },
   "outputs": [
    {
     "name": "stdout",
     "output_type": "stream",
     "text": [
      "tensor([-1, -1, -1, -1, -1])\n",
      "tensor([-1, -1, -1, -1, -1])\n",
      "tensor([-1, -1, -1, -1, -1])\n"
     ]
    }
   ],
   "source": [
    "print(x - y)\n",
    "print(torch.sub(x, y))\n",
    "print(x.sub(y))"
   ]
  },
  {
   "cell_type": "code",
   "execution_count": 40,
   "id": "964accd1",
   "metadata": {
    "ExecuteTime": {
     "end_time": "2023-10-14T07:11:56.520268Z",
     "start_time": "2023-10-14T07:11:56.502268Z"
    }
   },
   "outputs": [
    {
     "name": "stdout",
     "output_type": "stream",
     "text": [
      "tensor([ 0,  2,  6, 12, 20])\n",
      "tensor([ 0,  2,  6, 12, 20])\n",
      "tensor([ 0,  2,  6, 12, 20])\n"
     ]
    }
   ],
   "source": [
    "print(x * y)\n",
    "print(torch.mul(x, y))\n",
    "print(x.mul(y))"
   ]
  },
  {
   "cell_type": "code",
   "execution_count": 41,
   "id": "c991d129",
   "metadata": {
    "ExecuteTime": {
     "end_time": "2023-10-14T07:11:56.956025Z",
     "start_time": "2023-10-14T07:11:56.943015Z"
    }
   },
   "outputs": [
    {
     "name": "stdout",
     "output_type": "stream",
     "text": [
      "tensor([0.0000, 0.5000, 0.6667, 0.7500, 0.8000])\n",
      "tensor([0.0000, 0.5000, 0.6667, 0.7500, 0.8000])\n",
      "tensor([0.0000, 0.5000, 0.6667, 0.7500, 0.8000])\n"
     ]
    }
   ],
   "source": [
    "print(x / y)\n",
    "print(torch.div(x, y))\n",
    "print(x.div(y))"
   ]
  },
  {
   "cell_type": "code",
   "execution_count": 42,
   "id": "bf5bfb8e",
   "metadata": {
    "ExecuteTime": {
     "end_time": "2023-10-14T07:11:57.507083Z",
     "start_time": "2023-10-14T07:11:57.493085Z"
    }
   },
   "outputs": [
    {
     "name": "stdout",
     "output_type": "stream",
     "text": [
      "tensor([   0,    1,    8,   81, 1024])\n",
      "tensor([   0,    1,    8,   81, 1024])\n",
      "tensor([   0,    1,    8,   81, 1024])\n"
     ]
    }
   ],
   "source": [
    "print(x**y)\n",
    "print(torch.pow(x, y))\n",
    "print(x.pow(y))"
   ]
  },
  {
   "cell_type": "code",
   "execution_count": 43,
   "id": "182db0f3",
   "metadata": {
    "ExecuteTime": {
     "end_time": "2023-10-14T07:11:58.027917Z",
     "start_time": "2023-10-14T07:11:58.006879Z"
    }
   },
   "outputs": [
    {
     "name": "stdout",
     "output_type": "stream",
     "text": [
      "tensor([ 0, -1, -2, -3, -4])\n",
      "tensor([ 0, -1, -2, -3, -4])\n",
      "tensor([ 0, -1, -2, -3, -4])\n"
     ]
    }
   ],
   "source": [
    "print(-x)\n",
    "print(torch.negative(x))\n",
    "print(x.negative())"
   ]
  },
  {
   "cell_type": "markdown",
   "id": "c2a5858e",
   "metadata": {},
   "source": [
    "* `torch.abs`: 절대값\n",
    "* `torch.sign`: 부호\n",
    "* `torch.round`: 반올림\n",
    "* `torch.ceil`: 올림\n",
    "* `torch.floor`: 내림\n",
    "* `torch.square`: 제곱\n",
    "* `torch.sqrt`: 제곱근\n",
    "* `torch.maximum`: 두 텐서의 각 원소에서 최댓값만 반환.\n",
    "* `torch.minimum`: 두 텐서의 각 원소에서 최솟값만 반환.\n",
    "* `torch.cumsum`: 누적합\n",
    "* `torch.cumprod`: 누적곱\n"
   ]
  },
  {
   "cell_type": "code",
   "execution_count": 44,
   "id": "1f6f7c51",
   "metadata": {
    "ExecuteTime": {
     "end_time": "2023-10-14T07:11:59.083606Z",
     "start_time": "2023-10-14T07:11:59.071606Z"
    }
   },
   "outputs": [
    {
     "name": "stdout",
     "output_type": "stream",
     "text": [
      "<built-in method abs of type object at 0x00007FFA03F10560>\n",
      "<built-in method sign of type object at 0x00007FFA03F10560>\n",
      "<built-in method round of type object at 0x00007FFA03F10560>\n",
      "<built-in method ceil of type object at 0x00007FFA03F10560>\n",
      "<built-in method floor of type object at 0x00007FFA03F10560>\n",
      "<built-in method square of type object at 0x00007FFA03F10560>\n",
      "<built-in method sqrt of type object at 0x00007FFA03F10560>\n",
      "<built-in method maximum of type object at 0x00007FFA03F10560>\n",
      "<built-in method minimum of type object at 0x00007FFA03F10560>\n",
      "<built-in method cumsum of type object at 0x00007FFA03F10560>\n",
      "<built-in method cumprod of type object at 0x00007FFA03F10560>\n"
     ]
    }
   ],
   "source": [
    "print(torch.abs)\n",
    "print(torch.sign)\n",
    "print(torch.round)\n",
    "print(torch.ceil)\n",
    "print(torch.floor)\n",
    "print(torch.square)\n",
    "print(torch.sqrt)\n",
    "print(torch.maximum)\n",
    "print(torch.minimum)\n",
    "print(torch.cumsum)\n",
    "print(torch.cumprod)"
   ]
  },
  {
   "cell_type": "markdown",
   "id": "9f33ed74",
   "metadata": {},
   "source": [
    "#### 차원 축소 연산\n",
    "PyTorch는 기본이 reduce 연산"
   ]
  },
  {
   "cell_type": "code",
   "execution_count": 45,
   "id": "1c80b7be",
   "metadata": {
    "ExecuteTime": {
     "end_time": "2023-10-14T07:12:00.563530Z",
     "start_time": "2023-10-14T07:12:00.543501Z"
    }
   },
   "outputs": [
    {
     "name": "stdout",
     "output_type": "stream",
     "text": [
      "torch.Size([5, 2, 4])\n",
      "tensor([[[7, 8, 4, 7],\n",
      "         [7, 4, 0, 0]],\n",
      "\n",
      "        [[5, 5, 7, 0],\n",
      "         [4, 7, 4, 5]],\n",
      "\n",
      "        [[1, 7, 0, 2],\n",
      "         [8, 0, 3, 2]],\n",
      "\n",
      "        [[3, 8, 9, 2],\n",
      "         [6, 4, 8, 6]],\n",
      "\n",
      "        [[8, 2, 5, 9],\n",
      "         [9, 6, 5, 3]]])\n"
     ]
    }
   ],
   "source": [
    "x = torch.randint(10, size=(5, 2, 4))\n",
    "print(x.shape)\n",
    "print(x)"
   ]
  },
  {
   "cell_type": "code",
   "execution_count": 46,
   "id": "69bda219",
   "metadata": {
    "ExecuteTime": {
     "end_time": "2023-10-14T07:12:01.067757Z",
     "start_time": "2023-10-14T07:12:01.057770Z"
    }
   },
   "outputs": [
    {
     "name": "stdout",
     "output_type": "stream",
     "text": [
      "tensor(190)\n",
      "torch.Size([])\n",
      "tensor([[14, 12,  4,  7],\n",
      "        [ 9, 12, 11,  5],\n",
      "        [ 9,  7,  3,  4],\n",
      "        [ 9, 12, 17,  8],\n",
      "        [17,  8, 10, 12]])\n",
      "torch.Size([5, 4])\n",
      "tensor([[26, 11],\n",
      "        [17, 20],\n",
      "        [10, 13],\n",
      "        [22, 24],\n",
      "        [24, 23]])\n",
      "torch.Size([5, 2])\n"
     ]
    }
   ],
   "source": [
    "print(torch.sum(x))\n",
    "print(torch.sum(x).shape)\n",
    "print(torch.sum(x, dim=1))\n",
    "print(torch.sum(x, dim=1).shape)\n",
    "print(torch.sum(x, dim=2))\n",
    "print(torch.sum(x, dim=2).shape)"
   ]
  },
  {
   "cell_type": "markdown",
   "id": "13220914",
   "metadata": {},
   "source": [
    "#### 행렬 연산"
   ]
  },
  {
   "cell_type": "code",
   "execution_count": 47,
   "id": "bcd6c99c",
   "metadata": {
    "ExecuteTime": {
     "end_time": "2023-10-14T07:12:02.736020Z",
     "start_time": "2023-10-14T07:12:02.717009Z"
    }
   },
   "outputs": [
    {
     "data": {
      "text/plain": [
       "(tensor([[2., 0.],\n",
       "         [0., 1.]]),\n",
       " tensor([[1., 1.],\n",
       "         [1., 1.]]))"
      ]
     },
     "execution_count": 47,
     "metadata": {},
     "output_type": "execute_result"
    }
   ],
   "source": [
    "a = torch.tensor([[2, 0], [0, 1]], dtype=torch.float32)\n",
    "b = torch.tensor([[1, 1], [1, 1]], dtype=torch.float32)\n",
    "a, b"
   ]
  },
  {
   "cell_type": "code",
   "execution_count": 48,
   "id": "6f0cef87",
   "metadata": {
    "ExecuteTime": {
     "end_time": "2023-10-14T07:12:03.539282Z",
     "start_time": "2023-10-14T07:12:03.524284Z"
    }
   },
   "outputs": [
    {
     "data": {
      "text/plain": [
       "tensor([[2., 2.],\n",
       "        [1., 1.]])"
      ]
     },
     "execution_count": 48,
     "metadata": {},
     "output_type": "execute_result"
    }
   ],
   "source": [
    "torch.matmul(a, b) # torch.mm(a,b)"
   ]
  },
  {
   "cell_type": "code",
   "execution_count": 49,
   "id": "dbbe39d6",
   "metadata": {
    "ExecuteTime": {
     "end_time": "2023-10-14T07:12:04.423253Z",
     "start_time": "2023-10-14T07:12:04.408241Z"
    }
   },
   "outputs": [
    {
     "data": {
      "text/plain": [
       "tensor([[0.5000, 0.0000],\n",
       "        [0.0000, 1.0000]])"
      ]
     },
     "execution_count": 49,
     "metadata": {},
     "output_type": "execute_result"
    }
   ],
   "source": [
    "torch.linalg.inv(a)"
   ]
  },
  {
   "cell_type": "markdown",
   "id": "28e4cf0d",
   "metadata": {},
   "source": [
    "### 크기와 차원을 바꾸는 명령 \n",
    " - `torch.reshape`\n",
    " - `.view`\n",
    " - `torch.transpose`"
   ]
  },
  {
   "cell_type": "code",
   "execution_count": 50,
   "id": "983c595b",
   "metadata": {
    "ExecuteTime": {
     "end_time": "2023-10-14T07:12:06.267254Z",
     "start_time": "2023-10-14T07:12:06.240259Z"
    }
   },
   "outputs": [
    {
     "ename": "AttributeError",
     "evalue": "module 'torch' has no attribute 'view'",
     "output_type": "error",
     "traceback": [
      "\u001b[1;31m---------------------------------------------------------------------------\u001b[0m",
      "\u001b[1;31mAttributeError\u001b[0m                            Traceback (most recent call last)",
      "Cell \u001b[1;32mIn[50], line 2\u001b[0m\n\u001b[0;32m      1\u001b[0m \u001b[38;5;66;03m# view  함수는 이렇게 못씀\u001b[39;00m\n\u001b[1;32m----> 2\u001b[0m \u001b[43mtorch\u001b[49m\u001b[38;5;241;43m.\u001b[39;49m\u001b[43mview\u001b[49m(a, (\u001b[38;5;241m4\u001b[39m, \u001b[38;5;241m-\u001b[39m\u001b[38;5;241m1\u001b[39m))\n",
      "\u001b[1;31mAttributeError\u001b[0m: module 'torch' has no attribute 'view'"
     ]
    }
   ],
   "source": [
    "# view  함수는 이렇게 못씀\n",
    "torch.view(a, (4, -1)) "
   ]
  },
  {
   "cell_type": "code",
   "execution_count": 51,
   "id": "34964050",
   "metadata": {
    "ExecuteTime": {
     "end_time": "2023-10-14T07:12:07.503475Z",
     "start_time": "2023-10-14T07:12:07.489494Z"
    }
   },
   "outputs": [
    {
     "name": "stdout",
     "output_type": "stream",
     "text": [
      "tensor([[2.],\n",
      "        [0.],\n",
      "        [0.],\n",
      "        [1.]])\n",
      "tensor([[2.],\n",
      "        [0.],\n",
      "        [0.],\n",
      "        [1.]])\n",
      "torch.Size([4, 1]) torch.Size([4, 1])\n"
     ]
    }
   ],
   "source": [
    "print(a.view(4, -1), a.view((4, -1)), sep=\"\\n\")\n",
    "print(a.view(4, -1).shape, a.view((4, -1)).shape)"
   ]
  },
  {
   "cell_type": "code",
   "execution_count": 52,
   "id": "a9f4c185",
   "metadata": {
    "ExecuteTime": {
     "end_time": "2023-10-14T07:12:09.318783Z",
     "start_time": "2023-10-14T07:12:09.299784Z"
    }
   },
   "outputs": [
    {
     "data": {
      "text/plain": [
       "tensor([[2.],\n",
       "        [0.],\n",
       "        [0.],\n",
       "        [1.]])"
      ]
     },
     "execution_count": 52,
     "metadata": {},
     "output_type": "execute_result"
    }
   ],
   "source": [
    "torch.reshape(a, (4, -1))"
   ]
  },
  {
   "cell_type": "code",
   "execution_count": 53,
   "id": "75de7d3e",
   "metadata": {
    "ExecuteTime": {
     "end_time": "2023-10-14T07:12:10.298215Z",
     "start_time": "2023-10-14T07:12:10.290178Z"
    }
   },
   "outputs": [
    {
     "data": {
      "text/plain": [
       "(tensor([[[2.],\n",
       "          [0.],\n",
       "          [0.],\n",
       "          [1.]]]),\n",
       " torch.Size([1, 4, 1]))"
      ]
     },
     "execution_count": 53,
     "metadata": {},
     "output_type": "execute_result"
    }
   ],
   "source": [
    "# view함수가 있어 expand_dims 같은 함수가 따로 필요없다. \n",
    "a.view((1, 4, 1)), a.view((1, 4, 1)).shape"
   ]
  },
  {
   "cell_type": "code",
   "execution_count": 54,
   "id": "83383fcc",
   "metadata": {
    "ExecuteTime": {
     "end_time": "2023-10-14T07:12:10.851782Z",
     "start_time": "2023-10-14T07:12:10.839797Z"
    }
   },
   "outputs": [
    {
     "name": "stdout",
     "output_type": "stream",
     "text": [
      "tensor([[2., 0., 0., 1.]])\n",
      "torch.Size([1, 4])\n"
     ]
    }
   ],
   "source": [
    "print(torch.squeeze(a.view((1, 4, 1)), dim=2))\n",
    "print(torch.squeeze(a.view((1, 4, 1)), dim=2).shape)"
   ]
  },
  {
   "cell_type": "markdown",
   "id": "5bf38cd9",
   "metadata": {},
   "source": [
    "expand_dims 함수 대신에 unsqueeze 함수가 있다. "
   ]
  },
  {
   "cell_type": "code",
   "execution_count": 55,
   "id": "38a494c5",
   "metadata": {
    "ExecuteTime": {
     "end_time": "2023-10-14T07:12:12.711529Z",
     "start_time": "2023-10-14T07:12:12.691490Z"
    }
   },
   "outputs": [
    {
     "name": "stdout",
     "output_type": "stream",
     "text": [
      "tensor([[[2.],\n",
      "         [0.],\n",
      "         [0.],\n",
      "         [1.]]])\n",
      "torch.Size([1, 4, 1])\n"
     ]
    }
   ],
   "source": [
    "print(torch.unsqueeze(a.view((1, 4)), dim=2))\n",
    "print(torch.unsqueeze(a.view((1, 4)), dim=2).shape)"
   ]
  },
  {
   "cell_type": "markdown",
   "id": "950cd7e0",
   "metadata": {},
   "source": [
    "##### 여러 함수가 torch.명령어 형태, tensor.명령어 로  사용 할 수 있다. "
   ]
  },
  {
   "cell_type": "code",
   "execution_count": 86,
   "id": "2a94adac",
   "metadata": {
    "ExecuteTime": {
     "end_time": "2023-10-14T07:14:05.726954Z",
     "start_time": "2023-10-14T07:14:05.719951Z"
    }
   },
   "outputs": [],
   "source": [
    "a = torch.arange(10).view(5, 2)"
   ]
  },
  {
   "cell_type": "code",
   "execution_count": 87,
   "id": "1e382468",
   "metadata": {
    "ExecuteTime": {
     "end_time": "2023-10-14T07:14:06.104419Z",
     "start_time": "2023-10-14T07:14:06.088379Z"
    }
   },
   "outputs": [
    {
     "data": {
      "text/plain": [
       "tensor([[0, 1],\n",
       "        [2, 3],\n",
       "        [4, 5],\n",
       "        [6, 7],\n",
       "        [8, 9]])"
      ]
     },
     "execution_count": 87,
     "metadata": {},
     "output_type": "execute_result"
    }
   ],
   "source": [
    "a"
   ]
  },
  {
   "cell_type": "code",
   "execution_count": 88,
   "id": "437c3373",
   "metadata": {
    "ExecuteTime": {
     "end_time": "2023-10-14T07:14:06.437079Z",
     "start_time": "2023-10-14T07:14:06.418045Z"
    }
   },
   "outputs": [
    {
     "data": {
      "text/plain": [
       "tensor([[0, 2, 4, 6, 8],\n",
       "        [1, 3, 5, 7, 9]])"
      ]
     },
     "execution_count": 88,
     "metadata": {},
     "output_type": "execute_result"
    }
   ],
   "source": [
    "a.transpose(1, 0)"
   ]
  },
  {
   "cell_type": "code",
   "execution_count": 89,
   "id": "820c9d08",
   "metadata": {
    "ExecuteTime": {
     "end_time": "2023-10-14T07:14:06.876261Z",
     "start_time": "2023-10-14T07:14:06.856247Z"
    }
   },
   "outputs": [
    {
     "data": {
      "text/plain": [
       "tensor([[0, 2, 4, 6, 8],\n",
       "        [1, 3, 5, 7, 9]])"
      ]
     },
     "execution_count": 89,
     "metadata": {},
     "output_type": "execute_result"
    }
   ],
   "source": [
    "torch.transpose(a, 1, 0)"
   ]
  },
  {
   "cell_type": "markdown",
   "id": "b3f8d56c",
   "metadata": {},
   "source": [
    "#### 함수 끝에 `_`를 붙이면 inplace명령이 된다.(안되는 함수가 존재함)"
   ]
  },
  {
   "cell_type": "code",
   "execution_count": 90,
   "id": "1fdabc63",
   "metadata": {
    "ExecuteTime": {
     "end_time": "2023-10-14T07:14:07.760241Z",
     "start_time": "2023-10-14T07:14:07.738241Z"
    }
   },
   "outputs": [
    {
     "data": {
      "text/plain": [
       "tensor([[0, 1],\n",
       "        [2, 3],\n",
       "        [4, 5],\n",
       "        [6, 7],\n",
       "        [8, 9]])"
      ]
     },
     "execution_count": 90,
     "metadata": {},
     "output_type": "execute_result"
    }
   ],
   "source": [
    "a"
   ]
  },
  {
   "cell_type": "code",
   "execution_count": 91,
   "id": "fc19ab1f",
   "metadata": {
    "ExecuteTime": {
     "end_time": "2023-10-14T07:14:08.739967Z",
     "start_time": "2023-10-14T07:14:08.728928Z"
    }
   },
   "outputs": [
    {
     "name": "stdout",
     "output_type": "stream",
     "text": [
      "tensor([[0, 1],\n",
      "        [2, 3],\n",
      "        [4, 5],\n",
      "        [6, 7],\n",
      "        [8, 9]])\n",
      "tensor([[0, 2, 4, 6, 8],\n",
      "        [1, 3, 5, 7, 9]])\n",
      "tensor([[0, 2, 4, 6, 8],\n",
      "        [1, 3, 5, 7, 9]])\n"
     ]
    }
   ],
   "source": [
    "print(a)\n",
    "print(a.transpose_(0, 1))\n",
    "print(a)"
   ]
  },
  {
   "cell_type": "code",
   "execution_count": 92,
   "id": "4f4c5288",
   "metadata": {
    "ExecuteTime": {
     "end_time": "2023-10-14T07:14:09.401174Z",
     "start_time": "2023-10-14T07:14:09.390113Z"
    }
   },
   "outputs": [
    {
     "data": {
      "text/plain": [
       "torch.Size([2, 5])"
      ]
     },
     "execution_count": 92,
     "metadata": {},
     "output_type": "execute_result"
    }
   ],
   "source": [
    "a.shape"
   ]
  },
  {
   "cell_type": "markdown",
   "id": "40c3009e",
   "metadata": {},
   "source": [
    "### transpose 하고 view  했을 때 이런 에러가 발생하기도 한다. \n",
    "\n",
    "RuntimeError: view size is not compatible with input tensor's size and stride (at least one dimension spans across two contiguous subspaces). Use .reshape(...) instead.\n",
    "\n",
    "\n",
    "이는 PyTorch가 데이터를 메모리에 저장하는 방식과 view, reshape, transpose 연산들이 연산을 수행하는 방식의 차이에 기인한다. \n",
    "메모리상의 데이터의 물리적 위치와 index가 일치 할 때 contiguous 하다고 표현하는데, view는 contiguous해야만 연산을 수행할 수 있다. \n",
    "\n",
    "이를 해결하기위해 tensor.contiguous() 함수를 호출하여 데이터를 정리해주면 된다. 근데! 이런 이슈는 가끔 나오는 거니 어려우면 지금은 그냥 넘어가도 좋다!!!!"
   ]
  },
  {
   "cell_type": "code",
   "execution_count": 93,
   "id": "80a97817",
   "metadata": {
    "ExecuteTime": {
     "end_time": "2023-10-14T07:14:10.506053Z",
     "start_time": "2023-10-14T07:14:10.491016Z"
    }
   },
   "outputs": [],
   "source": [
    "a = a.contiguous()"
   ]
  },
  {
   "cell_type": "code",
   "execution_count": 94,
   "id": "5ff4e488",
   "metadata": {
    "ExecuteTime": {
     "end_time": "2023-10-14T07:14:11.134749Z",
     "start_time": "2023-10-14T07:14:11.114127Z"
    }
   },
   "outputs": [
    {
     "name": "stdout",
     "output_type": "stream",
     "text": [
      "tensor([[0],\n",
      "        [2],\n",
      "        [4],\n",
      "        [6],\n",
      "        [8],\n",
      "        [1],\n",
      "        [3],\n",
      "        [5],\n",
      "        [7],\n",
      "        [9]]) torch.Size([10, 1])\n",
      "tensor([[0, 2, 4, 6, 8],\n",
      "        [1, 3, 5, 7, 9]])\n"
     ]
    }
   ],
   "source": [
    "# view함수에는 inplace명령이 구현되어 있지 않다. \n",
    "print(a.view(-1, 1), a.view(-1, 1).shape)\n",
    "# print(a.view_())\n",
    "print(a)"
   ]
  },
  {
   "cell_type": "markdown",
   "id": "8849d8d7",
   "metadata": {},
   "source": [
    "#### 형상 연산 중 유용한 것"
   ]
  },
  {
   "cell_type": "code",
   "execution_count": 95,
   "id": "8d51c106",
   "metadata": {
    "ExecuteTime": {
     "end_time": "2023-10-14T07:14:13.772303Z",
     "start_time": "2023-10-14T07:14:13.763266Z"
    }
   },
   "outputs": [
    {
     "data": {
      "text/plain": [
       "tensor([[0, 1],\n",
       "        [2, 3],\n",
       "        [4, 5],\n",
       "        [6, 7],\n",
       "        [8, 9]])"
      ]
     },
     "execution_count": 95,
     "metadata": {},
     "output_type": "execute_result"
    }
   ],
   "source": [
    "a = torch.arange(10).view(5, 2)\n",
    "a"
   ]
  },
  {
   "cell_type": "code",
   "execution_count": 96,
   "id": "1fcfdb77",
   "metadata": {
    "ExecuteTime": {
     "end_time": "2023-10-14T07:14:14.958441Z",
     "start_time": "2023-10-14T07:14:14.941440Z"
    }
   },
   "outputs": [
    {
     "data": {
      "text/plain": [
       "tensor([[0, 1, 2, 3, 4],\n",
       "        [5, 6, 7, 8, 9]])"
      ]
     },
     "execution_count": 96,
     "metadata": {},
     "output_type": "execute_result"
    }
   ],
   "source": [
    "b = torch.arange(10).view(2, 5)\n",
    "b"
   ]
  },
  {
   "cell_type": "code",
   "execution_count": 97,
   "id": "5a3bddd0",
   "metadata": {
    "ExecuteTime": {
     "end_time": "2023-10-14T07:14:15.836414Z",
     "start_time": "2023-10-14T07:14:15.822404Z"
    }
   },
   "outputs": [],
   "source": [
    "# a = a.contiguous()"
   ]
  },
  {
   "cell_type": "code",
   "execution_count": 98,
   "id": "c86a1bae",
   "metadata": {
    "ExecuteTime": {
     "end_time": "2023-10-14T07:14:16.684125Z",
     "start_time": "2023-10-14T07:14:16.665124Z"
    }
   },
   "outputs": [
    {
     "name": "stdout",
     "output_type": "stream",
     "text": [
      "tensor([[0, 1, 2, 3, 4],\n",
      "        [5, 6, 7, 8, 9]])\n",
      "tensor([[0, 1, 2, 3, 4],\n",
      "        [5, 6, 7, 8, 9]])\n"
     ]
    }
   ],
   "source": [
    "# a를 b와 똑같은 shape으로 만들어줘\n",
    "\n",
    "print(a.view_as(b))\n",
    "print(a.reshape_as(b))"
   ]
  },
  {
   "cell_type": "markdown",
   "id": "2e85c108",
   "metadata": {},
   "source": [
    "### indexing, slicing"
   ]
  },
  {
   "cell_type": "code",
   "execution_count": 99,
   "id": "f224a365",
   "metadata": {
    "ExecuteTime": {
     "end_time": "2023-10-14T07:14:17.792251Z",
     "start_time": "2023-10-14T07:14:17.782235Z"
    }
   },
   "outputs": [
    {
     "data": {
      "text/plain": [
       "tensor([0, 1])"
      ]
     },
     "execution_count": 99,
     "metadata": {},
     "output_type": "execute_result"
    }
   ],
   "source": [
    "a[0]"
   ]
  },
  {
   "cell_type": "code",
   "execution_count": 100,
   "id": "7db10438",
   "metadata": {
    "ExecuteTime": {
     "end_time": "2023-10-14T07:14:18.233020Z",
     "start_time": "2023-10-14T07:14:18.223980Z"
    }
   },
   "outputs": [
    {
     "data": {
      "text/plain": [
       "tensor(1)"
      ]
     },
     "execution_count": 100,
     "metadata": {},
     "output_type": "execute_result"
    }
   ],
   "source": [
    "a[0, 1]"
   ]
  },
  {
   "cell_type": "code",
   "execution_count": 101,
   "id": "aae3dbad",
   "metadata": {
    "ExecuteTime": {
     "end_time": "2023-10-14T07:14:19.148653Z",
     "start_time": "2023-10-14T07:14:19.140614Z"
    }
   },
   "outputs": [
    {
     "data": {
      "text/plain": [
       "tensor(9)"
      ]
     },
     "execution_count": 101,
     "metadata": {},
     "output_type": "execute_result"
    }
   ],
   "source": [
    "a[4, 1]"
   ]
  },
  {
   "cell_type": "code",
   "execution_count": 102,
   "id": "1ec424b7",
   "metadata": {
    "ExecuteTime": {
     "end_time": "2023-10-14T07:14:21.216305Z",
     "start_time": "2023-10-14T07:14:21.196291Z"
    }
   },
   "outputs": [
    {
     "data": {
      "text/plain": [
       "tensor([[0, 1],\n",
       "        [2, 3]])"
      ]
     },
     "execution_count": 102,
     "metadata": {},
     "output_type": "execute_result"
    }
   ],
   "source": [
    "a[:2]"
   ]
  },
  {
   "cell_type": "markdown",
   "id": "3333700b",
   "metadata": {},
   "source": [
    "### **텐서를 나누거나 두 개 이상의 텐서를 합치는 명령**"
   ]
  },
  {
   "cell_type": "markdown",
   "id": "c214302a",
   "metadata": {},
   "source": [
    "#### 나누는 연산"
   ]
  },
  {
   "cell_type": "code",
   "execution_count": 104,
   "id": "15fc89a1",
   "metadata": {
    "ExecuteTime": {
     "end_time": "2023-10-14T07:15:25.936747Z",
     "start_time": "2023-10-14T07:15:25.926714Z"
    }
   },
   "outputs": [
    {
     "data": {
      "text/plain": [
       "tensor([[0.5281, 0.6420, 0.4208, 0.0995, 0.7873, 0.2397],\n",
       "        [0.5368, 0.4870, 0.3240, 0.9781, 0.2911, 0.9443],\n",
       "        [0.0604, 0.7285, 0.1810, 0.6855, 0.5098, 0.8831]])"
      ]
     },
     "execution_count": 104,
     "metadata": {},
     "output_type": "execute_result"
    }
   ],
   "source": [
    "c = torch.rand(3, 6)\n",
    "c"
   ]
  },
  {
   "cell_type": "code",
   "execution_count": 105,
   "id": "53c7970e",
   "metadata": {
    "ExecuteTime": {
     "end_time": "2023-10-14T07:15:26.602651Z",
     "start_time": "2023-10-14T07:15:26.585425Z"
    }
   },
   "outputs": [
    {
     "name": "stdout",
     "output_type": "stream",
     "text": [
      "tensor([[0.5281, 0.6420],\n",
      "        [0.5368, 0.4870],\n",
      "        [0.0604, 0.7285]])\n",
      "tensor([[0.4208, 0.0995],\n",
      "        [0.3240, 0.9781],\n",
      "        [0.1810, 0.6855]])\n",
      "tensor([[0.7873, 0.2397],\n",
      "        [0.2911, 0.9443],\n",
      "        [0.5098, 0.8831]])\n"
     ]
    }
   ],
   "source": [
    "c1, c2, c3 = torch.chunk(c, 3, dim=1)\n",
    "print(c1)\n",
    "print(c2)\n",
    "print(c3)"
   ]
  },
  {
   "cell_type": "code",
   "execution_count": 106,
   "id": "0f748803",
   "metadata": {
    "ExecuteTime": {
     "end_time": "2023-10-14T07:15:27.413843Z",
     "start_time": "2023-10-14T07:15:27.400847Z"
    }
   },
   "outputs": [
    {
     "name": "stdout",
     "output_type": "stream",
     "text": [
      "tensor([[0.5281, 0.6420, 0.4208, 0.0995, 0.7873, 0.2397]])\n",
      "tensor([[0.5368, 0.4870, 0.3240, 0.9781, 0.2911, 0.9443]])\n",
      "tensor([[0.0604, 0.7285, 0.1810, 0.6855, 0.5098, 0.8831]])\n"
     ]
    }
   ],
   "source": [
    "c1, c2, c3 = torch.chunk(c, 3, dim=0)\n",
    "print(c1)\n",
    "print(c2)\n",
    "print(c3)"
   ]
  },
  {
   "cell_type": "code",
   "execution_count": 107,
   "id": "0a4b7daf",
   "metadata": {
    "ExecuteTime": {
     "end_time": "2023-10-14T07:15:28.083668Z",
     "start_time": "2023-10-14T07:15:28.062670Z"
    }
   },
   "outputs": [
    {
     "data": {
      "text/plain": [
       "(tensor([[0.5281, 0.6420, 0.4208, 0.0995, 0.7873, 0.2397]]),\n",
       " tensor([[0.5368, 0.4870, 0.3240, 0.9781, 0.2911, 0.9443]]),\n",
       " tensor([[0.0604, 0.7285, 0.1810, 0.6855, 0.5098, 0.8831]]))"
      ]
     },
     "execution_count": 107,
     "metadata": {},
     "output_type": "execute_result"
    }
   ],
   "source": [
    "torch.split(c, 1, dim=0)"
   ]
  },
  {
   "cell_type": "code",
   "execution_count": 108,
   "id": "f8aed540",
   "metadata": {
    "ExecuteTime": {
     "end_time": "2023-10-14T07:15:28.522304Z",
     "start_time": "2023-10-14T07:15:28.501252Z"
    }
   },
   "outputs": [
    {
     "data": {
      "text/plain": [
       "(tensor([[0.5281, 0.6420],\n",
       "         [0.5368, 0.4870],\n",
       "         [0.0604, 0.7285]]),\n",
       " tensor([[0.4208, 0.0995],\n",
       "         [0.3240, 0.9781],\n",
       "         [0.1810, 0.6855]]),\n",
       " tensor([[0.7873, 0.2397],\n",
       "         [0.2911, 0.9443],\n",
       "         [0.5098, 0.8831]]))"
      ]
     },
     "execution_count": 108,
     "metadata": {},
     "output_type": "execute_result"
    }
   ],
   "source": [
    "torch.split(c, 2, dim=1)"
   ]
  },
  {
   "cell_type": "code",
   "execution_count": 109,
   "id": "e3065e22",
   "metadata": {
    "ExecuteTime": {
     "end_time": "2023-10-14T07:15:31.007565Z",
     "start_time": "2023-10-14T07:15:30.991517Z"
    }
   },
   "outputs": [
    {
     "data": {
      "text/plain": [
       "(tensor([[0.5281, 0.6420, 0.4208],\n",
       "         [0.5368, 0.4870, 0.3240],\n",
       "         [0.0604, 0.7285, 0.1810]]),\n",
       " tensor([[0.0995, 0.7873, 0.2397],\n",
       "         [0.9781, 0.2911, 0.9443],\n",
       "         [0.6855, 0.5098, 0.8831]]))"
      ]
     },
     "execution_count": 109,
     "metadata": {},
     "output_type": "execute_result"
    }
   ],
   "source": [
    "torch.split(c, 3, dim=1)"
   ]
  },
  {
   "cell_type": "markdown",
   "id": "50915a43",
   "metadata": {},
   "source": [
    "#### 결합하는 연산"
   ]
  },
  {
   "cell_type": "code",
   "execution_count": 110,
   "id": "b92f668b",
   "metadata": {
    "ExecuteTime": {
     "end_time": "2023-10-14T07:15:33.890055Z",
     "start_time": "2023-10-14T07:15:33.864639Z"
    }
   },
   "outputs": [
    {
     "data": {
      "text/plain": [
       "(tensor([[1., 1., 1.],\n",
       "         [1., 1., 1.]]),\n",
       " tensor([[0., 0., 0.],\n",
       "         [0., 0., 0.],\n",
       "         [0., 0., 0.]]))"
      ]
     },
     "execution_count": 110,
     "metadata": {},
     "output_type": "execute_result"
    }
   ],
   "source": [
    "a = torch.ones(2, 3)\n",
    "b = torch.zeros(3, 3)\n",
    "a, b"
   ]
  },
  {
   "cell_type": "code",
   "execution_count": 111,
   "id": "108f6158",
   "metadata": {
    "ExecuteTime": {
     "end_time": "2023-10-14T07:15:36.943846Z",
     "start_time": "2023-10-14T07:15:36.931150Z"
    }
   },
   "outputs": [
    {
     "data": {
      "text/plain": [
       "tensor([[1., 1., 1.],\n",
       "        [1., 1., 1.],\n",
       "        [0., 0., 0.],\n",
       "        [0., 0., 0.],\n",
       "        [0., 0., 0.]])"
      ]
     },
     "execution_count": 111,
     "metadata": {},
     "output_type": "execute_result"
    }
   ],
   "source": [
    "torch.cat([a, b], dim=0)"
   ]
  },
  {
   "cell_type": "code",
   "execution_count": 146,
   "id": "2085bfcb",
   "metadata": {},
   "outputs": [
    {
     "ename": "RuntimeError",
     "evalue": "Sizes of tensors must match except in dimension 1. Expected size 2 but got size 3 for tensor number 1 in the list.",
     "output_type": "error",
     "traceback": [
      "\u001b[0;31m---------------------------------------------------------------------------\u001b[0m",
      "\u001b[0;31mRuntimeError\u001b[0m                              Traceback (most recent call last)",
      "\u001b[0;32m/var/folders/jw/90llkwyx0s15yv61kvs2dqk00000gn/T/ipykernel_484/3383710300.py\u001b[0m in \u001b[0;36m<module>\u001b[0;34m\u001b[0m\n\u001b[0;32m----> 1\u001b[0;31m \u001b[0mtorch\u001b[0m\u001b[0;34m.\u001b[0m\u001b[0mcat\u001b[0m\u001b[0;34m(\u001b[0m\u001b[0;34m[\u001b[0m\u001b[0ma\u001b[0m\u001b[0;34m,\u001b[0m \u001b[0mb\u001b[0m\u001b[0;34m]\u001b[0m\u001b[0;34m,\u001b[0m \u001b[0mdim\u001b[0m\u001b[0;34m=\u001b[0m\u001b[0;36m1\u001b[0m\u001b[0;34m)\u001b[0m\u001b[0;34m\u001b[0m\u001b[0;34m\u001b[0m\u001b[0m\n\u001b[0m",
      "\u001b[0;31mRuntimeError\u001b[0m: Sizes of tensors must match except in dimension 1. Expected size 2 but got size 3 for tensor number 1 in the list."
     ]
    }
   ],
   "source": [
    "torch.cat([a, b], dim=1)"
   ]
  },
  {
   "cell_type": "code",
   "execution_count": 112,
   "id": "4250001a",
   "metadata": {
    "ExecuteTime": {
     "end_time": "2023-10-14T07:15:51.107839Z",
     "start_time": "2023-10-14T07:15:51.085034Z"
    }
   },
   "outputs": [
    {
     "data": {
      "text/plain": [
       "(tensor([[1., 1., 1.],\n",
       "         [1., 1., 1.],\n",
       "         [1., 1., 1.]]),\n",
       " torch.Size([3, 3]))"
      ]
     },
     "execution_count": 112,
     "metadata": {},
     "output_type": "execute_result"
    }
   ],
   "source": [
    "a = torch.ones_like(b)\n",
    "a, a.size()"
   ]
  },
  {
   "cell_type": "code",
   "execution_count": 113,
   "id": "a51bc2a7",
   "metadata": {
    "ExecuteTime": {
     "end_time": "2023-10-14T07:15:51.542009Z",
     "start_time": "2023-10-14T07:15:51.524942Z"
    }
   },
   "outputs": [
    {
     "data": {
      "text/plain": [
       "(tensor([[0., 0., 0.],\n",
       "         [0., 0., 0.],\n",
       "         [0., 0., 0.]]),\n",
       " torch.Size([3, 3]))"
      ]
     },
     "execution_count": 113,
     "metadata": {},
     "output_type": "execute_result"
    }
   ],
   "source": [
    "b, b.size()"
   ]
  },
  {
   "cell_type": "code",
   "execution_count": 114,
   "id": "8fcc38b3",
   "metadata": {
    "ExecuteTime": {
     "end_time": "2023-10-14T07:15:52.242423Z",
     "start_time": "2023-10-14T07:15:52.222260Z"
    }
   },
   "outputs": [
    {
     "data": {
      "text/plain": [
       "(tensor([[[1., 1., 1.],\n",
       "          [0., 0., 0.]],\n",
       " \n",
       "         [[1., 1., 1.],\n",
       "          [0., 0., 0.]],\n",
       " \n",
       "         [[1., 1., 1.],\n",
       "          [0., 0., 0.]]]),\n",
       " torch.Size([3, 2, 3]))"
      ]
     },
     "execution_count": 114,
     "metadata": {},
     "output_type": "execute_result"
    }
   ],
   "source": [
    "torch.stack([a, b], dim=1), torch.stack([a, b], dim=1).size()"
   ]
  },
  {
   "cell_type": "code",
   "execution_count": 115,
   "id": "2d9f4f0c",
   "metadata": {
    "ExecuteTime": {
     "end_time": "2023-10-14T07:15:53.156518Z",
     "start_time": "2023-10-14T07:15:53.137815Z"
    }
   },
   "outputs": [
    {
     "data": {
      "text/plain": [
       "(tensor([[[1., 1., 1.],\n",
       "          [1., 1., 1.],\n",
       "          [1., 1., 1.]],\n",
       " \n",
       "         [[0., 0., 0.],\n",
       "          [0., 0., 0.],\n",
       "          [0., 0., 0.]]]),\n",
       " torch.Size([2, 3, 3]))"
      ]
     },
     "execution_count": 115,
     "metadata": {},
     "output_type": "execute_result"
    }
   ],
   "source": [
    "torch.stack([a, b], dim=0), torch.stack([a, b], dim=0).size()"
   ]
  },
  {
   "cell_type": "code",
   "execution_count": 116,
   "id": "43d6bfb4",
   "metadata": {
    "ExecuteTime": {
     "end_time": "2023-10-14T07:15:53.750543Z",
     "start_time": "2023-10-14T07:15:53.728560Z"
    }
   },
   "outputs": [
    {
     "data": {
      "text/plain": [
       "(tensor([[[1., 0.],\n",
       "          [1., 0.],\n",
       "          [1., 0.]],\n",
       " \n",
       "         [[1., 0.],\n",
       "          [1., 0.],\n",
       "          [1., 0.]],\n",
       " \n",
       "         [[1., 0.],\n",
       "          [1., 0.],\n",
       "          [1., 0.]]]),\n",
       " torch.Size([3, 3, 2]))"
      ]
     },
     "execution_count": 116,
     "metadata": {},
     "output_type": "execute_result"
    }
   ],
   "source": [
    "torch.stack([a, b], dim=2), torch.stack([a, b], dim=2).size()"
   ]
  },
  {
   "cell_type": "code",
   "execution_count": 117,
   "id": "12f1fd4b",
   "metadata": {
    "ExecuteTime": {
     "end_time": "2023-10-14T07:15:56.073723Z",
     "start_time": "2023-10-14T07:15:56.052719Z"
    }
   },
   "outputs": [
    {
     "data": {
      "text/plain": [
       "tensor([[1., 1., 1.],\n",
       "        [1., 1., 1.],\n",
       "        [1., 1., 1.],\n",
       "        [1., 1., 1.],\n",
       "        [1., 1., 1.],\n",
       "        [1., 1., 1.],\n",
       "        [1., 1., 1.],\n",
       "        [1., 1., 1.],\n",
       "        [1., 1., 1.]])"
      ]
     },
     "execution_count": 117,
     "metadata": {},
     "output_type": "execute_result"
    }
   ],
   "source": [
    "torch.tile(a, (3, 1))"
   ]
  },
  {
   "cell_type": "code",
   "execution_count": 118,
   "id": "c183959b",
   "metadata": {
    "ExecuteTime": {
     "end_time": "2023-10-14T07:15:56.512569Z",
     "start_time": "2023-10-14T07:15:56.496527Z"
    }
   },
   "outputs": [
    {
     "data": {
      "text/plain": [
       "tensor([[1., 1., 1., 1., 1., 1.],\n",
       "        [1., 1., 1., 1., 1., 1.],\n",
       "        [1., 1., 1., 1., 1., 1.]])"
      ]
     },
     "execution_count": 118,
     "metadata": {},
     "output_type": "execute_result"
    }
   ],
   "source": [
    "torch.tile(a, (1, 2))"
   ]
  },
  {
   "cell_type": "code",
   "execution_count": null,
   "id": "34295e7b",
   "metadata": {},
   "outputs": [],
   "source": []
  },
  {
   "cell_type": "code",
   "execution_count": 119,
   "id": "75b88ac4",
   "metadata": {
    "ExecuteTime": {
     "end_time": "2023-10-14T07:16:05.999853Z",
     "start_time": "2023-10-14T07:16:05.983683Z"
    }
   },
   "outputs": [
    {
     "data": {
      "text/plain": [
       "<function torch._VariableFunctionsClass.vstack>"
      ]
     },
     "execution_count": 119,
     "metadata": {},
     "output_type": "execute_result"
    }
   ],
   "source": [
    "torch.vstack"
   ]
  },
  {
   "cell_type": "code",
   "execution_count": 120,
   "id": "4067a215",
   "metadata": {
    "ExecuteTime": {
     "end_time": "2023-10-14T07:16:06.437209Z",
     "start_time": "2023-10-14T07:16:06.421211Z"
    }
   },
   "outputs": [
    {
     "data": {
      "text/plain": [
       "<function torch._VariableFunctionsClass.hstack>"
      ]
     },
     "execution_count": 120,
     "metadata": {},
     "output_type": "execute_result"
    }
   ],
   "source": [
    "torch.hstack"
   ]
  },
  {
   "cell_type": "code",
   "execution_count": null,
   "id": "172e8bf2",
   "metadata": {},
   "outputs": [],
   "source": []
  }
 ],
 "metadata": {
  "kernelspec": {
   "display_name": "GPU",
   "language": "python",
   "name": "gpu"
  },
  "language_info": {
   "codemirror_mode": {
    "name": "ipython",
    "version": 3
   },
   "file_extension": ".py",
   "mimetype": "text/x-python",
   "name": "python",
   "nbconvert_exporter": "python",
   "pygments_lexer": "ipython3",
   "version": "3.8.18"
  },
  "varInspector": {
   "cols": {
    "lenName": 16,
    "lenType": 16,
    "lenVar": 40
   },
   "kernels_config": {
    "python": {
     "delete_cmd_postfix": "",
     "delete_cmd_prefix": "del ",
     "library": "var_list.py",
     "varRefreshCmd": "print(var_dic_list())"
    },
    "r": {
     "delete_cmd_postfix": ") ",
     "delete_cmd_prefix": "rm(",
     "library": "var_list.r",
     "varRefreshCmd": "cat(var_dic_list()) "
    }
   },
   "types_to_exclude": [
    "module",
    "function",
    "builtin_function_or_method",
    "instance",
    "_Feature"
   ],
   "window_display": false
  }
 },
 "nbformat": 4,
 "nbformat_minor": 5
}
