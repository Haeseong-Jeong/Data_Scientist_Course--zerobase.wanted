{
 "cells": [
  {
   "cell_type": "markdown",
   "id": "2f1bd8e3",
   "metadata": {},
   "source": [
    "## 전체 딥러닝 플로우 구현 해보기"
   ]
  },
  {
   "cell_type": "code",
   "execution_count": 1,
   "id": "1b8e0bdc",
   "metadata": {
    "ExecuteTime": {
     "end_time": "2023-10-14T08:25:39.732768Z",
     "start_time": "2023-10-14T08:25:38.360466Z"
    }
   },
   "outputs": [],
   "source": [
    "import pandas as pd\n",
    "import numpy as np \n",
    "\n",
    "import matplotlib.pyplot as plt \n",
    "%matplotlib inline"
   ]
  },
  {
   "cell_type": "markdown",
   "id": "487d8b5f",
   "metadata": {},
   "source": [
    "#### 데이터 Load 와 전처리"
   ]
  },
  {
   "cell_type": "code",
   "execution_count": 2,
   "id": "d2b54a34",
   "metadata": {
    "ExecuteTime": {
     "end_time": "2023-10-14T08:25:44.150011Z",
     "start_time": "2023-10-14T08:25:40.716922Z"
    }
   },
   "outputs": [],
   "source": [
    "import torch\n",
    "from torchvision import datasets, transforms"
   ]
  },
  {
   "cell_type": "code",
   "execution_count": 3,
   "id": "23d0a013",
   "metadata": {
    "ExecuteTime": {
     "end_time": "2023-10-14T08:25:44.792449Z",
     "start_time": "2023-10-14T08:25:44.785455Z"
    }
   },
   "outputs": [],
   "source": [
    "batch_size = 32\n",
    "test_batch_size = 32"
   ]
  },
  {
   "cell_type": "code",
   "execution_count": 4,
   "id": "e83a737d",
   "metadata": {
    "ExecuteTime": {
     "end_time": "2023-10-14T08:25:45.945710Z",
     "start_time": "2023-10-14T08:25:45.854587Z"
    }
   },
   "outputs": [],
   "source": [
    "train_loader = torch.utils.data.DataLoader(\n",
    "    datasets.MNIST('dataset/', train=True, download=True,\n",
    "                   transform=transforms.Compose([         # transforms에서 데이터전처리가 자동으로 된다\n",
    "                       transforms.ToTensor(),                           # 값 텐서화\n",
    "                       transforms.Normalize(mean=(0.5,), std=(0.5,))    # 값 스케일링\n",
    "                   ])),\n",
    "    batch_size=batch_size,\n",
    "    shuffle=True)"
   ]
  },
  {
   "cell_type": "code",
   "execution_count": 5,
   "id": "2aa82306",
   "metadata": {
    "ExecuteTime": {
     "end_time": "2023-10-14T08:25:46.733524Z",
     "start_time": "2023-10-14T08:25:46.694597Z"
    }
   },
   "outputs": [],
   "source": [
    "test_loader = torch.utils.data.DataLoader(\n",
    "    datasets.MNIST('dataset/', train=False,\n",
    "                   transform=transforms.Compose([         # transforms에서 데이터전처리가 자동으로 된다\n",
    "                       transforms.ToTensor(),                           # 값 텐서화\n",
    "                       transforms.Normalize(mean=(0.5,), std=(0.5,))    # 값 스케일링\n",
    "                   ])),\n",
    "    batch_size=batch_size,\n",
    "    shuffle=True)"
   ]
  },
  {
   "cell_type": "code",
   "execution_count": 6,
   "id": "ae742bc1",
   "metadata": {
    "ExecuteTime": {
     "end_time": "2023-10-14T08:25:47.709173Z",
     "start_time": "2023-10-14T08:25:47.697144Z"
    }
   },
   "outputs": [],
   "source": [
    "'''\n",
    "test_loader = torch.utils.data.DataLoader(\n",
    "    datasets.MNIST('dataset/', train=False, \n",
    "                   transform=transforms.Compose([\n",
    "                       transforms.ToTensor(),\n",
    "                       transforms.Normalize((0.,), (1.))\n",
    "                   ])),\n",
    "    batch_size=test_batch_size,\n",
    "    shuffle=True)\n",
    "''';"
   ]
  },
  {
   "cell_type": "markdown",
   "id": "8ebc9a42",
   "metadata": {},
   "source": [
    "#### 데이터 확인\n",
    "\n",
    "PyTorch에서는 TF와 이미지를 표현하는데 있어서 차이점이 있음. \n",
    "\n",
    "- TF - (batch, height, width, channel)\n",
    "- PyTorch - (batch, channel, height, width)"
   ]
  },
  {
   "cell_type": "code",
   "execution_count": 7,
   "id": "c7aa5c84",
   "metadata": {
    "ExecuteTime": {
     "end_time": "2023-10-14T08:25:48.827111Z",
     "start_time": "2023-10-14T08:25:48.799114Z"
    }
   },
   "outputs": [],
   "source": [
    "images, labels = next(iter(train_loader))"
   ]
  },
  {
   "cell_type": "code",
   "execution_count": 8,
   "id": "63303f56",
   "metadata": {
    "ExecuteTime": {
     "end_time": "2023-10-14T08:25:49.627994Z",
     "start_time": "2023-10-14T08:25:49.606008Z"
    }
   },
   "outputs": [
    {
     "data": {
      "text/plain": [
       "torch.Size([32, 1, 28, 28])"
      ]
     },
     "execution_count": 8,
     "metadata": {},
     "output_type": "execute_result"
    }
   ],
   "source": [
    "images.shape"
   ]
  },
  {
   "cell_type": "code",
   "execution_count": 9,
   "id": "daba6f37",
   "metadata": {
    "ExecuteTime": {
     "end_time": "2023-10-14T08:25:50.067941Z",
     "start_time": "2023-10-14T08:25:50.046942Z"
    }
   },
   "outputs": [
    {
     "data": {
      "text/plain": [
       "torch.Size([32])"
      ]
     },
     "execution_count": 9,
     "metadata": {},
     "output_type": "execute_result"
    }
   ],
   "source": [
    "labels.shape"
   ]
  },
  {
   "cell_type": "code",
   "execution_count": 10,
   "id": "e73eb4be",
   "metadata": {
    "ExecuteTime": {
     "end_time": "2023-10-14T08:25:50.537685Z",
     "start_time": "2023-10-14T08:25:50.522684Z"
    }
   },
   "outputs": [
    {
     "data": {
      "text/plain": [
       "torch.Size([1, 28, 28])"
      ]
     },
     "execution_count": 10,
     "metadata": {},
     "output_type": "execute_result"
    }
   ],
   "source": [
    "images[0].shape"
   ]
  },
  {
   "cell_type": "code",
   "execution_count": 11,
   "id": "d5a3a53d",
   "metadata": {
    "ExecuteTime": {
     "end_time": "2023-10-14T08:25:51.499775Z",
     "start_time": "2023-10-14T08:25:51.298516Z"
    }
   },
   "outputs": [
    {
     "data": {
      "image/png": "[encoded data removed]",
      "text/plain": [
       "<Figure size 640x480 with 1 Axes>"
      ]
     },
     "metadata": {},
     "output_type": "display_data"
    }
   ],
   "source": [
    "torch_image = torch.squeeze(images[0])\n",
    "\n",
    "image = torch_image.numpy()\n",
    "\n",
    "label = labels[0].numpy()\n",
    "\n",
    "plt.title(label)\n",
    "plt.imshow(image, 'gray')\n",
    "plt.show()"
   ]
  },
  {
   "cell_type": "code",
   "execution_count": 12,
   "id": "630c6851",
   "metadata": {
    "ExecuteTime": {
     "end_time": "2023-10-14T08:25:52.659731Z",
     "start_time": "2023-10-14T08:25:52.476730Z"
    }
   },
   "outputs": [
    {
     "data": {
      "image/png": "[encoded data removed]",
      "text/plain": [
       "<Figure size 640x480 with 1 Axes>"
      ]
     },
     "metadata": {},
     "output_type": "display_data"
    }
   ],
   "source": [
    "plt.title(label)\n",
    "plt.imshow(image)\n",
    "plt.show()"
   ]
  },
  {
   "cell_type": "markdown",
   "id": "b49f6724",
   "metadata": {},
   "source": [
    "### 모델 정의 "
   ]
  },
  {
   "cell_type": "code",
   "execution_count": 13,
   "id": "6c127f49",
   "metadata": {
    "ExecuteTime": {
     "end_time": "2023-10-14T08:25:55.078055Z",
     "start_time": "2023-10-14T08:25:55.063043Z"
    }
   },
   "outputs": [],
   "source": [
    "from torch import nn               # 학습할 파라미터가 있는 것들 : nn.Conv2D (반환값이 존재)\n",
    "import torch.nn.functional as F    # 학습할 파라미터가 없는 것들 : F.relu    (바로 사용)"
   ]
  },
  {
   "cell_type": "markdown",
   "id": "aad181d3",
   "metadata": {},
   "source": [
    "torch에서는 기본적으로 nn.Module로 상속받아 모델을 구현하는 Sub class 방식으로 대부분 구현<br>\n",
    "tensorflow와는 다르게 함수안에 input, output을 같이 적어준다."
   ]
  },
  {
   "cell_type": "code",
   "execution_count": 14,
   "id": "06c09441",
   "metadata": {
    "ExecuteTime": {
     "end_time": "2023-10-14T08:25:57.008999Z",
     "start_time": "2023-10-14T08:25:56.987218Z"
    }
   },
   "outputs": [],
   "source": [
    "class Net(nn.Module):\n",
    "    \n",
    "    def __init__(self):\n",
    "        super(Net, self).__init__()\n",
    "        self.conv1 = nn.Conv2d(1, 20, 5, 1)\n",
    "        self.conv2 = nn.Conv2d(20, 50, 5, 1)\n",
    "        self.fc1 = nn.Linear(4*4*50, 500)\n",
    "        self.fc2 = nn.Linear(500, 10)\n",
    "        \n",
    "    def forward(self, x):\n",
    "        x = F.relu(self.conv1(x))\n",
    "        x = F.max_pool2d(x, 2, 2)\n",
    "        x = F.relu(self.conv2(x))\n",
    "        x = F.max_pool2d(x, 2, 2)\n",
    "        x = x.view(-1, 4*4*50)\n",
    "        x = F.relu(self.fc1(x))\n",
    "        x = self.fc2(x)\n",
    "        return F.log_softmax(x, dim=1)"
   ]
  },
  {
   "cell_type": "code",
   "execution_count": 15,
   "id": "dc238646",
   "metadata": {
    "ExecuteTime": {
     "end_time": "2023-10-14T08:25:59.284402Z",
     "start_time": "2023-10-14T08:25:58.276098Z"
    }
   },
   "outputs": [],
   "source": [
    "device = torch.device('cuda' if torch.cuda.is_available() else 'cpu')\n",
    "model = Net().to(device)"
   ]
  },
  {
   "cell_type": "markdown",
   "id": "07ec638a",
   "metadata": {},
   "source": [
    "torch에서는 summary 기능이 없다."
   ]
  },
  {
   "cell_type": "code",
   "execution_count": 16,
   "id": "0dabad14",
   "metadata": {
    "ExecuteTime": {
     "end_time": "2023-10-14T08:26:00.516190Z",
     "start_time": "2023-10-14T08:26:00.503151Z"
    }
   },
   "outputs": [
    {
     "name": "stdout",
     "output_type": "stream",
     "text": [
      "Net(\n",
      "  (conv1): Conv2d(1, 20, kernel_size=(5, 5), stride=(1, 1))\n",
      "  (conv2): Conv2d(20, 50, kernel_size=(5, 5), stride=(1, 1))\n",
      "  (fc1): Linear(in_features=800, out_features=500, bias=True)\n",
      "  (fc2): Linear(in_features=500, out_features=10, bias=True)\n",
      ")\n"
     ]
    }
   ],
   "source": [
    "print(model)"
   ]
  },
  {
   "cell_type": "code",
   "execution_count": null,
   "id": "39f087ff",
   "metadata": {},
   "outputs": [],
   "source": []
  },
  {
   "cell_type": "code",
   "execution_count": null,
   "id": "beb26d25",
   "metadata": {},
   "outputs": [],
   "source": []
  },
  {
   "cell_type": "markdown",
   "id": "6a6002da",
   "metadata": {},
   "source": [
    "### 학습 로직\n",
    "\n",
    "PyTorch에서는 model을 Training 모드로 변경 후 Training 할 수 있다."
   ]
  },
  {
   "cell_type": "markdown",
   "id": "15f047e8",
   "metadata": {},
   "source": [
    "#### Training mode로 ! "
   ]
  },
  {
   "cell_type": "code",
   "execution_count": 17,
   "id": "4822c602",
   "metadata": {
    "ExecuteTime": {
     "end_time": "2023-10-14T08:26:03.206313Z",
     "start_time": "2023-10-14T08:26:03.199307Z"
    },
    "scrolled": true
   },
   "outputs": [
    {
     "data": {
      "text/plain": [
       "Net(\n",
       "  (conv1): Conv2d(1, 20, kernel_size=(5, 5), stride=(1, 1))\n",
       "  (conv2): Conv2d(20, 50, kernel_size=(5, 5), stride=(1, 1))\n",
       "  (fc1): Linear(in_features=800, out_features=500, bias=True)\n",
       "  (fc2): Linear(in_features=500, out_features=10, bias=True)\n",
       ")"
      ]
     },
     "execution_count": 17,
     "metadata": {},
     "output_type": "execute_result"
    }
   ],
   "source": [
    "model.train()"
   ]
  },
  {
   "cell_type": "markdown",
   "id": "0981f567",
   "metadata": {},
   "source": [
    "#### Evaluation mode로 !"
   ]
  },
  {
   "cell_type": "code",
   "execution_count": 18,
   "id": "738b1313",
   "metadata": {
    "ExecuteTime": {
     "end_time": "2023-10-14T08:26:04.418303Z",
     "start_time": "2023-10-14T08:26:04.410269Z"
    }
   },
   "outputs": [
    {
     "data": {
      "text/plain": [
       "Net(\n",
       "  (conv1): Conv2d(1, 20, kernel_size=(5, 5), stride=(1, 1))\n",
       "  (conv2): Conv2d(20, 50, kernel_size=(5, 5), stride=(1, 1))\n",
       "  (fc1): Linear(in_features=800, out_features=500, bias=True)\n",
       "  (fc2): Linear(in_features=500, out_features=10, bias=True)\n",
       ")"
      ]
     },
     "execution_count": 18,
     "metadata": {},
     "output_type": "execute_result"
    }
   ],
   "source": [
    "model.eval()"
   ]
  },
  {
   "cell_type": "code",
   "execution_count": 19,
   "id": "33a2f501",
   "metadata": {
    "ExecuteTime": {
     "end_time": "2023-10-14T08:26:05.615533Z",
     "start_time": "2023-10-14T08:26:05.598535Z"
    }
   },
   "outputs": [],
   "source": [
    "import torch.optim as optim\n",
    "\n",
    "optimizer = optim.SGD(model.parameters(), lr=0.003)"
   ]
  },
  {
   "cell_type": "code",
   "execution_count": 20,
   "id": "cab0d157",
   "metadata": {
    "ExecuteTime": {
     "end_time": "2023-10-14T08:29:43.392466Z",
     "start_time": "2023-10-14T08:26:09.467700Z"
    },
    "scrolled": true
   },
   "outputs": [
    {
     "name": "stdout",
     "output_type": "stream",
     "text": [
      "Train Epoch: 0 [0/60000 (0%)]\tLoss: 2.307265\n",
      "Train Epoch: 0 [32000/60000 (53%)]\tLoss: 0.625712\n",
      "\n",
      "Test set: Average Loss: 9.6912, Accuracy: 9105/10000 (91%)\n",
      "\n",
      "Train Epoch: 1 [0/60000 (0%)]\tLoss: 0.207425\n",
      "Train Epoch: 1 [32000/60000 (53%)]\tLoss: 0.469511\n",
      "\n",
      "Test set: Average Loss: 5.7159, Accuracy: 9472/10000 (95%)\n",
      "\n",
      "Train Epoch: 2 [0/60000 (0%)]\tLoss: 0.096123\n",
      "Train Epoch: 2 [32000/60000 (53%)]\tLoss: 0.097710\n",
      "\n",
      "Test set: Average Loss: 4.1671, Accuracy: 9616/10000 (96%)\n",
      "\n",
      "Train Epoch: 3 [0/60000 (0%)]\tLoss: 0.186309\n",
      "Train Epoch: 3 [32000/60000 (53%)]\tLoss: 0.182473\n",
      "\n",
      "Test set: Average Loss: 3.2261, Accuracy: 9692/10000 (97%)\n",
      "\n",
      "Train Epoch: 4 [0/60000 (0%)]\tLoss: 0.143769\n",
      "Train Epoch: 4 [32000/60000 (53%)]\tLoss: 0.115551\n",
      "\n",
      "Test set: Average Loss: 2.7505, Accuracy: 9732/10000 (97%)\n",
      "\n",
      "Train Epoch: 5 [0/60000 (0%)]\tLoss: 0.054257\n",
      "Train Epoch: 5 [32000/60000 (53%)]\tLoss: 0.045051\n",
      "\n",
      "Test set: Average Loss: 2.3950, Accuracy: 9774/10000 (98%)\n",
      "\n",
      "Train Epoch: 6 [0/60000 (0%)]\tLoss: 0.118670\n",
      "Train Epoch: 6 [32000/60000 (53%)]\tLoss: 0.133437\n",
      "\n",
      "Test set: Average Loss: 2.2115, Accuracy: 9783/10000 (98%)\n",
      "\n",
      "Train Epoch: 7 [0/60000 (0%)]\tLoss: 0.138009\n",
      "Train Epoch: 7 [32000/60000 (53%)]\tLoss: 0.019749\n",
      "\n",
      "Test set: Average Loss: 1.9234, Accuracy: 9803/10000 (98%)\n",
      "\n",
      "Train Epoch: 8 [0/60000 (0%)]\tLoss: 0.035783\n",
      "Train Epoch: 8 [32000/60000 (53%)]\tLoss: 0.215734\n",
      "\n",
      "Test set: Average Loss: 1.9133, Accuracy: 9816/10000 (98%)\n",
      "\n",
      "Train Epoch: 9 [0/60000 (0%)]\tLoss: 0.045310\n",
      "Train Epoch: 9 [32000/60000 (53%)]\tLoss: 0.148187\n",
      "\n",
      "Test set: Average Loss: 1.6696, Accuracy: 9837/10000 (98%)\n",
      "\n"
     ]
    }
   ],
   "source": [
    "for epoch in range(10):\n",
    "    \n",
    "    # Train Mode\n",
    "    model.train()\n",
    "    for batch_idx, (data, target) in enumerate(train_loader): # batch_idx를 뽑아내기위해 enumerate 활용\n",
    "        \n",
    "        # torch에서는 항상 device를 지정해줘야 한다.\n",
    "        data, target = data.to(device), target.to(device)\n",
    "        \n",
    "        # optimizer가 값을 누적시켜 계산하기 때문에 0으로 초기화 해줘야 한다.\n",
    "        optimizer.zero_grad()\n",
    "        \n",
    "        output = model(data)\n",
    "        \n",
    "        #loss = F.cross_entropy(output, target)\n",
    "        # 위에서 log_softmax를 해서 nll_loss로 해줘야 cross_entropy와 같은 계산이 된다.\n",
    "        loss = F.nll_loss(output, target)\n",
    "        \n",
    "        loss.backward()\n",
    "        \n",
    "        optimizer.step()\n",
    "        \n",
    "        if batch_idx % 1000 == 0:\n",
    "            print('Train Epoch: {} [{}/{} ({:.0f}%)]\\tLoss: {:.6f}'.format(\n",
    "                epoch, batch_idx * len(data), len(train_loader.dataset),\n",
    "                100 * batch_idx / len(train_loader), loss.item(), end=\"\\r\"\n",
    "            ))\n",
    "    \n",
    "    \n",
    "    # Evaluate Mode => 학습도중의 평가는 validation\n",
    "    model.eval()\n",
    "\n",
    "    test_loss = 0\n",
    "    correct = 0\n",
    "    with torch.no_grad(): # backpropagatin이나 gradient 계산 등을 꺼서 memory usage를 줄이고 속도를 높임\n",
    "        for data, target in test_loader:\n",
    "            data, target = data.to(device), target.to(device)\n",
    "            output = model(data)\n",
    "            test_loss += F.nll_loss(output, target, reduction='sum').item() # 배치에서의 loss를 누적\n",
    "            pred = output.argmax(dim=1, keepdim=True)\n",
    "            correct += pred.eq(target.view_as(pred)).sum().item()\n",
    "\n",
    "    test_loss /= (len(test_loader.dataset) // batch_size) # 배치 개수로 나눠 평균 loss를 계산 (오차가 살짝 발생할 듯)\n",
    "\n",
    "    print('\\nTest set: Average Loss: {:.4f}, Accuracy: {}/{} ({:.0f}%)\\n'.format(\n",
    "        test_loss, correct, len(test_loader.dataset), 100. * correct / len(test_loader.dataset)))"
   ]
  },
  {
   "cell_type": "markdown",
   "id": "bd3838dc",
   "metadata": {},
   "source": [
    "- 학습도중에 test는 validation이라 부르는게 더 맞지 않을까 생각된다."
   ]
  },
  {
   "cell_type": "markdown",
   "id": "cb03bd5b",
   "metadata": {},
   "source": [
    "### Evaluation"
   ]
  },
  {
   "cell_type": "markdown",
   "id": "0f4c0d33",
   "metadata": {},
   "source": [
    "- autograd engine, 즉 backpropagatin이나 gradient 계산 등을 꺼서 memory usage를 줄이고 속도를 높임"
   ]
  },
  {
   "cell_type": "code",
   "execution_count": 21,
   "id": "2fba6468",
   "metadata": {
    "ExecuteTime": {
     "end_time": "2023-10-14T08:34:58.681524Z",
     "start_time": "2023-10-14T08:34:54.384526Z"
    }
   },
   "outputs": [
    {
     "name": "stdout",
     "output_type": "stream",
     "text": [
      "\n",
      "Test set: Average loss: 0.0521, Accuracy: 9837/10000 (98%)\n",
      "\n"
     ]
    }
   ],
   "source": [
    "# Evaluate mode\n",
    "\n",
    "model.eval() \n",
    "test_loss = 0\n",
    "correct = 0\n",
    "\n",
    "with torch.no_grad():\n",
    "    for data, target in test_loader:\n",
    "        data, target = data.to(device), target.to(device)\n",
    "        output = model(data)\n",
    "        test_loss += F.cross_entropy(output, target, reduction='sum').item() # sum up batch loss\n",
    "        pred = output.argmax(dim=1, keepdim=True)\n",
    "        correct += pred.eq(target.view_as(pred)).sum().item()\n",
    "\n",
    "test_loss /= len(test_loader.dataset)\n",
    "\n",
    "print('\\nTest set: Average loss: {:.4f}, Accuracy: {}/{} ({:.0f}%)\\n'.format(\n",
    "    test_loss, correct, len(test_loader.dataset),\n",
    "    100. * correct / len(test_loader.dataset)))"
   ]
  },
  {
   "cell_type": "code",
   "execution_count": null,
   "id": "82884a03",
   "metadata": {},
   "outputs": [],
   "source": []
  },
  {
   "cell_type": "code",
   "execution_count": null,
   "id": "dd099312",
   "metadata": {},
   "outputs": [],
   "source": []
  },
  {
   "cell_type": "code",
   "execution_count": null,
   "id": "b5261713",
   "metadata": {},
   "outputs": [],
   "source": []
  }
 ],
 "metadata": {
  "kernelspec": {
   "display_name": "GPU",
   "language": "python",
   "name": "gpu"
  },
  "language_info": {
   "codemirror_mode": {
    "name": "ipython",
    "version": 3
   },
   "file_extension": ".py",
   "mimetype": "text/x-python",
   "name": "python",
   "nbconvert_exporter": "python",
   "pygments_lexer": "ipython3",
   "version": "3.8.18"
  },
  "varInspector": {
   "cols": {
    "lenName": 16,
    "lenType": 16,
    "lenVar": 40
   },
   "kernels_config": {
    "python": {
     "delete_cmd_postfix": "",
     "delete_cmd_prefix": "del ",
     "library": "var_list.py",
     "varRefreshCmd": "print(var_dic_list())"
    },
    "r": {
     "delete_cmd_postfix": ") ",
     "delete_cmd_prefix": "rm(",
     "library": "var_list.r",
     "varRefreshCmd": "cat(var_dic_list()) "
    }
   },
   "types_to_exclude": [
    "module",
    "function",
    "builtin_function_or_method",
    "instance",
    "_Feature"
   ],
   "window_display": false
  }
 },
 "nbformat": 4,
 "nbformat_minor": 5
}
