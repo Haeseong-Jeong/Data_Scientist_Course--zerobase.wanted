{
 "cells": [
  {
   "cell_type": "markdown",
   "id": "6d74b558",
   "metadata": {},
   "source": [
    "# 데이터 다루기"
   ]
  },
  {
   "cell_type": "code",
   "execution_count": 1,
   "id": "d24b893a",
   "metadata": {
    "ExecuteTime": {
     "end_time": "2023-10-14T12:38:27.121085Z",
     "start_time": "2023-10-14T12:38:24.183823Z"
    }
   },
   "outputs": [],
   "source": [
    "import os\n",
    "import torch\n",
    "from torch import nn \n",
    "from torch import optim\n",
    "import torch.nn.functional as F\n",
    "\n",
    "from torchvision import datasets, transforms"
   ]
  },
  {
   "cell_type": "code",
   "execution_count": 2,
   "id": "d24be502",
   "metadata": {
    "ExecuteTime": {
     "end_time": "2023-10-14T12:38:28.003176Z",
     "start_time": "2023-10-14T12:38:27.974991Z"
    }
   },
   "outputs": [
    {
     "data": {
      "text/plain": [
       "<torch._C.Generator at 0x27c5a7bf350>"
      ]
     },
     "execution_count": 2,
     "metadata": {},
     "output_type": "execute_result"
    }
   ],
   "source": [
    "torch.manual_seed(7777)"
   ]
  },
  {
   "cell_type": "markdown",
   "id": "a26471a8",
   "metadata": {},
   "source": [
    "### Pytorch에서 Dataloader 만들기\n",
    "\n",
    "`torch.utils.data.DataLoader`를 사용함.\n",
    "\n",
    "- `torch.utils.data.DataLoader` 는 기본적으로 아래 두가지 인수를 받음\n",
    "    \n",
    "    1. `torch.utils.data.dataset.Dataset`\n",
    "    2. `batch_size`"
   ]
  },
  {
   "cell_type": "markdown",
   "id": "1bfc1480",
   "metadata": {},
   "source": [
    "##### 데이터 로더 설정"
   ]
  },
  {
   "cell_type": "code",
   "execution_count": 3,
   "id": "896cf96d",
   "metadata": {
    "ExecuteTime": {
     "end_time": "2023-10-14T12:38:37.784030Z",
     "start_time": "2023-10-14T12:38:37.779029Z"
    }
   },
   "outputs": [],
   "source": [
    "batch_size = 32"
   ]
  },
  {
   "cell_type": "code",
   "execution_count": 4,
   "id": "921de302",
   "metadata": {
    "ExecuteTime": {
     "end_time": "2023-10-14T12:38:38.322564Z",
     "start_time": "2023-10-14T12:38:38.256538Z"
    }
   },
   "outputs": [],
   "source": [
    "train_loader = torch.utils.data.DataLoader(\n",
    "    datasets.MNIST('dataset/', train=True, download=True,\n",
    "                   transform=transforms.Compose([\n",
    "                       transforms.ToTensor(),\n",
    "                       transforms.Normalize(mean=(0.5,), std=(0.5,))\n",
    "                   ])),\n",
    "    batch_size=batch_size,\n",
    "    shuffle=True)"
   ]
  },
  {
   "cell_type": "markdown",
   "id": "22ec9ab2",
   "metadata": {},
   "source": [
    "- Dataloader는 generator이다.\n",
    "\n",
    "데이터로더를 만드는데 batch_size 만큼의 샘플을 얻어줌"
   ]
  },
  {
   "cell_type": "code",
   "execution_count": 5,
   "id": "bd130754",
   "metadata": {
    "ExecuteTime": {
     "end_time": "2023-10-14T12:38:40.408882Z",
     "start_time": "2023-10-14T12:38:40.351877Z"
    }
   },
   "outputs": [],
   "source": [
    "gen = train_loader = torch.utils.data.DataLoader(\n",
    "    datasets.MNIST('dataset/', train=True, download=True,\n",
    "                   transform=transforms.Compose([\n",
    "                       transforms.ToTensor(),\n",
    "                       transforms.Normalize(mean=(0.5,), std=(0.5,))\n",
    "                   ])),\n",
    "    batch_size=batch_size,\n",
    "    shuffle=True)"
   ]
  },
  {
   "cell_type": "code",
   "execution_count": 6,
   "id": "34baa297",
   "metadata": {
    "ExecuteTime": {
     "end_time": "2023-10-14T12:38:41.043491Z",
     "start_time": "2023-10-14T12:38:41.013511Z"
    }
   },
   "outputs": [
    {
     "data": {
      "text/plain": [
       "(torch.Size([32, 1, 28, 28]), torch.Size([32]))"
      ]
     },
     "execution_count": 6,
     "metadata": {},
     "output_type": "execute_result"
    }
   ],
   "source": [
    "x, y = next(iter(gen))\n",
    "x.shape, y.shape"
   ]
  },
  {
   "cell_type": "markdown",
   "id": "3247ffed",
   "metadata": {},
   "source": [
    "### Local에 있는 데이터를 torch.utils.data.dataset.Dataset으로 만들기\n",
    "\n",
    "- ImageFolder : 간단하게 로컬에 있는 이미지 데이터셋을 불러옴. 디렉토리 구조가 다음과 같아야 한다.\n",
    "```\n",
    "    - dataset             (폴더명)\n",
    "        - class0          (폴더명)\n",
    "            - xxx.png     (이미지명)\n",
    "            - yyy.png\n",
    "            - zzz.png\n",
    "            \n",
    "        - class1         \n",
    "            - xxx.png     \n",
    "            - yyy.png\n",
    "            - zzz.png\n",
    "            \n",
    "        - class2          \n",
    "            - xxx.png     \n",
    "            - yyy.png\n",
    "            - zzz.png\n",
    "            \n",
    "        - class3          \n",
    "            - xxx.png     \n",
    "            - yyy.png\n",
    "            - zzz.png\n",
    "```        "
   ]
  },
  {
   "cell_type": "markdown",
   "id": "a67a49e2",
   "metadata": {},
   "source": [
    "- 데이터 불러오기 -> 데이터 로더로 만들기\n",
    "    - 데이터 로더는 학습을 진행할수 있도록 전처리를 해준다 생각하자."
   ]
  },
  {
   "cell_type": "code",
   "execution_count": 7,
   "id": "ff574eff",
   "metadata": {
    "ExecuteTime": {
     "end_time": "2023-10-14T12:38:48.242447Z",
     "start_time": "2023-10-14T12:38:48.229454Z"
    }
   },
   "outputs": [],
   "source": [
    "train_dir = '../datasets/mnist_png/training/'\n",
    "test_dir = '../datasets/mnist_png/testing/'"
   ]
  },
  {
   "cell_type": "code",
   "execution_count": 8,
   "id": "cae6ccc4",
   "metadata": {
    "ExecuteTime": {
     "end_time": "2023-10-14T12:38:48.995361Z",
     "start_time": "2023-10-14T12:38:48.980327Z"
    }
   },
   "outputs": [
    {
     "data": {
      "text/plain": [
       "['10003.png', '10004.png', '10023.png']"
      ]
     },
     "execution_count": 8,
     "metadata": {},
     "output_type": "execute_result"
    }
   ],
   "source": [
    "os.listdir(train_dir + '9')[:3] # '../datasets/mnist_png/training/9' 하위 이미지들"
   ]
  },
  {
   "cell_type": "markdown",
   "id": "f0211385",
   "metadata": {
    "ExecuteTime": {
     "end_time": "2023-10-14T10:11:57.277099Z",
     "start_time": "2023-10-14T10:11:57.263100Z"
    }
   },
   "source": [
    "##### 디바이스 설정"
   ]
  },
  {
   "cell_type": "code",
   "execution_count": 9,
   "id": "f66966c7",
   "metadata": {
    "ExecuteTime": {
     "end_time": "2023-10-14T12:38:50.221965Z",
     "start_time": "2023-10-14T12:38:50.169399Z"
    }
   },
   "outputs": [
    {
     "data": {
      "text/plain": [
       "device(type='cuda')"
      ]
     },
     "execution_count": 9,
     "metadata": {},
     "output_type": "execute_result"
    }
   ],
   "source": [
    "device = torch.device('cuda' if torch.cuda.is_available() else 'cpu')\n",
    "device"
   ]
  },
  {
   "cell_type": "markdown",
   "id": "e7e34c6f",
   "metadata": {},
   "source": [
    "##### ImageFolder 활용 데이터 불러오기"
   ]
  },
  {
   "cell_type": "code",
   "execution_count": 10,
   "id": "3213d258",
   "metadata": {
    "ExecuteTime": {
     "end_time": "2023-10-14T12:38:52.344816Z",
     "start_time": "2023-10-14T12:38:51.974537Z"
    }
   },
   "outputs": [],
   "source": [
    "train_dataset = datasets.ImageFolder(\n",
    "    root=train_dir,\n",
    "    transform=transforms.Compose([\n",
    "        transforms.ToTensor(),\n",
    "        transforms.Normalize(0.5,0.5)\n",
    "    ])\n",
    ")\n",
    "\n",
    "test_dataset = datasets.ImageFolder(\n",
    "    root=test_dir,\n",
    "    transform=transforms.Compose([\n",
    "        transforms.ToTensor(),\n",
    "        transforms.Normalize(0.5,0.5)\n",
    "    ])\n",
    ")"
   ]
  },
  {
   "cell_type": "code",
   "execution_count": 11,
   "id": "dccaa614",
   "metadata": {
    "ExecuteTime": {
     "end_time": "2023-10-14T12:38:53.085465Z",
     "start_time": "2023-10-14T12:38:53.049429Z"
    }
   },
   "outputs": [
    {
     "data": {
      "text/plain": [
       "(torch.Size([3, 28, 28]), 0)"
      ]
     },
     "execution_count": 11,
     "metadata": {},
     "output_type": "execute_result"
    }
   ],
   "source": [
    "x, y = next(iter(train_dataset))\n",
    "x.shape, y"
   ]
  },
  {
   "cell_type": "markdown",
   "id": "d5d42e39",
   "metadata": {},
   "source": [
    "##### 데이터 로더 설정 (feat, ImageFolder)"
   ]
  },
  {
   "cell_type": "code",
   "execution_count": 12,
   "id": "64e587e5",
   "metadata": {
    "ExecuteTime": {
     "end_time": "2023-10-14T12:38:54.694008Z",
     "start_time": "2023-10-14T12:38:54.672780Z"
    }
   },
   "outputs": [],
   "source": [
    "batch_size = 32\n",
    "\n",
    "train_loader = torch.utils.data.DataLoader(\n",
    "    train_dataset,\n",
    "    batch_size=batch_size,\n",
    "    shuffle=True\n",
    ")\n",
    "\n",
    "test_loader = torch.utils.data.DataLoader(\n",
    "    test_dataset,\n",
    "    batch_size=batch_size,\n",
    "    shuffle=True\n",
    ")"
   ]
  },
  {
   "cell_type": "code",
   "execution_count": 13,
   "id": "579ffff9",
   "metadata": {
    "ExecuteTime": {
     "end_time": "2023-10-14T12:38:55.322166Z",
     "start_time": "2023-10-14T12:38:55.267191Z"
    }
   },
   "outputs": [
    {
     "data": {
      "text/plain": [
       "(torch.Size([32, 3, 28, 28]), torch.Size([32]))"
      ]
     },
     "execution_count": 13,
     "metadata": {},
     "output_type": "execute_result"
    }
   ],
   "source": [
    "x, y = next(iter(train_loader))\n",
    "x.shape, y.shape"
   ]
  },
  {
   "cell_type": "code",
   "execution_count": null,
   "id": "44b036f1",
   "metadata": {},
   "outputs": [],
   "source": []
  }
 ],
 "metadata": {
  "kernelspec": {
   "display_name": "GPU",
   "language": "python",
   "name": "gpu"
  },
  "language_info": {
   "codemirror_mode": {
    "name": "ipython",
    "version": 3
   },
   "file_extension": ".py",
   "mimetype": "text/x-python",
   "name": "python",
   "nbconvert_exporter": "python",
   "pygments_lexer": "ipython3",
   "version": "3.8.18"
  },
  "varInspector": {
   "cols": {
    "lenName": 16,
    "lenType": 16,
    "lenVar": 40
   },
   "kernels_config": {
    "python": {
     "delete_cmd_postfix": "",
     "delete_cmd_prefix": "del ",
     "library": "var_list.py",
     "varRefreshCmd": "print(var_dic_list())"
    },
    "r": {
     "delete_cmd_postfix": ") ",
     "delete_cmd_prefix": "rm(",
     "library": "var_list.r",
     "varRefreshCmd": "cat(var_dic_list()) "
    }
   },
   "types_to_exclude": [
    "module",
    "function",
    "builtin_function_or_method",
    "instance",
    "_Feature"
   ],
   "window_display": false
  }
 },
 "nbformat": 4,
 "nbformat_minor": 5
}
