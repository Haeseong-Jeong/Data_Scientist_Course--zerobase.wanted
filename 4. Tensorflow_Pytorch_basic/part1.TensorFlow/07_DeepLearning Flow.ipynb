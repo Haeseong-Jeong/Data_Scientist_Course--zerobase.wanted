{
 "cells": [
  {
   "cell_type": "markdown",
   "id": "3169f002",
   "metadata": {},
   "source": [
    "# Deep learning Flow"
   ]
  },
  {
   "cell_type": "code",
   "execution_count": 1,
   "id": "40ae810a",
   "metadata": {
    "ExecuteTime": {
     "end_time": "2023-10-06T08:28:41.990584Z",
     "start_time": "2023-10-06T08:28:34.772699Z"
    }
   },
   "outputs": [],
   "source": [
    "import numpy as np\n",
    "import pandas as pd\n",
    "import tensorflow as tf\n",
    "\n",
    "import matplotlib.pyplot as plt\n",
    "import seaborn as sns\n",
    "%matplotlib inline"
   ]
  },
  {
   "cell_type": "markdown",
   "id": "e607c9f2",
   "metadata": {},
   "source": [
    "## 변하지 않는 Deep learning Flow \n",
    "```\n",
    "data   =>   Preprocess   =>   Model   =>   Evaluation\n",
    "          - 데이터검증     -  모델링    - 학습과정 추적\n",
    "          -   전처리       - 학습로직   -    후처리\n",
    "          - 데이터증강                  -  모델 검증\n",
    "```"
   ]
  },
  {
   "cell_type": "markdown",
   "id": "552cb4b9",
   "metadata": {},
   "source": [
    "## 1. Data 가져오기\n",
    "\n",
    "TensorFlow에서 제공하는 MNIST 예제\n",
    "- datasets는 train/test 두개로 반환한다."
   ]
  },
  {
   "cell_type": "markdown",
   "id": "0182c0f2",
   "metadata": {},
   "source": [
    "- 데이터 shape, dtype 확인하기"
   ]
  },
  {
   "cell_type": "code",
   "execution_count": 2,
   "id": "be84c8d0",
   "metadata": {
    "ExecuteTime": {
     "end_time": "2023-10-06T08:30:19.900173Z",
     "start_time": "2023-10-06T08:30:19.643755Z"
    }
   },
   "outputs": [],
   "source": [
    "(train_x, train_y), (test_x, test_y) = tf.keras.datasets.mnist.load_data()"
   ]
  },
  {
   "cell_type": "code",
   "execution_count": 3,
   "id": "5a702a1f",
   "metadata": {
    "ExecuteTime": {
     "end_time": "2023-10-06T08:30:20.802571Z",
     "start_time": "2023-10-06T08:30:20.792548Z"
    }
   },
   "outputs": [
    {
     "name": "stdout",
     "output_type": "stream",
     "text": [
      "(60000, 28, 28)\n",
      "(10000, 28, 28)\n"
     ]
    }
   ],
   "source": [
    "print(train_x.shape)\n",
    "print(test_x.shape)"
   ]
  },
  {
   "cell_type": "markdown",
   "id": "cae11bc8",
   "metadata": {},
   "source": [
    " - 28 x 28 크기의 이미지"
   ]
  },
  {
   "cell_type": "code",
   "execution_count": 4,
   "id": "a45d75ab",
   "metadata": {
    "ExecuteTime": {
     "end_time": "2023-10-06T08:30:22.067210Z",
     "start_time": "2023-10-06T08:30:22.061208Z"
    }
   },
   "outputs": [
    {
     "name": "stdout",
     "output_type": "stream",
     "text": [
      "(60000,)\n",
      "(10000,)\n"
     ]
    }
   ],
   "source": [
    "print(train_y.shape)\n",
    "print(test_y.shape)"
   ]
  },
  {
   "cell_type": "code",
   "execution_count": 5,
   "id": "da1c5e08",
   "metadata": {
    "ExecuteTime": {
     "end_time": "2023-10-06T08:30:33.846502Z",
     "start_time": "2023-10-06T08:30:33.836338Z"
    }
   },
   "outputs": [
    {
     "name": "stdout",
     "output_type": "stream",
     "text": [
      "uint8\n",
      "uint8\n",
      "uint8\n",
      "uint8\n"
     ]
    }
   ],
   "source": [
    "print(train_x.dtype)\n",
    "print(test_x.dtype)\n",
    "\n",
    "print(train_y.dtype)\n",
    "print(test_y.dtype)"
   ]
  },
  {
   "cell_type": "markdown",
   "id": "291b7c2c",
   "metadata": {},
   "source": [
    "unsigned 데이터 :  - 128 ~ + 128 ==> 0 ~ 255로 양수만"
   ]
  },
  {
   "cell_type": "markdown",
   "id": "383c35b8",
   "metadata": {},
   "source": [
    "- 데이터 하나만 뽑기"
   ]
  },
  {
   "cell_type": "code",
   "execution_count": 6,
   "id": "6ed0147d",
   "metadata": {
    "ExecuteTime": {
     "end_time": "2023-10-06T08:32:09.571640Z",
     "start_time": "2023-10-06T08:32:09.555884Z"
    }
   },
   "outputs": [
    {
     "data": {
      "text/plain": [
       "(28, 28)"
      ]
     },
     "execution_count": 6,
     "metadata": {},
     "output_type": "execute_result"
    }
   ],
   "source": [
    "image = train_x[77]\n",
    "image.shape"
   ]
  },
  {
   "cell_type": "markdown",
   "id": "10efcc8b",
   "metadata": {},
   "source": [
    "- 시각화해서 확인"
   ]
  },
  {
   "cell_type": "code",
   "execution_count": 7,
   "id": "fc58cb47",
   "metadata": {
    "ExecuteTime": {
     "end_time": "2023-10-06T08:32:11.357102Z",
     "start_time": "2023-10-06T08:32:11.116112Z"
    }
   },
   "outputs": [
    {
     "data": {
      "image/png": "[encoded data removed]",
      "text/plain": [
       "<Figure size 640x480 with 1 Axes>"
      ]
     },
     "metadata": {},
     "output_type": "display_data"
    }
   ],
   "source": [
    "plt.imshow(image, 'gray')\n",
    "plt.show()"
   ]
  },
  {
   "cell_type": "markdown",
   "id": "78c192af",
   "metadata": {},
   "source": [
    "#### 데이터를 받으면 데이터를 이해하기 위해 노력해야합니다! \n"
   ]
  },
  {
   "cell_type": "code",
   "execution_count": null,
   "id": "dfd3cf0e",
   "metadata": {},
   "outputs": [],
   "source": []
  },
  {
   "cell_type": "markdown",
   "id": "75a0b963",
   "metadata": {},
   "source": [
    "#### ex> 훈련용 데이터셋에는 각 숫자의 그림이 몇개씩 들어가 있나? (QUIZ)"
   ]
  },
  {
   "cell_type": "markdown",
   "id": "7421cad4",
   "metadata": {},
   "source": [
    "----"
   ]
  },
  {
   "cell_type": "code",
   "execution_count": 8,
   "id": "159f4402",
   "metadata": {
    "ExecuteTime": {
     "end_time": "2023-10-06T08:35:26.870642Z",
     "start_time": "2023-10-06T08:35:26.860609Z"
    }
   },
   "outputs": [
    {
     "name": "stdout",
     "output_type": "stream",
     "text": [
      "[0 1 2 3 4 5 6 7 8 9] [5923 6742 5958 6131 5842 5421 5918 6265 5851 5949]\n"
     ]
    }
   ],
   "source": [
    "## 매우 유용함.\n",
    "## unique의 return_counts하면 유니크 values와 개수들의 두 리스트를 반환함\n",
    "y_unique, y_counts = np.unique(train_y, return_counts=True)\n",
    "print(y_unique, y_counts)"
   ]
  },
  {
   "cell_type": "markdown",
   "id": "19f45721",
   "metadata": {},
   "source": [
    "* 시각화를 해야 더 잘 보이겠죠? "
   ]
  },
  {
   "cell_type": "code",
   "execution_count": 9,
   "id": "f3fe8779",
   "metadata": {
    "ExecuteTime": {
     "end_time": "2023-10-06T08:35:30.300784Z",
     "start_time": "2023-10-06T08:35:30.271095Z"
    }
   },
   "outputs": [
    {
     "data": {
      "text/html": [
       "<div>\n",
       "<style scoped>\n",
       "    .dataframe tbody tr th:only-of-type {\n",
       "        vertical-align: middle;\n",
       "    }\n",
       "\n",
       "    .dataframe tbody tr th {\n",
       "        vertical-align: top;\n",
       "    }\n",
       "\n",
       "    .dataframe thead th {\n",
       "        text-align: right;\n",
       "    }\n",
       "</style>\n",
       "<table border=\"1\" class=\"dataframe\">\n",
       "  <thead>\n",
       "    <tr style=\"text-align: right;\">\n",
       "      <th></th>\n",
       "      <th>count</th>\n",
       "    </tr>\n",
       "  </thead>\n",
       "  <tbody>\n",
       "    <tr>\n",
       "      <th>0</th>\n",
       "      <td>5923</td>\n",
       "    </tr>\n",
       "    <tr>\n",
       "      <th>1</th>\n",
       "      <td>6742</td>\n",
       "    </tr>\n",
       "    <tr>\n",
       "      <th>2</th>\n",
       "      <td>5958</td>\n",
       "    </tr>\n",
       "    <tr>\n",
       "      <th>3</th>\n",
       "      <td>6131</td>\n",
       "    </tr>\n",
       "    <tr>\n",
       "      <th>4</th>\n",
       "      <td>5842</td>\n",
       "    </tr>\n",
       "    <tr>\n",
       "      <th>5</th>\n",
       "      <td>5421</td>\n",
       "    </tr>\n",
       "    <tr>\n",
       "      <th>6</th>\n",
       "      <td>5918</td>\n",
       "    </tr>\n",
       "    <tr>\n",
       "      <th>7</th>\n",
       "      <td>6265</td>\n",
       "    </tr>\n",
       "    <tr>\n",
       "      <th>8</th>\n",
       "      <td>5851</td>\n",
       "    </tr>\n",
       "    <tr>\n",
       "      <th>9</th>\n",
       "      <td>5949</td>\n",
       "    </tr>\n",
       "  </tbody>\n",
       "</table>\n",
       "</div>"
      ],
      "text/plain": [
       "   count\n",
       "0   5923\n",
       "1   6742\n",
       "2   5958\n",
       "3   6131\n",
       "4   5842\n",
       "5   5421\n",
       "6   5918\n",
       "7   6265\n",
       "8   5851\n",
       "9   5949"
      ]
     },
     "execution_count": 9,
     "metadata": {},
     "output_type": "execute_result"
    }
   ],
   "source": [
    "df_view = pd.DataFrame(data={\"count\" : y_counts}, index=y_unique)\n",
    "df_view"
   ]
  },
  {
   "cell_type": "code",
   "execution_count": 10,
   "id": "5f5928a3",
   "metadata": {
    "ExecuteTime": {
     "end_time": "2023-10-06T08:35:47.846654Z",
     "start_time": "2023-10-06T08:35:47.823064Z"
    }
   },
   "outputs": [
    {
     "data": {
      "text/html": [
       "<div>\n",
       "<style scoped>\n",
       "    .dataframe tbody tr th:only-of-type {\n",
       "        vertical-align: middle;\n",
       "    }\n",
       "\n",
       "    .dataframe tbody tr th {\n",
       "        vertical-align: top;\n",
       "    }\n",
       "\n",
       "    .dataframe thead th {\n",
       "        text-align: right;\n",
       "    }\n",
       "</style>\n",
       "<table border=\"1\" class=\"dataframe\">\n",
       "  <thead>\n",
       "    <tr style=\"text-align: right;\">\n",
       "      <th></th>\n",
       "      <th>count</th>\n",
       "    </tr>\n",
       "  </thead>\n",
       "  <tbody>\n",
       "    <tr>\n",
       "      <th>1</th>\n",
       "      <td>6742</td>\n",
       "    </tr>\n",
       "    <tr>\n",
       "      <th>7</th>\n",
       "      <td>6265</td>\n",
       "    </tr>\n",
       "    <tr>\n",
       "      <th>3</th>\n",
       "      <td>6131</td>\n",
       "    </tr>\n",
       "    <tr>\n",
       "      <th>2</th>\n",
       "      <td>5958</td>\n",
       "    </tr>\n",
       "    <tr>\n",
       "      <th>9</th>\n",
       "      <td>5949</td>\n",
       "    </tr>\n",
       "    <tr>\n",
       "      <th>0</th>\n",
       "      <td>5923</td>\n",
       "    </tr>\n",
       "    <tr>\n",
       "      <th>6</th>\n",
       "      <td>5918</td>\n",
       "    </tr>\n",
       "    <tr>\n",
       "      <th>8</th>\n",
       "      <td>5851</td>\n",
       "    </tr>\n",
       "    <tr>\n",
       "      <th>4</th>\n",
       "      <td>5842</td>\n",
       "    </tr>\n",
       "    <tr>\n",
       "      <th>5</th>\n",
       "      <td>5421</td>\n",
       "    </tr>\n",
       "  </tbody>\n",
       "</table>\n",
       "</div>"
      ],
      "text/plain": [
       "   count\n",
       "1   6742\n",
       "7   6265\n",
       "3   6131\n",
       "2   5958\n",
       "9   5949\n",
       "0   5923\n",
       "6   5918\n",
       "8   5851\n",
       "4   5842\n",
       "5   5421"
      ]
     },
     "execution_count": 10,
     "metadata": {},
     "output_type": "execute_result"
    }
   ],
   "source": [
    "df_view.sort_values(\"count\", ascending=False)"
   ]
  },
  {
   "cell_type": "code",
   "execution_count": 11,
   "id": "61e281e2",
   "metadata": {
    "ExecuteTime": {
     "end_time": "2023-10-06T08:35:52.041636Z",
     "start_time": "2023-10-06T08:35:51.824512Z"
    }
   },
   "outputs": [
    {
     "data": {
      "image/png": "[encoded data removed]",
      "text/plain": [
       "<Figure size 640x480 with 1 Axes>"
      ]
     },
     "metadata": {},
     "output_type": "display_data"
    }
   ],
   "source": [
    "plt.bar(x=y_unique, height=y_counts, color=\"black\")\n",
    "plt.title(\"label distribution\")\n",
    "plt.show()"
   ]
  },
  {
   "cell_type": "markdown",
   "id": "a8c198ff",
   "metadata": {},
   "source": [
    "- 데이터 불균형이 심한 경우 따로 작업이 필요하다."
   ]
  },
  {
   "cell_type": "markdown",
   "id": "1f851c76",
   "metadata": {},
   "source": [
    "### 막간 퀴즈"
   ]
  },
  {
   "cell_type": "markdown",
   "id": "ed08f3bb",
   "metadata": {},
   "source": [
    "다음 코드를 완성하여, 아래 이미지를 시계 반대 방향으로 90도 회전하고 아래위를 반전 시키기"
   ]
  },
  {
   "cell_type": "code",
   "execution_count": 12,
   "id": "005b5845",
   "metadata": {
    "ExecuteTime": {
     "end_time": "2023-10-06T08:36:49.964035Z",
     "start_time": "2023-10-06T08:36:48.931232Z"
    }
   },
   "outputs": [],
   "source": [
    "image = tf.constant(image)"
   ]
  },
  {
   "cell_type": "code",
   "execution_count": 13,
   "id": "ea85f4e4",
   "metadata": {
    "ExecuteTime": {
     "end_time": "2023-10-06T08:36:51.460730Z",
     "start_time": "2023-10-06T08:36:51.288523Z"
    }
   },
   "outputs": [
    {
     "data": {
      "image/png": "[encoded data removed]",
      "text/plain": [
       "<Figure size 640x480 with 1 Axes>"
      ]
     },
     "metadata": {},
     "output_type": "display_data"
    }
   ],
   "source": [
    "plt.imshow(image, 'gray')\n",
    "plt.show()"
   ]
  },
  {
   "cell_type": "markdown",
   "id": "4483fe10",
   "metadata": {},
   "source": [
    "----"
   ]
  },
  {
   "cell_type": "code",
   "execution_count": 14,
   "id": "48947ada",
   "metadata": {
    "ExecuteTime": {
     "end_time": "2023-10-06T08:37:19.016948Z",
     "start_time": "2023-10-06T08:37:18.847821Z"
    }
   },
   "outputs": [
    {
     "data": {
      "image/png": "[encoded data removed]",
      "text/plain": [
       "<Figure size 640x480 with 1 Axes>"
      ]
     },
     "metadata": {},
     "output_type": "display_data"
    }
   ],
   "source": [
    "#plt.imshow(?????????(image), 'gray')\n",
    "\n",
    "plt.imshow(tf.transpose(image), 'gray')\n",
    "plt.show()"
   ]
  },
  {
   "cell_type": "code",
   "execution_count": null,
   "id": "dfbd7c09",
   "metadata": {},
   "outputs": [],
   "source": []
  },
  {
   "cell_type": "code",
   "execution_count": null,
   "id": "72c1d6c7",
   "metadata": {},
   "outputs": [],
   "source": []
  },
  {
   "cell_type": "markdown",
   "id": "98150ef8",
   "metadata": {},
   "source": [
    "## 2. Preprocessing\n",
    "\n",
    "- 데이터 검증 \n",
    "- 전처리 \n",
    "- 데이터 증강 ... (이 건 추후에!)"
   ]
  },
  {
   "cell_type": "markdown",
   "id": "7691280a",
   "metadata": {},
   "source": [
    "#### 데이터 검증 \n",
    "\n",
    " - 데이터 중에 학습에 포함 되면 안되는 것이 있는가? ex> 개인정보가 들어있는 데이터, 테스트용 데이터에 들어있는것, 중복되는 데이터\n",
    " <br> <br>\n",
    " - 학습 의도와 다른 데이터가 있는가? ex> 얼굴을 학습하는데 발 사진이 들어가있진 않은지(가끔은 의도하고 일부러 집어넣는 경우도 있음)\n",
    "  <br> <br>\n",
    " - 라벨이 잘못된 데이터가 있는가? ex> 7인데 1로 라벨링, 고양이 인데 강아지로 라벨링 \n",
    "  <br> <br>\n",
    " -  ... 등\n",
    " "
   ]
  },
  {
   "cell_type": "code",
   "execution_count": null,
   "id": "d7154e69",
   "metadata": {},
   "outputs": [],
   "source": []
  },
  {
   "cell_type": "markdown",
   "id": "9f44e266",
   "metadata": {},
   "source": [
    "보통 데이터 통일을 위해 함수나 클래스로 정의를 한다.\n",
    "\n",
    "- 모든 데이터가 동일한 전처리 과정을 거칠 수 있도록 해야 추후에 문제가 없고 관리도 편하기 때문에"
   ]
  },
  {
   "cell_type": "code",
   "execution_count": 16,
   "id": "e6d975c3",
   "metadata": {
    "ExecuteTime": {
     "end_time": "2023-10-06T08:41:41.572467Z",
     "start_time": "2023-10-06T08:41:41.554746Z"
    }
   },
   "outputs": [],
   "source": [
    "## 이미지 픽셀 스케일 전처리 함수\n",
    "\n",
    "def validate_pixel_scale(x):\n",
    "\n",
    "    return 255 >= x.max() and 0 <= x.min()"
   ]
  },
  {
   "cell_type": "code",
   "execution_count": 17,
   "id": "99b954d1",
   "metadata": {
    "ExecuteTime": {
     "end_time": "2023-10-06T08:41:43.485675Z",
     "start_time": "2023-10-06T08:41:42.109735Z"
    }
   },
   "outputs": [],
   "source": [
    "## 검증된 트레이닝 데이터 반환\n",
    "validated_train_x = np.array([x for x in train_x if validate_pixel_scale(x)])\n",
    "\n",
    "validated_train_y = np.array([y for x, y in zip(train_x, train_y) if validate_pixel_scale(x)])"
   ]
  },
  {
   "cell_type": "code",
   "execution_count": 18,
   "id": "8c5c875c",
   "metadata": {
    "ExecuteTime": {
     "end_time": "2023-10-06T08:41:45.588053Z",
     "start_time": "2023-10-06T08:41:45.575046Z"
    }
   },
   "outputs": [
    {
     "name": "stdout",
     "output_type": "stream",
     "text": [
      "(60000, 28, 28)\n",
      "(60000,)\n"
     ]
    }
   ],
   "source": [
    "print(validated_train_x.shape)\n",
    "print(validated_train_y.shape)"
   ]
  },
  {
   "cell_type": "markdown",
   "id": "e8ea6d63",
   "metadata": {},
   "source": [
    "#### 전처리 \n",
    "\n",
    " - 입력하기 전에 모델링에 적합하게 처리! \n",
    " - 대표적으로 Scaling, Resizing, label encoding 등이 있다. \n",
    " - dtype, shape 항상 체크!!"
   ]
  },
  {
   "cell_type": "markdown",
   "id": "ad7d6728",
   "metadata": {},
   "source": [
    "- 여기까지 \n",
    "1. 28x28 사이즈의 이미지가 있는 것이고 (픽셀 개수)\n",
    "2. 하나의 픽셀은 0 ~ 255 사이의 값을 가지고 있는 상태이다"
   ]
  },
  {
   "cell_type": "markdown",
   "id": "2be19f99",
   "metadata": {},
   "source": [
    "##### Scaling"
   ]
  },
  {
   "cell_type": "code",
   "execution_count": 24,
   "id": "fff2d672",
   "metadata": {
    "ExecuteTime": {
     "end_time": "2023-10-06T08:49:12.278932Z",
     "start_time": "2023-10-06T08:49:12.272918Z"
    }
   },
   "outputs": [],
   "source": [
    "# 픽셀이 0 ~ 255 값인데 0 ~ 1 사이의 값을 갖도록 (원래 255 범위에 색, 밝기 등이 다 포함된 것)\n",
    "def scale(x):\n",
    "    \"\"\"\n",
    "    Make pixels within 0 ~ 1\n",
    "    \n",
    "    return \n",
    "        scaled image (dtype=float32)\n",
    "    \"\"\"\n",
    "    return (x / 255.0).astype(np.float32)\n"
   ]
  },
  {
   "cell_type": "code",
   "execution_count": 34,
   "id": "b2d915e2",
   "metadata": {
    "ExecuteTime": {
     "end_time": "2023-10-06T08:52:33.665320Z",
     "start_time": "2023-10-06T08:52:32.395986Z"
    }
   },
   "outputs": [
    {
     "name": "stdout",
     "output_type": "stream",
     "text": [
      "1.0\n"
     ]
    },
    {
     "name": "stderr",
     "output_type": "stream",
     "text": [
      "C:\\Users\\Sam\\miniconda3\\envs\\gpu\\lib\\site-packages\\seaborn\\axisgrid.py:118: UserWarning: The figure layout has changed to tight\n",
      "  self._figure.tight_layout(*args, **kwargs)\n"
     ]
    },
    {
     "data": {
      "image/png": "[encoded data removed]",
      "text/plain": [
       "<Figure size 567.75x500 with 1 Axes>"
      ]
     },
     "metadata": {},
     "output_type": "display_data"
    }
   ],
   "source": [
    "# unit test\n",
    "sample = scale(validated_train_x[777])\n",
    "print(sample.max())\n",
    "\n",
    "#sns.displot(sample.reshape(-1), kde=False)\n",
    "sns.displot(sample)\n",
    "plt.show()"
   ]
  },
  {
   "cell_type": "code",
   "execution_count": 35,
   "id": "19343c5f",
   "metadata": {
    "ExecuteTime": {
     "end_time": "2023-10-06T08:52:54.035369Z",
     "start_time": "2023-10-06T08:52:54.019911Z"
    }
   },
   "outputs": [
    {
     "data": {
      "text/plain": [
       "(28, 28)"
      ]
     },
     "execution_count": 35,
     "metadata": {},
     "output_type": "execute_result"
    }
   ],
   "source": [
    "sample.shape"
   ]
  },
  {
   "cell_type": "code",
   "execution_count": 36,
   "id": "56aab002",
   "metadata": {
    "ExecuteTime": {
     "end_time": "2023-10-06T08:52:55.317963Z",
     "start_time": "2023-10-06T08:52:54.538732Z"
    }
   },
   "outputs": [],
   "source": [
    "scaled_train_x = np.array([scale(x) for x in validated_train_x])"
   ]
  },
  {
   "cell_type": "code",
   "execution_count": 37,
   "id": "8730eab9",
   "metadata": {
    "ExecuteTime": {
     "end_time": "2023-10-06T08:52:55.792077Z",
     "start_time": "2023-10-06T08:52:55.786083Z"
    }
   },
   "outputs": [
    {
     "name": "stdout",
     "output_type": "stream",
     "text": [
      "(60000, 28, 28) float32\n"
     ]
    }
   ],
   "source": [
    "print(scaled_train_x.shape, scaled_train_x.dtype)"
   ]
  },
  {
   "cell_type": "markdown",
   "id": "6a003baa",
   "metadata": {},
   "source": [
    "##### Flattening\n",
    "\n",
    " - 이번에 사용할 모델은 기본적인 Feed-Forward Neural Network\n",
    " - 1차원 벡터가 Input의 샘플 하나가 된다. (2차원 텐서라는 말)"
   ]
  },
  {
   "cell_type": "code",
   "execution_count": 38,
   "id": "997dc318",
   "metadata": {
    "ExecuteTime": {
     "end_time": "2023-10-06T08:53:00.145596Z",
     "start_time": "2023-10-06T08:53:00.127395Z"
    }
   },
   "outputs": [],
   "source": [
    "flattend_train_x = train_x.reshape((60000, -1))"
   ]
  },
  {
   "cell_type": "code",
   "execution_count": 39,
   "id": "8bad7367",
   "metadata": {
    "ExecuteTime": {
     "end_time": "2023-10-06T08:53:01.282087Z",
     "start_time": "2023-10-06T08:53:01.265913Z"
    }
   },
   "outputs": [
    {
     "data": {
      "text/plain": [
       "(60000, 784)"
      ]
     },
     "execution_count": 39,
     "metadata": {},
     "output_type": "execute_result"
    }
   ],
   "source": [
    "flattend_train_x.shape"
   ]
  },
  {
   "cell_type": "markdown",
   "id": "a8db62cd",
   "metadata": {},
   "source": [
    "##### Label encoding\n",
    "\n",
    " - One-Hot encoding\n",
    " - `tf.keras.utils.to_categorical` 사용! "
   ]
  },
  {
   "cell_type": "code",
   "execution_count": 40,
   "id": "dfa126d5",
   "metadata": {
    "ExecuteTime": {
     "end_time": "2023-10-06T08:53:04.574580Z",
     "start_time": "2023-10-06T08:53:04.565490Z"
    }
   },
   "outputs": [
    {
     "data": {
      "text/plain": [
       "1"
      ]
     },
     "execution_count": 40,
     "metadata": {},
     "output_type": "execute_result"
    }
   ],
   "source": [
    "validated_train_y[77]"
   ]
  },
  {
   "cell_type": "code",
   "execution_count": 41,
   "id": "bcb53622",
   "metadata": {
    "ExecuteTime": {
     "end_time": "2023-10-06T08:53:05.092319Z",
     "start_time": "2023-10-06T08:53:05.079341Z"
    }
   },
   "outputs": [
    {
     "data": {
      "text/plain": [
       "array([0., 1., 0., 0., 0., 0., 0., 0., 0., 0.], dtype=float32)"
      ]
     },
     "execution_count": 41,
     "metadata": {},
     "output_type": "execute_result"
    }
   ],
   "source": [
    "tf.keras.utils.to_categorical(validated_train_y[77], num_classes=10)"
   ]
  },
  {
   "cell_type": "code",
   "execution_count": 42,
   "id": "568dbcdd",
   "metadata": {
    "ExecuteTime": {
     "end_time": "2023-10-06T08:53:07.895343Z",
     "start_time": "2023-10-06T08:53:07.223178Z"
    }
   },
   "outputs": [],
   "source": [
    "ohe_train_y = np.array([tf.keras.utils.to_categorical(y, num_classes=10) for y in validated_train_y])"
   ]
  },
  {
   "cell_type": "code",
   "execution_count": 43,
   "id": "a09000e7",
   "metadata": {
    "ExecuteTime": {
     "end_time": "2023-10-06T08:53:25.563859Z",
     "start_time": "2023-10-06T08:53:25.540779Z"
    }
   },
   "outputs": [
    {
     "data": {
      "text/plain": [
       "(60000, 10)"
      ]
     },
     "execution_count": 43,
     "metadata": {},
     "output_type": "execute_result"
    }
   ],
   "source": [
    "ohe_train_y.shape"
   ]
  },
  {
   "cell_type": "markdown",
   "id": "e531ec05",
   "metadata": {},
   "source": [
    "### 보통은 큰 작업을 하나의 클래스로 만들어서 관리한다. \n"
   ]
  },
  {
   "cell_type": "code",
   "execution_count": 44,
   "id": "d1aa5977",
   "metadata": {
    "ExecuteTime": {
     "end_time": "2023-10-06T08:54:38.623168Z",
     "start_time": "2023-10-06T08:54:38.606198Z"
    }
   },
   "outputs": [],
   "source": [
    "class DataLoader():\n",
    "    def __init__(self): # init = 클래스 실행시 자동으로 실행되는 함수\n",
    "        # data load\n",
    "        (self.train_x, self.train_y), \\\n",
    "            (self.test_x, self.test_y) = tf.keras.datasets.mnist.load_data()\n",
    "\n",
    "    def validate_pixel_scale(self, x):\n",
    "\n",
    "        return 255 >= x.max() and 0 <= x.min()\n",
    "\n",
    "    def scale(self, x):\n",
    "        \"\"\"\n",
    "        Make pixels within 0 ~ 1\n",
    "\n",
    "        return \n",
    "            scaled image (dtype=float32)\n",
    "        \"\"\"\n",
    "        return (x / 255.0).astype(np.float32)\n",
    "\n",
    "    def preprocess_dataset(self, dataset):\n",
    "        \"\"\"\n",
    "        feature \n",
    "            shape : (num_data, 28, 28)\n",
    "        target \n",
    "            shape : (num_data,)\n",
    "\n",
    "        return \n",
    "            feature \n",
    "                shape : (num_data, 28, 28)\n",
    "            target \n",
    "                shape : (num_data,)\n",
    "        \"\"\"\n",
    "        (feature, target) = dataset\n",
    "\n",
    "        validated_x = np.array(\n",
    "            [x for x in feature if self.validate_pixel_scale(x)])\n",
    "\n",
    "        validated_y = np.array([y for x, y in zip(feature, target)\n",
    "                                if self.validate_pixel_scale(x)])\n",
    "\n",
    "        # scaling #\n",
    "        scaled_x = np.array([self.scale(x) for x in validated_x])\n",
    "\n",
    "        # flattening #\n",
    "        flattend_x = scaled_x.reshape((scaled_x.shape[0], -1))\n",
    "\n",
    "        # label encoding #\n",
    "        ohe_y = np.array([tf.keras.utils.to_categorical(\n",
    "            y, num_classes=10) for y in validated_y])\n",
    "        \n",
    "        return flattend_x, ohe_y\n",
    "\n",
    "    def get_train_dataset(self):\n",
    "        return self.preprocess_dataset((self.train_x, self.train_y))\n",
    "\n",
    "    def get_test_dataset(self):\n",
    "        return self.preprocess_dataset((self.test_x, self.test_y))"
   ]
  },
  {
   "cell_type": "code",
   "execution_count": 48,
   "id": "4714b8ef",
   "metadata": {
    "ExecuteTime": {
     "end_time": "2023-10-06T08:57:41.622439Z",
     "start_time": "2023-10-06T08:57:41.380956Z"
    }
   },
   "outputs": [],
   "source": [
    "mnist_loader = DataLoader() # 구현 함수 사용"
   ]
  },
  {
   "cell_type": "code",
   "execution_count": 49,
   "id": "4ef2daba",
   "metadata": {
    "ExecuteTime": {
     "end_time": "2023-10-06T08:57:44.473218Z",
     "start_time": "2023-10-06T08:57:42.039416Z"
    }
   },
   "outputs": [],
   "source": [
    "train_x, train_y = mnist_loader.get_train_dataset()"
   ]
  },
  {
   "cell_type": "code",
   "execution_count": 50,
   "id": "67101df4",
   "metadata": {
    "ExecuteTime": {
     "end_time": "2023-10-06T08:57:45.104140Z",
     "start_time": "2023-10-06T08:57:45.098150Z"
    }
   },
   "outputs": [
    {
     "name": "stdout",
     "output_type": "stream",
     "text": [
      "(60000, 784) float32\n",
      "(60000, 10) float32\n"
     ]
    }
   ],
   "source": [
    "print(train_x.shape, train_x.dtype)\n",
    "print(train_y.shape, train_y.dtype)"
   ]
  },
  {
   "cell_type": "code",
   "execution_count": 51,
   "id": "ff0cbf1b",
   "metadata": {
    "ExecuteTime": {
     "end_time": "2023-10-06T08:57:46.072605Z",
     "start_time": "2023-10-06T08:57:45.648868Z"
    }
   },
   "outputs": [],
   "source": [
    "test_x, test_y = mnist_loader.get_test_dataset()"
   ]
  },
  {
   "cell_type": "code",
   "execution_count": 52,
   "id": "a05e19d8",
   "metadata": {
    "ExecuteTime": {
     "end_time": "2023-10-06T08:57:46.586782Z",
     "start_time": "2023-10-06T08:57:46.567592Z"
    }
   },
   "outputs": [
    {
     "name": "stdout",
     "output_type": "stream",
     "text": [
      "(10000, 784) float32\n",
      "(10000, 10) float32\n"
     ]
    }
   ],
   "source": [
    "print(test_x.shape, test_x.dtype)\n",
    "print(test_y.shape, test_y.dtype)"
   ]
  },
  {
   "cell_type": "code",
   "execution_count": null,
   "id": "160ec5a6",
   "metadata": {},
   "outputs": [],
   "source": []
  },
  {
   "cell_type": "markdown",
   "id": "6cd8c289",
   "metadata": {},
   "source": [
    "## 3. Modeling\n",
    " 1. 모델 정의 \n",
    " 2. 학습 로직 - 비용함수, 학습파라미터 세팅\n",
    " 3. 학습\n"
   ]
  },
  {
   "cell_type": "markdown",
   "id": "8399e8fd",
   "metadata": {},
   "source": [
    "#### 모델 정의"
   ]
  },
  {
   "cell_type": "code",
   "execution_count": 53,
   "id": "0c5e7f5b",
   "metadata": {
    "ExecuteTime": {
     "end_time": "2023-10-06T08:58:56.959302Z",
     "start_time": "2023-10-06T08:58:56.929130Z"
    }
   },
   "outputs": [],
   "source": [
    "from tensorflow.keras.layers import Dense, Activation"
   ]
  },
  {
   "cell_type": "markdown",
   "id": "d4f3797a",
   "metadata": {},
   "source": [
    "Dense란 신경망 구조의 가장 기본적인 형태를 의미한다. \n",
    "\n",
    "Dense는 위 수식을 만적하는 기본적인 신경망 형태의 층을 만드는 함수이다. \n",
    "\n",
    "이때 x는 입력 벡터, b는 편향 벡터이며 W는 가중치 행렬이 된다. 입력에 가중치를 곱하고 편향을 더한 뒤 f라는 활성화 함수를 적용하는 구조다."
   ]
  },
  {
   "cell_type": "code",
   "execution_count": 57,
   "id": "c16ad047",
   "metadata": {
    "ExecuteTime": {
     "end_time": "2023-10-06T09:01:14.944174Z",
     "start_time": "2023-10-06T09:01:14.904116Z"
    }
   },
   "outputs": [],
   "source": [
    "model = tf.keras.Sequential()\n",
    "model.add(Dense(15, input_dim=784))\n",
    "model.add(Activation('sigmoid')) # 이진 분류\n",
    "model.add(Dense(10))\n",
    "model.add(Activation('softmax')) # 다중 분류"
   ]
  },
  {
   "cell_type": "code",
   "execution_count": 58,
   "id": "955168e3",
   "metadata": {
    "ExecuteTime": {
     "end_time": "2023-10-06T09:01:15.477918Z",
     "start_time": "2023-10-06T09:01:15.452677Z"
    }
   },
   "outputs": [
    {
     "name": "stdout",
     "output_type": "stream",
     "text": [
      "Model: \"sequential_2\"\n",
      "_________________________________________________________________\n",
      " Layer (type)                Output Shape              Param #   \n",
      "=================================================================\n",
      " dense_4 (Dense)             (None, 15)                11775     \n",
      "                                                                 \n",
      " activation_4 (Activation)   (None, 15)                0         \n",
      "                                                                 \n",
      " dense_5 (Dense)             (None, 10)                160       \n",
      "                                                                 \n",
      " activation_5 (Activation)   (None, 10)                0         \n",
      "                                                                 \n",
      "=================================================================\n",
      "Total params: 11,935\n",
      "Trainable params: 11,935\n",
      "Non-trainable params: 0\n",
      "_________________________________________________________________\n"
     ]
    }
   ],
   "source": [
    "model.summary()"
   ]
  },
  {
   "cell_type": "markdown",
   "id": "1846dd6a",
   "metadata": {},
   "source": [
    "#### 학습 로직"
   ]
  },
  {
   "cell_type": "code",
   "execution_count": 59,
   "id": "01e9ea95",
   "metadata": {
    "ExecuteTime": {
     "end_time": "2023-10-06T09:02:11.168896Z",
     "start_time": "2023-10-06T09:02:11.158883Z"
    }
   },
   "outputs": [],
   "source": [
    "learning_rate = 0.03\n",
    "opt = tf.keras.optimizers.SGD(learning_rate)\n",
    "loss = tf.keras.losses.categorical_crossentropy # 다중분류에서 많이 사용하는 손실함수"
   ]
  },
  {
   "cell_type": "code",
   "execution_count": 60,
   "id": "7ef109e3",
   "metadata": {
    "ExecuteTime": {
     "end_time": "2023-10-06T09:02:12.173058Z",
     "start_time": "2023-10-06T09:02:12.147878Z"
    }
   },
   "outputs": [],
   "source": [
    "model.compile(optimizer=opt, loss=loss, metrics=[\"accuracy\"])"
   ]
  },
  {
   "cell_type": "markdown",
   "id": "99f12458",
   "metadata": {},
   "source": [
    "#### 학습 실행"
   ]
  },
  {
   "cell_type": "code",
   "execution_count": 61,
   "id": "100d00a8",
   "metadata": {
    "ExecuteTime": {
     "end_time": "2023-10-06T09:02:22.214130Z",
     "start_time": "2023-10-06T09:02:22.197805Z"
    }
   },
   "outputs": [],
   "source": [
    "batch_size = 128 # default == 32\n",
    "epochs = 10"
   ]
  },
  {
   "cell_type": "code",
   "execution_count": 62,
   "id": "db72ef29",
   "metadata": {
    "ExecuteTime": {
     "end_time": "2023-10-06T09:03:34.956691Z",
     "start_time": "2023-10-06T09:03:01.534299Z"
    }
   },
   "outputs": [
    {
     "name": "stdout",
     "output_type": "stream",
     "text": [
      "Epoch 1/10\n",
      "469/469 [==============================] - 6s 7ms/step - loss: 1.9418 - accuracy: 0.5738\n",
      "Epoch 2/10\n",
      "469/469 [==============================] - 3s 7ms/step - loss: 1.3394 - accuracy: 0.7731\n",
      "Epoch 3/10\n",
      "469/469 [==============================] - 3s 6ms/step - loss: 0.9725 - accuracy: 0.8219\n",
      "Epoch 4/10\n",
      "469/469 [==============================] - 3s 6ms/step - loss: 0.7763 - accuracy: 0.8458\n",
      "Epoch 5/10\n",
      "469/469 [==============================] - 3s 6ms/step - loss: 0.6614 - accuracy: 0.8601\n",
      "Epoch 6/10\n",
      "469/469 [==============================] - 3s 6ms/step - loss: 0.5861 - accuracy: 0.8692\n",
      "Epoch 7/10\n",
      "469/469 [==============================] - 3s 6ms/step - loss: 0.5328 - accuracy: 0.8765\n",
      "Epoch 8/10\n",
      "469/469 [==============================] - 3s 7ms/step - loss: 0.4930 - accuracy: 0.8829\n",
      "Epoch 9/10\n",
      "469/469 [==============================] - 3s 7ms/step - loss: 0.4622 - accuracy: 0.8875\n",
      "Epoch 10/10\n",
      "469/469 [==============================] - 3s 6ms/step - loss: 0.4378 - accuracy: 0.8914\n"
     ]
    }
   ],
   "source": [
    "hist = model.fit(train_x,\n",
    "                 train_y,\n",
    "                 batch_size=batch_size,\n",
    "                 epochs=epochs)"
   ]
  },
  {
   "cell_type": "code",
   "execution_count": 64,
   "id": "39c0ebdb",
   "metadata": {
    "ExecuteTime": {
     "end_time": "2023-10-06T09:04:19.579992Z",
     "start_time": "2023-10-06T09:04:19.559007Z"
    }
   },
   "outputs": [
    {
     "data": {
      "text/plain": [
       "[1.9417856931686401,\n",
       " 1.3393585681915283,\n",
       " 0.9724535942077637,\n",
       " 0.7762719988822937,\n",
       " 0.6613835096359253,\n",
       " 0.586127758026123,\n",
       " 0.5328056812286377,\n",
       " 0.49300140142440796,\n",
       " 0.4622190296649933,\n",
       " 0.4377589821815491]"
      ]
     },
     "execution_count": 64,
     "metadata": {},
     "output_type": "execute_result"
    }
   ],
   "source": [
    "hist.history['loss']"
   ]
  },
  {
   "cell_type": "code",
   "execution_count": 65,
   "id": "0cac84dd",
   "metadata": {
    "ExecuteTime": {
     "end_time": "2023-10-06T09:04:24.949617Z",
     "start_time": "2023-10-06T09:04:24.936631Z"
    }
   },
   "outputs": [
    {
     "data": {
      "text/plain": [
       "[0.5738166570663452,\n",
       " 0.7730833292007446,\n",
       " 0.8218666911125183,\n",
       " 0.8457833528518677,\n",
       " 0.8600500226020813,\n",
       " 0.8692499995231628,\n",
       " 0.8765333294868469,\n",
       " 0.8828999996185303,\n",
       " 0.8875333070755005,\n",
       " 0.8913999795913696]"
      ]
     },
     "execution_count": 65,
     "metadata": {},
     "output_type": "execute_result"
    }
   ],
   "source": [
    "hist.history['accuracy']"
   ]
  },
  {
   "cell_type": "markdown",
   "id": "45c34c13",
   "metadata": {},
   "source": [
    "## 4. Evaluation \n",
    "    - 학습 과정 추적 \n",
    "    - Test / 모델 검증\n",
    "    - 후처리"
   ]
  },
  {
   "cell_type": "markdown",
   "id": "9b725a2d",
   "metadata": {},
   "source": [
    "##### 학습 과정 추적"
   ]
  },
  {
   "cell_type": "code",
   "execution_count": 66,
   "id": "1ad7098d",
   "metadata": {
    "ExecuteTime": {
     "end_time": "2023-10-06T09:04:51.048357Z",
     "start_time": "2023-10-06T09:04:49.936319Z"
    }
   },
   "outputs": [
    {
     "data": {
      "image/png": "[encoded data removed]",
      "text/plain": [
       "<Figure size 1000x500 with 2 Axes>"
      ]
     },
     "metadata": {},
     "output_type": "display_data"
    }
   ],
   "source": [
    "plt.figure(figsize=(10, 5))\n",
    "\n",
    "plt.subplot(121)\n",
    "plt.plot(hist.history['loss'])\n",
    "plt.title(\"loss\")\n",
    "plt.ylabel(\"loss\")\n",
    "\n",
    "plt.subplot(122)\n",
    "plt.plot(hist.history['accuracy'], 'b-')\n",
    "plt.title(\"acc\")\n",
    "plt.ylabel(\"acc\")\n",
    "\n",
    "plt.tight_layout()\n",
    "plt.show()"
   ]
  },
  {
   "cell_type": "markdown",
   "id": "12c26b73",
   "metadata": {},
   "source": [
    "- 위에 처럼 나오면 다시 학습을 하는 것을 추천한다.\n",
    "- 수렴구간이 보여야 하기 때문\n",
    "\n",
    "- epoch를 늘려봐라"
   ]
  },
  {
   "cell_type": "markdown",
   "id": "5f4bf22c",
   "metadata": {},
   "source": [
    "##### 모델 검증"
   ]
  },
  {
   "cell_type": "code",
   "execution_count": 67,
   "id": "61edf914",
   "metadata": {
    "ExecuteTime": {
     "end_time": "2023-10-06T09:05:42.489062Z",
     "start_time": "2023-10-06T09:05:40.510491Z"
    }
   },
   "outputs": [
    {
     "name": "stdout",
     "output_type": "stream",
     "text": [
      "313/313 [==============================] - 2s 5ms/step - loss: 0.4100 - accuracy: 0.8986\n"
     ]
    },
    {
     "data": {
      "text/plain": [
       "[0.40995630621910095, 0.8985999822616577]"
      ]
     },
     "execution_count": 67,
     "metadata": {},
     "output_type": "execute_result"
    }
   ],
   "source": [
    "model.evaluate(test_x, test_y)"
   ]
  },
  {
   "cell_type": "code",
   "execution_count": null,
   "id": "c653e426",
   "metadata": {},
   "outputs": [],
   "source": []
  },
  {
   "cell_type": "markdown",
   "id": "21567ce4",
   "metadata": {},
   "source": [
    "##### 후처리"
   ]
  },
  {
   "cell_type": "code",
   "execution_count": 68,
   "id": "8432b08d",
   "metadata": {
    "ExecuteTime": {
     "end_time": "2023-10-06T09:06:04.302064Z",
     "start_time": "2023-10-06T09:06:04.282903Z"
    }
   },
   "outputs": [
    {
     "data": {
      "text/plain": [
       "(1, 784)"
      ]
     },
     "execution_count": 68,
     "metadata": {},
     "output_type": "execute_result"
    }
   ],
   "source": [
    "test_x[:1].shape"
   ]
  },
  {
   "cell_type": "code",
   "execution_count": 70,
   "id": "9b979407",
   "metadata": {
    "ExecuteTime": {
     "end_time": "2023-10-06T09:07:00.734065Z",
     "start_time": "2023-10-06T09:07:00.590166Z"
    }
   },
   "outputs": [
    {
     "name": "stdout",
     "output_type": "stream",
     "text": [
      "1/1 [==============================] - 0s 90ms/step\n"
     ]
    },
    {
     "data": {
      "text/plain": [
       "array([[4.7218011e-04, 1.4655937e-03, 2.0217872e-03, 1.9672364e-02,\n",
       "        2.6447389e-03, 2.1667031e-03, 9.9860488e-05, 9.4043779e-01,\n",
       "        4.0081987e-04, 3.0618196e-02]], dtype=float32)"
      ]
     },
     "execution_count": 70,
     "metadata": {},
     "output_type": "execute_result"
    }
   ],
   "source": [
    "prediction_sample = model.predict(test_x[:1])\n",
    "prediction_sample"
   ]
  },
  {
   "cell_type": "markdown",
   "id": "53d2a25d",
   "metadata": {},
   "source": [
    "예측값은 0 ~ 9사이의 확률 값이다.\n",
    "\n",
    "즉, 원핫인코딩 필요 ( 가장 확률 값이 큰 값으로 후처리를 해줘야 한다.)"
   ]
  },
  {
   "cell_type": "code",
   "execution_count": 71,
   "id": "7fd4dedd",
   "metadata": {
    "ExecuteTime": {
     "end_time": "2023-10-06T09:07:02.082025Z",
     "start_time": "2023-10-06T09:07:02.064108Z"
    }
   },
   "outputs": [
    {
     "data": {
      "text/plain": [
       "7"
      ]
     },
     "execution_count": 71,
     "metadata": {},
     "output_type": "execute_result"
    }
   ],
   "source": [
    "np.argmax(prediction_sample)"
   ]
  },
  {
   "cell_type": "code",
   "execution_count": 72,
   "id": "d5812acb",
   "metadata": {
    "ExecuteTime": {
     "end_time": "2023-10-06T09:07:02.878872Z",
     "start_time": "2023-10-06T09:07:02.871837Z"
    }
   },
   "outputs": [],
   "source": [
    "sample_image = test_x[0].reshape((28, 28)) * 255 \n",
    "#sample_image = test_x[0].reshape((28, 28))"
   ]
  },
  {
   "cell_type": "code",
   "execution_count": 74,
   "id": "4dce3ae0",
   "metadata": {
    "ExecuteTime": {
     "end_time": "2023-10-06T09:08:13.243786Z",
     "start_time": "2023-10-06T09:08:13.232744Z"
    }
   },
   "outputs": [
    {
     "data": {
      "text/plain": [
       "array([0., 0., 0., 0., 0., 0., 0., 1., 0., 0.], dtype=float32)"
      ]
     },
     "execution_count": 74,
     "metadata": {},
     "output_type": "execute_result"
    }
   ],
   "source": [
    "test_y[0]"
   ]
  },
  {
   "cell_type": "code",
   "execution_count": 73,
   "id": "4873504b",
   "metadata": {
    "ExecuteTime": {
     "end_time": "2023-10-06T09:07:04.278273Z",
     "start_time": "2023-10-06T09:07:04.119852Z"
    }
   },
   "outputs": [
    {
     "data": {
      "image/png": "[encoded data removed]",
      "text/plain": [
       "<Figure size 640x480 with 1 Axes>"
      ]
     },
     "metadata": {},
     "output_type": "display_data"
    }
   ],
   "source": [
    "plt.imshow(sample_image)\n",
    "plt.show()"
   ]
  },
  {
   "cell_type": "code",
   "execution_count": null,
   "id": "b2f0cc1b",
   "metadata": {},
   "outputs": [],
   "source": []
  },
  {
   "cell_type": "code",
   "execution_count": null,
   "id": "ceebf587",
   "metadata": {},
   "outputs": [],
   "source": []
  }
 ],
 "metadata": {
  "kernelspec": {
   "display_name": "Python 3 (ipykernel)",
   "language": "python",
   "name": "python3"
  },
  "language_info": {
   "codemirror_mode": {
    "name": "ipython",
    "version": 3
   },
   "file_extension": ".py",
   "mimetype": "text/x-python",
   "name": "python",
   "nbconvert_exporter": "python",
   "pygments_lexer": "ipython3",
   "version": "3.8.18"
  },
  "varInspector": {
   "cols": {
    "lenName": 16,
    "lenType": 16,
    "lenVar": 40
   },
   "kernels_config": {
    "python": {
     "delete_cmd_postfix": "",
     "delete_cmd_prefix": "del ",
     "library": "var_list.py",
     "varRefreshCmd": "print(var_dic_list())"
    },
    "r": {
     "delete_cmd_postfix": ") ",
     "delete_cmd_prefix": "rm(",
     "library": "var_list.r",
     "varRefreshCmd": "cat(var_dic_list()) "
    }
   },
   "types_to_exclude": [
    "module",
    "function",
    "builtin_function_or_method",
    "instance",
    "_Feature"
   ],
   "window_display": false
  }
 },
 "nbformat": 4,
 "nbformat_minor": 5
}
