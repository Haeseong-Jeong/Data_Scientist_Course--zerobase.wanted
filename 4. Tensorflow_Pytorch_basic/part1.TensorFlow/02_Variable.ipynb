{
 "cells": [
  {
   "cell_type": "markdown",
   "id": "88433c9f",
   "metadata": {},
   "source": [
    "# Variable"
   ]
  },
  {
   "cell_type": "code",
   "execution_count": 3,
   "id": "9b6d30eb",
   "metadata": {
    "ExecuteTime": {
     "end_time": "2023-10-05T06:48:30.696226Z",
     "start_time": "2023-10-05T06:48:30.690239Z"
    }
   },
   "outputs": [],
   "source": [
    "import tensorflow as tf\n",
    "import numpy as np"
   ]
  },
  {
   "cell_type": "markdown",
   "id": "196dae0f",
   "metadata": {},
   "source": [
    "<h4> Variable (변수)</h4>"
   ]
  },
  {
   "cell_type": "markdown",
   "id": "a1dca53d",
   "metadata": {},
   "source": [
    "- 변수는 공간....\n",
    "- 미지수, 가중치를 정의할 때 사용\n",
    "- 직접 사용할 일이 많지는 않음\n",
    "\n",
    "- 변수 정의는 변수 생성 + 초기화"
   ]
  },
  {
   "cell_type": "code",
   "execution_count": 4,
   "id": "44de8242",
   "metadata": {
    "ExecuteTime": {
     "end_time": "2023-10-05T06:48:35.441714Z",
     "start_time": "2023-10-05T06:48:32.191675Z"
    }
   },
   "outputs": [
    {
     "name": "stdout",
     "output_type": "stream",
     "text": [
      "<tf.Variable 'Variable:0' shape=(2, 2) dtype=float32, numpy=\n",
      "array([[1., 2.],\n",
      "       [3., 4.]], dtype=float32)>\n",
      "<tf.Variable 'Variable:0' shape=(2, 2) dtype=int32, numpy=\n",
      "array([[1, 2],\n",
      "       [3, 4]])>\n",
      "<tf.Variable 'Variable:0' shape=(2, 2) dtype=int32, numpy=\n",
      "array([[1, 2],\n",
      "       [3, 4]])>\n"
     ]
    }
   ],
   "source": [
    "tensor = tf.constant([[1.0, 2.0], [3.0, 4.0]])\n",
    "arr = np.array([[1, 2], [3, 4]])\n",
    "li = [[1, 2], [3, 4]]\n",
    "\n",
    "te_var = tf.Variable(tensor)\n",
    "arr_var = tf.Variable(arr)\n",
    "li_var = tf.Variable(li)\n",
    "\n",
    "print(te_var)\n",
    "print(arr_var)\n",
    "print(li_var)"
   ]
  },
  {
   "cell_type": "markdown",
   "id": "4d3ee3ca",
   "metadata": {},
   "source": [
    "- Constant와 같이 기본 속성값이 들어있음. "
   ]
  },
  {
   "cell_type": "code",
   "execution_count": 7,
   "id": "ecbc082f",
   "metadata": {
    "ExecuteTime": {
     "end_time": "2023-10-05T06:50:42.906336Z",
     "start_time": "2023-10-05T06:50:42.883757Z"
    }
   },
   "outputs": [
    {
     "name": "stdout",
     "output_type": "stream",
     "text": [
      "Shape:  (2, 2)\n",
      "--------------------------------------------\n",
      "DType:  <dtype: 'float32'>\n",
      "--------------------------------------------\n",
      "As NumPy:  <bound method BaseResourceVariable.numpy of <tf.Variable 'Variable:0' shape=(2, 2) dtype=float32, numpy=\n",
      "array([[1., 2.],\n",
      "       [3., 4.]], dtype=float32)>>\n",
      "--------------------------------------------\n",
      "As NumPy:  [[1. 2.]\n",
      " [3. 4.]]\n"
     ]
    }
   ],
   "source": [
    "print(\"Shape: \", te_var.shape)\n",
    "print('--------------------------------------------')\n",
    "print(\"DType: \", te_var.dtype)\n",
    "print('--------------------------------------------')\n",
    "print(\"As NumPy: \", te_var.numpy)\n",
    "print('--------------------------------------------')\n",
    "print(\"As NumPy: \", te_var.numpy())"
   ]
  },
  {
   "cell_type": "code",
   "execution_count": null,
   "id": "722c9dc9",
   "metadata": {},
   "outputs": [],
   "source": []
  },
  {
   "cell_type": "markdown",
   "id": "99a266fa",
   "metadata": {},
   "source": [
    "### 변수는 기존 텐서의 메모리를 재사용하여 텐서를 재할당 할 수 있다.\n",
    "- assign으로 재할당\n"
   ]
  },
  {
   "cell_type": "code",
   "execution_count": 8,
   "id": "0b93f357",
   "metadata": {
    "ExecuteTime": {
     "end_time": "2023-10-05T06:51:25.005515Z",
     "start_time": "2023-10-05T06:51:24.956044Z"
    }
   },
   "outputs": [
    {
     "name": "stdout",
     "output_type": "stream",
     "text": [
      "First :  <tf.Variable 'Variable:0' shape=(2,) dtype=float32, numpy=array([2., 3.], dtype=float32)> \n",
      "\n",
      "Second :  <tf.Variable 'Variable:0' shape=(2,) dtype=float32, numpy=array([1., 2.], dtype=float32)> \n",
      "\n"
     ]
    }
   ],
   "source": [
    "a = tf.Variable([2.0, 3.0])\n",
    "print(\"First : \", a, \"\\n\")\n",
    "\n",
    "a.assign([1, 2]) # 정수형을 넣어도 처음 초기자료형인 float형으로 반환함\n",
    "print(\"Second : \", a, \"\\n\")\n"
   ]
  },
  {
   "cell_type": "code",
   "execution_count": 9,
   "id": "be2ef9d3",
   "metadata": {
    "ExecuteTime": {
     "end_time": "2023-10-05T06:52:16.445124Z",
     "start_time": "2023-10-05T06:52:16.427484Z"
    }
   },
   "outputs": [],
   "source": [
    "# 기존 메모리의 크기와 다르면 할당 할 수 없음! \n",
    "# a.assign([1.0, 2.0, 3.0]) "
   ]
  },
  {
   "cell_type": "code",
   "execution_count": null,
   "id": "3a66b0f1",
   "metadata": {},
   "outputs": [],
   "source": []
  }
 ],
 "metadata": {
  "kernelspec": {
   "display_name": "Python 3 (ipykernel)",
   "language": "python",
   "name": "python3"
  },
  "language_info": {
   "codemirror_mode": {
    "name": "ipython",
    "version": 3
   },
   "file_extension": ".py",
   "mimetype": "text/x-python",
   "name": "python",
   "nbconvert_exporter": "python",
   "pygments_lexer": "ipython3",
   "version": "3.8.18"
  },
  "toc": {
   "base_numbering": 1,
   "nav_menu": {},
   "number_sections": true,
   "sideBar": true,
   "skip_h1_title": false,
   "title_cell": "Table of Contents",
   "title_sidebar": "Contents",
   "toc_cell": false,
   "toc_position": {
    "height": "calc(100% - 180px)",
    "left": "10px",
    "top": "150px",
    "width": "205.312px"
   },
   "toc_section_display": true,
   "toc_window_display": true
  },
  "varInspector": {
   "cols": {
    "lenName": 16,
    "lenType": 16,
    "lenVar": 40
   },
   "kernels_config": {
    "python": {
     "delete_cmd_postfix": "",
     "delete_cmd_prefix": "del ",
     "library": "var_list.py",
     "varRefreshCmd": "print(var_dic_list())"
    },
    "r": {
     "delete_cmd_postfix": ") ",
     "delete_cmd_prefix": "rm(",
     "library": "var_list.r",
     "varRefreshCmd": "cat(var_dic_list()) "
    }
   },
   "types_to_exclude": [
    "module",
    "function",
    "builtin_function_or_method",
    "instance",
    "_Feature"
   ],
   "window_display": false
  }
 },
 "nbformat": 4,
 "nbformat_minor": 5
}
