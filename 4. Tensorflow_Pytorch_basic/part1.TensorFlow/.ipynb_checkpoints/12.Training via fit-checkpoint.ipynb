{
 "cells": [
  {
   "cell_type": "markdown",
   "id": "f9da32fd",
   "metadata": {},
   "source": [
    "# Training"
   ]
  },
  {
   "cell_type": "code",
   "execution_count": 1,
   "id": "32fb3f37",
   "metadata": {
    "ExecuteTime": {
     "end_time": "2023-10-11T06:15:19.778922Z",
     "start_time": "2023-10-11T06:15:13.887085Z"
    }
   },
   "outputs": [],
   "source": [
    "import numpy as np\n",
    "import pandas as pd\n",
    "import tensorflow as tf\n",
    "\n",
    "import matplotlib.pyplot as plt\n",
    "import seaborn as sns\n",
    "%matplotlib inline"
   ]
  },
  {
   "cell_type": "code",
   "execution_count": 2,
   "id": "5c40f4a5",
   "metadata": {
    "ExecuteTime": {
     "end_time": "2023-10-11T06:15:20.988205Z",
     "start_time": "2023-10-11T06:15:20.970030Z"
    }
   },
   "outputs": [],
   "source": [
    "np.random.seed(7777)\n",
    "tf.random.set_seed(7777)"
   ]
  },
  {
   "cell_type": "code",
   "execution_count": 3,
   "id": "cfbead7a",
   "metadata": {
    "ExecuteTime": {
     "end_time": "2023-10-11T06:15:26.890405Z",
     "start_time": "2023-10-11T06:15:22.112237Z"
    }
   },
   "outputs": [
    {
     "name": "stdout",
     "output_type": "stream",
     "text": [
      "(50000, 32, 32, 3) float32\n",
      "(50000, 10) float32\n",
      "(10000, 32, 32, 3) float32\n",
      "(10000, 10) float32\n"
     ]
    }
   ],
   "source": [
    "class Cifar10DataLoader():\n",
    "    def __init__(self):\n",
    "        # data load\n",
    "        (self.train_x, self.train_y), \\\n",
    "            (self.test_x, self.test_y) = tf.keras.datasets.cifar10.load_data()\n",
    "        self.input_shape = self.train_x.shape[1:]\n",
    "\n",
    "    def scale(self, x):\n",
    "\n",
    "        return (x / 255.0).astype(np.float32)\n",
    "\n",
    "    def preprocess_dataset(self, dataset):\n",
    "\n",
    "        (feature, target) = dataset\n",
    "\n",
    "        # scaling #\n",
    "        scaled_x = np.array([self.scale(x) for x in feature])\n",
    "\n",
    "        # label encoding #\n",
    "        ohe_y = np.array([tf.keras.utils.to_categorical(\n",
    "            y, num_classes=10) for y in target])\n",
    "        \n",
    "        return scaled_x, ohe_y.squeeze(1)\n",
    "\n",
    "    def get_train_dataset(self):\n",
    "        return self.preprocess_dataset((self.train_x, self.train_y))\n",
    "\n",
    "    def get_test_dataset(self):\n",
    "        return self.preprocess_dataset((self.test_x, self.test_y))\n",
    "\n",
    "cifar10_loader = Cifar10DataLoader()\n",
    "train_x, train_y = cifar10_loader.get_train_dataset()\n",
    "\n",
    "print(train_x.shape, train_x.dtype)\n",
    "print(train_y.shape, train_y.dtype)\n",
    "\n",
    "test_x, test_y = cifar10_loader.get_test_dataset()\n",
    "\n",
    "print(test_x.shape, test_x.dtype)\n",
    "print(test_y.shape, test_y.dtype)"
   ]
  },
  {
   "cell_type": "code",
   "execution_count": 4,
   "id": "c511a44b",
   "metadata": {
    "ExecuteTime": {
     "end_time": "2023-10-11T06:15:34.822098Z",
     "start_time": "2023-10-11T06:15:26.894087Z"
    }
   },
   "outputs": [
    {
     "name": "stdout",
     "output_type": "stream",
     "text": [
      "Model: \"resnet\"\n",
      "__________________________________________________________________________________________________\n",
      " Layer (type)                   Output Shape         Param #     Connected to                     \n",
      "==================================================================================================\n",
      " input_1 (InputLayer)           [(None, 32, 32, 3)]  0           []                               \n",
      "                                                                                                  \n",
      " conv2d (Conv2D)                (None, 16, 16, 32)   896         ['input_1[0][0]']                \n",
      "                                                                                                  \n",
      " max_pooling2d (MaxPooling2D)   (None, 8, 8, 32)     0           ['conv2d[0][0]']                 \n",
      "                                                                                                  \n",
      " conv2d_1 (Conv2D)              (None, 8, 8, 64)     2112        ['max_pooling2d[0][0]']          \n",
      "                                                                                                  \n",
      " conv2d_2 (Conv2D)              (None, 8, 8, 64)     36928       ['conv2d_1[0][0]']               \n",
      "                                                                                                  \n",
      " conv2d_4 (Conv2D)              (None, 8, 8, 64)     2112        ['max_pooling2d[0][0]']          \n",
      "                                                                                                  \n",
      " conv2d_3 (Conv2D)              (None, 8, 8, 64)     4160        ['conv2d_2[0][0]']               \n",
      "                                                                                                  \n",
      " add (Add)                      (None, 8, 8, 64)     0           ['conv2d_4[0][0]',               \n",
      "                                                                  'conv2d_3[0][0]']               \n",
      "                                                                                                  \n",
      " conv2d_5 (Conv2D)              (None, 8, 8, 64)     4160        ['add[0][0]']                    \n",
      "                                                                                                  \n",
      " conv2d_6 (Conv2D)              (None, 8, 8, 64)     36928       ['conv2d_5[0][0]']               \n",
      "                                                                                                  \n",
      " conv2d_7 (Conv2D)              (None, 8, 8, 64)     4160        ['conv2d_6[0][0]']               \n",
      "                                                                                                  \n",
      " add_1 (Add)                    (None, 8, 8, 64)     0           ['add[0][0]',                    \n",
      "                                                                  'conv2d_7[0][0]']               \n",
      "                                                                                                  \n",
      " max_pooling2d_1 (MaxPooling2D)  (None, 4, 4, 64)    0           ['add_1[0][0]']                  \n",
      "                                                                                                  \n",
      " flatten (Flatten)              (None, 1024)         0           ['max_pooling2d_1[0][0]']        \n",
      "                                                                                                  \n",
      " dense (Dense)                  (None, 10)           10250       ['flatten[0][0]']                \n",
      "                                                                                                  \n",
      "==================================================================================================\n",
      "Total params: 101,706\n",
      "Trainable params: 101,706\n",
      "Non-trainable params: 0\n",
      "__________________________________________________________________________________________________\n"
     ]
    }
   ],
   "source": [
    "from tensorflow.keras.layers import Input, Conv2D, MaxPool2D, Flatten, Dense, Add\n",
    "\n",
    "def build_resnet(input_shape):\n",
    "    inputs = Input(input_shape)\n",
    "\n",
    "    net = Conv2D(32, kernel_size=3, strides=2,\n",
    "                 padding='same', activation='relu')(inputs)\n",
    "    net = MaxPool2D()(net)\n",
    "    \n",
    "    net1 = Conv2D(64, kernel_size=1, padding='same', activation='relu')(net)\n",
    "    net2 = Conv2D(64, kernel_size=3, padding='same', activation='relu')(net1)\n",
    "    net3 = Conv2D(64, kernel_size=1, padding='same', activation='relu')(net2)\n",
    "    \n",
    "    net1_1 = Conv2D(64, kernel_size=1, padding='same')(net)\n",
    "    net = Add()([net1_1, net3])\n",
    "    \n",
    "    net1 = Conv2D(64, kernel_size=1, padding='same', activation='relu')(net)\n",
    "    net2 = Conv2D(64, kernel_size=3, padding='same', activation='relu')(net1)\n",
    "    net3 = Conv2D(64, kernel_size=1, padding='same', activation='relu')(net2)\n",
    "    \n",
    "    net = Add()([net, net3])\n",
    "    \n",
    "    net = MaxPool2D()(net)\n",
    "    \n",
    "    net = Flatten()(net)\n",
    "    net = Dense(10, activation=\"softmax\")(net)\n",
    "\n",
    "    model = tf.keras.Model(inputs=inputs, outputs=net, name='resnet')\n",
    "    \n",
    "    return model\n",
    "\n",
    "model = build_resnet((32, 32, 3))\n",
    "model.summary()"
   ]
  },
  {
   "cell_type": "markdown",
   "id": "effee081",
   "metadata": {},
   "source": [
    "## fit 함수 사용\n",
    "\n",
    "$$\n",
    "\\Large{\n",
    "model.compile() \\rightarrow model.fit()\n",
    "}\n",
    "$$"
   ]
  },
  {
   "cell_type": "markdown",
   "id": "01d34fd5",
   "metadata": {},
   "source": [
    "#### compile의 입력값\n",
    "\n",
    "- optimizer='rmsprop' : Optimizer \n",
    "- loss=None : Loss function\n",
    "- metrics=None : Metrics\n",
    "- loss_weights=None : loss가 여러 개인 경우 각 로스마다 다르게 중요도를 설정 할 수 있다. \n"
   ]
  },
  {
   "cell_type": "code",
   "execution_count": 5,
   "id": "1fbb8ba5",
   "metadata": {
    "ExecuteTime": {
     "end_time": "2023-10-11T06:15:34.854031Z",
     "start_time": "2023-10-11T06:15:34.835103Z"
    }
   },
   "outputs": [],
   "source": [
    "learning_rate = 0.03\n",
    "opt = tf.keras.optimizers.Adam(learning_rate)\n",
    "loss = tf.keras.losses.categorical_crossentropy"
   ]
  },
  {
   "cell_type": "code",
   "execution_count": 6,
   "id": "c428cbc0",
   "metadata": {
    "ExecuteTime": {
     "end_time": "2023-10-11T06:16:45.402752Z",
     "start_time": "2023-10-11T06:16:45.374717Z"
    }
   },
   "outputs": [],
   "source": [
    "model.compile(optimizer=opt, loss=loss, metrics=[\"accuracy\"])"
   ]
  },
  {
   "cell_type": "code",
   "execution_count": null,
   "id": "e724bbe6",
   "metadata": {},
   "outputs": [],
   "source": []
  },
  {
   "cell_type": "markdown",
   "id": "9f04835d",
   "metadata": {},
   "source": [
    "#### Loss를 직접 만들어서 사용할 수도 있다."
   ]
  },
  {
   "cell_type": "code",
   "execution_count": 7,
   "id": "2bcd9a67",
   "metadata": {
    "ExecuteTime": {
     "end_time": "2023-10-11T06:17:57.542063Z",
     "start_time": "2023-10-11T06:17:57.524160Z"
    }
   },
   "outputs": [],
   "source": [
    "def custom_loss(y_true, y_pred): # 정답, 예측 -> 이 순서는 지켜야 한다.\n",
    "    return tf.reduce_mean(tf.square(y_true - y_pred))"
   ]
  },
  {
   "cell_type": "code",
   "execution_count": 8,
   "id": "714a294c",
   "metadata": {
    "ExecuteTime": {
     "end_time": "2023-10-11T06:19:28.308856Z",
     "start_time": "2023-10-11T06:19:28.282783Z"
    }
   },
   "outputs": [],
   "source": [
    "model.compile(optimizer=opt, loss=custom_loss, metrics=[\"accuracy\"])"
   ]
  },
  {
   "cell_type": "code",
   "execution_count": null,
   "id": "09b71f76",
   "metadata": {},
   "outputs": [],
   "source": []
  },
  {
   "cell_type": "markdown",
   "id": "5982c481",
   "metadata": {},
   "source": [
    "#### Loss를 여러개 사용할 수도 있다."
   ]
  },
  {
   "cell_type": "code",
   "execution_count": 11,
   "id": "dc441abc",
   "metadata": {
    "ExecuteTime": {
     "end_time": "2023-10-11T06:21:02.232055Z",
     "start_time": "2023-10-11T06:21:02.212210Z"
    }
   },
   "outputs": [],
   "source": [
    "#### Loss를 직접 만들어서 사용할 수도 있다.#여러 개의 Loss\n",
    "model.compile(optimizer=opt, loss=[loss, custom_loss], metrics=[\"accuracy\"])"
   ]
  },
  {
   "cell_type": "code",
   "execution_count": 12,
   "id": "1cdc652b",
   "metadata": {
    "ExecuteTime": {
     "end_time": "2023-10-11T06:21:02.597181Z",
     "start_time": "2023-10-11T06:21:02.575125Z"
    }
   },
   "outputs": [],
   "source": [
    "#여러 개의 Loss + loss weights\n",
    "model.compile(optimizer=opt, loss=[loss, custom_loss], loss_weights=[0.7, 0.3], metrics=[\"accuracy\"])"
   ]
  },
  {
   "cell_type": "code",
   "execution_count": null,
   "id": "9275aa70",
   "metadata": {},
   "outputs": [],
   "source": []
  },
  {
   "cell_type": "code",
   "execution_count": 13,
   "id": "ad8e18fe",
   "metadata": {
    "ExecuteTime": {
     "end_time": "2023-10-11T06:21:03.665555Z",
     "start_time": "2023-10-11T06:21:03.644919Z"
    }
   },
   "outputs": [],
   "source": [
    "loss = \"categorical_crossentropy\" # 이렇게 텍스트로 가능한 함수도 있음.\n",
    "\n",
    "model.compile(optimizer=opt, loss=loss, metrics=[\"accuracy\"])"
   ]
  },
  {
   "cell_type": "code",
   "execution_count": null,
   "id": "fc8f8fe3",
   "metadata": {},
   "outputs": [],
   "source": []
  },
  {
   "cell_type": "markdown",
   "id": "17cd4ffc",
   "metadata": {},
   "source": [
    "#### metrics도 직접 만들어서 사용할 수 있다."
   ]
  },
  {
   "cell_type": "code",
   "execution_count": 16,
   "id": "482de38a",
   "metadata": {
    "ExecuteTime": {
     "end_time": "2023-10-11T06:21:22.998236Z",
     "start_time": "2023-10-11T06:21:22.963670Z"
    }
   },
   "outputs": [],
   "source": [
    "acc = tf.keras.metrics.Accuracy()\n",
    "auc = tf.keras.metrics.AUC()"
   ]
  },
  {
   "cell_type": "code",
   "execution_count": 17,
   "id": "4b15edc6",
   "metadata": {
    "ExecuteTime": {
     "end_time": "2023-10-11T06:21:23.505043Z",
     "start_time": "2023-10-11T06:21:23.477166Z"
    }
   },
   "outputs": [],
   "source": [
    "model.compile(optimizer=opt, loss=loss, metrics=[acc, auc])"
   ]
  },
  {
   "cell_type": "code",
   "execution_count": 18,
   "id": "abd7e409",
   "metadata": {
    "ExecuteTime": {
     "end_time": "2023-10-11T06:21:24.280714Z",
     "start_time": "2023-10-11T06:21:24.269808Z"
    }
   },
   "outputs": [],
   "source": [
    "def custom_metric(y_true, y_pred):\n",
    "    \n",
    "    true = tf.argmax(y_true, axis=-1)\n",
    "    pred = tf.argmax(y_pred, axis=-1)\n",
    "    \n",
    "    return tf.reduce_sum(tf.cast(tf.equal(y_true, y_pred), tf.int32))\n"
   ]
  },
  {
   "cell_type": "code",
   "execution_count": 19,
   "id": "2dd3a44b",
   "metadata": {
    "ExecuteTime": {
     "end_time": "2023-10-11T06:21:26.093614Z",
     "start_time": "2023-10-11T06:21:26.081979Z"
    }
   },
   "outputs": [],
   "source": [
    "model.compile(optimizer=opt, loss=loss, metrics=[custom_metric])"
   ]
  },
  {
   "cell_type": "code",
   "execution_count": 20,
   "id": "6e68f3f3",
   "metadata": {
    "ExecuteTime": {
     "end_time": "2023-10-11T06:21:27.385332Z",
     "start_time": "2023-10-11T06:21:27.368184Z"
    }
   },
   "outputs": [],
   "source": [
    "model.compile(optimizer=opt, loss=loss, metrics=[\"accuracy\", custom_metric])"
   ]
  },
  {
   "cell_type": "code",
   "execution_count": null,
   "id": "00e2c43e",
   "metadata": {},
   "outputs": [],
   "source": []
  },
  {
   "cell_type": "markdown",
   "id": "d95e4dd1",
   "metadata": {},
   "source": [
    "### fit의 입력값\n",
    "\n",
    "- x=None \n",
    "- y=None\n",
    "- batch_size=None\n",
    "- epochs=1\n",
    "- verbose='auto' : 학습과정 출력문의 모드\n",
    "- callbacks=None : Callback 함수\n",
    "- validation_split=0.0 : 입력데이터의 일정 부분을 Validation 용 데이터로 사용함\n",
    "- validation_data=None : Validation 용 데이터 \n",
    "- shuffle=True : 입력값을 Epoch 마다 섞는다. \n",
    "- class_weight=None : 클래스 별로 다른 중요도를 설정한다. \n",
    "- ..."
   ]
  },
  {
   "cell_type": "code",
   "execution_count": 21,
   "id": "99dda8ce",
   "metadata": {
    "ExecuteTime": {
     "end_time": "2023-10-11T06:23:12.547241Z",
     "start_time": "2023-10-11T06:22:54.542823Z"
    }
   },
   "outputs": [
    {
     "name": "stdout",
     "output_type": "stream",
     "text": [
      "274/274 [==============================] - 16s 28ms/step - loss: 2.5254 - accuracy: 0.0992 - custom_metric: 0.3978 - val_loss: 2.3853 - val_accuracy: 0.1010 - val_custom_metric: 0.0000e+00\n"
     ]
    }
   ],
   "source": [
    "hist = model.fit(train_x, \n",
    "                 train_y,\n",
    "                 epochs=1, \n",
    "                 batch_size=128, \n",
    "                 validation_split=0.3,\n",
    "                 verbose=1\n",
    "                )"
   ]
  },
  {
   "cell_type": "markdown",
   "id": "2bd9888b",
   "metadata": {},
   "source": [
    "### Callback 함수 활용하기 \n",
    "\n",
    " - Callback 함수를 활용하면, fit() 함수가 돌아가는 와중에도 특정한 주기로 원하는 코드를 실행 시킬 수 있음. \n",
    " \n",
    " ex> 학습이 진행되면, Learning rate를 점점 줄여서 더 세밀하게 모델의 웨이트가 조정 될 수 있도록 하고 싶다. "
   ]
  },
  {
   "cell_type": "code",
   "execution_count": 24,
   "id": "c9cb6da8",
   "metadata": {
    "ExecuteTime": {
     "end_time": "2023-10-11T06:27:49.775316Z",
     "start_time": "2023-10-11T06:27:49.769310Z"
    }
   },
   "outputs": [],
   "source": [
    "def scheduler(epoch, lr): # epoch가 10번을 넘었을 경우 lr을 조금씩 감소시켜라\n",
    "    if epoch > 10:\n",
    "        return lr * (0.9**(epoch - 10))\n",
    "    else: \n",
    "        return lr\n",
    "\n",
    "\n",
    "# verbose = 1 하면 epoch마다 loss 값을 볼 수 있다.\n",
    "lr_scheduler = tf.keras.callbacks.LearningRateScheduler(scheduler, verbose=1)"
   ]
  },
  {
   "cell_type": "code",
   "execution_count": null,
   "id": "be0d10ad",
   "metadata": {},
   "outputs": [],
   "source": []
  },
  {
   "cell_type": "code",
   "execution_count": 25,
   "id": "c0415a5b",
   "metadata": {
    "ExecuteTime": {
     "end_time": "2023-10-11T06:29:25.196632Z",
     "start_time": "2023-10-11T06:27:56.867621Z"
    }
   },
   "outputs": [
    {
     "name": "stdout",
     "output_type": "stream",
     "text": [
      "\n",
      "Epoch 1: LearningRateScheduler setting learning rate to 0.029999999329447746.\n",
      "Epoch 1/15\n",
      "274/274 [==============================] - 6s 22ms/step - loss: 2.3221 - accuracy: 0.0999 - custom_metric: 0.0000e+00 - val_loss: 2.3067 - val_accuracy: 0.0984 - val_custom_metric: 0.0000e+00 - lr: 0.0300\n",
      "\n",
      "Epoch 2: LearningRateScheduler setting learning rate to 0.029999999329447746.\n",
      "Epoch 2/15\n",
      "274/274 [==============================] - 6s 21ms/step - loss: 2.3179 - accuracy: 0.0991 - custom_metric: 0.0000e+00 - val_loss: 2.3179 - val_accuracy: 0.1005 - val_custom_metric: 0.0000e+00 - lr: 0.0300\n",
      "\n",
      "Epoch 3: LearningRateScheduler setting learning rate to 0.029999999329447746.\n",
      "Epoch 3/15\n",
      "274/274 [==============================] - 6s 21ms/step - loss: 2.3206 - accuracy: 0.0983 - custom_metric: 0.0000e+00 - val_loss: 2.3076 - val_accuracy: 0.1025 - val_custom_metric: 0.0000e+00 - lr: 0.0300\n",
      "\n",
      "Epoch 4: LearningRateScheduler setting learning rate to 0.029999999329447746.\n",
      "Epoch 4/15\n",
      "274/274 [==============================] - 6s 21ms/step - loss: 2.3166 - accuracy: 0.0978 - custom_metric: 0.0000e+00 - val_loss: 2.3247 - val_accuracy: 0.0999 - val_custom_metric: 0.0000e+00 - lr: 0.0300\n",
      "\n",
      "Epoch 5: LearningRateScheduler setting learning rate to 0.029999999329447746.\n",
      "Epoch 5/15\n",
      "274/274 [==============================] - 6s 21ms/step - loss: 2.3164 - accuracy: 0.1015 - custom_metric: 0.0000e+00 - val_loss: 2.3264 - val_accuracy: 0.0979 - val_custom_metric: 0.0000e+00 - lr: 0.0300\n",
      "\n",
      "Epoch 6: LearningRateScheduler setting learning rate to 0.029999999329447746.\n",
      "Epoch 6/15\n",
      "274/274 [==============================] - 6s 21ms/step - loss: 2.3154 - accuracy: 0.1003 - custom_metric: 0.0000e+00 - val_loss: 2.3363 - val_accuracy: 0.1005 - val_custom_metric: 0.0000e+00 - lr: 0.0300\n",
      "\n",
      "Epoch 7: LearningRateScheduler setting learning rate to 0.029999999329447746.\n",
      "Epoch 7/15\n",
      "274/274 [==============================] - 6s 21ms/step - loss: 2.3216 - accuracy: 0.0991 - custom_metric: 0.0000e+00 - val_loss: 2.3112 - val_accuracy: 0.1010 - val_custom_metric: 0.0000e+00 - lr: 0.0300\n",
      "\n",
      "Epoch 8: LearningRateScheduler setting learning rate to 0.029999999329447746.\n",
      "Epoch 8/15\n",
      "274/274 [==============================] - 6s 22ms/step - loss: 2.3143 - accuracy: 0.1019 - custom_metric: 0.0000e+00 - val_loss: 2.3113 - val_accuracy: 0.0984 - val_custom_metric: 0.0000e+00 - lr: 0.0300\n",
      "\n",
      "Epoch 9: LearningRateScheduler setting learning rate to 0.029999999329447746.\n",
      "Epoch 9/15\n",
      "274/274 [==============================] - 6s 22ms/step - loss: 2.3153 - accuracy: 0.1021 - custom_metric: 0.0000e+00 - val_loss: 2.3083 - val_accuracy: 0.0984 - val_custom_metric: 0.0000e+00 - lr: 0.0300\n",
      "\n",
      "Epoch 10: LearningRateScheduler setting learning rate to 0.029999999329447746.\n",
      "Epoch 10/15\n",
      "274/274 [==============================] - 6s 22ms/step - loss: 2.3156 - accuracy: 0.1007 - custom_metric: 0.0000e+00 - val_loss: 2.3323 - val_accuracy: 0.0979 - val_custom_metric: 0.0000e+00 - lr: 0.0300\n",
      "\n",
      "Epoch 11: LearningRateScheduler setting learning rate to 0.029999999329447746.\n",
      "Epoch 11/15\n",
      "274/274 [==============================] - 6s 22ms/step - loss: 2.3183 - accuracy: 0.0979 - custom_metric: 0.0000e+00 - val_loss: 2.3080 - val_accuracy: 0.1025 - val_custom_metric: 0.0000e+00 - lr: 0.0300\n",
      "\n",
      "Epoch 12: LearningRateScheduler setting learning rate to 0.026999999396502973.\n",
      "Epoch 12/15\n",
      "274/274 [==============================] - 6s 21ms/step - loss: 2.3133 - accuracy: 0.1017 - custom_metric: 0.0000e+00 - val_loss: 2.3199 - val_accuracy: 0.1005 - val_custom_metric: 0.0000e+00 - lr: 0.0270\n",
      "\n",
      "Epoch 13: LearningRateScheduler setting learning rate to 0.021869999058544635.\n",
      "Epoch 13/15\n",
      "274/274 [==============================] - 6s 21ms/step - loss: 2.3112 - accuracy: 0.0984 - custom_metric: 0.0000e+00 - val_loss: 2.3066 - val_accuracy: 0.0983 - val_custom_metric: 0.0000e+00 - lr: 0.0219\n",
      "\n",
      "Epoch 14: LearningRateScheduler setting learning rate to 0.015943228852003815.\n",
      "Epoch 14/15\n",
      "274/274 [==============================] - 6s 21ms/step - loss: 2.3089 - accuracy: 0.1000 - custom_metric: 0.0000e+00 - val_loss: 2.3063 - val_accuracy: 0.0999 - val_custom_metric: 0.0000e+00 - lr: 0.0159\n",
      "\n",
      "Epoch 15: LearningRateScheduler setting learning rate to 0.010460352677106858.\n",
      "Epoch 15/15\n",
      "274/274 [==============================] - 6s 21ms/step - loss: 2.3058 - accuracy: 0.0997 - custom_metric: 0.0000e+00 - val_loss: 2.3076 - val_accuracy: 0.0983 - val_custom_metric: 0.0000e+00 - lr: 0.0105\n"
     ]
    }
   ],
   "source": [
    "hist = model.fit(train_x, \n",
    "                 train_y,\n",
    "                 epochs=15, \n",
    "                 batch_size=128, \n",
    "                 validation_split=0.3,\n",
    "                 verbose=1,\n",
    "                 callbacks=[lr_scheduler],\n",
    "                )"
   ]
  },
  {
   "cell_type": "markdown",
   "id": "8cdf29ad",
   "metadata": {},
   "source": [
    "#### EarlyStopping \n",
    ": 학습진행중에 반복을 해도 metric이 좋아지지 않는다 등등 의 조건에 해당하면 학습을 일찍 종료 시키는 작업"
   ]
  },
  {
   "cell_type": "code",
   "execution_count": null,
   "id": "4a992673",
   "metadata": {},
   "outputs": [],
   "source": []
  }
 ],
 "metadata": {
  "kernelspec": {
   "display_name": "GPU",
   "language": "python",
   "name": "gpu"
  },
  "language_info": {
   "codemirror_mode": {
    "name": "ipython",
    "version": 3
   },
   "file_extension": ".py",
   "mimetype": "text/x-python",
   "name": "python",
   "nbconvert_exporter": "python",
   "pygments_lexer": "ipython3",
   "version": "3.8.18"
  },
  "varInspector": {
   "cols": {
    "lenName": 16,
    "lenType": 16,
    "lenVar": 40
   },
   "kernels_config": {
    "python": {
     "delete_cmd_postfix": "",
     "delete_cmd_prefix": "del ",
     "library": "var_list.py",
     "varRefreshCmd": "print(var_dic_list())"
    },
    "r": {
     "delete_cmd_postfix": ") ",
     "delete_cmd_prefix": "rm(",
     "library": "var_list.r",
     "varRefreshCmd": "cat(var_dic_list()) "
    }
   },
   "types_to_exclude": [
    "module",
    "function",
    "builtin_function_or_method",
    "instance",
    "_Feature"
   ],
   "window_display": false
  }
 },
 "nbformat": 4,
 "nbformat_minor": 5
}
