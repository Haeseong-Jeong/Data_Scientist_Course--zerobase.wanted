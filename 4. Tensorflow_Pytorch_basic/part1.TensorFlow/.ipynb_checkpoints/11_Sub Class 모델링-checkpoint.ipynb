{
 "cells": [
  {
   "cell_type": "markdown",
   "id": "66f8aa76",
   "metadata": {},
   "source": [
    "# Sub Class 모델링"
   ]
  },
  {
   "cell_type": "markdown",
   "id": "c001ac1f",
   "metadata": {},
   "source": [
    "모델 이란 것은 Input을 Output으로 만들어주는 수식이다. \n",
    "\n",
    "해당 기능을 수행하는 두 가지 클래스가 `tf.keras.layers.Layer` 와 `tf.keras.layers.Model` 클래스이다. \n",
    "\n",
    "두가지 모두 **연산을 추상화** 하는 것으로 동일한 역할을 하지만, `tf.keras.layers.Model` 클래스의 경우 모델을 저장 하는 기능 과 `fit` 함수를 사용할 수 있다는 점에서 차이가 있다. \n",
    "\n",
    "- tf.keras.layers.Layer\n",
    "- tf.keras.layers.Model"
   ]
  },
  {
   "cell_type": "code",
   "execution_count": 1,
   "id": "88ee619a",
   "metadata": {
    "ExecuteTime": {
     "end_time": "2023-10-11T05:47:26.096448Z",
     "start_time": "2023-10-11T05:47:05.498898Z"
    }
   },
   "outputs": [],
   "source": [
    "import numpy as np\n",
    "import pandas as pd\n",
    "import tensorflow as tf\n",
    "\n",
    "import matplotlib.pyplot as plt\n",
    "import seaborn as sns\n",
    "%matplotlib inline"
   ]
  },
  {
   "cell_type": "code",
   "execution_count": 2,
   "id": "7253a144",
   "metadata": {
    "ExecuteTime": {
     "end_time": "2023-10-11T05:47:31.957445Z",
     "start_time": "2023-10-11T05:47:31.949290Z"
    }
   },
   "outputs": [],
   "source": [
    "np.random.seed(7777)\n",
    "tf.random.set_seed(7777)"
   ]
  },
  {
   "cell_type": "markdown",
   "id": "33799c3c",
   "metadata": {},
   "source": [
    "### Linear Regression을 Layer로 만들어 보자. "
   ]
  },
  {
   "cell_type": "code",
   "execution_count": 3,
   "id": "dfc198b2",
   "metadata": {
    "ExecuteTime": {
     "end_time": "2023-10-11T05:47:33.460486Z",
     "start_time": "2023-10-11T05:47:33.444482Z"
    }
   },
   "outputs": [],
   "source": [
    "class LinearRegression(tf.keras.layers.Layer):\n",
    "    def __init__(self, units):\n",
    "        super(LinearRegression, self).__init__() # super로 상속을 받아와\n",
    "        self.units = units\n",
    "        # self.w = tf.Variable(tf.random.normal) ~~ -> 오버라이딩으로 구현\n",
    "\n",
    "    def build(self, input_shape): # 오버라이딩에 쓸 변수를 build로 만들어 놓는게 좋다한다.\n",
    "        self.w = self.add_weight(\n",
    "            shape=(input_shape[-1], self.units), # [-1]로 피처개수 추출\n",
    "            initializer=\"random_normal\",\n",
    "            trainable=True,\n",
    "        )\n",
    "        self.b = tf.Variable(0.0)\n",
    "\n",
    "    def call(self, inputs): # 오버라이딩\n",
    "        return tf.matmul(inputs, self.w) + self.b"
   ]
  },
  {
   "cell_type": "code",
   "execution_count": null,
   "id": "662d8aab",
   "metadata": {},
   "outputs": [],
   "source": []
  },
  {
   "cell_type": "markdown",
   "id": "d6677a83",
   "metadata": {},
   "source": [
    "### 가상 데이터"
   ]
  },
  {
   "cell_type": "code",
   "execution_count": 4,
   "id": "0b0d3d13",
   "metadata": {
    "ExecuteTime": {
     "end_time": "2023-10-11T05:47:40.766604Z",
     "start_time": "2023-10-11T05:47:35.210280Z"
    }
   },
   "outputs": [],
   "source": [
    "W_true = np.array([[3., 2., 4., 1.]]).reshape((4, 1)) # [4] -> [4x1]\n",
    "B_true = np.array([1.])\n",
    "\n",
    "X = tf.random.normal((500, 4))\n",
    "noise = tf.random.normal((500, 1))\n",
    "\n",
    "y = X @ W_true + B_true + noise"
   ]
  },
  {
   "cell_type": "code",
   "execution_count": 5,
   "id": "eea10d18",
   "metadata": {
    "ExecuteTime": {
     "end_time": "2023-10-11T05:47:41.299117Z",
     "start_time": "2023-10-11T05:47:40.766604Z"
    }
   },
   "outputs": [
    {
     "name": "stdout",
     "output_type": "stream",
     "text": [
      "epoch : 0 loss : 33.177921295166016\n",
      "epoch : 10 loss : 9.759605407714844\n",
      "epoch : 20 loss : 3.3366031646728516\n",
      "epoch : 30 loss : 1.570228099822998\n",
      "epoch : 40 loss : 1.0829838514328003\n",
      "epoch : 50 loss : 0.9481186866760254\n",
      "epoch : 60 loss : 0.9106446504592896\n",
      "epoch : 70 loss : 0.9001870155334473\n",
      "epoch : 80 loss : 0.8972545266151428\n",
      "epoch : 90 loss : 0.8964279294013977\n"
     ]
    }
   ],
   "source": [
    "opt = tf.keras.optimizers.SGD(learning_rate=3e-2)\n",
    "\n",
    "\n",
    "linear_layer = LinearRegression(1) # unit = 1\n",
    "\n",
    "for epoch in range(100): # 100번 반복\n",
    "    \n",
    "    with tf.GradientTape() as tape: # 연산 하고 tape 에 저장\n",
    "        y_hat = linear_layer(X)\n",
    "        loss = tf.reduce_mean(tf.square((y - y_hat)))\n",
    "        \n",
    "    grads = tape.gradient(loss, linear_layer.trainable_weights)\n",
    "    \n",
    "    # 자동 최적화  ->  # 수작업 w.assing_sub(lr*b)\n",
    "    opt.apply_gradients(zip(grads, linear_layer.trainable_weights))\n",
    "    \n",
    "    if epoch % 10 == 0:\n",
    "        print(\"epoch : {} loss : {}\".format(epoch, loss.numpy()))"
   ]
  },
  {
   "cell_type": "code",
   "execution_count": 6,
   "id": "574866a8",
   "metadata": {
    "ExecuteTime": {
     "end_time": "2023-10-11T05:47:43.157598Z",
     "start_time": "2023-10-11T05:47:43.132855Z"
    }
   },
   "outputs": [
    {
     "data": {
      "text/plain": [
       "<tf.Tensor: shape=(1, 1), dtype=float32, numpy=array([[1.7251956]], dtype=float32)>"
      ]
     },
     "execution_count": 6,
     "metadata": {},
     "output_type": "execute_result"
    }
   ],
   "source": [
    "linear_layer(X[:1])"
   ]
  },
  {
   "cell_type": "markdown",
   "id": "51f8ef2b",
   "metadata": {},
   "source": [
    "### ResNet - Sub Class 로 구현 하기 \n",
    "\n",
    "1. Residual Block - Layer\n",
    "    - 반복되는 레이어를 하나의 블럭(레이어)으로 클래스화(은닉화)\n",
    "\n",
    "2. ResNet  - Model"
   ]
  },
  {
   "cell_type": "markdown",
   "id": "04503181",
   "metadata": {},
   "source": [
    "- super() : 부모 클래스에 대한 액세스를 지시하고 부모 클래스(tensorflow.keras.Model)의 생성자 함수를 호출한다.\n",
    "\n",
    "\n",
    "- init : 객체를 정의하자마자 실행되는 생성자, 객체를 처음 실행할 때(선언할 때) 자동으로 실행(호출)되는 생성자\n",
    "\n",
    "\n",
    "- call : 객체를 만들어 놓고 나중에 사용할때 사용되는 함수, 객체모델의 입력이 곧 call함수의 입력이 됨."
   ]
  },
  {
   "cell_type": "code",
   "execution_count": 7,
   "id": "a1bb7c07",
   "metadata": {
    "ExecuteTime": {
     "end_time": "2023-10-11T05:47:44.074356Z",
     "start_time": "2023-10-11T05:47:44.048933Z"
    }
   },
   "outputs": [],
   "source": [
    "from tensorflow.keras.layers import Input, Conv2D, MaxPool2D, Flatten, Dense, Add"
   ]
  },
  {
   "cell_type": "code",
   "execution_count": 8,
   "id": "9cf841dd",
   "metadata": {
    "ExecuteTime": {
     "end_time": "2023-10-11T05:56:49.519417Z",
     "start_time": "2023-10-11T05:56:49.488469Z"
    }
   },
   "outputs": [],
   "source": [
    "class ResidualBlock(tf.keras.layers.Layer): # Layer를 super로 상속\n",
    "    \n",
    "    # filter_match라는 조건을 준다 : True면 차원을 맞춰 더하는 작업을 따로 진행 \n",
    "    def __init__(self, filters=32, filter_match=False):\n",
    "        super(ResidualBlock, self).__init__()\n",
    "        \n",
    "        # 컨벌루션레이어 1,2,3 정의 및 add 정의\n",
    "        self.conv1 = Conv2D(filters, kernel_size=1, padding='same', activation='relu')\n",
    "        self.conv2 = Conv2D(filters, kernel_size=3, padding='same', activation='relu')\n",
    "        self.conv3 = Conv2D(filters, kernel_size=1, padding='same', activation='relu')\n",
    "        self.add = Add()\n",
    "        \n",
    "        self.filters = filters\n",
    "        self.filter_match = filter_match\n",
    "        if filter_match: #\n",
    "            self.conv_ext = Conv2D(filters, kernel_size=1, padding='same')\n",
    "        \n",
    "    def call(self, inputs):\n",
    "        net1 = self.conv1(inputs)\n",
    "        net2 = self.conv2(net1)\n",
    "        net3 = self.conv3(net2)\n",
    "        if self.filter_match:\n",
    "            res = self.add([self.conv_ext(inputs), net3])\n",
    "        else: \n",
    "            res = self.add([inputs, net3])\n",
    "        return res \n",
    "        \n",
    "        "
   ]
  },
  {
   "cell_type": "code",
   "execution_count": 9,
   "id": "d760e9b4",
   "metadata": {
    "ExecuteTime": {
     "end_time": "2023-10-11T05:56:50.987668Z",
     "start_time": "2023-10-11T05:56:50.937908Z"
    }
   },
   "outputs": [],
   "source": [
    "class ResNet(tf.keras.Model):\n",
    "\n",
    "    def __init__(self, num_classes):\n",
    "        super(ResNet, self).__init__()\n",
    "        \n",
    "        self.conv1 = Conv2D(32, kernel_size=3, strides=2, padding='same', activation='relu')\n",
    "        self.maxp1 =  MaxPool2D()\n",
    "        self.block_1 = ResidualBlock(64, True) # 생성자 -> filters = 64, match = True\n",
    "        self.block_2 = ResidualBlock(64)       # 생성자 -> filters = 64, match = False\n",
    "        self.maxp2 =  MaxPool2D()\n",
    "        self.flat = Flatten()\n",
    "        self.dense = Dense(num_classes)\n",
    "\n",
    "    def call(self, inputs):\n",
    "        x = self.conv1(inputs)\n",
    "        x = self.maxp1(x)\n",
    "        x = self.block_1(x) # call 함수의 inputs -> x\n",
    "        x = self.block_2(x) # call 함수의 inputs -> x\n",
    "        x = self.maxp2(x)\n",
    "        x = self.flat(x)\n",
    "        return self.dense(x)\n",
    "\n",
    "model = ResNet(num_classes=10)"
   ]
  },
  {
   "cell_type": "code",
   "execution_count": null,
   "id": "49ae5b65",
   "metadata": {},
   "outputs": [],
   "source": []
  },
  {
   "cell_type": "code",
   "execution_count": null,
   "id": "810eac35",
   "metadata": {},
   "outputs": [],
   "source": []
  },
  {
   "cell_type": "markdown",
   "id": "f843d6f2",
   "metadata": {},
   "source": [
    "### 학습 시켜보기"
   ]
  },
  {
   "cell_type": "code",
   "execution_count": 10,
   "id": "e6505d2d",
   "metadata": {
    "ExecuteTime": {
     "end_time": "2023-10-11T05:57:09.762475Z",
     "start_time": "2023-10-11T05:57:09.732367Z"
    }
   },
   "outputs": [],
   "source": [
    "class Cifar10DataLoader():\n",
    "    def __init__(self):\n",
    "        # data load\n",
    "        (self.train_x, self.train_y), \\\n",
    "            (self.test_x, self.test_y) = tf.keras.datasets.cifar10.load_data()\n",
    "        self.input_shape = self.train_x.shape[1:]\n",
    "\n",
    "    def scale(self, x):\n",
    "\n",
    "        return (x / 255.0).astype(np.float32)\n",
    "\n",
    "    def preprocess_dataset(self, dataset):\n",
    "\n",
    "        (feature, target) = dataset\n",
    "\n",
    "        # scaling #\n",
    "        scaled_x = np.array([self.scale(x) for x in feature])\n",
    "\n",
    "        # label encoding #\n",
    "        ohe_y = np.array([tf.keras.utils.to_categorical(\n",
    "            y, num_classes=10) for y in target])\n",
    "        \n",
    "        return scaled_x, ohe_y.squeeze(1)\n",
    "\n",
    "    def get_train_dataset(self):\n",
    "        return self.preprocess_dataset((self.train_x, self.train_y))\n",
    "\n",
    "    def get_test_dataset(self):\n",
    "        return self.preprocess_dataset((self.test_x, self.test_y))"
   ]
  },
  {
   "cell_type": "code",
   "execution_count": 11,
   "id": "738821e7",
   "metadata": {
    "ExecuteTime": {
     "end_time": "2023-10-11T05:57:15.965992Z",
     "start_time": "2023-10-11T05:57:11.830986Z"
    }
   },
   "outputs": [
    {
     "name": "stdout",
     "output_type": "stream",
     "text": [
      "(50000, 32, 32, 3) float32\n",
      "(50000, 10) float32\n",
      "(10000, 32, 32, 3) float32\n",
      "(10000, 10) float32\n"
     ]
    }
   ],
   "source": [
    "cifar10_loader = Cifar10DataLoader()\n",
    "\n",
    "train_x, train_y = cifar10_loader.get_train_dataset()\n",
    "\n",
    "print(train_x.shape, train_x.dtype)\n",
    "print(train_y.shape, train_y.dtype)\n",
    "\n",
    "test_x, test_y = cifar10_loader.get_test_dataset()\n",
    "\n",
    "print(test_x.shape, test_x.dtype)\n",
    "print(test_y.shape, test_y.dtype)"
   ]
  },
  {
   "cell_type": "code",
   "execution_count": 12,
   "id": "23873054",
   "metadata": {
    "ExecuteTime": {
     "end_time": "2023-10-11T05:57:20.491662Z",
     "start_time": "2023-10-11T05:57:20.451708Z"
    }
   },
   "outputs": [],
   "source": [
    "learning_rate = 0.03\n",
    "opt = tf.keras.optimizers.Adam(learning_rate)\n",
    "loss = tf.keras.losses.categorical_crossentropy\n",
    "\n",
    "model.compile(optimizer=opt, loss=loss, metrics=[\"accuracy\"])"
   ]
  },
  {
   "cell_type": "code",
   "execution_count": 13,
   "id": "44a76bce",
   "metadata": {
    "ExecuteTime": {
     "end_time": "2023-10-11T05:59:48.232459Z",
     "start_time": "2023-10-11T05:57:24.700087Z"
    }
   },
   "outputs": [
    {
     "name": "stdout",
     "output_type": "stream",
     "text": [
      "Epoch 1/10\n",
      "391/391 [==============================] - 24s 38ms/step - loss: 8.0411 - accuracy: 0.0995 - val_loss: 8.0590 - val_accuracy: 0.1000\n",
      "Epoch 2/10\n",
      "391/391 [==============================] - 13s 34ms/step - loss: 8.0591 - accuracy: 0.1000 - val_loss: 8.0590 - val_accuracy: 0.1000\n",
      "Epoch 3/10\n",
      "391/391 [==============================] - 13s 34ms/step - loss: 8.0590 - accuracy: 0.1000 - val_loss: 8.0590 - val_accuracy: 0.1000\n",
      "Epoch 4/10\n",
      "391/391 [==============================] - 13s 34ms/step - loss: 8.0591 - accuracy: 0.1000 - val_loss: 8.0590 - val_accuracy: 0.1000\n",
      "Epoch 5/10\n",
      "391/391 [==============================] - 13s 34ms/step - loss: 8.0590 - accuracy: 0.1000 - val_loss: 8.0590 - val_accuracy: 0.1000\n",
      "Epoch 6/10\n",
      "391/391 [==============================] - 13s 33ms/step - loss: 8.0591 - accuracy: 0.1000 - val_loss: 8.0590 - val_accuracy: 0.1000\n",
      "Epoch 7/10\n",
      "391/391 [==============================] - 13s 33ms/step - loss: 8.0590 - accuracy: 0.1000 - val_loss: 8.0590 - val_accuracy: 0.1000\n",
      "Epoch 8/10\n",
      "391/391 [==============================] - 13s 33ms/step - loss: 8.0591 - accuracy: 0.1000 - val_loss: 8.0590 - val_accuracy: 0.1000\n",
      "Epoch 9/10\n",
      "391/391 [==============================] - 13s 33ms/step - loss: 8.0591 - accuracy: 0.1000 - val_loss: 8.0590 - val_accuracy: 0.1000\n",
      "Epoch 10/10\n",
      "391/391 [==============================] - 13s 33ms/step - loss: 8.0590 - accuracy: 0.1000 - val_loss: 8.0590 - val_accuracy: 0.1000\n"
     ]
    }
   ],
   "source": [
    "hist = model.fit(train_x, train_y,\n",
    "                 epochs=10, batch_size=128,\n",
    "                 validation_data=(test_x, test_y))"
   ]
  },
  {
   "cell_type": "code",
   "execution_count": 14,
   "id": "3055de3e",
   "metadata": {
    "ExecuteTime": {
     "end_time": "2023-10-11T06:14:26.798502Z",
     "start_time": "2023-10-11T06:14:26.111092Z"
    }
   },
   "outputs": [
    {
     "data": {
      "image/png": "[encoded data removed]",
      "text/plain": [
       "<Figure size 1000x500 with 4 Axes>"
      ]
     },
     "metadata": {},
     "output_type": "display_data"
    }
   ],
   "source": [
    "plt.figure(figsize=(10, 5))\n",
    "plt.subplot(221)\n",
    "plt.plot(hist.history['loss'])\n",
    "plt.title(\"loss\")\n",
    "plt.subplot(222)\n",
    "plt.plot(hist.history['accuracy'], 'b-')\n",
    "plt.title(\"acc\")\n",
    "plt.subplot(223)\n",
    "plt.plot(hist.history['val_loss'])\n",
    "plt.title(\"val_loss\")\n",
    "plt.subplot(224)\n",
    "plt.plot(hist.history['val_accuracy'], 'b-')\n",
    "plt.title(\"val_accuracy\")\n",
    "\n",
    "plt.tight_layout()\n",
    "plt.show()"
   ]
  },
  {
   "cell_type": "code",
   "execution_count": null,
   "id": "7e18f914",
   "metadata": {},
   "outputs": [],
   "source": []
  }
 ],
 "metadata": {
  "kernelspec": {
   "display_name": "GPU",
   "language": "python",
   "name": "gpu"
  },
  "language_info": {
   "codemirror_mode": {
    "name": "ipython",
    "version": 3
   },
   "file_extension": ".py",
   "mimetype": "text/x-python",
   "name": "python",
   "nbconvert_exporter": "python",
   "pygments_lexer": "ipython3",
   "version": "3.8.18"
  },
  "varInspector": {
   "cols": {
    "lenName": 16,
    "lenType": 16,
    "lenVar": 40
   },
   "kernels_config": {
    "python": {
     "delete_cmd_postfix": "",
     "delete_cmd_prefix": "del ",
     "library": "var_list.py",
     "varRefreshCmd": "print(var_dic_list())"
    },
    "r": {
     "delete_cmd_postfix": ") ",
     "delete_cmd_prefix": "rm(",
     "library": "var_list.r",
     "varRefreshCmd": "cat(var_dic_list()) "
    }
   },
   "types_to_exclude": [
    "module",
    "function",
    "builtin_function_or_method",
    "instance",
    "_Feature"
   ],
   "window_display": false
  }
 },
 "nbformat": 4,
 "nbformat_minor": 5
}
