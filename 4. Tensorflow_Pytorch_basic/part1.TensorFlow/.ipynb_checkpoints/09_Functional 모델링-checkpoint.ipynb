{
 "cells": [
  {
   "cell_type": "markdown",
   "id": "494adaf7",
   "metadata": {},
   "source": [
    "# Functional 모델링\n"
   ]
  },
  {
   "cell_type": "code",
   "execution_count": 1,
   "id": "ee8565c9",
   "metadata": {
    "ExecuteTime": {
     "end_time": "2023-10-09T08:00:58.590378Z",
     "start_time": "2023-10-09T08:00:50.980116Z"
    }
   },
   "outputs": [],
   "source": [
    "import numpy as np\n",
    "import pandas as pd\n",
    "import tensorflow as tf\n",
    "\n",
    "import matplotlib.pyplot as plt\n",
    "import seaborn as sns\n",
    "%matplotlib inline"
   ]
  },
  {
   "cell_type": "code",
   "execution_count": 2,
   "id": "e2ca47f1",
   "metadata": {
    "ExecuteTime": {
     "end_time": "2023-10-09T08:01:32.166203Z",
     "start_time": "2023-10-09T08:01:32.154200Z"
    }
   },
   "outputs": [],
   "source": [
    "np.random.seed(7777)\n",
    "tf.random.set_seed(7777)"
   ]
  },
  {
   "cell_type": "markdown",
   "id": "8c2e1682",
   "metadata": {},
   "source": [
    "### 2. Functional API "
   ]
  },
  {
   "cell_type": "markdown",
   "id": "7dea42e7",
   "metadata": {},
   "source": [
    "`tf.keras.Sequential` 보다 더 유연하게 모델을 정의할 수 있는 방법"
   ]
  },
  {
   "cell_type": "code",
   "execution_count": 3,
   "id": "f00573e6",
   "metadata": {
    "ExecuteTime": {
     "end_time": "2023-10-09T08:01:43.576877Z",
     "start_time": "2023-10-09T08:01:43.554136Z"
    }
   },
   "outputs": [],
   "source": [
    "from tensorflow.keras.layers import Input, Conv2D, MaxPool2D, Flatten, Dense"
   ]
  },
  {
   "cell_type": "code",
   "execution_count": 4,
   "id": "bf8d473d",
   "metadata": {
    "ExecuteTime": {
     "end_time": "2023-10-09T08:04:24.133202Z",
     "start_time": "2023-10-09T08:04:24.114564Z"
    }
   },
   "outputs": [],
   "source": [
    "input_shape=(28, 28, 1)"
   ]
  },
  {
   "cell_type": "code",
   "execution_count": 5,
   "id": "84417d18",
   "metadata": {
    "ExecuteTime": {
     "end_time": "2023-10-09T08:04:31.326764Z",
     "start_time": "2023-10-09T08:04:24.978217Z"
    }
   },
   "outputs": [],
   "source": [
    "inputs = Input(input_shape)\n",
    "\n",
    "net = Conv2D(32, kernel_size=3, padding='same', activation='relu')(inputs)\n",
    "net = Conv2D(32, kernel_size=3, padding='same', activation='relu')(net)\n",
    "net = MaxPool2D()(net)\n",
    "\n",
    "net = Conv2D(64, kernel_size=3, padding='same', activation='relu')(net)\n",
    "net = Conv2D(64, kernel_size=3, padding='same', activation='relu')(net)\n",
    "net = MaxPool2D()(net)\n",
    "net = Flatten()(net)\n",
    "\n",
    "net = Dense(128, activation=\"relu\")(net)\n",
    "net = Dense(64, activation=\"relu\")(net)\n",
    "net = Dense(10, activation=\"softmax\")(net)\n",
    "\n",
    "model = tf.keras.Model(inputs=inputs, outputs=net, name='VGG')"
   ]
  },
  {
   "cell_type": "code",
   "execution_count": 6,
   "id": "a07f7718",
   "metadata": {
    "ExecuteTime": {
     "end_time": "2023-10-09T08:04:48.418219Z",
     "start_time": "2023-10-09T08:04:48.337734Z"
    }
   },
   "outputs": [
    {
     "name": "stdout",
     "output_type": "stream",
     "text": [
      "Model: \"VGG\"\n",
      "_________________________________________________________________\n",
      " Layer (type)                Output Shape              Param #   \n",
      "=================================================================\n",
      " input_1 (InputLayer)        [(None, 28, 28, 1)]       0         \n",
      "                                                                 \n",
      " conv2d (Conv2D)             (None, 28, 28, 32)        320       \n",
      "                                                                 \n",
      " conv2d_1 (Conv2D)           (None, 28, 28, 32)        9248      \n",
      "                                                                 \n",
      " max_pooling2d (MaxPooling2D  (None, 14, 14, 32)       0         \n",
      " )                                                               \n",
      "                                                                 \n",
      " conv2d_2 (Conv2D)           (None, 14, 14, 64)        18496     \n",
      "                                                                 \n",
      " conv2d_3 (Conv2D)           (None, 14, 14, 64)        36928     \n",
      "                                                                 \n",
      " max_pooling2d_1 (MaxPooling  (None, 7, 7, 64)         0         \n",
      " 2D)                                                             \n",
      "                                                                 \n",
      " flatten (Flatten)           (None, 3136)              0         \n",
      "                                                                 \n",
      " dense (Dense)               (None, 128)               401536    \n",
      "                                                                 \n",
      " dense_1 (Dense)             (None, 64)                8256      \n",
      "                                                                 \n",
      " dense_2 (Dense)             (None, 10)                650       \n",
      "                                                                 \n",
      "=================================================================\n",
      "Total params: 475,434\n",
      "Trainable params: 475,434\n",
      "Non-trainable params: 0\n",
      "_________________________________________________________________\n"
     ]
    }
   ],
   "source": [
    "model.summary()"
   ]
  },
  {
   "cell_type": "code",
   "execution_count": null,
   "id": "918d3798",
   "metadata": {},
   "outputs": [],
   "source": []
  },
  {
   "cell_type": "code",
   "execution_count": null,
   "id": "35ffd03c",
   "metadata": {},
   "outputs": [],
   "source": []
  },
  {
   "cell_type": "markdown",
   "id": "86b697e5",
   "metadata": {},
   "source": [
    "## 유연하다는게... 무슨 의미죠??"
   ]
  },
  {
   "cell_type": "markdown",
   "id": "0d6b89dd",
   "metadata": {},
   "source": [
    "- 다음 스크립트를 보자..."
   ]
  },
  {
   "cell_type": "code",
   "execution_count": null,
   "id": "6c618dbe",
   "metadata": {},
   "outputs": [],
   "source": []
  }
 ],
 "metadata": {
  "kernelspec": {
   "display_name": "GPU",
   "language": "python",
   "name": "gpu"
  },
  "language_info": {
   "codemirror_mode": {
    "name": "ipython",
    "version": 3
   },
   "file_extension": ".py",
   "mimetype": "text/x-python",
   "name": "python",
   "nbconvert_exporter": "python",
   "pygments_lexer": "ipython3",
   "version": "3.8.18"
  },
  "varInspector": {
   "cols": {
    "lenName": 16,
    "lenType": 16,
    "lenVar": 40
   },
   "kernels_config": {
    "python": {
     "delete_cmd_postfix": "",
     "delete_cmd_prefix": "del ",
     "library": "var_list.py",
     "varRefreshCmd": "print(var_dic_list())"
    },
    "r": {
     "delete_cmd_postfix": ") ",
     "delete_cmd_prefix": "rm(",
     "library": "var_list.r",
     "varRefreshCmd": "cat(var_dic_list()) "
    }
   },
   "types_to_exclude": [
    "module",
    "function",
    "builtin_function_or_method",
    "instance",
    "_Feature"
   ],
   "window_display": false
  }
 },
 "nbformat": 4,
 "nbformat_minor": 5
}
