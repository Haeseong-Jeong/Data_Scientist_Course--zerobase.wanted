{
 "cells": [
  {
   "cell_type": "markdown",
   "id": "dd76e074",
   "metadata": {
    "school_cell_uuid": "581b252b81e24b78a8bf161e16479800"
   },
   "source": [
    "# 퍼셉트론"
   ]
  },
  {
   "cell_type": "code",
   "execution_count": 1,
   "id": "b58a3258",
   "metadata": {
    "ExecuteTime": {
     "end_time": "2023-10-06T08:05:59.067783Z",
     "start_time": "2023-10-06T08:05:53.125059Z"
    }
   },
   "outputs": [],
   "source": [
    "import tensorflow as tf\n",
    "import numpy as np"
   ]
  },
  {
   "cell_type": "markdown",
   "id": "48fad343",
   "metadata": {
    "school_cell_uuid": "82a294bfdc354b31a412f17ed124538b"
   },
   "source": [
    "이번엔 Iris 데이터 중 두 종류를 분류하는 퍼셉트론을 제작한다. y값은 1 또는 -1을 사용하고 활성화 함수로는 하이퍼탄젠트(hypertangent)함수를 사용한다.(시그모이드를 사용하면 미분값이 0으로 되는 경우가 생김)\n",
    "\n",
    "$$\\Large{ \\hat{y} = tanh(w^Tx) }$$"
   ]
  },
  {
   "cell_type": "markdown",
   "id": "56052641",
   "metadata": {},
   "source": [
    "비용 함수로는 다음 식을 사용한다. (맞는것은 빼고 틀린 것만 더하겠다)\n",
    "\n",
    "$$\n",
    "\\large{\n",
    "Loss = \\sum_{i=1}^N \\max(0, -y_i \\hat{y_i})\n",
    "}\n",
    "$$\n",
    "\n",
    "y와 y_hat이 동일하면 곱하기 값이 -1이 나와서 0을 반환\n",
    "```\n",
    "  1, 1 =>  1 * 1 * -1 => -1\n",
    " -1,-1 => -1 * -1 * -1 => -1\n",
    "```"
   ]
  },
  {
   "cell_type": "code",
   "execution_count": null,
   "id": "c756ed82",
   "metadata": {},
   "outputs": [],
   "source": []
  },
  {
   "cell_type": "code",
   "execution_count": 2,
   "id": "2edcacf9",
   "metadata": {
    "ExecuteTime": {
     "end_time": "2023-10-06T08:06:01.952230Z",
     "start_time": "2023-10-06T08:06:01.231163Z"
    },
    "school_cell_uuid": "a208a3840ab44bb8a13d5cc7822cf00d",
    "scrolled": true
   },
   "outputs": [
    {
     "name": "stdout",
     "output_type": "stream",
     "text": [
      ".. _iris_dataset:\n",
      "\n",
      "Iris plants dataset\n",
      "--------------------\n",
      "\n",
      "**Data Set Characteristics:**\n",
      "\n",
      "    :Number of Instances: 150 (50 in each of three classes)\n",
      "    :Number of Attributes: 4 numeric, predictive attributes and the class\n",
      "    :Attribute Information:\n",
      "        - sepal length in cm\n",
      "        - sepal width in cm\n",
      "        - petal length in cm\n",
      "        - petal width in cm\n",
      "        - class:\n",
      "                - Iris-Setosa\n",
      "                - Iris-Versicolour\n",
      "                - Iris-Virginica\n",
      "                \n",
      "    :Summary Statistics:\n",
      "\n",
      "    ============== ==== ==== ======= ===== ====================\n",
      "                    Min  Max   Mean    SD   Class Correlation\n",
      "    ============== ==== ==== ======= ===== ====================\n",
      "    sepal length:   4.3  7.9   5.84   0.83    0.7826\n",
      "    sepal width:    2.0  4.4   3.05   0.43   -0.4194\n",
      "    petal length:   1.0  6.9   3.76   1.76    0.9490  (high!)\n",
      "    petal width:    0.1  2.5   1.20   0.76    0.9565  (high!)\n",
      "    ============== ==== ==== ======= ===== ====================\n",
      "\n",
      "    :Missing Attribute Values: None\n",
      "    :Class Distribution: 33.3% for each of 3 classes.\n",
      "    :Creator: R.A. Fisher\n",
      "    :Donor: Michael Marshall (MARSHALL%PLU@io.arc.nasa.gov)\n",
      "    :Date: July, 1988\n",
      "\n",
      "The famous Iris database, first used by Sir R.A. Fisher. The dataset is taken\n",
      "from Fisher's paper. Note that it's the same as in R, but not as in the UCI\n",
      "Machine Learning Repository, which has two wrong data points.\n",
      "\n",
      "This is perhaps the best known database to be found in the\n",
      "pattern recognition literature.  Fisher's paper is a classic in the field and\n",
      "is referenced frequently to this day.  (See Duda & Hart, for example.)  The\n",
      "data set contains 3 classes of 50 instances each, where each class refers to a\n",
      "type of iris plant.  One class is linearly separable from the other 2; the\n",
      "latter are NOT linearly separable from each other.\n",
      "\n",
      ".. topic:: References\n",
      "\n",
      "   - Fisher, R.A. \"The use of multiple measurements in taxonomic problems\"\n",
      "     Annual Eugenics, 7, Part II, 179-188 (1936); also in \"Contributions to\n",
      "     Mathematical Statistics\" (John Wiley, NY, 1950).\n",
      "   - Duda, R.O., & Hart, P.E. (1973) Pattern Classification and Scene Analysis.\n",
      "     (Q327.D83) John Wiley & Sons.  ISBN 0-471-22361-1.  See page 218.\n",
      "   - Dasarathy, B.V. (1980) \"Nosing Around the Neighborhood: A New System\n",
      "     Structure and Classification Rule for Recognition in Partially Exposed\n",
      "     Environments\".  IEEE Transactions on Pattern Analysis and Machine\n",
      "     Intelligence, Vol. PAMI-2, No. 1, 67-71.\n",
      "   - Gates, G.W. (1972) \"The Reduced Nearest Neighbor Rule\".  IEEE Transactions\n",
      "     on Information Theory, May 1972, 431-433.\n",
      "   - See also: 1988 MLC Proceedings, 54-64.  Cheeseman et al\"s AUTOCLASS II\n",
      "     conceptual clustering system finds 3 classes in the data.\n",
      "   - Many, many more ...\n"
     ]
    }
   ],
   "source": [
    "from sklearn.datasets import load_iris\n",
    "iris = load_iris()\n",
    "print(iris.DESCR)"
   ]
  },
  {
   "cell_type": "code",
   "execution_count": 3,
   "id": "eab193fc",
   "metadata": {
    "ExecuteTime": {
     "end_time": "2023-10-06T08:06:02.751226Z",
     "start_time": "2023-10-06T08:06:02.746242Z"
    }
   },
   "outputs": [],
   "source": [
    "idx = np.in1d(iris.target, [0, 2])\n",
    "X_data = iris.data[idx, 0:2]\n",
    "y_data = (iris.target[idx] - 1.0)[:, np.newaxis] "
   ]
  },
  {
   "cell_type": "code",
   "execution_count": 4,
   "id": "2d9ca57b",
   "metadata": {
    "ExecuteTime": {
     "end_time": "2023-10-06T08:06:03.683761Z",
     "start_time": "2023-10-06T08:06:03.667570Z"
    }
   },
   "outputs": [
    {
     "data": {
      "text/plain": [
       "((100, 2), (100, 1))"
      ]
     },
     "execution_count": 4,
     "metadata": {},
     "output_type": "execute_result"
    }
   ],
   "source": [
    "X_data.shape, y_data.shape"
   ]
  },
  {
   "cell_type": "markdown",
   "id": "f5929ad7",
   "metadata": {},
   "source": [
    "#### 이 데이터를 이용해 Perceptron을 구현해보세요! \n",
    " - 데이터 하나당 한번씩 weights 업데이트\n",
    " - step size == 0.0003\n",
    " - iteration == 200"
   ]
  },
  {
   "cell_type": "code",
   "execution_count": 5,
   "id": "d74df376",
   "metadata": {
    "ExecuteTime": {
     "end_time": "2023-10-06T08:06:04.669727Z",
     "start_time": "2023-10-06T08:06:04.657726Z"
    }
   },
   "outputs": [],
   "source": [
    "num_iter = 500\n",
    "lr = 0.0003"
   ]
  },
  {
   "cell_type": "markdown",
   "id": "136211e3",
   "metadata": {},
   "source": [
    "-----"
   ]
  },
  {
   "cell_type": "code",
   "execution_count": null,
   "id": "291fdb49",
   "metadata": {},
   "outputs": [],
   "source": []
  },
  {
   "cell_type": "code",
   "execution_count": 6,
   "id": "b6413cab",
   "metadata": {
    "ExecuteTime": {
     "end_time": "2023-10-06T08:06:08.600194Z",
     "start_time": "2023-10-06T08:06:07.907544Z"
    }
   },
   "outputs": [],
   "source": [
    "w = tf.Variable(tf.random.normal([2, 1], dtype=tf.float64))\n",
    "b = tf.Variable(tf.random.normal([1, 1], dtype=tf.float64))"
   ]
  },
  {
   "cell_type": "code",
   "execution_count": 7,
   "id": "25fd48a8",
   "metadata": {
    "ExecuteTime": {
     "end_time": "2023-10-06T08:08:40.830866Z",
     "start_time": "2023-10-06T08:06:10.317709Z"
    }
   },
   "outputs": [],
   "source": [
    "zero = tf.constant(0, dtype=tf.float64)\n",
    "\n",
    "for i in range(num_iter):\n",
    "    for i in range(X_data.shape[0]): # X 데이터 개수 만큼\n",
    "        x = X_data[i:i+1] # == expand_dims 랑 같은 효과\n",
    "        y = y_data[i:i+1]\n",
    "        \n",
    "        with tf.GradientTape() as tape:\n",
    "            logit = tf.matmul(x, w) + b   # logit = 우리의 목표 함수\n",
    "            y_hat = tf.tanh(logit)        # 활성화 함수를 거쳐 예측 (하이퍼탄젠트)\n",
    "            loss = tf.maximum(zero, tf.multiply(-y, y_hat)) # 데이터가 한개씩이라 reduce_max안해도됨 \n",
    "\n",
    "        grad = tape.gradient(loss, [w, b])\n",
    "        w.assign_add(-lr * grad[0])\n",
    "        b.assign_add(-lr * grad[1])\n"
   ]
  },
  {
   "cell_type": "code",
   "execution_count": 10,
   "id": "c8efc0e4",
   "metadata": {
    "ExecuteTime": {
     "end_time": "2023-10-06T08:15:56.788277Z",
     "start_time": "2023-10-06T08:15:56.779725Z"
    }
   },
   "outputs": [],
   "source": [
    "# 위에서 예측한 W와 b로 함수를 구현\n",
    "y_pred = tf.tanh(tf.matmul(X_data, w) + b)"
   ]
  },
  {
   "cell_type": "code",
   "execution_count": 11,
   "id": "b7e571c3",
   "metadata": {
    "ExecuteTime": {
     "end_time": "2023-10-06T08:15:58.201974Z",
     "start_time": "2023-10-06T08:15:58.179759Z"
    },
    "scrolled": true
   },
   "outputs": [
    {
     "name": "stdout",
     "output_type": "stream",
     "text": [
      "예측치 : [0.99999998] 정답 : [-1.]\n",
      "예측치 : [1.] 정답 : [1.]\n",
      "예측치 : [1.] 정답 : [1.]\n"
     ]
    }
   ],
   "source": [
    "print(\"예측치 :\", y_pred[0].numpy(),  \"정답 :\", y_data[0])\n",
    "print(\"예측치 :\", y_pred[51].numpy(), \"정답 :\", y_data[51])\n",
    "print(\"예측치 :\", y_pred[88].numpy(), \"정답 :\", y_data[88])"
   ]
  },
  {
   "cell_type": "markdown",
   "id": "2594e22d",
   "metadata": {},
   "source": [
    "#### 0보다크면 1, 0보다 작으면 -1 로 후처리 작업"
   ]
  },
  {
   "cell_type": "code",
   "execution_count": 12,
   "id": "561f122b",
   "metadata": {
    "ExecuteTime": {
     "end_time": "2023-10-06T08:16:10.098884Z",
     "start_time": "2023-10-06T08:16:10.082481Z"
    }
   },
   "outputs": [
    {
     "name": "stdout",
     "output_type": "stream",
     "text": [
      "예측치 : 1 정답 : [-1.]\n",
      "예측치 : 1 정답 : [1.]\n",
      "예측치 : 1 정답 : [1.]\n"
     ]
    }
   ],
   "source": [
    "print(\"예측치 :\", -1 if y_pred[0] < 0 else 1,  \"정답 :\", y_data[0])\n",
    "print(\"예측치 :\", -1 if y_pred[51] < 0 else 1, \"정답 :\", y_data[51])\n",
    "print(\"예측치 :\", -1 if y_pred[88] < 0 else 1, \"정답 :\", y_data[88])"
   ]
  },
  {
   "cell_type": "code",
   "execution_count": null,
   "id": "bce83268",
   "metadata": {},
   "outputs": [],
   "source": []
  }
 ],
 "metadata": {
  "kernelspec": {
   "display_name": "GPU",
   "language": "python",
   "name": "gpu"
  },
  "language_info": {
   "codemirror_mode": {
    "name": "ipython",
    "version": 3
   },
   "file_extension": ".py",
   "mimetype": "text/x-python",
   "name": "python",
   "nbconvert_exporter": "python",
   "pygments_lexer": "ipython3",
   "version": "3.8.18"
  },
  "varInspector": {
   "cols": {
    "lenName": 16,
    "lenType": 16,
    "lenVar": 40
   },
   "kernels_config": {
    "python": {
     "delete_cmd_postfix": "",
     "delete_cmd_prefix": "del ",
     "library": "var_list.py",
     "varRefreshCmd": "print(var_dic_list())"
    },
    "r": {
     "delete_cmd_postfix": ") ",
     "delete_cmd_prefix": "rm(",
     "library": "var_list.r",
     "varRefreshCmd": "cat(var_dic_list()) "
    }
   },
   "types_to_exclude": [
    "module",
    "function",
    "builtin_function_or_method",
    "instance",
    "_Feature"
   ],
   "window_display": false
  }
 },
 "nbformat": 4,
 "nbformat_minor": 5
}
