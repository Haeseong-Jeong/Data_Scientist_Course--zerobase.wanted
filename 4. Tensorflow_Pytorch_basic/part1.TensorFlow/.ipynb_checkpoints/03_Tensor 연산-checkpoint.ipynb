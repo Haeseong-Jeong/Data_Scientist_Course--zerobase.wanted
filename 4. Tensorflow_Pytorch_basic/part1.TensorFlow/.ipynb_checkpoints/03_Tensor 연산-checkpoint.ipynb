{
 "cells": [
  {
   "cell_type": "markdown",
   "id": "b0a2d006",
   "metadata": {},
   "source": [
    "# Tensor 연산"
   ]
  },
  {
   "cell_type": "code",
   "execution_count": 1,
   "id": "a47ff13a",
   "metadata": {
    "ExecuteTime": {
     "end_time": "2023-10-06T05:47:04.657128Z",
     "start_time": "2023-10-06T05:46:59.984670Z"
    }
   },
   "outputs": [],
   "source": [
    "import tensorflow as tf\n",
    "import numpy as np"
   ]
  },
  {
   "cell_type": "markdown",
   "id": "7a1c90c4",
   "metadata": {},
   "source": [
    "아래의 기본 연산은 특수 메서드를 이용하여 연산자 오버로딩이 되어 있으므로 그냥 연산자 기호를 사용하는게 가능!\n",
    "\n",
    "* `tf.add`: 덧셈       : +\n",
    "* `tf.subtract`: 뺄셈 : -\n",
    "* `tf.multiply`: 곱셈 : *\n",
    "* `tf.divide`: 나눗셈 : /\n",
    "* `tf.pow`: n-제곱 : **\n",
    "* `tf.negative`: 음수 부호 : -\n"
   ]
  },
  {
   "cell_type": "code",
   "execution_count": 2,
   "id": "8ece8410",
   "metadata": {
    "ExecuteTime": {
     "end_time": "2023-10-06T05:47:15.336602Z",
     "start_time": "2023-10-06T05:47:10.933567Z"
    }
   },
   "outputs": [
    {
     "data": {
      "text/plain": [
       "<tf.Tensor: shape=(6,), dtype=int32, numpy=array([2, 3, 4, 5, 6, 7])>"
      ]
     },
     "execution_count": 2,
     "metadata": {},
     "output_type": "execute_result"
    }
   ],
   "source": [
    "a = tf.range(6, dtype=tf.int32)    # 0,1,2,3,4,5\n",
    "b = 2 * tf.ones(6, dtype=tf.int32) # 2,2,2,2,2,2\n",
    "\n",
    "tf.add(a, b)"
   ]
  },
  {
   "cell_type": "code",
   "execution_count": 3,
   "id": "c76d5938",
   "metadata": {
    "ExecuteTime": {
     "end_time": "2023-10-06T05:47:16.086428Z",
     "start_time": "2023-10-06T05:47:16.078390Z"
    }
   },
   "outputs": [
    {
     "data": {
      "text/plain": [
       "<tf.Tensor: shape=(6,), dtype=int32, numpy=array([2, 3, 4, 5, 6, 7])>"
      ]
     },
     "execution_count": 3,
     "metadata": {},
     "output_type": "execute_result"
    }
   ],
   "source": [
    "a + b    # == tf.add(a, b)"
   ]
  },
  {
   "cell_type": "code",
   "execution_count": null,
   "id": "bfd89a77",
   "metadata": {},
   "outputs": [],
   "source": []
  },
  {
   "cell_type": "markdown",
   "id": "64f5dc6e",
   "metadata": {},
   "source": [
    "**여러가지 연산**\n",
    "\n",
    "* `tf.abs`: 절대값\n",
    "* `tf.sign`: 부호\n",
    "* `tf.round`: 반올림\n",
    "* `tf.ceil`: 올림\n",
    "* `tf.floor`: 내림\n",
    "* `tf.square`: 제곱\n",
    "* `tf.sqrt`: 제곱근\n",
    "* `tf.maximum`: 두 텐서의 각 원소에서 최댓값만 반환.\n",
    "* `tf.minimum`: 두 텐서의 각 원소에서 최솟값만 반환.\n",
    "* `tf.cumsum`: 누적합\n",
    "* `tf.cumprod`: 누적곱\n"
   ]
  },
  {
   "cell_type": "code",
   "execution_count": 4,
   "id": "2672b782",
   "metadata": {
    "ExecuteTime": {
     "end_time": "2023-10-06T05:47:18.686672Z",
     "start_time": "2023-10-06T05:47:18.672642Z"
    }
   },
   "outputs": [
    {
     "data": {
      "text/plain": [
       "<tf.Tensor: shape=(6,), dtype=int32, numpy=array([2, 2, 2, 3, 4, 5])>"
      ]
     },
     "execution_count": 4,
     "metadata": {},
     "output_type": "execute_result"
    }
   ],
   "source": [
    "tf.maximum(a, b)"
   ]
  },
  {
   "cell_type": "code",
   "execution_count": null,
   "id": "5a703ca5",
   "metadata": {},
   "outputs": [],
   "source": []
  },
  {
   "cell_type": "markdown",
   "id": "b7aa8914",
   "metadata": {},
   "source": [
    "#### Axis 이해하기"
   ]
  },
  {
   "cell_type": "code",
   "execution_count": 5,
   "id": "35fb668d",
   "metadata": {
    "ExecuteTime": {
     "end_time": "2023-10-06T05:47:25.002229Z",
     "start_time": "2023-10-06T05:47:24.979947Z"
    }
   },
   "outputs": [],
   "source": [
    "rank_2 = tf.random.normal((3, 3))"
   ]
  },
  {
   "cell_type": "code",
   "execution_count": 6,
   "id": "8cb367b7",
   "metadata": {
    "ExecuteTime": {
     "end_time": "2023-10-06T05:47:26.169171Z",
     "start_time": "2023-10-06T05:47:26.159994Z"
    }
   },
   "outputs": [
    {
     "data": {
      "text/plain": [
       "<tf.Tensor: shape=(3, 3), dtype=float32, numpy=\n",
       "array([[ 0.39814213,  1.769758  ,  2.1790667 ],\n",
       "       [ 0.7286186 ,  1.0718534 ,  0.5475342 ],\n",
       "       [-0.07769339, -1.0954499 , -1.126094  ]], dtype=float32)>"
      ]
     },
     "execution_count": 6,
     "metadata": {},
     "output_type": "execute_result"
    }
   ],
   "source": [
    "rank_2"
   ]
  },
  {
   "cell_type": "code",
   "execution_count": 7,
   "id": "887c9ebf",
   "metadata": {
    "ExecuteTime": {
     "end_time": "2023-10-06T05:47:49.327077Z",
     "start_time": "2023-10-06T05:47:49.311051Z"
    }
   },
   "outputs": [
    {
     "data": {
      "text/plain": [
       "<tf.Tensor: shape=(3,), dtype=float32, numpy=array([0.39814213, 1.769758  , 2.1790667 ], dtype=float32)>"
      ]
     },
     "execution_count": 7,
     "metadata": {},
     "output_type": "execute_result"
    }
   ],
   "source": [
    "rank_2[0]"
   ]
  },
  {
   "cell_type": "code",
   "execution_count": 8,
   "id": "d6e00ecb",
   "metadata": {
    "ExecuteTime": {
     "end_time": "2023-10-06T05:47:58.374346Z",
     "start_time": "2023-10-06T05:47:58.351568Z"
    }
   },
   "outputs": [
    {
     "data": {
      "text/plain": [
       "<tf.Tensor: shape=(), dtype=float32, numpy=0.39814213>"
      ]
     },
     "execution_count": 8,
     "metadata": {},
     "output_type": "execute_result"
    }
   ],
   "source": [
    "rank_2[0, 0]"
   ]
  },
  {
   "cell_type": "markdown",
   "id": "22ea2e3e",
   "metadata": {},
   "source": [
    "### 3차원"
   ]
  },
  {
   "cell_type": "code",
   "execution_count": 9,
   "id": "a8e2bc76",
   "metadata": {
    "ExecuteTime": {
     "end_time": "2023-10-06T05:47:59.487465Z",
     "start_time": "2023-10-06T05:47:59.470230Z"
    }
   },
   "outputs": [],
   "source": [
    "rank_3 = tf.random.normal((3, 3, 3))"
   ]
  },
  {
   "cell_type": "code",
   "execution_count": 10,
   "id": "b521b95b",
   "metadata": {
    "ExecuteTime": {
     "end_time": "2023-10-06T05:48:00.188041Z",
     "start_time": "2023-10-06T05:48:00.168844Z"
    }
   },
   "outputs": [
    {
     "data": {
      "text/plain": [
       "<tf.Tensor: shape=(3, 3, 3), dtype=float32, numpy=\n",
       "array([[[-1.115948  ,  0.23084545,  0.13986737],\n",
       "        [ 0.18146299, -1.9267255 ,  1.2633066 ],\n",
       "        [ 1.2865529 , -0.25478554, -1.6716673 ]],\n",
       "\n",
       "       [[-1.3088338 ,  0.6820537 ,  0.37961668],\n",
       "        [ 1.0021443 ,  1.1020442 ,  2.3583856 ],\n",
       "        [-1.0938799 ,  2.1537602 , -0.7997435 ]],\n",
       "\n",
       "       [[ 1.0792235 , -0.14832015,  0.51082844],\n",
       "        [-0.36452863, -1.087566  , -0.02816686],\n",
       "        [-1.2336739 ,  0.4822116 ,  1.2707691 ]]], dtype=float32)>"
      ]
     },
     "execution_count": 10,
     "metadata": {},
     "output_type": "execute_result"
    }
   ],
   "source": [
    "rank_3"
   ]
  },
  {
   "cell_type": "code",
   "execution_count": 11,
   "id": "58af702a",
   "metadata": {
    "ExecuteTime": {
     "end_time": "2023-10-06T05:48:02.539677Z",
     "start_time": "2023-10-06T05:48:02.519414Z"
    }
   },
   "outputs": [
    {
     "data": {
      "text/plain": [
       "<tf.Tensor: shape=(), dtype=float32, numpy=2.3583856>"
      ]
     },
     "execution_count": 11,
     "metadata": {},
     "output_type": "execute_result"
    }
   ],
   "source": [
    "rank_3[1,1,2]"
   ]
  },
  {
   "cell_type": "markdown",
   "id": "f62e6020",
   "metadata": {},
   "source": [
    "### 4차원..."
   ]
  },
  {
   "cell_type": "code",
   "execution_count": 12,
   "id": "beed0411",
   "metadata": {
    "ExecuteTime": {
     "end_time": "2023-10-06T05:48:03.083445Z",
     "start_time": "2023-10-06T05:48:03.070989Z"
    }
   },
   "outputs": [],
   "source": [
    "rank_4 = tf.random.normal((3, 3, 3, 3))"
   ]
  },
  {
   "cell_type": "code",
   "execution_count": 13,
   "id": "14a9b29a",
   "metadata": {
    "ExecuteTime": {
     "end_time": "2023-10-06T05:48:03.788905Z",
     "start_time": "2023-10-06T05:48:03.769756Z"
    }
   },
   "outputs": [
    {
     "data": {
      "text/plain": [
       "<tf.Tensor: shape=(3, 3, 3, 3), dtype=float32, numpy=\n",
       "array([[[[-0.22613189,  0.28266644,  0.2827372 ],\n",
       "         [ 0.8900553 ,  1.9183443 ,  0.88590634],\n",
       "         [ 0.32991943, -0.57631737, -0.31636676]],\n",
       "\n",
       "        [[-0.24353571,  0.43533817,  0.21266663],\n",
       "         [-1.9830531 , -0.27059138, -0.43016696],\n",
       "         [-0.54962003, -1.154779  , -0.6834425 ]],\n",
       "\n",
       "        [[ 0.5097373 , -1.6783874 ,  0.8509665 ],\n",
       "         [-1.4350357 , -0.08479296, -0.80452055],\n",
       "         [-0.9322655 ,  0.38514045,  0.06703473]]],\n",
       "\n",
       "\n",
       "       [[[-1.2863257 , -1.3312482 , -1.396127  ],\n",
       "         [-0.8945677 ,  1.6948917 ,  1.0584102 ],\n",
       "         [-0.53903884,  0.98152065,  0.33956978]],\n",
       "\n",
       "        [[-0.48450866, -1.0257032 ,  0.3016834 ],\n",
       "         [ 0.7684464 , -1.0286465 , -0.28119454],\n",
       "         [ 0.7495225 ,  1.267065  ,  0.07127785]],\n",
       "\n",
       "        [[ 2.3458343 , -0.09044173,  0.40525675],\n",
       "         [-0.56357294,  0.6821229 ,  0.20027688],\n",
       "         [-0.23397176, -0.860456  ,  0.396742  ]]],\n",
       "\n",
       "\n",
       "       [[[-0.29762584, -1.6409606 , -1.6202447 ],\n",
       "         [ 0.64254105, -0.9075564 ,  0.5028755 ],\n",
       "         [-0.5240384 , -1.1860892 , -0.7507365 ]],\n",
       "\n",
       "        [[ 1.446706  , -0.9529168 ,  1.0194899 ],\n",
       "         [-0.81026584,  0.39811447,  1.55206   ],\n",
       "         [ 0.23542573,  0.633843  ,  0.23134282]],\n",
       "\n",
       "        [[ 0.44581237,  0.48839107, -0.61289304],\n",
       "         [-0.03882023, -1.9745204 , -1.0963304 ],\n",
       "         [ 0.3027342 ,  1.4567963 , -0.8774257 ]]]], dtype=float32)>"
      ]
     },
     "execution_count": 13,
     "metadata": {},
     "output_type": "execute_result"
    }
   ],
   "source": [
    "rank_4"
   ]
  },
  {
   "cell_type": "code",
   "execution_count": 14,
   "id": "a988bf20",
   "metadata": {
    "ExecuteTime": {
     "end_time": "2023-10-06T05:48:04.266376Z",
     "start_time": "2023-10-06T05:48:04.245968Z"
    }
   },
   "outputs": [
    {
     "data": {
      "text/plain": [
       "<tf.Tensor: shape=(), dtype=float32, numpy=-0.56357294>"
      ]
     },
     "execution_count": 14,
     "metadata": {},
     "output_type": "execute_result"
    }
   ],
   "source": [
    "rank_4[1,2,1,0]"
   ]
  },
  {
   "cell_type": "markdown",
   "id": "2b50e10d",
   "metadata": {},
   "source": [
    "**차원 축소 연산**\n",
    "\n",
    "* `tf.reduce_mean`: 설정한 축의 평균을 구한다. \n",
    "* `tf.reduce_max`: 설정한 축의 최댓값을 구한다. \n",
    "* `tf.reduce_min`: 설정한 축의 최솟값을 구한다. \n",
    "* `tf.reduce_prod`: 설정한 축의 요소를 모두 곱한 값을 구한다. \n",
    "* `tf.reduce_sum`: 설정한 축의 요소를 모두 더한 값을 구한다. "
   ]
  },
  {
   "cell_type": "code",
   "execution_count": 15,
   "id": "03d2c5cd",
   "metadata": {
    "ExecuteTime": {
     "end_time": "2023-10-06T05:48:05.473154Z",
     "start_time": "2023-10-06T05:48:05.461129Z"
    }
   },
   "outputs": [
    {
     "data": {
      "text/plain": [
       "<tf.Tensor: shape=(6,), dtype=int32, numpy=array([0, 1, 2, 3, 4, 5])>"
      ]
     },
     "execution_count": 15,
     "metadata": {},
     "output_type": "execute_result"
    }
   ],
   "source": [
    "a"
   ]
  },
  {
   "cell_type": "code",
   "execution_count": 16,
   "id": "a4056a5f",
   "metadata": {
    "ExecuteTime": {
     "end_time": "2023-10-06T05:48:39.461540Z",
     "start_time": "2023-10-06T05:48:39.453537Z"
    }
   },
   "outputs": [
    {
     "data": {
      "text/plain": [
       "(<tf.Tensor: shape=(), dtype=int32, numpy=15>,)"
      ]
     },
     "execution_count": 16,
     "metadata": {},
     "output_type": "execute_result"
    }
   ],
   "source": [
    "tf.reduce_sum(a, axis=0), # 1 + 2 + 3 + 4 + 5, 차원 0 => 스칼라값"
   ]
  },
  {
   "cell_type": "code",
   "execution_count": 17,
   "id": "fc047ccb",
   "metadata": {
    "ExecuteTime": {
     "end_time": "2023-10-06T05:48:40.423801Z",
     "start_time": "2023-10-06T05:48:40.413763Z"
    }
   },
   "outputs": [
    {
     "data": {
      "text/plain": [
       "<tf.Tensor: shape=(1,), dtype=int32, numpy=array([15])>"
      ]
     },
     "execution_count": 17,
     "metadata": {},
     "output_type": "execute_result"
    }
   ],
   "source": [
    "tf.reduce_sum(a, axis=0, keepdims=True) # 차원 유지"
   ]
  },
  {
   "cell_type": "code",
   "execution_count": 21,
   "id": "cdc61ead",
   "metadata": {
    "ExecuteTime": {
     "end_time": "2023-10-06T05:50:27.391500Z",
     "start_time": "2023-10-06T05:50:27.381502Z"
    }
   },
   "outputs": [
    {
     "data": {
      "text/plain": [
       "<tf.Tensor: shape=(2, 7), dtype=float32, numpy=\n",
       "array([[ 0.31923726,  0.66946393, -0.62615275,  0.8556561 , -0.39368197,\n",
       "         0.4237755 , -0.64446926],\n",
       "       [-0.0089515 ,  0.72027147, -0.09445363, -0.60379034,  0.14183673,\n",
       "        -0.24926859,  0.50220466]], dtype=float32)>"
      ]
     },
     "execution_count": 21,
     "metadata": {},
     "output_type": "execute_result"
    }
   ],
   "source": [
    "b = tf.random.normal((2, 7))\n",
    "b"
   ]
  },
  {
   "cell_type": "code",
   "execution_count": 22,
   "id": "23d4fade",
   "metadata": {
    "ExecuteTime": {
     "end_time": "2023-10-06T05:50:27.839321Z",
     "start_time": "2023-10-06T05:50:27.825202Z"
    }
   },
   "outputs": [
    {
     "data": {
      "text/plain": [
       "<tf.Tensor: shape=(2,), dtype=float32, numpy=array([0.08626126, 0.05826411], dtype=float32)>"
      ]
     },
     "execution_count": 22,
     "metadata": {},
     "output_type": "execute_result"
    }
   ],
   "source": [
    "tf.reduce_mean(b, axis=1) # --> 평균 : 결과 2개값"
   ]
  },
  {
   "cell_type": "code",
   "execution_count": 23,
   "id": "df8a5968",
   "metadata": {
    "ExecuteTime": {
     "end_time": "2023-10-06T05:50:28.725759Z",
     "start_time": "2023-10-06T05:50:28.708624Z"
    }
   },
   "outputs": [
    {
     "data": {
      "text/plain": [
       "<tf.Tensor: shape=(7,), dtype=float32, numpy=\n",
       "array([ 0.15514289,  0.69486773, -0.3603032 ,  0.12593287, -0.12592262,\n",
       "        0.08725345, -0.0711323 ], dtype=float32)>"
      ]
     },
     "execution_count": 23,
     "metadata": {},
     "output_type": "execute_result"
    }
   ],
   "source": [
    "tf.reduce_mean(b, axis=0) # ↓ 평균 : 결과 7개 값"
   ]
  },
  {
   "cell_type": "code",
   "execution_count": 24,
   "id": "b2aad59a",
   "metadata": {
    "ExecuteTime": {
     "end_time": "2023-10-06T05:50:50.935297Z",
     "start_time": "2023-10-06T05:50:50.910889Z"
    }
   },
   "outputs": [
    {
     "data": {
      "text/plain": [
       "<tf.Tensor: shape=(2, 4, 3), dtype=float32, numpy=\n",
       "array([[[-0.591768  ,  0.10008945,  0.45401996],\n",
       "        [-0.6142918 ,  1.5059266 ,  0.13828094],\n",
       "        [-1.9324801 ,  0.2968577 ,  0.2449193 ],\n",
       "        [-2.758796  ,  2.0170872 , -0.37225488]],\n",
       "\n",
       "       [[ 0.9936794 , -1.3130609 , -0.57739097],\n",
       "        [ 0.09752806,  0.75278795,  1.6381575 ],\n",
       "        [ 0.2709007 , -1.7017047 ,  0.08738305],\n",
       "        [-1.6442024 , -0.10869202, -0.8578436 ]]], dtype=float32)>"
      ]
     },
     "execution_count": 24,
     "metadata": {},
     "output_type": "execute_result"
    }
   ],
   "source": [
    "c = tf.random.normal((2, 4, 3))\n",
    "c"
   ]
  },
  {
   "cell_type": "code",
   "execution_count": 25,
   "id": "68be1bd1",
   "metadata": {
    "ExecuteTime": {
     "end_time": "2023-10-06T05:50:51.329915Z",
     "start_time": "2023-10-06T05:50:51.314399Z"
    }
   },
   "outputs": [
    {
     "data": {
      "text/plain": [
       "<tf.Tensor: shape=(4, 3), dtype=float32, numpy=\n",
       "array([[ 0.20095569, -0.6064857 , -0.0616855 ],\n",
       "       [-0.25838187,  1.1293573 ,  0.88821924],\n",
       "       [-0.8307897 , -0.7024235 ,  0.16615117],\n",
       "       [-2.2014992 ,  0.9541976 , -0.61504924]], dtype=float32)>"
      ]
     },
     "execution_count": 25,
     "metadata": {},
     "output_type": "execute_result"
    }
   ],
   "source": [
    "tf.reduce_mean(c, axis=0)"
   ]
  },
  {
   "cell_type": "code",
   "execution_count": 26,
   "id": "e3b04a8a",
   "metadata": {
    "ExecuteTime": {
     "end_time": "2023-10-06T05:50:51.785673Z",
     "start_time": "2023-10-06T05:50:51.762374Z"
    }
   },
   "outputs": [
    {
     "data": {
      "text/plain": [
       "<tf.Tensor: shape=(2, 3), dtype=float32, numpy=\n",
       "array([[-1.474334  ,  0.97999024,  0.11624133],\n",
       "       [-0.07052353, -0.5926674 ,  0.07257648]], dtype=float32)>"
      ]
     },
     "execution_count": 26,
     "metadata": {},
     "output_type": "execute_result"
    }
   ],
   "source": [
    "tf.reduce_mean(c, axis=1)"
   ]
  },
  {
   "cell_type": "code",
   "execution_count": 27,
   "id": "99e37e6a",
   "metadata": {
    "ExecuteTime": {
     "end_time": "2023-10-06T05:50:52.145277Z",
     "start_time": "2023-10-06T05:50:52.129072Z"
    }
   },
   "outputs": [
    {
     "data": {
      "text/plain": [
       "<tf.Tensor: shape=(2, 4), dtype=float32, numpy=\n",
       "array([[-0.01255288,  0.34330526, -0.4635677 , -0.3713212 ],\n",
       "       [-0.29892415,  0.82949114, -0.44780698, -0.870246  ]],\n",
       "      dtype=float32)>"
      ]
     },
     "execution_count": 27,
     "metadata": {},
     "output_type": "execute_result"
    }
   ],
   "source": [
    "tf.reduce_mean(c, axis=2)"
   ]
  },
  {
   "cell_type": "code",
   "execution_count": null,
   "id": "93a92693",
   "metadata": {},
   "outputs": [],
   "source": []
  },
  {
   "cell_type": "code",
   "execution_count": null,
   "id": "5170cf0b",
   "metadata": {},
   "outputs": [],
   "source": []
  },
  {
   "cell_type": "code",
   "execution_count": null,
   "id": "a124f31e",
   "metadata": {},
   "outputs": [],
   "source": []
  },
  {
   "cell_type": "markdown",
   "id": "6719bd69",
   "metadata": {},
   "source": [
    "행렬과 관련된 연산\n",
    "\n",
    "* `tf.matmul`: 내적\n",
    "* `tf.linalg.inv`: 역행렬\n"
   ]
  },
  {
   "cell_type": "code",
   "execution_count": 28,
   "id": "d38b9776",
   "metadata": {
    "ExecuteTime": {
     "end_time": "2023-10-06T05:50:56.386588Z",
     "start_time": "2023-10-06T05:50:54.122188Z"
    }
   },
   "outputs": [
    {
     "data": {
      "text/plain": [
       "<tf.Tensor: shape=(2, 2), dtype=float32, numpy=\n",
       "array([[2., 2.],\n",
       "       [1., 1.]], dtype=float32)>"
      ]
     },
     "execution_count": 28,
     "metadata": {},
     "output_type": "execute_result"
    }
   ],
   "source": [
    "a = tf.constant([[2, 0], [0, 1]], dtype=tf.float32)\n",
    "b = tf.constant([[1, 1], [1, 1]], dtype=tf.float32)\n",
    "tf.matmul(a, b)"
   ]
  },
  {
   "cell_type": "code",
   "execution_count": 29,
   "id": "8af1362b",
   "metadata": {
    "ExecuteTime": {
     "end_time": "2023-10-06T05:50:57.966521Z",
     "start_time": "2023-10-06T05:50:56.390595Z"
    }
   },
   "outputs": [
    {
     "data": {
      "text/plain": [
       "<tf.Tensor: shape=(2, 2), dtype=float32, numpy=\n",
       "array([[0.5, 0. ],\n",
       "       [0. , 1. ]], dtype=float32)>"
      ]
     },
     "execution_count": 29,
     "metadata": {},
     "output_type": "execute_result"
    }
   ],
   "source": [
    "a = tf.constant([[2, 0], [0, 1]], dtype=tf.float32)\n",
    "tf.linalg.inv(a)"
   ]
  },
  {
   "cell_type": "code",
   "execution_count": null,
   "id": "1d89cc35",
   "metadata": {},
   "outputs": [],
   "source": []
  },
  {
   "cell_type": "markdown",
   "id": "b253bf69",
   "metadata": {},
   "source": [
    "**크기 및 차원을 바꾸는 명령**\n",
    " (잘 사용됩니다!!)\n",
    " \n",
    "이를 사용 할 때는 축을 잘 이해하고 사용하시면 좋습니다. \n",
    "\n",
    "* `tf.reshape`: 벡터 행렬의 크기 변환\n",
    "* `tf.transpose`: 전치 연산\n",
    "* `tf.expand_dims`: 지정한 축으로 차원을 추가\n",
    "* `tf.squeeze`: 벡터로 차원을 축소"
   ]
  },
  {
   "cell_type": "code",
   "execution_count": 30,
   "id": "e542cd66",
   "metadata": {
    "ExecuteTime": {
     "end_time": "2023-10-06T05:50:57.997183Z",
     "start_time": "2023-10-06T05:50:57.971148Z"
    },
    "scrolled": false
   },
   "outputs": [
    {
     "name": "stdout",
     "output_type": "stream",
     "text": [
      "a     : tf.Tensor([0 1 2 3 4 5], shape=(6,), dtype=int32) \n",
      "\n",
      "a_2d  : tf.Tensor(\n",
      "[[0 1 2]\n",
      " [3 4 5]], shape=(2, 3), dtype=int32) \n",
      "\n",
      "a_2d_t: tf.Tensor(\n",
      "[[0 3]\n",
      " [1 4]\n",
      " [2 5]], shape=(3, 2), dtype=int32) \n",
      "\n",
      "a_3d  : tf.Tensor(\n",
      "[[[0 1 2]\n",
      "  [3 4 5]]], shape=(1, 2, 3), dtype=int32) \n",
      "\n",
      "a_4d  : tf.Tensor(\n",
      "[[[[0]\n",
      "   [1]\n",
      "   [2]]\n",
      "\n",
      "  [[3]\n",
      "   [4]\n",
      "   [5]]]], shape=(1, 2, 3, 1), dtype=int32) \n",
      "\n",
      "a_1d  : tf.Tensor(\n",
      "[[0 1 2]\n",
      " [3 4 5]], shape=(2, 3), dtype=int32) \n",
      "\n"
     ]
    }
   ],
   "source": [
    "a = tf.range(6, dtype=tf.int32)      # [0, 1, 2, 3, 4, 5]\n",
    "\n",
    "print(\"a     :\", a, \"\\n\")\n",
    "\n",
    "a_2d = tf.reshape(a, (2, 3))  # 1차원 벡터는 2x3 크기의 2차원 행렬로 변환\n",
    "\n",
    "print(\"a_2d  :\", a_2d, \"\\n\")\n",
    "\n",
    "a_2d_t = tf.transpose(a_2d)   # 2x3 크기의 2차원 행렬을 3x2 크기의 2차원 행렬로 변환\n",
    "\n",
    "print(\"a_2d_t:\", a_2d_t, \"\\n\")\n",
    "\n",
    "## expand_dims에서 숫자는 차원을 늘릴 위치\n",
    "a_3d = tf.expand_dims(a_2d, 0) # 2x3 크기의 2차원 행렬을 1x2x3 크기의 3차원 행렬로 변환\n",
    "print(\"a_3d  :\", a_3d, \"\\n\")\n",
    "a_4d = tf.expand_dims(a_3d, 3) # 1x2x3 크기의 3차원 행렬을 1x2x3x1 크기의 4차원 행렬로 변환\n",
    "## 여기서 3을 -1로 해도됨\n",
    "\n",
    "print(\"a_4d  :\", a_4d, \"\\n\")\n",
    "\n",
    "a_1d = tf.squeeze(a_4d) # 원소의 개수가 1인 차원은 버린다, axis를 기준으로 넣을수있다.\n",
    "\n",
    "print(\"a_1d  :\", a_1d, \"\\n\")   # 1x2x3x1 크기의 4차원 행렬을 2차원 벡터로 변환\n",
    "                               # 1x2x3x1  ==> 2x3"
   ]
  },
  {
   "cell_type": "code",
   "execution_count": null,
   "id": "a2151df1",
   "metadata": {},
   "outputs": [],
   "source": []
  },
  {
   "cell_type": "markdown",
   "id": "a28010f6",
   "metadata": {},
   "source": [
    "**텐서를 나누거나 두 개 이상의 텐서를 합치는 명령**\n",
    "\n",
    "* `tf.slice`: 특정 부분을 추출\n",
    "* `tf.split`: 분할\n",
    "* `tf.concat`: 합치기\n",
    "* `tf.tile`: 복제-붙이기\n",
    "* `tf.stack`: 합성\n",
    "* `tf.unstack`: 분리 "
   ]
  },
  {
   "cell_type": "code",
   "execution_count": 31,
   "id": "43b6714a",
   "metadata": {
    "ExecuteTime": {
     "end_time": "2023-10-06T05:51:09.081303Z",
     "start_time": "2023-10-06T05:51:09.063265Z"
    }
   },
   "outputs": [
    {
     "data": {
      "text/plain": [
       "<tf.Tensor: shape=(3, 4), dtype=int32, numpy=\n",
       "array([[ 0,  1,  2,  3],\n",
       "       [ 4,  5,  6,  7],\n",
       "       [ 8,  9, 10, 11]])>"
      ]
     },
     "execution_count": 31,
     "metadata": {},
     "output_type": "execute_result"
    }
   ],
   "source": [
    "a = tf.reshape(tf.range(12), (3, 4))\n",
    "a"
   ]
  },
  {
   "cell_type": "code",
   "execution_count": 32,
   "id": "64f3f37d",
   "metadata": {
    "ExecuteTime": {
     "end_time": "2023-10-06T05:51:44.108136Z",
     "start_time": "2023-10-06T05:51:44.086114Z"
    }
   },
   "outputs": [
    {
     "data": {
      "text/plain": [
       "<tf.Tensor: shape=(2, 3), dtype=int32, numpy=\n",
       "array([[1, 2, 3],\n",
       "       [5, 6, 7]])>"
      ]
     },
     "execution_count": 32,
     "metadata": {},
     "output_type": "execute_result"
    }
   ],
   "source": [
    "tf.slice(a, [0, 1], [2, 3])   # (0, 1)위치에서 (2개, 3개)만큼 뽑아낸다."
   ]
  },
  {
   "cell_type": "code",
   "execution_count": 33,
   "id": "aa42eeb3",
   "metadata": {
    "ExecuteTime": {
     "end_time": "2023-10-06T05:51:49.467463Z",
     "start_time": "2023-10-06T05:51:49.453880Z"
    }
   },
   "outputs": [
    {
     "name": "stdout",
     "output_type": "stream",
     "text": [
      "tf.Tensor(\n",
      "[[0 1]\n",
      " [4 5]\n",
      " [8 9]], shape=(3, 2), dtype=int32)\n",
      "tf.Tensor(\n",
      "[[ 2  3]\n",
      " [ 6  7]\n",
      " [10 11]], shape=(3, 2), dtype=int32)\n"
     ]
    }
   ],
   "source": [
    "a1, a2 = tf.split(a, num_or_size_splits=2, axis=1)  # 가로축(axis=1)을 따라 2개로 분할 \n",
    "print(a1)\n",
    "print(a2)"
   ]
  },
  {
   "cell_type": "code",
   "execution_count": 34,
   "id": "db1ca1d0",
   "metadata": {
    "ExecuteTime": {
     "end_time": "2023-10-06T05:51:52.186099Z",
     "start_time": "2023-10-06T05:51:52.162000Z"
    }
   },
   "outputs": [
    {
     "data": {
      "text/plain": [
       "<tf.Tensor: shape=(3, 4), dtype=int32, numpy=\n",
       "array([[ 0,  1,  2,  3],\n",
       "       [ 4,  5,  6,  7],\n",
       "       [ 8,  9, 10, 11]])>"
      ]
     },
     "execution_count": 34,
     "metadata": {},
     "output_type": "execute_result"
    }
   ],
   "source": [
    "tf.concat([a1, a2], 1) # 가로축(axis=1)을 따라 a1, a2를 합치기"
   ]
  },
  {
   "cell_type": "code",
   "execution_count": 37,
   "id": "9138ff59",
   "metadata": {
    "ExecuteTime": {
     "end_time": "2023-10-06T05:52:51.582276Z",
     "start_time": "2023-10-06T05:52:51.566647Z"
    }
   },
   "outputs": [
    {
     "data": {
      "text/plain": [
       "<tf.Tensor: shape=(3, 2), dtype=int32, numpy=\n",
       "array([[0, 1],\n",
       "       [4, 5],\n",
       "       [8, 9]])>"
      ]
     },
     "execution_count": 37,
     "metadata": {},
     "output_type": "execute_result"
    }
   ],
   "source": [
    "a1"
   ]
  },
  {
   "cell_type": "code",
   "execution_count": 38,
   "id": "26922c48",
   "metadata": {
    "ExecuteTime": {
     "end_time": "2023-10-06T05:53:12.558997Z",
     "start_time": "2023-10-06T05:53:12.545983Z"
    }
   },
   "outputs": [
    {
     "data": {
      "text/plain": [
       "<tf.Tensor: shape=(3, 6), dtype=int32, numpy=\n",
       "array([[0, 1, 0, 1, 0, 1],\n",
       "       [4, 5, 4, 5, 4, 5],\n",
       "       [8, 9, 8, 9, 8, 9]])>"
      ]
     },
     "execution_count": 38,
     "metadata": {},
     "output_type": "execute_result"
    }
   ],
   "source": [
    "tf.tile(a1, [1, 3])  # 가로축(axis=1)을 따라 3개로 복사-붙이기"
   ]
  },
  {
   "cell_type": "code",
   "execution_count": 39,
   "id": "383dc585",
   "metadata": {
    "ExecuteTime": {
     "end_time": "2023-10-06T05:53:13.523006Z",
     "start_time": "2023-10-06T05:53:13.499885Z"
    }
   },
   "outputs": [
    {
     "data": {
      "text/plain": [
       "<tf.Tensor: shape=(2, 3, 2), dtype=int32, numpy=\n",
       "array([[[ 0,  1],\n",
       "        [ 4,  5],\n",
       "        [ 8,  9]],\n",
       "\n",
       "       [[ 2,  3],\n",
       "        [ 6,  7],\n",
       "        [10, 11]]])>"
      ]
     },
     "execution_count": 39,
     "metadata": {},
     "output_type": "execute_result"
    }
   ],
   "source": [
    "a3 = tf.stack([a1, a2])  # 3x2 행렬 a1, a2를 추가적인 차원으로 붙여서 2x3x2 고차원 텐서 생성\n",
    "a3"
   ]
  },
  {
   "cell_type": "code",
   "execution_count": 40,
   "id": "2759d577",
   "metadata": {
    "ExecuteTime": {
     "end_time": "2023-10-06T05:53:18.108357Z",
     "start_time": "2023-10-06T05:53:18.089855Z"
    }
   },
   "outputs": [
    {
     "data": {
      "text/plain": [
       "[<tf.Tensor: shape=(2, 2), dtype=int32, numpy=\n",
       " array([[0, 1],\n",
       "        [2, 3]])>,\n",
       " <tf.Tensor: shape=(2, 2), dtype=int32, numpy=\n",
       " array([[4, 5],\n",
       "        [6, 7]])>,\n",
       " <tf.Tensor: shape=(2, 2), dtype=int32, numpy=\n",
       " array([[ 8,  9],\n",
       "        [10, 11]])>]"
      ]
     },
     "execution_count": 40,
     "metadata": {},
     "output_type": "execute_result"
    }
   ],
   "source": [
    "tf.unstack(a3, axis=1)  # 2x3x2 고차원 텐서를 0차원으로 풀어서 3개의 2x2 행렬 생성"
   ]
  },
  {
   "cell_type": "code",
   "execution_count": null,
   "id": "609e5fea",
   "metadata": {},
   "outputs": [],
   "source": []
  },
  {
   "cell_type": "markdown",
   "id": "0111dfac",
   "metadata": {},
   "source": [
    "#### 간단 퀴즈\n",
    "\n",
    "다음 코드를 에러 없이 실행하라. "
   ]
  },
  {
   "cell_type": "code",
   "execution_count": 48,
   "id": "b05ad9e0",
   "metadata": {
    "ExecuteTime": {
     "end_time": "2023-10-06T05:55:48.911387Z",
     "start_time": "2023-10-06T05:55:48.894753Z"
    },
    "scrolled": true
   },
   "outputs": [
    {
     "data": {
      "text/plain": [
       "<tf.Tensor: shape=(2, 3), dtype=int32, numpy=\n",
       "array([[1, 2, 3],\n",
       "       [1, 2, 3]])>"
      ]
     },
     "execution_count": 48,
     "metadata": {},
     "output_type": "execute_result"
    }
   ],
   "source": [
    "a = tf.constant(((1, 2, 3), (1, 2, 3)))\n",
    "b = tf.constant([1, 2, 3])\n",
    "\n",
    "#tf.matmul(a, b)\n",
    "a"
   ]
  },
  {
   "cell_type": "code",
   "execution_count": 54,
   "id": "6dd5ac58",
   "metadata": {
    "ExecuteTime": {
     "end_time": "2023-10-06T05:58:09.801036Z",
     "start_time": "2023-10-06T05:58:09.784887Z"
    }
   },
   "outputs": [
    {
     "data": {
      "text/plain": [
       "<tf.Tensor: shape=(3,), dtype=int32, numpy=array([1, 2, 3])>"
      ]
     },
     "execution_count": 54,
     "metadata": {},
     "output_type": "execute_result"
    }
   ],
   "source": [
    "b"
   ]
  },
  {
   "cell_type": "markdown",
   "id": "a7fe4d91",
   "metadata": {},
   "source": [
    "-----"
   ]
  },
  {
   "cell_type": "markdown",
   "id": "f451bade",
   "metadata": {},
   "source": [
    "#### b를 2차원으로 늘리자!"
   ]
  },
  {
   "cell_type": "code",
   "execution_count": 59,
   "id": "33211cb2",
   "metadata": {
    "ExecuteTime": {
     "end_time": "2023-10-06T05:58:39.376887Z",
     "start_time": "2023-10-06T05:58:39.366076Z"
    }
   },
   "outputs": [
    {
     "data": {
      "text/plain": [
       "<tf.Tensor: shape=(3, 1), dtype=int32, numpy=\n",
       "array([[1],\n",
       "       [2],\n",
       "       [3]])>"
      ]
     },
     "execution_count": 59,
     "metadata": {},
     "output_type": "execute_result"
    }
   ],
   "source": [
    "tf.expand_dims(b, axis=1)"
   ]
  },
  {
   "cell_type": "code",
   "execution_count": 58,
   "id": "d9124f61",
   "metadata": {
    "ExecuteTime": {
     "end_time": "2023-10-06T05:58:29.627187Z",
     "start_time": "2023-10-06T05:58:29.610393Z"
    }
   },
   "outputs": [
    {
     "data": {
      "text/plain": [
       "<tf.Tensor: shape=(2, 1), dtype=int32, numpy=\n",
       "array([[14],\n",
       "       [14]])>"
      ]
     },
     "execution_count": 58,
     "metadata": {},
     "output_type": "execute_result"
    }
   ],
   "source": [
    "tf.matmul(a, tf.expand_dims(b, axis=1))"
   ]
  },
  {
   "cell_type": "code",
   "execution_count": null,
   "id": "8691f37b",
   "metadata": {},
   "outputs": [],
   "source": []
  },
  {
   "cell_type": "code",
   "execution_count": null,
   "id": "e4ff63b7",
   "metadata": {},
   "outputs": [],
   "source": []
  }
 ],
 "metadata": {
  "kernelspec": {
   "display_name": "GPU",
   "language": "python",
   "name": "gpu"
  },
  "language_info": {
   "codemirror_mode": {
    "name": "ipython",
    "version": 3
   },
   "file_extension": ".py",
   "mimetype": "text/x-python",
   "name": "python",
   "nbconvert_exporter": "python",
   "pygments_lexer": "ipython3",
   "version": "3.8.18"
  },
  "toc": {
   "base_numbering": 1,
   "nav_menu": {},
   "number_sections": true,
   "sideBar": true,
   "skip_h1_title": false,
   "title_cell": "Table of Contents",
   "title_sidebar": "Contents",
   "toc_cell": false,
   "toc_position": {
    "height": "calc(100% - 180px)",
    "left": "10px",
    "top": "150px",
    "width": "205.312px"
   },
   "toc_section_display": true,
   "toc_window_display": true
  },
  "varInspector": {
   "cols": {
    "lenName": 16,
    "lenType": 16,
    "lenVar": 40
   },
   "kernels_config": {
    "python": {
     "delete_cmd_postfix": "",
     "delete_cmd_prefix": "del ",
     "library": "var_list.py",
     "varRefreshCmd": "print(var_dic_list())"
    },
    "r": {
     "delete_cmd_postfix": ") ",
     "delete_cmd_prefix": "rm(",
     "library": "var_list.r",
     "varRefreshCmd": "cat(var_dic_list()) "
    }
   },
   "types_to_exclude": [
    "module",
    "function",
    "builtin_function_or_method",
    "instance",
    "_Feature"
   ],
   "window_display": false
  }
 },
 "nbformat": 4,
 "nbformat_minor": 5
}
