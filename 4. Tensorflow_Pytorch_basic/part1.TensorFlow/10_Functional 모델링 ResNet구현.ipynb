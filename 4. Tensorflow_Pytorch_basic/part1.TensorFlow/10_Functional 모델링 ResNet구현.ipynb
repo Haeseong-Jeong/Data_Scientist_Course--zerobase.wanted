{
 "cells": [
  {
   "cell_type": "markdown",
   "id": "518ff1fe",
   "metadata": {},
   "source": [
    "# ResNet 구현\n"
   ]
  },
  {
   "cell_type": "code",
   "execution_count": 1,
   "id": "9bd6cc9b",
   "metadata": {
    "ExecuteTime": {
     "end_time": "2023-10-09T08:06:35.235839Z",
     "start_time": "2023-10-09T08:06:27.573748Z"
    }
   },
   "outputs": [],
   "source": [
    "import numpy as np\n",
    "import pandas as pd\n",
    "import tensorflow as tf\n",
    "\n",
    "import matplotlib.pyplot as plt\n",
    "import seaborn as sns\n",
    "%matplotlib inline"
   ]
  },
  {
   "cell_type": "code",
   "execution_count": 2,
   "id": "edeedae5",
   "metadata": {
    "ExecuteTime": {
     "end_time": "2023-10-09T08:06:52.747105Z",
     "start_time": "2023-10-09T08:06:52.726953Z"
    }
   },
   "outputs": [],
   "source": [
    "np.random.seed(7777)\n",
    "tf.random.set_seed(7777)"
   ]
  },
  {
   "cell_type": "markdown",
   "id": "b65302b8",
   "metadata": {},
   "source": [
    "### ResNet\n",
    "\n",
    "![](../script_imgs/resnet.png)"
   ]
  },
  {
   "cell_type": "markdown",
   "id": "e5c601ec",
   "metadata": {},
   "source": [
    "### ResNet의 핵심은 Skip Connection\n",
    "\n",
    "![](../script_imgs/skipconnection.png)"
   ]
  },
  {
   "cell_type": "markdown",
   "id": "1bc81e79",
   "metadata": {},
   "source": [
    "- 인풋을 아웃풋과 더해서 전달!\n",
    "- x를 기억(어딘가에 저장) 해놨다가 내보낼때 더해야하는데 Sequatial 방식으론 한계"
   ]
  },
  {
   "cell_type": "code",
   "execution_count": null,
   "id": "6d2526f5",
   "metadata": {},
   "outputs": [],
   "source": []
  },
  {
   "cell_type": "markdown",
   "id": "0b5f5336",
   "metadata": {},
   "source": [
    "### 2. Functional API "
   ]
  },
  {
   "cell_type": "markdown",
   "id": "a942557f",
   "metadata": {},
   "source": [
    "`tf.keras.Sequential` 보다 더 유연하게 모델을 정의할 수 있는 방법"
   ]
  },
  {
   "cell_type": "code",
   "execution_count": 3,
   "id": "dbe7c084",
   "metadata": {
    "ExecuteTime": {
     "end_time": "2023-10-09T08:07:55.696605Z",
     "start_time": "2023-10-09T08:07:55.681646Z"
    }
   },
   "outputs": [],
   "source": [
    "from tensorflow.keras.layers import Input, Conv2D, MaxPool2D, Flatten, Dense, Add"
   ]
  },
  {
   "cell_type": "code",
   "execution_count": null,
   "id": "eefc1eab",
   "metadata": {},
   "outputs": [],
   "source": []
  },
  {
   "cell_type": "code",
   "execution_count": 4,
   "id": "7f35abc0",
   "metadata": {
    "ExecuteTime": {
     "end_time": "2023-10-09T08:18:32.133055Z",
     "start_time": "2023-10-09T08:18:32.117056Z"
    }
   },
   "outputs": [],
   "source": [
    "## Functional API 를 이용해 ResNet 구현\n",
    "\n",
    "def build_resnet(input_shape):\n",
    "    inputs = Input(input_shape)\n",
    "\n",
    "    net = Conv2D(32, kernel_size=3, strides=2,\n",
    "                 padding='same', activation='relu')(inputs)\n",
    "    net = MaxPool2D()(net)\n",
    "    # 여기까지 ex) 28x28 -> 14x14 -> 7x7 이 됨? padding same 인데???\n",
    "    \n",
    "    net1 = Conv2D(64, kernel_size=1, padding='same', activation='relu')(net)\n",
    "    net2 = Conv2D(64, kernel_size=3, padding='same', activation='relu')(net1)\n",
    "    net3 = Conv2D(64, kernel_size=1, padding='same', activation='relu')(net2)\n",
    "    \n",
    "    # Resnet의 핵심 input과 output을 더해서 전달!\n",
    "    # net + net3 하려는데 차원이 다르다! net을 64로 늘려 1_1로 반환받아 더하자\n",
    "    # 더해서 다시 위와 같은 구조 반복\n",
    "    net1_1 = Conv2D(64, kernel_size=1, padding='same')(net)\n",
    "    net = Add()([net1_1, net3])\n",
    "    \n",
    "    net1 = Conv2D(64, kernel_size=1, padding='same', activation='relu')(net)\n",
    "    net2 = Conv2D(64, kernel_size=3, padding='same', activation='relu')(net1)\n",
    "    net3 = Conv2D(64, kernel_size=1, padding='same', activation='relu')(net2)\n",
    "    \n",
    "    net = Add()([net, net3])\n",
    "    \n",
    "    net = MaxPool2D()(net)\n",
    "    \n",
    "    net = Flatten()(net)\n",
    "    net = Dense(10, activation=\"softmax\")(net)\n",
    "\n",
    "    model = tf.keras.Model(inputs=inputs, outputs=net, name='resnet')\n",
    "    \n",
    "    return model"
   ]
  },
  {
   "cell_type": "code",
   "execution_count": 5,
   "id": "166c4855",
   "metadata": {
    "ExecuteTime": {
     "end_time": "2023-10-09T08:19:14.469658Z",
     "start_time": "2023-10-09T08:19:11.738039Z"
    }
   },
   "outputs": [
    {
     "name": "stdout",
     "output_type": "stream",
     "text": [
      "Model: \"resnet\"\n",
      "__________________________________________________________________________________________________\n",
      " Layer (type)                   Output Shape         Param #     Connected to                     \n",
      "==================================================================================================\n",
      " input_1 (InputLayer)           [(None, 32, 32, 3)]  0           []                               \n",
      "                                                                                                  \n",
      " conv2d (Conv2D)                (None, 16, 16, 32)   896         ['input_1[0][0]']                \n",
      "                                                                                                  \n",
      " max_pooling2d (MaxPooling2D)   (None, 8, 8, 32)     0           ['conv2d[0][0]']                 \n",
      "                                                                                                  \n",
      " conv2d_1 (Conv2D)              (None, 8, 8, 64)     2112        ['max_pooling2d[0][0]']          \n",
      "                                                                                                  \n",
      " conv2d_2 (Conv2D)              (None, 8, 8, 64)     36928       ['conv2d_1[0][0]']               \n",
      "                                                                                                  \n",
      " conv2d_4 (Conv2D)              (None, 8, 8, 64)     2112        ['max_pooling2d[0][0]']          \n",
      "                                                                                                  \n",
      " conv2d_3 (Conv2D)              (None, 8, 8, 64)     4160        ['conv2d_2[0][0]']               \n",
      "                                                                                                  \n",
      " add (Add)                      (None, 8, 8, 64)     0           ['conv2d_4[0][0]',               \n",
      "                                                                  'conv2d_3[0][0]']               \n",
      "                                                                                                  \n",
      " conv2d_5 (Conv2D)              (None, 8, 8, 64)     4160        ['add[0][0]']                    \n",
      "                                                                                                  \n",
      " conv2d_6 (Conv2D)              (None, 8, 8, 64)     36928       ['conv2d_5[0][0]']               \n",
      "                                                                                                  \n",
      " conv2d_7 (Conv2D)              (None, 8, 8, 64)     4160        ['conv2d_6[0][0]']               \n",
      "                                                                                                  \n",
      " add_1 (Add)                    (None, 8, 8, 64)     0           ['add[0][0]',                    \n",
      "                                                                  'conv2d_7[0][0]']               \n",
      "                                                                                                  \n",
      " max_pooling2d_1 (MaxPooling2D)  (None, 4, 4, 64)    0           ['add_1[0][0]']                  \n",
      "                                                                                                  \n",
      " flatten (Flatten)              (None, 1024)         0           ['max_pooling2d_1[0][0]']        \n",
      "                                                                                                  \n",
      " dense (Dense)                  (None, 10)           10250       ['flatten[0][0]']                \n",
      "                                                                                                  \n",
      "==================================================================================================\n",
      "Total params: 101,706\n",
      "Trainable params: 101,706\n",
      "Non-trainable params: 0\n",
      "__________________________________________________________________________________________________\n"
     ]
    }
   ],
   "source": [
    "model = build_resnet((32, 32, 3))\n",
    "model.summary()"
   ]
  },
  {
   "cell_type": "code",
   "execution_count": null,
   "id": "8766a2a3",
   "metadata": {},
   "outputs": [],
   "source": []
  },
  {
   "cell_type": "code",
   "execution_count": null,
   "id": "75f8ebbd",
   "metadata": {},
   "outputs": [],
   "source": []
  },
  {
   "cell_type": "markdown",
   "id": "419826d8",
   "metadata": {},
   "source": [
    "## CIfar10 dataset을 이용해 학습을 해본다"
   ]
  },
  {
   "cell_type": "code",
   "execution_count": 7,
   "id": "e6505d2d",
   "metadata": {
    "ExecuteTime": {
     "end_time": "2023-10-09T08:21:22.855460Z",
     "start_time": "2023-10-09T08:21:22.834618Z"
    }
   },
   "outputs": [],
   "source": [
    "class Cifar10DataLoader():\n",
    "    def __init__(self):\n",
    "        # data load\n",
    "        (self.train_x, self.train_y), \\\n",
    "            (self.test_x, self.test_y) = tf.keras.datasets.cifar10.load_data()\n",
    "        self.input_shape = self.train_x.shape[1:]\n",
    "\n",
    "    def scale(self, x):\n",
    "\n",
    "        return (x / 255.0).astype(np.float32)\n",
    "\n",
    "    def preprocess_dataset(self, dataset):\n",
    "\n",
    "        (feature, target) = dataset\n",
    "\n",
    "        # scaling #\n",
    "        scaled_x = np.array([self.scale(x) for x in feature])\n",
    "        \n",
    "        # expand 필요없다 -> 이전에는 흑백(2차원)이라 1차원을 일부러 늘려줬는데 지금은 컬러(3차원)!\n",
    "        \n",
    "        # label encoding #\n",
    "        ohe_y = np.array([tf.keras.utils.to_categorical(\n",
    "            y, num_classes=10) for y in target])\n",
    "        \n",
    "        return scaled_x, ohe_y.squeeze(1) # 위에서 [1x10]이 나오는데 10만 필요\n",
    "\n",
    "    def get_train_dataset(self):\n",
    "        return self.preprocess_dataset((self.train_x, self.train_y))\n",
    "\n",
    "    def get_test_dataset(self):\n",
    "        return self.preprocess_dataset((self.test_x, self.test_y))"
   ]
  },
  {
   "cell_type": "code",
   "execution_count": 9,
   "id": "f28e936a",
   "metadata": {
    "ExecuteTime": {
     "end_time": "2023-10-09T08:29:54.425478Z",
     "start_time": "2023-10-09T08:28:01.371386Z"
    }
   },
   "outputs": [
    {
     "name": "stdout",
     "output_type": "stream",
     "text": [
      "Downloading data from https://www.cs.toronto.edu/~kriz/cifar-10-python.tar.gz\n",
      "170498071/170498071 [==============================] - 107s 1us/step\n",
      "(50000, 32, 32, 3) float32\n",
      "(50000, 10) float32\n",
      "(10000, 32, 32, 3) float32\n",
      "(10000, 10) float32\n"
     ]
    }
   ],
   "source": [
    "cifar10_loader = Cifar10DataLoader()\n",
    "\n",
    "train_x, train_y = cifar10_loader.get_train_dataset()\n",
    "\n",
    "print(train_x.shape, train_x.dtype)\n",
    "print(train_y.shape, train_y.dtype)\n",
    "\n",
    "test_x, test_y = cifar10_loader.get_test_dataset()\n",
    "\n",
    "print(test_x.shape, test_x.dtype)\n",
    "print(test_y.shape, test_y.dtype)"
   ]
  },
  {
   "cell_type": "code",
   "execution_count": 11,
   "id": "fc3ad2ca",
   "metadata": {
    "ExecuteTime": {
     "end_time": "2023-10-09T08:30:27.817586Z",
     "start_time": "2023-10-09T08:30:27.794516Z"
    }
   },
   "outputs": [],
   "source": [
    "learning_rate = 0.03\n",
    "opt = tf.keras.optimizers.Adam(learning_rate)\n",
    "loss = tf.keras.losses.categorical_crossentropy\n",
    "\n",
    "model.compile(optimizer=opt, loss=loss, metrics=[\"accuracy\"])"
   ]
  },
  {
   "cell_type": "code",
   "execution_count": 12,
   "id": "fc95ddf4",
   "metadata": {
    "ExecuteTime": {
     "end_time": "2023-10-09T08:32:19.060940Z",
     "start_time": "2023-10-09T08:30:54.187423Z"
    }
   },
   "outputs": [
    {
     "name": "stdout",
     "output_type": "stream",
     "text": [
      "Epoch 1/10\n",
      "391/391 [==============================] - 17s 23ms/step - loss: 2.4162 - accuracy: 0.1004 - val_loss: 2.3155 - val_accuracy: 0.1000\n",
      "Epoch 2/10\n",
      "391/391 [==============================] - 7s 19ms/step - loss: 2.2904 - accuracy: 0.1738 - val_loss: 1.9613 - val_accuracy: 0.2999\n",
      "Epoch 3/10\n",
      "391/391 [==============================] - 8s 20ms/step - loss: 1.9146 - accuracy: 0.3105 - val_loss: 1.8508 - val_accuracy: 0.3320\n",
      "Epoch 4/10\n",
      "391/391 [==============================] - 7s 19ms/step - loss: 1.8656 - accuracy: 0.3324 - val_loss: 1.8462 - val_accuracy: 0.3402\n",
      "Epoch 5/10\n",
      "391/391 [==============================] - 8s 20ms/step - loss: 1.8268 - accuracy: 0.3459 - val_loss: 1.8187 - val_accuracy: 0.3465\n",
      "Epoch 6/10\n",
      "391/391 [==============================] - 7s 18ms/step - loss: 1.8167 - accuracy: 0.3467 - val_loss: 1.8612 - val_accuracy: 0.3238\n",
      "Epoch 7/10\n",
      "391/391 [==============================] - 8s 20ms/step - loss: 1.7860 - accuracy: 0.3609 - val_loss: 1.7743 - val_accuracy: 0.3622\n",
      "Epoch 8/10\n",
      "391/391 [==============================] - 7s 18ms/step - loss: 1.7789 - accuracy: 0.3631 - val_loss: 1.7505 - val_accuracy: 0.3787\n",
      "Epoch 9/10\n",
      "391/391 [==============================] - 7s 18ms/step - loss: 1.7655 - accuracy: 0.3676 - val_loss: 1.7881 - val_accuracy: 0.3684\n",
      "Epoch 10/10\n",
      "391/391 [==============================] - 7s 18ms/step - loss: 1.7506 - accuracy: 0.3752 - val_loss: 1.7917 - val_accuracy: 0.3504\n"
     ]
    }
   ],
   "source": [
    "hist = model.fit(train_x, train_y,\n",
    "                 epochs=10, batch_size=128,\n",
    "                 validation_data=(test_x, test_y))"
   ]
  },
  {
   "cell_type": "code",
   "execution_count": 13,
   "id": "23463fc6",
   "metadata": {
    "ExecuteTime": {
     "end_time": "2023-10-09T08:32:29.044667Z",
     "start_time": "2023-10-09T08:32:27.999390Z"
    }
   },
   "outputs": [
    {
     "data": {
      "image/png": "[encoded data removed]",
      "text/plain": [
       "<Figure size 1000x500 with 4 Axes>"
      ]
     },
     "metadata": {},
     "output_type": "display_data"
    }
   ],
   "source": [
    "plt.figure(figsize=(10, 5))\n",
    "plt.subplot(221)\n",
    "plt.plot(hist.history['loss'])\n",
    "plt.title(\"loss\")\n",
    "plt.subplot(222)\n",
    "plt.plot(hist.history['accuracy'], 'b-')\n",
    "plt.title(\"acc\")\n",
    "plt.subplot(223)\n",
    "plt.plot(hist.history['val_loss'])\n",
    "plt.title(\"val_loss\")\n",
    "plt.subplot(224)\n",
    "plt.plot(hist.history['val_accuracy'], 'b-')\n",
    "plt.title(\"val_accuracy\")\n",
    "\n",
    "plt.tight_layout()\n",
    "plt.show()"
   ]
  },
  {
   "cell_type": "code",
   "execution_count": null,
   "id": "e0e7d1b9",
   "metadata": {},
   "outputs": [],
   "source": []
  }
 ],
 "metadata": {
  "kernelspec": {
   "display_name": "GPU",
   "language": "python",
   "name": "gpu"
  },
  "language_info": {
   "codemirror_mode": {
    "name": "ipython",
    "version": 3
   },
   "file_extension": ".py",
   "mimetype": "text/x-python",
   "name": "python",
   "nbconvert_exporter": "python",
   "pygments_lexer": "ipython3",
   "version": "3.8.18"
  },
  "varInspector": {
   "cols": {
    "lenName": 16,
    "lenType": 16,
    "lenVar": 40
   },
   "kernels_config": {
    "python": {
     "delete_cmd_postfix": "",
     "delete_cmd_prefix": "del ",
     "library": "var_list.py",
     "varRefreshCmd": "print(var_dic_list())"
    },
    "r": {
     "delete_cmd_postfix": ") ",
     "delete_cmd_prefix": "rm(",
     "library": "var_list.r",
     "varRefreshCmd": "cat(var_dic_list()) "
    }
   },
   "types_to_exclude": [
    "module",
    "function",
    "builtin_function_or_method",
    "instance",
    "_Feature"
   ],
   "window_display": false
  }
 },
 "nbformat": 4,
 "nbformat_minor": 5
}
