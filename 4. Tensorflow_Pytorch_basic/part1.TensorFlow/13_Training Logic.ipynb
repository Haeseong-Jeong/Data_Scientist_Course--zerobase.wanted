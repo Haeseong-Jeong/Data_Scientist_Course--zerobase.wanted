{
 "cells": [
  {
   "cell_type": "markdown",
   "id": "5681cdc0",
   "metadata": {},
   "source": [
    "# Training Logic"
   ]
  },
  {
   "cell_type": "code",
   "execution_count": 1,
   "id": "d0f3e067",
   "metadata": {
    "ExecuteTime": {
     "end_time": "2023-10-11T06:31:34.280132Z",
     "start_time": "2023-10-11T06:31:27.246600Z"
    }
   },
   "outputs": [],
   "source": [
    "import numpy as np\n",
    "import pandas as pd\n",
    "import tensorflow as tf\n",
    "\n",
    "import matplotlib.pyplot as plt\n",
    "import seaborn as sns\n",
    "%matplotlib inline"
   ]
  },
  {
   "cell_type": "code",
   "execution_count": 2,
   "id": "674ab6ef",
   "metadata": {
    "ExecuteTime": {
     "end_time": "2023-10-11T06:31:35.072984Z",
     "start_time": "2023-10-11T06:31:35.062825Z"
    }
   },
   "outputs": [],
   "source": [
    "np.random.seed(7777)\n",
    "tf.random.set_seed(7777)"
   ]
  },
  {
   "cell_type": "code",
   "execution_count": 3,
   "id": "022f88fa",
   "metadata": {
    "ExecuteTime": {
     "end_time": "2023-10-11T06:31:40.477267Z",
     "start_time": "2023-10-11T06:31:36.858107Z"
    }
   },
   "outputs": [
    {
     "name": "stdout",
     "output_type": "stream",
     "text": [
      "(50000, 32, 32, 3) float32\n",
      "(50000, 10) float32\n",
      "(10000, 32, 32, 3) float32\n",
      "(10000, 10) float32\n"
     ]
    }
   ],
   "source": [
    "class Cifar10DataLoader():\n",
    "    def __init__(self):\n",
    "        # data load \n",
    "        (self.train_x, self.train_y), \\\n",
    "            (self.test_x, self.test_y) = tf.keras.datasets.cifar10.load_data()\n",
    "        self.input_shape = self.train_x.shape[1:]\n",
    "\n",
    "    def scale(self, x):\n",
    "\n",
    "        return (x / 255.0).astype(np.float32)\n",
    "\n",
    "    def preprocess_dataset(self, dataset):\n",
    "\n",
    "        (feature, target) = dataset\n",
    "\n",
    "        # scaling #\n",
    "        scaled_x = np.array([self.scale(x) for x in feature])\n",
    "\n",
    "        # label encoding #\n",
    "        ohe_y = np.array([tf.keras.utils.to_categorical(\n",
    "            y, num_classes=10) for y in target])\n",
    "        \n",
    "        return scaled_x, ohe_y.squeeze(1)\n",
    "\n",
    "    def get_train_dataset(self):\n",
    "        return self.preprocess_dataset((self.train_x, self.train_y))\n",
    "\n",
    "    def get_test_dataset(self):\n",
    "        return self.preprocess_dataset((self.test_x, self.test_y))\n",
    "\n",
    "cifar10_loader = Cifar10DataLoader()\n",
    "train_x, train_y = cifar10_loader.get_train_dataset()\n",
    "\n",
    "print(train_x.shape, train_x.dtype)\n",
    "print(train_y.shape, train_y.dtype)\n",
    "\n",
    "test_x, test_y = cifar10_loader.get_test_dataset()\n",
    "\n",
    "print(test_x.shape, test_x.dtype)\n",
    "print(test_y.shape, test_y.dtype)"
   ]
  },
  {
   "cell_type": "code",
   "execution_count": 4,
   "id": "58c8e1e3",
   "metadata": {
    "ExecuteTime": {
     "end_time": "2023-10-11T06:31:48.672468Z",
     "start_time": "2023-10-11T06:31:40.481284Z"
    }
   },
   "outputs": [
    {
     "name": "stdout",
     "output_type": "stream",
     "text": [
      "Model: \"resnet\"\n",
      "__________________________________________________________________________________________________\n",
      " Layer (type)                   Output Shape         Param #     Connected to                     \n",
      "==================================================================================================\n",
      " input_1 (InputLayer)           [(None, 32, 32, 3)]  0           []                               \n",
      "                                                                                                  \n",
      " conv2d (Conv2D)                (None, 16, 16, 32)   896         ['input_1[0][0]']                \n",
      "                                                                                                  \n",
      " max_pooling2d (MaxPooling2D)   (None, 8, 8, 32)     0           ['conv2d[0][0]']                 \n",
      "                                                                                                  \n",
      " conv2d_1 (Conv2D)              (None, 8, 8, 64)     2112        ['max_pooling2d[0][0]']          \n",
      "                                                                                                  \n",
      " conv2d_2 (Conv2D)              (None, 8, 8, 64)     36928       ['conv2d_1[0][0]']               \n",
      "                                                                                                  \n",
      " conv2d_4 (Conv2D)              (None, 8, 8, 64)     2112        ['max_pooling2d[0][0]']          \n",
      "                                                                                                  \n",
      " conv2d_3 (Conv2D)              (None, 8, 8, 64)     4160        ['conv2d_2[0][0]']               \n",
      "                                                                                                  \n",
      " add (Add)                      (None, 8, 8, 64)     0           ['conv2d_4[0][0]',               \n",
      "                                                                  'conv2d_3[0][0]']               \n",
      "                                                                                                  \n",
      " conv2d_5 (Conv2D)              (None, 8, 8, 64)     4160        ['add[0][0]']                    \n",
      "                                                                                                  \n",
      " conv2d_6 (Conv2D)              (None, 8, 8, 64)     36928       ['conv2d_5[0][0]']               \n",
      "                                                                                                  \n",
      " conv2d_7 (Conv2D)              (None, 8, 8, 64)     4160        ['conv2d_6[0][0]']               \n",
      "                                                                                                  \n",
      " add_1 (Add)                    (None, 8, 8, 64)     0           ['add[0][0]',                    \n",
      "                                                                  'conv2d_7[0][0]']               \n",
      "                                                                                                  \n",
      " max_pooling2d_1 (MaxPooling2D)  (None, 4, 4, 64)    0           ['add_1[0][0]']                  \n",
      "                                                                                                  \n",
      " flatten (Flatten)              (None, 1024)         0           ['max_pooling2d_1[0][0]']        \n",
      "                                                                                                  \n",
      " dense (Dense)                  (None, 10)           10250       ['flatten[0][0]']                \n",
      "                                                                                                  \n",
      "==================================================================================================\n",
      "Total params: 101,706\n",
      "Trainable params: 101,706\n",
      "Non-trainable params: 0\n",
      "__________________________________________________________________________________________________\n"
     ]
    }
   ],
   "source": [
    "from tensorflow.keras.layers import Input, Conv2D, MaxPool2D, Flatten, Dense, Add\n",
    "\n",
    "def build_resnet(input_shape):\n",
    "    inputs = Input(input_shape)\n",
    "\n",
    "    net = Conv2D(32, kernel_size=3, strides=2,\n",
    "                 padding='same', activation='relu')(inputs)\n",
    "    net = MaxPool2D()(net)\n",
    "    \n",
    "    net1 = Conv2D(64, kernel_size=1, padding='same', activation='relu')(net)\n",
    "    net2 = Conv2D(64, kernel_size=3, padding='same', activation='relu')(net1)\n",
    "    net3 = Conv2D(64, kernel_size=1, padding='same', activation='relu')(net2)\n",
    "    \n",
    "    net1_1 = Conv2D(64, kernel_size=1, padding='same')(net)\n",
    "    net = Add()([net1_1, net3])\n",
    "    \n",
    "    net1 = Conv2D(64, kernel_size=1, padding='same', activation='relu')(net)\n",
    "    net2 = Conv2D(64, kernel_size=3, padding='same', activation='relu')(net1)\n",
    "    net3 = Conv2D(64, kernel_size=1, padding='same', activation='relu')(net2)\n",
    "    \n",
    "    net = Add()([net, net3])\n",
    "    \n",
    "    net = MaxPool2D()(net)\n",
    "    \n",
    "    net = Flatten()(net)\n",
    "    net = Dense(10, activation=\"softmax\")(net)\n",
    "\n",
    "    model = tf.keras.Model(inputs=inputs, outputs=net, name='resnet')\n",
    "    \n",
    "    return model\n",
    "\n",
    "model = build_resnet((32, 32, 3))\n",
    "model.summary()"
   ]
  },
  {
   "cell_type": "markdown",
   "id": "96e6621e",
   "metadata": {},
   "source": [
    "## 학습하는 과정을 직접 만들어보자!"
   ]
  },
  {
   "cell_type": "markdown",
   "id": "403fdcec",
   "metadata": {},
   "source": [
    "```\n",
    "for e in epochs:                                  매 epoch마다\n",
    "    \n",
    "    for batch_x, batch_y in dataset:              데이터셋의 배치셋 마다\n",
    "        \n",
    "        pred = model(batch_x)                     예측하고\n",
    "        loss = loss_fn(batch_y, pred)             손실을 구하고\n",
    "        gradients                                 기울기를 구하고\n",
    "        weight updates                            가중치를 업데이트 한다.\n",
    "        process print                             위 과정을 출력한다.\n",
    "```"
   ]
  },
  {
   "cell_type": "code",
   "execution_count": 5,
   "id": "8b2ef175",
   "metadata": {
    "ExecuteTime": {
     "end_time": "2023-10-11T06:39:37.695196Z",
     "start_time": "2023-10-11T06:39:37.551668Z"
    }
   },
   "outputs": [],
   "source": [
    "learning_rate = 0.03\n",
    "opt = tf.keras.optimizers.Adam(learning_rate)\n",
    "\n",
    "loss_fn = tf.keras.losses.categorical_crossentropy # 이건 함수\n"
   ]
  },
  {
   "cell_type": "code",
   "execution_count": 8,
   "id": "c43b74ff",
   "metadata": {
    "ExecuteTime": {
     "end_time": "2023-10-11T06:50:21.855498Z",
     "start_time": "2023-10-11T06:50:21.839704Z"
    }
   },
   "outputs": [],
   "source": [
    "train_loss = tf.keras.metrics.Mean(name='train_loss') # 이건 객체\n",
    "train_accuracy = tf.keras.metrics.CategoricalAccuracy(name='train_accuracy') # 이건 객체"
   ]
  },
  {
   "cell_type": "code",
   "execution_count": 9,
   "id": "b66cafb0",
   "metadata": {
    "ExecuteTime": {
     "end_time": "2023-10-11T06:50:22.472617Z",
     "start_time": "2023-10-11T06:50:22.464615Z"
    },
    "code_folding": [
     0
    ]
   },
   "outputs": [],
   "source": [
    "def train_step(x, y) :\n",
    "    with tf.GradientTape() as tape:\n",
    "        pred = model(x)\n",
    "        loss = loss_fn(y, pred)\n",
    "        \n",
    "    gradients = tape.gradient(loss, model.trainable_variables)\n",
    "    opt.apply_gradients(zip(gradients, model.trainable_variables)) # zip \n",
    "    \n",
    "    train_loss(loss)# 객체라 변수 선언 안해도 된다. 값이 알아서 누적되있음(tf기능)\n",
    "    train_accuracy(y, pred)"
   ]
  },
  {
   "cell_type": "code",
   "execution_count": 10,
   "id": "76d4f2cf",
   "metadata": {
    "ExecuteTime": {
     "end_time": "2023-10-11T06:50:58.741854Z",
     "start_time": "2023-10-11T06:50:23.354791Z"
    },
    "scrolled": true
   },
   "outputs": [
    {
     "name": "stdout",
     "output_type": "stream",
     "text": [
      "epoch 1 loss: 2.4192771911621094, accuracy: 9.85515308380127\n"
     ]
    }
   ],
   "source": [
    "batch_size = 64\n",
    "\n",
    "# 실제 학습하는 루프\n",
    "\n",
    "for epoch in range(1):\n",
    "    \n",
    "    for i in range(train_x.shape[0] // batch_size):\n",
    "        \n",
    "        # 데이터 배치 나누기\n",
    "        idx = i * batch_size\n",
    "        x, y = train_x[idx:idx+batch_size], train_y[idx:idx+batch_size]\n",
    "        \n",
    "        # 학습 및 가중치 업데이트\n",
    "        train_step(x, y)\n",
    "        \n",
    "        # 학습 진행상황 출력\n",
    "        print(\"\\r {} / {}\".format(i, train_x.shape[0] // batch_size), end='\\r')\n",
    "    \n",
    "    # epoch마다 결과 출력\n",
    "    fmt = 'epoch {} loss: {}, accuracy: {}'\n",
    "    print(fmt.format(epoch+1, \n",
    "                          train_loss.result(),\n",
    "                          train_accuracy.result() * 100)\n",
    "         )\n",
    "    \n",
    "    # loss와 acc 객체는 값을 계속 누적시킨다. \n",
    "    # 그럼 각 epoch의 값이 아니라 계속 누적시킨 평균값이 나오게 된다.\n",
    "    # 그래서 reset 시켜줘야한다.\n",
    "    train_loss.reset_states()\n",
    "    train_accuracy.reset_states()"
   ]
  },
  {
   "cell_type": "markdown",
   "id": "a58bc5f5",
   "metadata": {},
   "source": [
    "## 데코레이션 : @tf.function\n",
    "보통 함수 처럼 함수가 끝나면 결과가 소멸되는 것이 아니라 관련 작업물들의 실행결과들을 기억해놓는다?\n",
    "-> 연산속도 향상?\n",
    "\n",
    "그래프 최적화(Graph Optimization)는 만약 동일한 연산이 여기저기서 반복되는 경우 해당 연산 결과를 캐쉬(cache)로 저장해서 사용함으로써 동일 연산이 반복적으로 일어나지 않도록 한다거나, 복잡한 연산의 경우 다수의 장비에서 병렬처리(parallel on multiple devices)를 하여 연산을 빠르게 수행할 수 있도록 하여 성능을 최적화해줍니다. "
   ]
  },
  {
   "cell_type": "code",
   "execution_count": 11,
   "id": "4bf6f855",
   "metadata": {
    "ExecuteTime": {
     "end_time": "2023-10-11T06:56:51.982202Z",
     "start_time": "2023-10-11T06:56:51.947112Z"
    }
   },
   "outputs": [],
   "source": [
    "# 데코레이터 @ : tf에 관련된 하부 함수들을 미리 다 실행 시켜놓음? -> 연산이 빨라짐?\n",
    "\n",
    "@tf.function\n",
    "def train_step(x, y) :\n",
    "    with tf.GradientTape() as tape:\n",
    "        pred = model(x)\n",
    "        loss = loss_fn(y, pred)\n",
    "        \n",
    "    gradients = tape.gradient(loss, model.trainable_variables)\n",
    "    opt.apply_gradients(zip(gradients, model.trainable_variables))\n",
    "    \n",
    "    train_loss(loss)\n",
    "    train_accuracy(y, pred)\n"
   ]
  },
  {
   "cell_type": "code",
   "execution_count": 12,
   "id": "4e062111",
   "metadata": {
    "ExecuteTime": {
     "end_time": "2023-10-11T06:57:25.907391Z",
     "start_time": "2023-10-11T06:57:16.103256Z"
    }
   },
   "outputs": [
    {
     "name": "stdout",
     "output_type": "stream",
     "text": [
      "epoch 1 loss: 2.3281641006469727, accuracy: 9.943181991577148\n"
     ]
    }
   ],
   "source": [
    "# 위 코드를 정리한 실사용 코드\n",
    "\n",
    "batch_size = 64\n",
    "num_of_batch_train = train_x.shape[0] // batch_size\n",
    "\n",
    "for epoch in range(1):\n",
    "    for i in range(num_of_batch_train):\n",
    "        idx = i * batch_size\n",
    "        x, y = train_x[idx:idx+batch_size], train_y[idx:idx+batch_size]\n",
    "        train_step(x, y)\n",
    "        print(\"\\r {} / {}\".format(i, num_of_batch_train), end='\\r')\n",
    "    \n",
    "    fmt = 'epoch {} loss: {}, accuracy: {}'\n",
    "    print(fmt.format(epoch+1, \n",
    "                          train_loss.result(),\n",
    "                          train_accuracy.result() * 100)\n",
    "         )\n",
    "      # Reset metrics every epoch\n",
    "    train_loss.reset_states()\n",
    "    train_accuracy.reset_states()"
   ]
  },
  {
   "cell_type": "code",
   "execution_count": null,
   "id": "5c515845",
   "metadata": {},
   "outputs": [],
   "source": []
  },
  {
   "cell_type": "code",
   "execution_count": null,
   "id": "b04590da",
   "metadata": {},
   "outputs": [],
   "source": []
  }
 ],
 "metadata": {
  "kernelspec": {
   "display_name": "GPU",
   "language": "python",
   "name": "gpu"
  },
  "language_info": {
   "codemirror_mode": {
    "name": "ipython",
    "version": 3
   },
   "file_extension": ".py",
   "mimetype": "text/x-python",
   "name": "python",
   "nbconvert_exporter": "python",
   "pygments_lexer": "ipython3",
   "version": "3.8.18"
  },
  "varInspector": {
   "cols": {
    "lenName": 16,
    "lenType": 16,
    "lenVar": 40
   },
   "kernels_config": {
    "python": {
     "delete_cmd_postfix": "",
     "delete_cmd_prefix": "del ",
     "library": "var_list.py",
     "varRefreshCmd": "print(var_dic_list())"
    },
    "r": {
     "delete_cmd_postfix": ") ",
     "delete_cmd_prefix": "rm(",
     "library": "var_list.r",
     "varRefreshCmd": "cat(var_dic_list()) "
    }
   },
   "types_to_exclude": [
    "module",
    "function",
    "builtin_function_or_method",
    "instance",
    "_Feature"
   ],
   "window_display": false
  }
 },
 "nbformat": 4,
 "nbformat_minor": 5
}
