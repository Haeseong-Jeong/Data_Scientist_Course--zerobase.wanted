{
 "cells": [
  {
   "cell_type": "markdown",
   "id": "874c79aa",
   "metadata": {},
   "source": [
    "# Constants"
   ]
  },
  {
   "cell_type": "code",
   "execution_count": 1,
   "id": "64973dd4",
   "metadata": {
    "ExecuteTime": {
     "end_time": "2023-10-05T06:28:24.802387Z",
     "start_time": "2023-10-05T06:28:13.033984Z"
    }
   },
   "outputs": [],
   "source": [
    "import tensorflow as tf"
   ]
  },
  {
   "cell_type": "markdown",
   "id": "da4d6dd2",
   "metadata": {},
   "source": [
    "## Tensor"
   ]
  },
  {
   "cell_type": "markdown",
   "id": "093978d8",
   "metadata": {},
   "source": [
    "- Deeplearning framework는 기본적으로 Tensor를 다루는 도구다.\n",
    "    - [Tensor](https://www.google.com/search?q=Tensor&newwindow=1&sxsrf=AOaemvLxCRvi46j5dRtWwY8K6ssvkpF48A:1641452781782&source=lnms&tbm=isch&sa=X&ved=2ahUKEwin2eSPyJz1AhXNdd4KHWzUAd8Q_AUoAXoECAIQAw&biw=1440&bih=820&dpr=2)\n",
    "\n",
    "\n",
    "- Tensor를 다룰 때 가장 중요한 것! \n",
    "\n",
    "  ${\\rightarrow} \\ $ **SHAPE !!!**\n",
    "  \n",
    " (해보면 알겠지만, 제일 에러 많이 나는 이유, 제일 헷갈리는 것, 개발할 때 우리가 이론을 알아야 하는 이유, 함수들의 설정값을 확인해야하는 이유)\n",
    " \n",
    " "
   ]
  },
  {
   "cell_type": "markdown",
   "id": "3907c01d",
   "metadata": {},
   "source": [
    "## Tensor 생성"
   ]
  },
  {
   "cell_type": "markdown",
   "id": "7ed66109",
   "metadata": {},
   "source": [
    "우리가 생성하는 것은 `tf.Tensor` 데이터!"
   ]
  },
  {
   "cell_type": "markdown",
   "id": "a902cacd",
   "metadata": {},
   "source": [
    "**항상 체크 해야 할 것 !**\n",
    " - shape\n",
    " - dtype (데이터 타입이 같아야 연산이 가능합니다.)"
   ]
  },
  {
   "cell_type": "markdown",
   "id": "4da46b25",
   "metadata": {},
   "source": [
    "<h4> Constant (상수)</h4>\n",
    "\n",
    "- **```tf.constant()```**\n",
    "\n",
    "    - list -> Tensor\n",
    "    - tuple -> Tensor\n",
    "    - Array -> Tensor"
   ]
  },
  {
   "cell_type": "code",
   "execution_count": 2,
   "id": "f1da2ea9",
   "metadata": {
    "ExecuteTime": {
     "end_time": "2023-10-05T06:30:34.643531Z",
     "start_time": "2023-10-05T06:30:32.557934Z"
    }
   },
   "outputs": [
    {
     "data": {
      "text/plain": [
       "<tf.Tensor: shape=(3,), dtype=int32, numpy=array([1, 2, 3])>"
      ]
     },
     "execution_count": 2,
     "metadata": {},
     "output_type": "execute_result"
    }
   ],
   "source": [
    "li_ten = tf.constant([1, 2, 3])\n",
    "li_ten"
   ]
  },
  {
   "cell_type": "code",
   "execution_count": 3,
   "id": "94433696",
   "metadata": {
    "ExecuteTime": {
     "end_time": "2023-10-05T06:30:37.200854Z",
     "start_time": "2023-10-05T06:30:37.164685Z"
    }
   },
   "outputs": [
    {
     "data": {
      "text/plain": [
       "<tf.Tensor: shape=(3,), dtype=float32, numpy=array([1., 2., 3.], dtype=float32)>"
      ]
     },
     "execution_count": 3,
     "metadata": {},
     "output_type": "execute_result"
    }
   ],
   "source": [
    "li_ten_f = tf.constant([1., 2., 3.])\n",
    "li_ten_f"
   ]
  },
  {
   "cell_type": "code",
   "execution_count": 4,
   "id": "036f4faa",
   "metadata": {
    "ExecuteTime": {
     "end_time": "2023-10-05T06:30:40.672068Z",
     "start_time": "2023-10-05T06:30:40.645277Z"
    }
   },
   "outputs": [
    {
     "data": {
      "text/plain": [
       "<tf.Tensor: shape=(2, 3), dtype=int32, numpy=\n",
       "array([[1, 2, 3],\n",
       "       [1, 2, 3]])>"
      ]
     },
     "execution_count": 4,
     "metadata": {},
     "output_type": "execute_result"
    }
   ],
   "source": [
    "tu_ten = tf.constant(((1, 2, 3), (1, 2, 3)), name=\"sample\")\n",
    "tu_ten"
   ]
  },
  {
   "cell_type": "code",
   "execution_count": 6,
   "id": "cb81c7eb",
   "metadata": {
    "ExecuteTime": {
     "end_time": "2023-10-05T06:31:09.347901Z",
     "start_time": "2023-10-05T06:31:09.326907Z"
    }
   },
   "outputs": [
    {
     "data": {
      "text/plain": [
       "<tf.Tensor: shape=(3,), dtype=float64, numpy=array([1., 2., 3.])>"
      ]
     },
     "execution_count": 6,
     "metadata": {},
     "output_type": "execute_result"
    }
   ],
   "source": [
    "import numpy as np\n",
    "\n",
    "arr = np.array([1., 2., 3.])#, dtype='float64')\n",
    "arr_ten = tf.constant(arr)\n",
    "arr_ten"
   ]
  },
  {
   "cell_type": "markdown",
   "id": "23aa3174",
   "metadata": {},
   "source": [
    "#### 잠깐 옆으로 새서...\n",
    "* double precision : 64bits\n",
    "* single precision : 32bits\n",
    "* half precision   : 16bits"
   ]
  },
  {
   "cell_type": "code",
   "execution_count": null,
   "id": "445c00b0",
   "metadata": {},
   "outputs": [],
   "source": []
  },
  {
   "cell_type": "markdown",
   "id": "a39b8eae",
   "metadata": {},
   "source": [
    "### Numpy array 추출"
   ]
  },
  {
   "cell_type": "code",
   "execution_count": 7,
   "id": "83b36c1c",
   "metadata": {
    "ExecuteTime": {
     "end_time": "2023-10-05T06:33:16.524681Z",
     "start_time": "2023-10-05T06:33:16.505609Z"
    }
   },
   "outputs": [
    {
     "data": {
      "text/plain": [
       "(array([1., 2., 3.]), numpy.ndarray)"
      ]
     },
     "execution_count": 7,
     "metadata": {},
     "output_type": "execute_result"
    }
   ],
   "source": [
    "arr_ten.numpy(), type(arr_ten.numpy())"
   ]
  },
  {
   "cell_type": "code",
   "execution_count": 8,
   "id": "c3dc3fd8",
   "metadata": {
    "ExecuteTime": {
     "end_time": "2023-10-05T06:33:19.945423Z",
     "start_time": "2023-10-05T06:33:19.929333Z"
    }
   },
   "outputs": [
    {
     "data": {
      "text/plain": [
       "(array([1, 2, 3]), numpy.ndarray)"
      ]
     },
     "execution_count": 8,
     "metadata": {},
     "output_type": "execute_result"
    }
   ],
   "source": [
    "li_ten.numpy(), type(li_ten.numpy())"
   ]
  },
  {
   "cell_type": "code",
   "execution_count": 12,
   "id": "7e5e33c2",
   "metadata": {},
   "outputs": [],
   "source": [
    "not_a_matrix = [[1,2,3], [4, 5], [6, 7, 8]]\n",
    "# tf.constant(not_a_matrix)"
   ]
  },
  {
   "cell_type": "markdown",
   "id": "4b3359d6",
   "metadata": {},
   "source": [
    "- 구조가 안 맞는 리스트를 변환하면 에러가 발생한다."
   ]
  },
  {
   "cell_type": "markdown",
   "id": "1c356a83",
   "metadata": {},
   "source": [
    "### shpae, dtype 항상 체크!!"
   ]
  },
  {
   "cell_type": "code",
   "execution_count": 9,
   "id": "59c55661",
   "metadata": {
    "ExecuteTime": {
     "end_time": "2023-10-05T06:34:06.021379Z",
     "start_time": "2023-10-05T06:34:06.005216Z"
    }
   },
   "outputs": [
    {
     "data": {
      "text/plain": [
       "(TensorShape([3]), TensorShape([2, 3]))"
      ]
     },
     "execution_count": 9,
     "metadata": {},
     "output_type": "execute_result"
    }
   ],
   "source": [
    "li_ten.shape, tu_ten.shape"
   ]
  },
  {
   "cell_type": "code",
   "execution_count": 10,
   "id": "cf4c62eb",
   "metadata": {
    "ExecuteTime": {
     "end_time": "2023-10-05T06:34:06.935945Z",
     "start_time": "2023-10-05T06:34:06.921929Z"
    }
   },
   "outputs": [
    {
     "data": {
      "text/plain": [
       "(tf.float64, tf.int32)"
      ]
     },
     "execution_count": 10,
     "metadata": {},
     "output_type": "execute_result"
    }
   ],
   "source": [
    "arr_ten.dtype, li_ten.dtype"
   ]
  },
  {
   "cell_type": "code",
   "execution_count": 15,
   "id": "c7287754",
   "metadata": {},
   "outputs": [],
   "source": [
    "# 1번 케이스\n",
    "# tf.matmul(li_ten, tu_ten)"
   ]
  },
  {
   "cell_type": "markdown",
   "id": "e41bd2a4",
   "metadata": {},
   "source": [
    "- [3]과 [2,3]의 내적은 불가"
   ]
  },
  {
   "cell_type": "code",
   "execution_count": 16,
   "id": "a999f6e5",
   "metadata": {},
   "outputs": [],
   "source": [
    "# 2번 케이스\n",
    "# tf.matmul(tu_ten, li_ten)"
   ]
  },
  {
   "cell_type": "markdown",
   "id": "353eebd2",
   "metadata": {},
   "source": [
    "- [2,3] [3]은 랭크(차원)이 안맞아서 내적이 불가"
   ]
  },
  {
   "cell_type": "code",
   "execution_count": 11,
   "id": "cb21fbc2",
   "metadata": {
    "ExecuteTime": {
     "end_time": "2023-10-05T06:36:09.459984Z",
     "start_time": "2023-10-05T06:36:09.437984Z"
    }
   },
   "outputs": [
    {
     "name": "stdout",
     "output_type": "stream",
     "text": [
      "1\n",
      "2\n"
     ]
    }
   ],
   "source": [
    "# 랭크 확인\n",
    "print(li_ten.ndim)\n",
    "print(tu_ten.ndim)"
   ]
  },
  {
   "cell_type": "code",
   "execution_count": 13,
   "id": "808843ec",
   "metadata": {
    "ExecuteTime": {
     "end_time": "2023-10-05T06:37:00.914074Z",
     "start_time": "2023-10-05T06:37:00.909448Z"
    }
   },
   "outputs": [],
   "source": [
    "# 3번 케이스\n",
    "# arr_ten * li_ten"
   ]
  },
  {
   "cell_type": "markdown",
   "id": "97442bca",
   "metadata": {},
   "source": [
    "- 데이터 타입이 달라서 계산 안 됨"
   ]
  },
  {
   "cell_type": "markdown",
   "id": "c3babfd8",
   "metadata": {},
   "source": [
    "### 데이터 타입 컨트롤하는 방법\n",
    "  - `tf.cast`"
   ]
  },
  {
   "cell_type": "code",
   "execution_count": 14,
   "id": "0c2cf3cb",
   "metadata": {
    "ExecuteTime": {
     "end_time": "2023-10-05T06:37:23.508062Z",
     "start_time": "2023-10-05T06:37:23.490081Z"
    }
   },
   "outputs": [
    {
     "data": {
      "text/plain": [
       "<tf.Tensor: shape=(3,), dtype=float32, numpy=array([1., 2., 3.], dtype=float32)>"
      ]
     },
     "execution_count": 14,
     "metadata": {},
     "output_type": "execute_result"
    }
   ],
   "source": [
    "# 미리 지정해주거나\n",
    "tensor = tf.constant([1, 2, 3], dtype=tf.float32)\n",
    "tensor"
   ]
  },
  {
   "cell_type": "code",
   "execution_count": 15,
   "id": "b4982741",
   "metadata": {
    "ExecuteTime": {
     "end_time": "2023-10-05T06:37:41.885730Z",
     "start_time": "2023-10-05T06:37:41.867734Z"
    }
   },
   "outputs": [
    {
     "data": {
      "text/plain": [
       "<tf.Tensor: shape=(3,), dtype=int16, numpy=array([1, 2, 3], dtype=int16)>"
      ]
     },
     "execution_count": 15,
     "metadata": {},
     "output_type": "execute_result"
    }
   ],
   "source": [
    "# tf.cast를 사용. 다만, 많은 경우 미리 데이터타입을 정리해둘 수 있다.\n",
    "tf.cast(tensor, dtype=tf.int16)"
   ]
  },
  {
   "cell_type": "code",
   "execution_count": null,
   "id": "792ad7c9",
   "metadata": {},
   "outputs": [],
   "source": []
  },
  {
   "cell_type": "markdown",
   "id": "63b5855f",
   "metadata": {},
   "source": [
    "#### 간단 퀴즈 \n",
    "\n",
    "아래 코드를 에러 없이 실행 하시오. "
   ]
  },
  {
   "cell_type": "code",
   "execution_count": 16,
   "id": "0145cabe",
   "metadata": {
    "ExecuteTime": {
     "end_time": "2023-10-05T06:37:54.816114Z",
     "start_time": "2023-10-05T06:37:54.806700Z"
    }
   },
   "outputs": [
    {
     "data": {
      "text/plain": [
       "(<tf.Tensor: shape=(3,), dtype=float64, numpy=array([1., 2., 3.])>,\n",
       " <tf.Tensor: shape=(3,), dtype=int32, numpy=array([1, 2, 3])>)"
      ]
     },
     "execution_count": 16,
     "metadata": {},
     "output_type": "execute_result"
    }
   ],
   "source": [
    "arr_ten, li_ten"
   ]
  },
  {
   "cell_type": "code",
   "execution_count": 18,
   "id": "2956a85a",
   "metadata": {
    "ExecuteTime": {
     "end_time": "2023-10-05T06:38:31.712693Z",
     "start_time": "2023-10-05T06:38:31.706689Z"
    }
   },
   "outputs": [],
   "source": [
    "#arr_ten * li_ten"
   ]
  },
  {
   "cell_type": "markdown",
   "id": "6ceece97",
   "metadata": {},
   "source": [
    "------"
   ]
  },
  {
   "cell_type": "code",
   "execution_count": 17,
   "id": "c103c075",
   "metadata": {
    "ExecuteTime": {
     "end_time": "2023-10-05T06:38:19.349160Z",
     "start_time": "2023-10-05T06:38:19.329135Z"
    }
   },
   "outputs": [
    {
     "data": {
      "text/plain": [
       "<tf.Tensor: shape=(3,), dtype=float64, numpy=array([1., 4., 9.])>"
      ]
     },
     "execution_count": 17,
     "metadata": {},
     "output_type": "execute_result"
    }
   ],
   "source": [
    "arr_ten * tf.cast(li_ten, tf.float64)"
   ]
  },
  {
   "cell_type": "code",
   "execution_count": null,
   "id": "1f55bdd6",
   "metadata": {},
   "outputs": [],
   "source": []
  },
  {
   "cell_type": "code",
   "execution_count": null,
   "id": "2afbeff7",
   "metadata": {},
   "outputs": [],
   "source": []
  },
  {
   "cell_type": "markdown",
   "id": "ba8e4a02",
   "metadata": {},
   "source": [
    "### 특정 값의 Tensor 생성\n",
    "\n",
    " - `tf.ones`\n",
    " - `tf.zeros`\n",
    " - `tf.range`\n"
   ]
  },
  {
   "cell_type": "code",
   "execution_count": 19,
   "id": "32b491d4",
   "metadata": {
    "ExecuteTime": {
     "end_time": "2023-10-05T06:38:45.709572Z",
     "start_time": "2023-10-05T06:38:45.690553Z"
    }
   },
   "outputs": [
    {
     "data": {
      "text/plain": [
       "<tf.Tensor: shape=(1,), dtype=float32, numpy=array([1.], dtype=float32)>"
      ]
     },
     "execution_count": 19,
     "metadata": {},
     "output_type": "execute_result"
    }
   ],
   "source": [
    "tf.ones(1)"
   ]
  },
  {
   "cell_type": "code",
   "execution_count": 20,
   "id": "eb35e22a",
   "metadata": {
    "ExecuteTime": {
     "end_time": "2023-10-05T06:38:46.472175Z",
     "start_time": "2023-10-05T06:38:46.454503Z"
    }
   },
   "outputs": [
    {
     "data": {
      "text/plain": [
       "<tf.Tensor: shape=(2, 5), dtype=int32, numpy=\n",
       "array([[0, 0, 0, 0, 0],\n",
       "       [0, 0, 0, 0, 0]])>"
      ]
     },
     "execution_count": 20,
     "metadata": {},
     "output_type": "execute_result"
    }
   ],
   "source": [
    "tf.zeros((2, 5), dtype=\"int32\")"
   ]
  },
  {
   "cell_type": "code",
   "execution_count": 21,
   "id": "e9fe0255",
   "metadata": {
    "ExecuteTime": {
     "end_time": "2023-10-05T06:38:47.349043Z",
     "start_time": "2023-10-05T06:38:47.328098Z"
    }
   },
   "outputs": [
    {
     "data": {
      "text/plain": [
       "<tf.Tensor: shape=(10,), dtype=int32, numpy=array([0, 1, 2, 3, 4, 5, 6, 7, 8, 9])>"
      ]
     },
     "execution_count": 21,
     "metadata": {},
     "output_type": "execute_result"
    }
   ],
   "source": [
    "tf.range(10)"
   ]
  },
  {
   "cell_type": "code",
   "execution_count": 22,
   "id": "12b880bc",
   "metadata": {
    "ExecuteTime": {
     "end_time": "2023-10-05T06:39:02.774137Z",
     "start_time": "2023-10-05T06:39:02.755102Z"
    }
   },
   "outputs": [
    {
     "data": {
      "text/plain": [
       "<tf.Tensor: shape=(10,), dtype=int32, numpy=array([ 1,  2,  3,  4,  5,  6,  7,  8,  9, 10])>"
      ]
     },
     "execution_count": 22,
     "metadata": {},
     "output_type": "execute_result"
    }
   ],
   "source": [
    "tf.range(1, 11)"
   ]
  },
  {
   "cell_type": "code",
   "execution_count": null,
   "id": "b4b6113b",
   "metadata": {},
   "outputs": [],
   "source": []
  },
  {
   "cell_type": "markdown",
   "id": "76d8fcc5",
   "metadata": {},
   "source": [
    "####  간단 퀴즈"
   ]
  },
  {
   "cell_type": "markdown",
   "id": "58619add",
   "metadata": {},
   "source": [
    "**n 을 입력하면 첫항이 1이고 공비가 2인 등비수열을 생성하는 함수를 만드시오** \n",
    "(이 때 결과값은 tf.Tensor 데이터이고, 데이터 타입은 tf.int32)\n",
    "\n",
    "$$\n",
    "n = 10 \\ 일 때 \\\\ \\\\\n",
    "(1, 2, 4, 8, 16, 32, 64, 128, 256, 512)\n",
    "$$"
   ]
  },
  {
   "cell_type": "code",
   "execution_count": 23,
   "id": "a7da07a0",
   "metadata": {
    "ExecuteTime": {
     "end_time": "2023-10-05T06:39:50.997384Z",
     "start_time": "2023-10-05T06:39:50.980300Z"
    }
   },
   "outputs": [],
   "source": [
    "def geometric_sequence(n):\n",
    "    pass"
   ]
  },
  {
   "cell_type": "code",
   "execution_count": 24,
   "id": "b708c70b",
   "metadata": {
    "ExecuteTime": {
     "end_time": "2023-10-05T06:39:51.537135Z",
     "start_time": "2023-10-05T06:39:51.531147Z"
    }
   },
   "outputs": [
    {
     "name": "stdout",
     "output_type": "stream",
     "text": [
      "None\n"
     ]
    }
   ],
   "source": [
    "print(geometric_sequence(10))"
   ]
  },
  {
   "cell_type": "markdown",
   "id": "aabbc751",
   "metadata": {},
   "source": [
    "-----"
   ]
  },
  {
   "cell_type": "code",
   "execution_count": 26,
   "id": "a33b0a63",
   "metadata": {
    "ExecuteTime": {
     "end_time": "2023-10-05T06:41:19.316813Z",
     "start_time": "2023-10-05T06:41:19.299849Z"
    }
   },
   "outputs": [],
   "source": [
    "def geometric_sequence(n):\n",
    "    r = tf.range(n, dtype='int32')\n",
    "    s = tf.ones(n, dtype=tf.int32) * 2\n",
    "    return s**r\n"
   ]
  },
  {
   "cell_type": "code",
   "execution_count": 27,
   "id": "f9e4b8a1",
   "metadata": {
    "ExecuteTime": {
     "end_time": "2023-10-05T06:41:19.693437Z",
     "start_time": "2023-10-05T06:41:19.667020Z"
    }
   },
   "outputs": [
    {
     "name": "stdout",
     "output_type": "stream",
     "text": [
      "tf.Tensor([  1   2   4   8  16  32  64 128 256 512], shape=(10,), dtype=int32)\n"
     ]
    }
   ],
   "source": [
    "print(geometric_sequence(10))"
   ]
  },
  {
   "cell_type": "markdown",
   "id": "f7d17ca6",
   "metadata": {},
   "source": [
    "<h4> Random Value(난수)</h4>"
   ]
  },
  {
   "cell_type": "markdown",
   "id": "b6b32a12",
   "metadata": {},
   "source": [
    "- 무작위 값을 생성할 때 필요. \n",
    "- Noise를 재현 한다거나, test를 한다거나 할 때 많이 사용됨 \n",
    "- 데이터 타입은 상수형태로 반환됨\n",
    "\n",
    "**`tf.random`** 에 구현 되어 있음. \n",
    "\n",
    "  - `tf.random.normal`\n",
    "      - Gaussian Normal Distribution\n",
    "      \n",
    "  - `tf.random.uniform`\n",
    "      - Uniform Distribution\n",
    "      \n",
    "> 이렇게나 많습니다! [LINK](https://www.tensorflow.org/api_docs/python/tf/random)"
   ]
  },
  {
   "cell_type": "code",
   "execution_count": 28,
   "id": "994abe4d",
   "metadata": {
    "ExecuteTime": {
     "end_time": "2023-10-05T06:42:50.933369Z",
     "start_time": "2023-10-05T06:42:50.916616Z"
    }
   },
   "outputs": [],
   "source": [
    "## shape은 튜플형태로\n",
    "\n",
    "shape = (3, 3)"
   ]
  },
  {
   "cell_type": "code",
   "execution_count": 29,
   "id": "566a27b7",
   "metadata": {
    "ExecuteTime": {
     "end_time": "2023-10-05T06:42:59.096432Z",
     "start_time": "2023-10-05T06:42:59.070540Z"
    }
   },
   "outputs": [
    {
     "data": {
      "text/plain": [
       "<tf.Tensor: shape=(3, 3), dtype=float32, numpy=\n",
       "array([[ 0.21718334,  0.20530696, -2.4365132 ],\n",
       "       [ 1.0459605 , -3.043937  ,  1.4225698 ],\n",
       "       [-1.7026451 , -0.72068155, -0.6747387 ]], dtype=float32)>"
      ]
     },
     "execution_count": 29,
     "metadata": {},
     "output_type": "execute_result"
    }
   ],
   "source": [
    "tf.random.normal(shape)"
   ]
  },
  {
   "cell_type": "code",
   "execution_count": 31,
   "id": "6a8703dd",
   "metadata": {
    "ExecuteTime": {
     "end_time": "2023-10-05T06:43:41.449673Z",
     "start_time": "2023-10-05T06:43:41.430695Z"
    }
   },
   "outputs": [
    {
     "data": {
      "text/plain": [
       "<tf.Tensor: shape=(3, 3), dtype=float32, numpy=\n",
       "array([[ 93.35857 , 105.28501 ,  99.433304],\n",
       "       [113.02376 , 100.72111 , 101.67053 ],\n",
       "       [104.093124,  88.77731 ,  99.72013 ]], dtype=float32)>"
      ]
     },
     "execution_count": 31,
     "metadata": {},
     "output_type": "execute_result"
    }
   ],
   "source": [
    "tf.random.normal(shape, mean=100, stddev=10) # 평균이 100이며 표준편차가 10"
   ]
  },
  {
   "cell_type": "markdown",
   "id": "2eaa38cb",
   "metadata": {},
   "source": [
    "- tf.random.uniform\n",
    "    - TensorFlow에서 Uniform Distribution"
   ]
  },
  {
   "cell_type": "code",
   "execution_count": 32,
   "id": "88f7a8d8",
   "metadata": {
    "ExecuteTime": {
     "end_time": "2023-10-05T06:43:51.511554Z",
     "start_time": "2023-10-05T06:43:51.485985Z"
    }
   },
   "outputs": [
    {
     "data": {
      "text/plain": [
       "<tf.Tensor: shape=(3, 3), dtype=float32, numpy=\n",
       "array([[0.949988  , 0.7504935 , 0.11128616],\n",
       "       [0.28930676, 0.8184172 , 0.00565732],\n",
       "       [0.7169044 , 0.30540693, 0.6533543 ]], dtype=float32)>"
      ]
     },
     "execution_count": 32,
     "metadata": {},
     "output_type": "execute_result"
    }
   ],
   "source": [
    "tf.random.uniform(shape)"
   ]
  },
  {
   "cell_type": "code",
   "execution_count": null,
   "id": "c143198c",
   "metadata": {},
   "outputs": [],
   "source": []
  },
  {
   "cell_type": "markdown",
   "id": "d6a68fcc",
   "metadata": {},
   "source": [
    "* **Random seed 관리 하기!!!**\n",
    "\n",
    " - Random value로 보통 가중치를 초기화 \n",
    " - 이외에도 학습과정에서 Random value가 많이 사용됨. \n",
    " - 이를 관리 안해주면, 자신이 했던 작업이 동일하게 복구 또는 재현이 안됨!!! \n",
    " \n",
    " \n",
    "- **`tf.random.set_seed({seed_number})`**\n",
    "\n",
    " \n",
    "**=> 항상 Random seed를 고정해두고 개발 한다!!!** \n",
    "   \n",
    "   (주의 할 점은 해당 개발물에 사용되는 난수가 모두 TensorFlow에서 생성된것이 아닐 수 있다는 것이다.) "
   ]
  },
  {
   "cell_type": "code",
   "execution_count": 33,
   "id": "6e0b3f17",
   "metadata": {
    "ExecuteTime": {
     "end_time": "2023-10-05T06:45:13.246406Z",
     "start_time": "2023-10-05T06:45:13.236275Z"
    }
   },
   "outputs": [],
   "source": [
    "seed = 7777"
   ]
  },
  {
   "cell_type": "code",
   "execution_count": 34,
   "id": "e2924cb0",
   "metadata": {
    "ExecuteTime": {
     "end_time": "2023-10-05T06:45:20.292649Z",
     "start_time": "2023-10-05T06:45:20.264679Z"
    }
   },
   "outputs": [
    {
     "name": "stdout",
     "output_type": "stream",
     "text": [
      "tf.Tensor([0.959749], shape=(1,), dtype=float32)\n",
      "tf.Tensor([0.8677443], shape=(1,), dtype=float32)\n"
     ]
    }
   ],
   "source": [
    "tf.random.set_seed(seed)\n",
    "a = tf.random.uniform([1])\n",
    "b = tf.random.uniform([1])\n",
    "print(a, b, sep=\"\\n\")"
   ]
  },
  {
   "cell_type": "code",
   "execution_count": 36,
   "id": "11d41a95",
   "metadata": {
    "ExecuteTime": {
     "end_time": "2023-10-05T06:45:39.833585Z",
     "start_time": "2023-10-05T06:45:39.815421Z"
    }
   },
   "outputs": [
    {
     "name": "stdout",
     "output_type": "stream",
     "text": [
      "tf.Tensor([0.7821541], shape=(1,), dtype=float32)\n",
      "tf.Tensor([0.49664533], shape=(1,), dtype=float32)\n"
     ]
    }
   ],
   "source": [
    "a = tf.random.uniform([1])\n",
    "b = tf.random.uniform([1])\n",
    "print(a, b, sep=\"\\n\")"
   ]
  },
  {
   "cell_type": "code",
   "execution_count": 37,
   "id": "225f8ea2",
   "metadata": {
    "ExecuteTime": {
     "end_time": "2023-10-05T06:45:41.181261Z",
     "start_time": "2023-10-05T06:45:41.157623Z"
    }
   },
   "outputs": [
    {
     "name": "stdout",
     "output_type": "stream",
     "text": [
      "tf.Tensor([0.959749], shape=(1,), dtype=float32)\n",
      "tf.Tensor([0.8677443], shape=(1,), dtype=float32)\n"
     ]
    }
   ],
   "source": [
    "tf.random.set_seed(seed)\n",
    "a = tf.random.uniform([1])\n",
    "b = tf.random.uniform([1])\n",
    "print(a, b, sep=\"\\n\")"
   ]
  },
  {
   "cell_type": "markdown",
   "id": "602f77c8",
   "metadata": {},
   "source": [
    "- 랜덤 seed를 넣어주면 랜덤값 고정"
   ]
  },
  {
   "cell_type": "code",
   "execution_count": null,
   "id": "e51c2a70",
   "metadata": {},
   "outputs": [],
   "source": []
  }
 ],
 "metadata": {
  "kernelspec": {
   "display_name": "GPU",
   "language": "python",
   "name": "gpu"
  },
  "language_info": {
   "codemirror_mode": {
    "name": "ipython",
    "version": 3
   },
   "file_extension": ".py",
   "mimetype": "text/x-python",
   "name": "python",
   "nbconvert_exporter": "python",
   "pygments_lexer": "ipython3",
   "version": "3.8.18"
  },
  "toc": {
   "base_numbering": 1,
   "nav_menu": {},
   "number_sections": true,
   "sideBar": true,
   "skip_h1_title": false,
   "title_cell": "Table of Contents",
   "title_sidebar": "Contents",
   "toc_cell": false,
   "toc_position": {
    "height": "calc(100% - 180px)",
    "left": "10px",
    "top": "150px",
    "width": "165px"
   },
   "toc_section_display": true,
   "toc_window_display": false
  },
  "varInspector": {
   "cols": {
    "lenName": 16,
    "lenType": 16,
    "lenVar": 40
   },
   "kernels_config": {
    "python": {
     "delete_cmd_postfix": "",
     "delete_cmd_prefix": "del ",
     "library": "var_list.py",
     "varRefreshCmd": "print(var_dic_list())"
    },
    "r": {
     "delete_cmd_postfix": ") ",
     "delete_cmd_prefix": "rm(",
     "library": "var_list.r",
     "varRefreshCmd": "cat(var_dic_list()) "
    }
   },
   "types_to_exclude": [
    "module",
    "function",
    "builtin_function_or_method",
    "instance",
    "_Feature"
   ],
   "window_display": false
  }
 },
 "nbformat": 4,
 "nbformat_minor": 5
}
