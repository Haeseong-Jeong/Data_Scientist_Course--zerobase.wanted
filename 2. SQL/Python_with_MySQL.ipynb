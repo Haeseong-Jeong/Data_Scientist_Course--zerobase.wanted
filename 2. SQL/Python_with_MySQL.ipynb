{
 "cells": [
  {
   "cell_type": "code",
   "execution_count": 5,
   "metadata": {},
   "outputs": [],
   "source": [
    "import mysql.connector"
   ]
  },
  {
   "cell_type": "markdown",
   "metadata": {},
   "source": [
    "### 1. Create Connection"
   ]
  },
  {
   "cell_type": "markdown",
   "metadata": {},
   "source": [
    "```\n",
    "mydb = mysql.connector.connect(\n",
    "    host = '',\n",
    "    user = '',\n",
    "    password = ''\n",
    ")\n",
    "```"
   ]
  },
  {
   "cell_type": "code",
   "execution_count": 6,
   "metadata": {},
   "outputs": [],
   "source": [
    "local = mysql.connector.connect(\n",
    "    host = 'localhost',\n",
    "    user = 'root',\n",
    "    password = '336542'\n",
    ")"
   ]
  },
  {
   "cell_type": "markdown",
   "metadata": {},
   "source": [
    "### 2. create connection - AWS RDS"
   ]
  },
  {
   "cell_type": "code",
   "execution_count": 8,
   "metadata": {},
   "outputs": [],
   "source": [
    "remote = mysql.connector.connect(\n",
    "    host = 'database-1.csnfhisafzda.us-east-1.rds.amazonaws.com',\n",
    "    port = 3306,\n",
    "    user = 'admin',\n",
    "    password = 'qweasd123'\n",
    ")"
   ]
  },
  {
   "cell_type": "markdown",
   "metadata": {},
   "source": [
    "### 3. close database"
   ]
  },
  {
   "cell_type": "code",
   "execution_count": 9,
   "metadata": {},
   "outputs": [],
   "source": [
    "local.close()"
   ]
  },
  {
   "cell_type": "code",
   "execution_count": 10,
   "metadata": {},
   "outputs": [],
   "source": [
    "remote.close()"
   ]
  },
  {
   "cell_type": "markdown",
   "metadata": {},
   "source": [
    "### 4. 데이터 베이스를 추가해서 connection"
   ]
  },
  {
   "cell_type": "code",
   "execution_count": 11,
   "metadata": {},
   "outputs": [],
   "source": [
    "local = mysql.connector.connect(\n",
    "    host = 'localhost',\n",
    "    user = 'root',\n",
    "    password = '336542',\n",
    "    database = 'zerobase'\n",
    ")"
   ]
  },
  {
   "cell_type": "code",
   "execution_count": 12,
   "metadata": {},
   "outputs": [],
   "source": [
    "local.close()"
   ]
  },
  {
   "cell_type": "code",
   "execution_count": 13,
   "metadata": {},
   "outputs": [],
   "source": [
    "remote = mysql.connector.connect(\n",
    "    host = 'database-1.csnfhisafzda.us-east-1.rds.amazonaws.com',\n",
    "    port = 3306,\n",
    "    user = 'admin',\n",
    "    password = 'qweasd123',\n",
    "    database = 'zerobase'\n",
    ")"
   ]
  },
  {
   "cell_type": "code",
   "execution_count": 14,
   "metadata": {},
   "outputs": [],
   "source": [
    "remote.close()"
   ]
  },
  {
   "cell_type": "markdown",
   "metadata": {},
   "source": [
    "### Execute SQL 예제 1\n",
    "    - 테이블 만들기"
   ]
  },
  {
   "cell_type": "code",
   "execution_count": 15,
   "metadata": {},
   "outputs": [],
   "source": [
    "remote = mysql.connector.connect(\n",
    "    host = 'database-1.csnfhisafzda.us-east-1.rds.amazonaws.com',\n",
    "    port = 3306,\n",
    "    user = 'admin',\n",
    "    password = 'qweasd123',\n",
    "    database = 'zerobase'\n",
    ")\n",
    "\n",
    "cur = remote.cursor()\n",
    "cur.execute(\"CREATE TABLE sql_file (id int, filename varchar(16))\")\n",
    "\n",
    "remote.close()"
   ]
  },
  {
   "cell_type": "markdown",
   "metadata": {},
   "source": [
    "### Execute SQL 예제 2\n",
    "    - 테이블 삭제"
   ]
  },
  {
   "cell_type": "code",
   "execution_count": 16,
   "metadata": {},
   "outputs": [],
   "source": [
    "remote = mysql.connector.connect(\n",
    "    host = 'database-1.csnfhisafzda.us-east-1.rds.amazonaws.com',\n",
    "    port = 3306,\n",
    "    user = 'admin',\n",
    "    password = 'qweasd123',\n",
    "    database = 'zerobase'\n",
    ")\n",
    "\n",
    "cur = remote.cursor()\n",
    "cur.execute(\"DROP TABLE sql_file\")\n",
    "\n",
    "remote.close()"
   ]
  },
  {
   "cell_type": "markdown",
   "metadata": {},
   "source": [
    "### Execute SQL 예제 3\n",
    "    - test03.sql 파일 실행하기"
   ]
  },
  {
   "cell_type": "code",
   "execution_count": 18,
   "metadata": {},
   "outputs": [],
   "source": [
    "remote = mysql.connector.connect(\n",
    "    host = 'database-1.csnfhisafzda.us-east-1.rds.amazonaws.com',\n",
    "    port = 3306,\n",
    "    user = 'admin',\n",
    "    password = 'qweasd123',\n",
    "    database = 'zerobase'\n",
    ")\n",
    "\n",
    "cur = remote.cursor()\n",
    "sql = open(\"test03.sql\").read()\n",
    "cur.execute(sql)\n",
    "\n",
    "remote.close()"
   ]
  },
  {
   "cell_type": "markdown",
   "metadata": {},
   "source": [
    "### Execute SQL 예제 4\n",
    "    - Query가 여러개 존재하는 test04.sql 파일 실행하기"
   ]
  },
  {
   "cell_type": "code",
   "execution_count": 21,
   "metadata": {},
   "outputs": [
    {
     "name": "stdout",
     "output_type": "stream",
     "text": [
      "INSERT INTO sql_file VALUES (1, 'test01.sql')\n",
      "INSERT INTO sql_file VALUES (2, 'test02.sql')\n",
      "INSERT INTO sql_file VALUES (3, 'test03.sql')\n",
      "INSERT INTO sql_file VALUES (4, 'test04.sql')\n"
     ]
    }
   ],
   "source": [
    "remote = mysql.connector.connect(\n",
    "    host = 'database-1.csnfhisafzda.us-east-1.rds.amazonaws.com',\n",
    "    port = 3306,\n",
    "    user = 'admin',\n",
    "    password = 'qweasd123',\n",
    "    database = 'zerobase'\n",
    ")\n",
    "\n",
    "cur = remote.cursor()\n",
    "sql = open(\"test04.sql\").read()\n",
    "for result_iterator in cur.execute(sql, multi=True):\n",
    "    if result_iterator.with_rows:\n",
    "        print(result_iterator.fetchall())\n",
    "    else:\n",
    "        print(result_iterator.statement)\n",
    "\n",
    "remote.commit()\n",
    "remote.close()"
   ]
  },
  {
   "cell_type": "markdown",
   "metadata": {},
   "source": [
    "### Fech All 예제 \n",
    "    - 결과를 배열로 한번에 전부 반환.\n",
    "    - Celeb 테이블을 조회 해보자.\n",
    "    - 읽어올 양이 많은 경우 buffered=True"
   ]
  },
  {
   "cell_type": "code",
   "execution_count": 1,
   "metadata": {},
   "outputs": [],
   "source": [
    "import mysql.connector"
   ]
  },
  {
   "cell_type": "code",
   "execution_count": 3,
   "metadata": {},
   "outputs": [],
   "source": [
    "remote = mysql.connector.connect(\n",
    "    host = \"database-1.csnfhisafzda.us-east-1.rds.amazonaws.com\",\n",
    "    port = 3306,\n",
    "    user = 'admin',\n",
    "    password = 'qweasd123',\n",
    "    database = 'zerobase'\n",
    ")"
   ]
  },
  {
   "cell_type": "code",
   "execution_count": 4,
   "metadata": {},
   "outputs": [
    {
     "data": {
      "text/plain": [
       "[(1, 'test01.sql'), (2, 'test02.sql'), (3, 'test03.sql'), (4, 'test04.sql')]"
      ]
     },
     "execution_count": 4,
     "metadata": {},
     "output_type": "execute_result"
    }
   ],
   "source": [
    "cur = remote.cursor(buffered=True)\n",
    "cur.execute(\"select * from sql_file\")\n",
    "\n",
    "result = cur.fetchall()\n",
    "result"
   ]
  },
  {
   "cell_type": "code",
   "execution_count": 5,
   "metadata": {},
   "outputs": [
    {
     "name": "stdout",
     "output_type": "stream",
     "text": [
      "(1, 'test01.sql')\n",
      "(2, 'test02.sql')\n",
      "(3, 'test03.sql')\n",
      "(4, 'test04.sql')\n"
     ]
    }
   ],
   "source": [
    "for result_iterator in result:\n",
    "    print(result_iterator)"
   ]
  },
  {
   "cell_type": "markdown",
   "metadata": {},
   "source": [
    "#### 판다스로 데이터프레임 만들기"
   ]
  },
  {
   "cell_type": "code",
   "execution_count": 6,
   "metadata": {},
   "outputs": [],
   "source": [
    "remote.close()"
   ]
  },
  {
   "cell_type": "code",
   "execution_count": 7,
   "metadata": {},
   "outputs": [],
   "source": [
    "import pandas as pd"
   ]
  },
  {
   "cell_type": "code",
   "execution_count": 8,
   "metadata": {},
   "outputs": [
    {
     "data": {
      "text/html": [
       "<div>\n",
       "<style scoped>\n",
       "    .dataframe tbody tr th:only-of-type {\n",
       "        vertical-align: middle;\n",
       "    }\n",
       "\n",
       "    .dataframe tbody tr th {\n",
       "        vertical-align: top;\n",
       "    }\n",
       "\n",
       "    .dataframe thead th {\n",
       "        text-align: right;\n",
       "    }\n",
       "</style>\n",
       "<table border=\"1\" class=\"dataframe\">\n",
       "  <thead>\n",
       "    <tr style=\"text-align: right;\">\n",
       "      <th></th>\n",
       "      <th>0</th>\n",
       "      <th>1</th>\n",
       "    </tr>\n",
       "  </thead>\n",
       "  <tbody>\n",
       "    <tr>\n",
       "      <th>0</th>\n",
       "      <td>1</td>\n",
       "      <td>test01.sql</td>\n",
       "    </tr>\n",
       "    <tr>\n",
       "      <th>1</th>\n",
       "      <td>2</td>\n",
       "      <td>test02.sql</td>\n",
       "    </tr>\n",
       "    <tr>\n",
       "      <th>2</th>\n",
       "      <td>3</td>\n",
       "      <td>test03.sql</td>\n",
       "    </tr>\n",
       "    <tr>\n",
       "      <th>3</th>\n",
       "      <td>4</td>\n",
       "      <td>test04.sql</td>\n",
       "    </tr>\n",
       "  </tbody>\n",
       "</table>\n",
       "</div>"
      ],
      "text/plain": [
       "   0           1\n",
       "0  1  test01.sql\n",
       "1  2  test02.sql\n",
       "2  3  test03.sql\n",
       "3  4  test04.sql"
      ]
     },
     "execution_count": 8,
     "metadata": {},
     "output_type": "execute_result"
    }
   ],
   "source": [
    "df = pd.DataFrame(result)\n",
    "df.head()"
   ]
  },
  {
   "cell_type": "code",
   "execution_count": null,
   "metadata": {},
   "outputs": [],
   "source": []
  }
 ],
 "metadata": {
  "kernelspec": {
   "display_name": "ds_study",
   "language": "python",
   "name": "ds_study"
  },
  "language_info": {
   "codemirror_mode": {
    "name": "ipython",
    "version": 3
   },
   "file_extension": ".py",
   "mimetype": "text/x-python",
   "name": "python",
   "nbconvert_exporter": "python",
   "pygments_lexer": "ipython3",
   "version": "3.8.16"
  },
  "orig_nbformat": 4
 },
 "nbformat": 4,
 "nbformat_minor": 2
}
