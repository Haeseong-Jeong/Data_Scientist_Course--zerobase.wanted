{
 "cells": [
  {
   "cell_type": "markdown",
   "id": "932d7c4e",
   "metadata": {},
   "source": [
    "# 뷰숲 기초"
   ]
  },
  {
   "cell_type": "code",
   "execution_count": 23,
   "id": "2341f9dc",
   "metadata": {},
   "outputs": [],
   "source": [
    "from bs4 import BeautifulSoup\n",
    "import requests"
   ]
  },
  {
   "cell_type": "code",
   "execution_count": 3,
   "id": "657e7ab2",
   "metadata": {},
   "outputs": [
    {
     "name": "stdout",
     "output_type": "stream",
     "text": [
      "<!DOCTYPE html>\n",
      "<html>\n",
      " <head>\n",
      "  <title>\n",
      "   <!-- head->title은 인터넷창 탭에 표시되는 이름 -->\n",
      "   Very Simple HTML Code by Sam\n",
      "  </title>\n",
      " </head>\n",
      " <body>\n",
      "  <div>\n",
      "   <p class=\"inner-text first-item\" id=\"first\">\n",
      "    Happy Sam.\n",
      "    <a href=\"http://www.pinkwink.kr\" id=\"pw-link\">\n",
      "     PinkWink\n",
      "    </a>\n",
      "   </p>\n",
      "   <p class=\"inner-text second-item\">\n",
      "    Happy Data Science.\n",
      "    <!-- target->_blink는 새창에서 열기-->\n",
      "    <a href=\"https://www.python.org\" id=\"py-link\" target=\"_blank\">\n",
      "     Python\n",
      "    </a>\n",
      "   </p>\n",
      "  </div>\n",
      "  <p class=\"outer-text first-item\" id=\"second\">\n",
      "   <!-- <b>는 볼드체, 두껍께 -->\n",
      "   <b>\n",
      "    Data Science is funny.\n",
      "   </b>\n",
      "  </p>\n",
      "  <p class=\"outer-text\">\n",
      "   <!-- <i>는 이태리체, 약간 기울기 -->\n",
      "   <i>\n",
      "    All I need is love.\n",
      "   </i>\n",
      "  </p>\n",
      " </body>\n",
      "</html>\n"
     ]
    }
   ],
   "source": [
    "page = open(\"../data/03. test_Sam.html\", \"r\",encoding='utf-8').read()\n",
    "soup = BeautifulSoup(page,\"html.parser\")\n",
    "print(soup.prettify())"
   ]
  },
  {
   "cell_type": "code",
   "execution_count": 4,
   "id": "80a1a560",
   "metadata": {},
   "outputs": [
    {
     "data": {
      "text/plain": [
       "<p class=\"inner-text first-item\" id=\"first\">\n",
       "                Happy Sam.\n",
       "                <a href=\"http://www.pinkwink.kr\" id=\"pw-link\">PinkWink</a>\n",
       "</p>"
      ]
     },
     "execution_count": 4,
     "metadata": {},
     "output_type": "execute_result"
    }
   ],
   "source": [
    "# p 태그 확인 # 이 방법들은 처음 발견한 p 태그만 출력\n",
    "soup.find(\"p\") # == soup.p\n",
    "\n",
    "# find의 추가 기능을 활용해서 더 자세하게 불러올 수 있다."
   ]
  },
  {
   "cell_type": "code",
   "execution_count": 10,
   "id": "47ad5d26",
   "metadata": {},
   "outputs": [
    {
     "data": {
      "text/plain": [
       "<p class=\"inner-text first-item\" id=\"first\">\n",
       "                Happy Sam.\n",
       "                <a href=\"http://www.pinkwink.kr\" id=\"pw-link\">PinkWink</a>\n",
       "</p>"
      ]
     },
     "execution_count": 10,
     "metadata": {},
     "output_type": "execute_result"
    }
   ],
   "source": [
    "# p태그 안의 속성값\n",
    "soup.find(\"p\", class_=\"inner-text first-item\")"
   ]
  },
  {
   "cell_type": "code",
   "execution_count": 13,
   "id": "487cfc4d",
   "metadata": {},
   "outputs": [
    {
     "data": {
      "text/plain": [
       "'\\n                Happy Sam.\\n                PinkWink\\n'"
      ]
     },
     "execution_count": 13,
     "metadata": {},
     "output_type": "execute_result"
    }
   ],
   "source": [
    "# 태그 -> 속성값 -> 텍스트 값\n",
    "soup.find(\"p\", {\"class\":\"inner-text first-item\"}).text"
   ]
  },
  {
   "cell_type": "code",
   "execution_count": 17,
   "id": "9433f0f2",
   "metadata": {},
   "outputs": [
    {
     "data": {
      "text/plain": [
       "<p class=\"inner-text first-item\" id=\"first\">\n",
       "                Happy Sam.\n",
       "                <a href=\"http://www.pinkwink.kr\" id=\"pw-link\">PinkWink</a>\n",
       "</p>"
      ]
     },
     "execution_count": 17,
     "metadata": {},
     "output_type": "execute_result"
    }
   ],
   "source": [
    "# 태그 -> id값 (있는 경우)\n",
    "\n",
    "soup.find(\"p\", {\"id\":\"first\"})\n"
   ]
  },
  {
   "cell_type": "code",
   "execution_count": 18,
   "id": "561ed3b3",
   "metadata": {},
   "outputs": [
    {
     "data": {
      "text/plain": [
       "[<p class=\"inner-text first-item\" id=\"first\">\n",
       "                 Happy Sam.\n",
       "                 <a href=\"http://www.pinkwink.kr\" id=\"pw-link\">PinkWink</a>\n",
       " </p>,\n",
       " <p class=\"inner-text second-item\">\n",
       "                 Happy Data Science.\n",
       "                 <!-- target->_blink는 새창에서 열기-->\n",
       " <a href=\"https://www.python.org\" id=\"py-link\" target=\"_blank\">Python</a>\n",
       " </p>,\n",
       " <p class=\"outer-text first-item\" id=\"second\">\n",
       " <!-- <b>는 볼드체, 두껍께 -->\n",
       " <b>Data Science is funny.</b>\n",
       " </p>,\n",
       " <p class=\"outer-text\">\n",
       " <!-- <i>는 이태리체, 약간 기울기 -->\n",
       " <i>All I need is love.</i>\n",
       " </p>]"
      ]
     },
     "execution_count": 18,
     "metadata": {},
     "output_type": "execute_result"
    }
   ],
   "source": [
    "# find_all() : 여러 개의 태그를 리스트 형태로 반환해 줌\n",
    "# 모든 p 태그를 찾아줘\n",
    "soup.find_all(\"p\")"
   ]
  },
  {
   "cell_type": "code",
   "execution_count": 19,
   "id": "e79fb5a0",
   "metadata": {},
   "outputs": [
    {
     "data": {
      "text/plain": [
       "[<p class=\"outer-text first-item\" id=\"second\">\n",
       " <!-- <b>는 볼드체, 두껍께 -->\n",
       " <b>Data Science is funny.</b>\n",
       " </p>,\n",
       " <p class=\"outer-text\">\n",
       " <!-- <i>는 이태리체, 약간 기울기 -->\n",
       " <i>All I need is love.</i>\n",
       " </p>]"
      ]
     },
     "execution_count": 19,
     "metadata": {},
     "output_type": "execute_result"
    }
   ],
   "source": [
    "# 특정 속성 확인\n",
    "soup.find_all(class_=\"outer-text\")"
   ]
  },
  {
   "cell_type": "code",
   "execution_count": 20,
   "id": "a07b501b",
   "metadata": {},
   "outputs": [
    {
     "data": {
      "text/plain": [
       "[<a href=\"http://www.pinkwink.kr\" id=\"pw-link\">PinkWink</a>]"
      ]
     },
     "execution_count": 20,
     "metadata": {},
     "output_type": "execute_result"
    }
   ],
   "source": [
    "# 특정 ID 확인\n",
    "soup.find_all(id=\"pw-link\")"
   ]
  },
  {
   "cell_type": "code",
   "execution_count": 21,
   "id": "fab2afe6",
   "metadata": {},
   "outputs": [
    {
     "name": "stdout",
     "output_type": "stream",
     "text": [
      "[<a href=\"http://www.pinkwink.kr\" id=\"pw-link\">PinkWink</a>, <a href=\"https://www.python.org\" id=\"py-link\" target=\"_blank\">Python</a>]\n"
     ]
    },
    {
     "data": {
      "text/plain": [
       "('http://www.pinkwink.kr', 'https://www.python.org')"
      ]
     },
     "execution_count": 21,
     "metadata": {},
     "output_type": "execute_result"
    }
   ],
   "source": [
    "# 링크를 추출하기\n",
    "# a 태그에 href 속성에 있는 값을 추출\n",
    "\n",
    "tags = soup.find_all(\"a\")\n",
    "print(tags) # a 태그에는 안에는 주소가 들어있다.\n",
    "\n",
    "tags[0].get(\"href\"), tags[1][\"href\"] # href에 적혀있는 주소 가져오기"
   ]
  },
  {
   "cell_type": "code",
   "execution_count": 24,
   "id": "5208cd79",
   "metadata": {},
   "outputs": [
    {
     "data": {
      "text/plain": [
       "[<p class=\"inner-text first-item\" id=\"first\">\n",
       "                 Happy Sam.\n",
       "                 <a href=\"http://www.pinkwink.kr\" id=\"pw-link\">PinkWink</a>\n",
       " </p>,\n",
       " <p class=\"inner-text second-item\">\n",
       "                 Happy Data Science.\n",
       "                 <!-- target->_blink는 새창에서 열기-->\n",
       " <a href=\"https://www.python.org\" id=\"py-link\" target=\"_blank\">Python</a>\n",
       " </p>,\n",
       " <p class=\"outer-text first-item\" id=\"second\">\n",
       " <!-- <b>는 볼드체, 두껍께 -->\n",
       " <b>Data Science is funny.</b>\n",
       " </p>,\n",
       " <p class=\"outer-text\">\n",
       " <!-- <i>는 이태리체, 약간 기울기 -->\n",
       " <i>All I need is love.</i>\n",
       " </p>]"
      ]
     },
     "execution_count": 24,
     "metadata": {},
     "output_type": "execute_result"
    }
   ],
   "source": [
    "soup.select(\"p\") # 셀렉트는 리스트값을 반환함\n"
   ]
  },
  {
   "cell_type": "code",
   "execution_count": 30,
   "id": "906e57f2",
   "metadata": {},
   "outputs": [
    {
     "name": "stdout",
     "output_type": "stream",
     "text": [
      "<p class=\"inner-text first-item\" id=\"first\">\n",
      "                Happy Sam.\n",
      "                <a href=\"http://www.pinkwink.kr\" id=\"pw-link\">PinkWink</a>\n",
      "</p>\n"
     ]
    }
   ],
   "source": [
    "tmp = soup.select_one(\".inner-text.first-item\")"
   ]
  },
  {
   "cell_type": "code",
   "execution_count": null,
   "id": "f43b5d80",
   "metadata": {},
   "outputs": [],
   "source": []
  }
 ],
 "metadata": {
  "kernelspec": {
   "display_name": "ds_study",
   "language": "python",
   "name": "ds_study"
  },
  "language_info": {
   "codemirror_mode": {
    "name": "ipython",
    "version": 3
   },
   "file_extension": ".py",
   "mimetype": "text/x-python",
   "name": "python",
   "nbconvert_exporter": "python",
   "pygments_lexer": "ipython3",
   "version": "3.8.16"
  }
 },
 "nbformat": 4,
 "nbformat_minor": 5
}
