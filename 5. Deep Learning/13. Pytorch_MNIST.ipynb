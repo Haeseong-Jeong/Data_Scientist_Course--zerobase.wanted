{
 "cells": [
  {
   "cell_type": "code",
   "execution_count": 1,
   "id": "1c1d69ec",
   "metadata": {
    "ExecuteTime": {
     "end_time": "2023-10-04T11:36:06.517185Z",
     "start_time": "2023-10-04T11:36:05.072176Z"
    }
   },
   "outputs": [],
   "source": [
    "import torch\n",
    "import torch.nn as nn\n",
    "import torch.nn.functional as F\n",
    "import torch.optim as optim\n",
    "from torchvision import datasets, transforms\n",
    "\n",
    "import matplotlib.pyplot as plt\n",
    "%matplotlib inline"
   ]
  },
  {
   "cell_type": "code",
   "execution_count": 2,
   "id": "b7d1cf81",
   "metadata": {
    "ExecuteTime": {
     "end_time": "2023-10-04T11:36:07.744720Z",
     "start_time": "2023-10-04T11:36:07.720847Z"
    }
   },
   "outputs": [
    {
     "name": "stdout",
     "output_type": "stream",
     "text": [
      "Current device is [ cuda ]\n"
     ]
    }
   ],
   "source": [
    "## cuda 있으면 사용하기\n",
    "\n",
    "is_cuda = torch.cuda.is_available()\n",
    "device = torch.device('cuda' if is_cuda else 'cpu')\n",
    "\n",
    "print(\"Current device is [\", device, ']')"
   ]
  },
  {
   "cell_type": "code",
   "execution_count": 3,
   "id": "f9782116",
   "metadata": {
    "ExecuteTime": {
     "end_time": "2023-10-04T11:36:08.935494Z",
     "start_time": "2023-10-04T11:36:08.928711Z"
    }
   },
   "outputs": [],
   "source": [
    "# 파라미터\n",
    "batch_size = 50\n",
    "learning_rate = 0.0001\n",
    "epoch_num = 15"
   ]
  },
  {
   "cell_type": "code",
   "execution_count": 4,
   "id": "4ff90719",
   "metadata": {
    "ExecuteTime": {
     "end_time": "2023-10-04T11:36:09.745590Z",
     "start_time": "2023-10-04T11:36:09.696534Z"
    }
   },
   "outputs": [
    {
     "name": "stdout",
     "output_type": "stream",
     "text": [
      "Number of training data : 60000\n",
      "Number of test data : 10000\n"
     ]
    }
   ],
   "source": [
    "## 데이터 불러오기\n",
    "\n",
    "train_data = datasets.MNIST(root = './data/MNIST',\n",
    "                           train = True,\n",
    "                           download = True, # 다운은 처음에만 해라.\n",
    "                           transform = transforms.ToTensor())\n",
    "\n",
    "test_data = datasets.MNIST(root = './data/MNIST',\n",
    "                           train = False,\n",
    "                           transform = transforms.ToTensor())\n",
    "\n",
    "print('Number of training data :',len(train_data))\n",
    "print('Number of test data :',len(test_data))"
   ]
  },
  {
   "cell_type": "code",
   "execution_count": 5,
   "id": "db8358f1",
   "metadata": {
    "ExecuteTime": {
     "end_time": "2023-10-04T11:36:12.500201Z",
     "start_time": "2023-10-04T11:36:12.343066Z"
    }
   },
   "outputs": [
    {
     "data": {
      "image/png": "[encoded data removed]",
      "text/plain": [
       "<Figure size 640x480 with 1 Axes>"
      ]
     },
     "metadata": {},
     "output_type": "display_data"
    }
   ],
   "source": [
    "#import os    \n",
    "#os.environ['KMP_DUPLICATE_LIB_OK']='True'\n",
    "\n",
    "image, label = train_data[0] \n",
    "# torch MNIST 데이터는 라벨과 이미지 두 개로 되있어서 두 개로 받아야한다.\n",
    "\n",
    "# torch MNIST 데이터는 이미 3차원(채널포함) 데이터라서 squeeze를 사용해 채널을 제거해서 그려야한다.\n",
    "plt.imshow(image.squeeze().numpy(), cmap='gray')\n",
    "plt.title('label : %s' % label)\n",
    "plt.show()"
   ]
  },
  {
   "cell_type": "markdown",
   "id": "cc13f1be",
   "metadata": {},
   "source": [
    "- keras 채널은 맨 뒤 => [28, 28, 1]\n",
    "- torch 채널은 맨 앞 => [1, 28, 28]"
   ]
  },
  {
   "cell_type": "markdown",
   "id": "ce1edb78",
   "metadata": {},
   "source": [
    "### 배치 구성"
   ]
  },
  {
   "cell_type": "code",
   "execution_count": 6,
   "id": "7cca3367",
   "metadata": {
    "ExecuteTime": {
     "end_time": "2023-10-04T11:36:15.431831Z",
     "start_time": "2023-10-04T11:36:15.408540Z"
    }
   },
   "outputs": [],
   "source": [
    "train_loader = torch.utils.data.DataLoader(dataset = train_data,\n",
    "                                          batch_size = batch_size,\n",
    "                                          shuffle = True)\n",
    "\n",
    "test_loader = torch.utils.data.DataLoader(dataset = test_data,\n",
    "                                          batch_size = batch_size,\n",
    "                                          shuffle = True)\n",
    "\n",
    "first_batch = train_loader.__iter__().__next__() # 배치 (50개) 중 첫번 째를 가져와라"
   ]
  },
  {
   "cell_type": "markdown",
   "id": "510d0b72",
   "metadata": {},
   "source": [
    "## 출력 포멧"
   ]
  },
  {
   "cell_type": "code",
   "execution_count": 7,
   "id": "c1bdf7b6",
   "metadata": {
    "ExecuteTime": {
     "end_time": "2023-10-04T11:36:17.819355Z",
     "start_time": "2023-10-04T11:36:17.814395Z"
    }
   },
   "outputs": [
    {
     "name": "stdout",
     "output_type": "stream",
     "text": [
      "name            | type                      | size\n",
      "--------------- | ------------------------- | -------------------------\n",
      "Num of Batch    |                           | 1200\n",
      "first_batch     | <class 'list'>            | 2\n",
      "first_batch[0]  | <class 'torch.Tensor'>    | torch.Size([50, 1, 28, 28])\n",
      "first_batch[1]  | <class 'torch.Tensor'>    | torch.Size([50])\n"
     ]
    }
   ],
   "source": [
    "print('{:15s} | {:<25s} | {}'.format('name', 'type', 'size'))\n",
    "print('{:15s} | {:<25s} | {}'.format('-'*15, '-'*25, '-'*25))\n",
    "print('{:15s} | {:<25s} | {}'.format('Num of Batch', '', len(train_loader)))\n",
    "print('{:15s} | {:<25s} | {}'.format('first_batch', str(type(first_batch)), len(first_batch)))\n",
    "\n",
    "print('{:15s} | {:<25s} | {}'.format('first_batch[0]', str(type(first_batch[0])), first_batch[0].shape))\n",
    "\n",
    "print('{:15s} | {:<25s} | {}'.format('first_batch[1]', str(type(first_batch[0])), first_batch[1].shape))"
   ]
  },
  {
   "cell_type": "markdown",
   "id": "3b9829d7",
   "metadata": {},
   "source": [
    "- 15s : 15칸을 확보해라 15개가 안되면 띄어 쓰기해라\n",
    "- < : 왼쪽정렬"
   ]
  },
  {
   "cell_type": "markdown",
   "id": "283a94e6",
   "metadata": {},
   "source": [
    "- 60000만개 데이터가 50배치니까 1200개 묶음이다.\n",
    "\n",
    "- 첫번째 배치의 [0]은 픽셀 데이터를 의미 : [개수, 채널, 픽셀, 픽셀]\n",
    "\n",
    "- 첫번째 배치의 [1]은 라벨을 의미 :  50개씩 묶었으니 50개다"
   ]
  },
  {
   "cell_type": "markdown",
   "id": "5a733e87",
   "metadata": {},
   "source": [
    "## 클래스로 정의해보자"
   ]
  },
  {
   "cell_type": "code",
   "execution_count": 8,
   "id": "2b7c2ef6",
   "metadata": {
    "ExecuteTime": {
     "end_time": "2023-10-04T11:36:21.063680Z",
     "start_time": "2023-10-04T11:36:21.056089Z"
    }
   },
   "outputs": [],
   "source": [
    "class CNN(nn.Module):\n",
    "    # 컨벌루션 2개로\n",
    "    def __init__(self):\n",
    "        super(CNN, self).__init__() # super를 사용해서 모듈을 상속받자\n",
    "        self.conv1 = nn.Conv2d(1, 32, 3, 1, padding='same') \n",
    "                            # 입력채널의 수, 32개 채널로 출력, 커널사이즈 : 3x3, stride =1, 패딩 그대로\n",
    "        self.conv2 = nn.Conv2d(32, 64, 3, 1, padding='same')\n",
    "                            # 위에서 32입력, 64개 확대 출력, 커널사이즈 : 3x3, stride =1, 패딩 그대로\n",
    "        self.dropout = nn.Dropout2d(0.25) # 0.25 비율만큼은 버리자\n",
    "        \n",
    "        # fullyconnected의 입출력을 정해줘야한다. (최종 픽셀 * 최종 채널)\n",
    "        # 28 -> 풀링 2 => 14 -> 풀링 2 => 7  ====> 최종 픽셀은 7x7 로 나온다.\n",
    "        # 마지막 레이어에서 채널의 output => 64 ====> 최종 채널은 64 로 나온다.\n",
    "\n",
    "        self.fc1 = nn.Linear(3136, 1000) # 7 * 7 * 64 = 3136\n",
    "        self.fc2 = nn.Linear(1000, 10)\n",
    "        \n",
    "    def forward(self, x):\n",
    "        x = self.conv1(x) # 레이어\n",
    "        x = F.relu(x) # 활성화 \n",
    "        x = F.max_pool2d(x, 2) # 풀링 (풀링레이어는 가중치 없다!)\n",
    "        \n",
    "        x = self.conv2(x)\n",
    "        x = F.relu(x)\n",
    "        x = F.max_pool2d(x, 2)\n",
    "        \n",
    "        x = self.dropout(x)\n",
    "        x = torch.flatten(x, 1)\n",
    "        \n",
    "        x = self.fc1(x)\n",
    "        x = F.relu(x)  # 은닉층?\n",
    "        x = self.fc2(x)\n",
    "        \n",
    "        output = F.log_softmax(x, dim=1)\n",
    "        \n",
    "        return output"
   ]
  },
  {
   "cell_type": "code",
   "execution_count": 9,
   "id": "86da76b6",
   "metadata": {
    "ExecuteTime": {
     "end_time": "2023-10-04T11:36:22.483163Z",
     "start_time": "2023-10-04T11:36:22.351216Z"
    }
   },
   "outputs": [],
   "source": [
    "## 모델, loss, optimizer 선언\n",
    "\n",
    "model = CNN().to(device)# GPU or CPU 작동\n",
    "optimizer = optim.Adam(model.parameters(), lr = learning_rate)\n",
    "criterion = nn.CrossEntropyLoss()"
   ]
  },
  {
   "cell_type": "code",
   "execution_count": 10,
   "id": "0f6a9f66",
   "metadata": {
    "ExecuteTime": {
     "end_time": "2023-10-04T11:37:40.585668Z",
     "start_time": "2023-10-04T11:36:24.815192Z"
    }
   },
   "outputs": [
    {
     "name": "stdout",
     "output_type": "stream",
     "text": [
      "Train step : 1000\tLoss : 0.200\n",
      "Train step : 2000\tLoss : 0.069\n",
      "Train step : 3000\tLoss : 0.132\n",
      "Train step : 4000\tLoss : 0.050\n",
      "Train step : 5000\tLoss : 0.053\n",
      "Train step : 6000\tLoss : 0.299\n",
      "Train step : 7000\tLoss : 0.011\n",
      "Train step : 8000\tLoss : 0.006\n",
      "Train step : 9000\tLoss : 0.013\n",
      "Train step : 10000\tLoss : 0.008\n",
      "Train step : 11000\tLoss : 0.008\n",
      "Train step : 12000\tLoss : 0.007\n",
      "Train step : 13000\tLoss : 0.020\n",
      "Train step : 14000\tLoss : 0.084\n",
      "Train step : 15000\tLoss : 0.029\n",
      "Train step : 16000\tLoss : 0.000\n",
      "Train step : 17000\tLoss : 0.014\n",
      "Train step : 18000\tLoss : 0.009\n"
     ]
    }
   ],
   "source": [
    "## 학습 시키자\n",
    "model.train() # 이때 학습이 되는게 아니다. 학습 준비가 끝났다? 라고 생각하면 된다.\n",
    "        # 학습모드로 전환이라 생각하자\n",
    "i = 1\n",
    "for epoch in range(epoch_num): # 15번 \n",
    "    for data, target in train_loader: # 12000개\n",
    "        data = data.to(device)\n",
    "        target = target.to(device)\n",
    "        optimizer.zero_grad()\n",
    "        output = model(data)\n",
    "        loss = criterion(output, target)\n",
    "        loss.backward() # loss를 가지고 역전파 시켜라\n",
    "        optimizer.step() # 가중치를 업데이트 해라\n",
    "        \n",
    "        if i % 1000 == 0:\n",
    "            print('Train step : {}\\tLoss : {:.3f}'.format(i, loss.item()))\n",
    "        i += 1"
   ]
  },
  {
   "cell_type": "markdown",
   "id": "73141a26",
   "metadata": {
    "ExecuteTime": {
     "end_time": "2023-10-03T09:58:43.511302Z",
     "start_time": "2023-10-03T09:58:43.502767Z"
    }
   },
   "source": [
    "## 왜 18번 이 출력되지?????????"
   ]
  },
  {
   "cell_type": "code",
   "execution_count": 17,
   "id": "586e242d",
   "metadata": {
    "ExecuteTime": {
     "end_time": "2023-10-03T09:55:21.097725Z",
     "start_time": "2023-10-03T09:55:19.391579Z"
    }
   },
   "outputs": [
    {
     "name": "stdout",
     "output_type": "stream",
     "text": [
      "Accuracy of Test set : 99.13%\n"
     ]
    }
   ],
   "source": [
    "## 학습 잘됬나 평가...\n",
    "\n",
    "model.eval() # 평가 모드로 변환\n",
    "\n",
    "correct = 0\n",
    "\n",
    "for data, target in test_loader:\n",
    "    #data, target = Variable(data, volatile=True), Variable(target)\n",
    "    data = data.to(device)\n",
    "    target = target.to(device)\n",
    "    output = model(data)\n",
    "    prediction = output.data.max(1)[1]\n",
    "    correct += prediction.eq(target.data).sum() # eq는 같냐? 판단\n",
    "    \n",
    "print('Accuracy of Test set : {:.2f}%'.format(100. * correct / len(test_loader.dataset)))"
   ]
  },
  {
   "cell_type": "code",
   "execution_count": null,
   "id": "eea5b270",
   "metadata": {},
   "outputs": [],
   "source": []
  }
 ],
 "metadata": {
  "kernelspec": {
   "display_name": "GPU",
   "language": "python",
   "name": "gpu"
  },
  "language_info": {
   "codemirror_mode": {
    "name": "ipython",
    "version": 3
   },
   "file_extension": ".py",
   "mimetype": "text/x-python",
   "name": "python",
   "nbconvert_exporter": "python",
   "pygments_lexer": "ipython3",
   "version": "3.8.18"
  },
  "toc": {
   "base_numbering": 1,
   "nav_menu": {},
   "number_sections": true,
   "sideBar": true,
   "skip_h1_title": false,
   "title_cell": "Table of Contents",
   "title_sidebar": "Contents",
   "toc_cell": false,
   "toc_position": {},
   "toc_section_display": true,
   "toc_window_display": false
  }
 },
 "nbformat": 4,
 "nbformat_minor": 5
}
