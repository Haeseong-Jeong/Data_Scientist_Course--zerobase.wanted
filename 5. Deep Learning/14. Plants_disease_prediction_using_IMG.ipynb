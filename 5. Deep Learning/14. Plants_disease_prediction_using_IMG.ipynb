{
 "cells": [
  {
   "cell_type": "markdown",
   "id": "f5198b80",
   "metadata": {},
   "source": [
    "#### 테스트를 위해 데이터 분리"
   ]
  },
  {
   "cell_type": "code",
   "execution_count": 1,
   "id": "e8ba786b",
   "metadata": {
    "ExecuteTime": {
     "end_time": "2023-10-04T13:37:51.391806Z",
     "start_time": "2023-10-04T13:37:51.367237Z"
    }
   },
   "outputs": [],
   "source": [
    "## 분리해서 담을 폴더를 만듬\n",
    "## 폴더명을 리스트로 만듬\n",
    "\n",
    "import os\n",
    "\n",
    "original_dataset_dir = './data/leaves_img_dataset/original_data/'\n",
    "classes_list = os.listdir(original_dataset_dir)\n",
    "\n",
    "base_dir = './data/leaves_img_dataset/splitted_data'\n",
    "#os.mkdir(base_dir)"
   ]
  },
  {
   "cell_type": "code",
   "execution_count": 2,
   "id": "2f3a1887",
   "metadata": {
    "ExecuteTime": {
     "end_time": "2023-10-04T13:37:53.678080Z",
     "start_time": "2023-10-04T13:37:53.672671Z"
    }
   },
   "outputs": [],
   "source": [
    "## 폴더명 리스트를 반복문을 활용해 각각 train,valid,test 폴더로 분리\n",
    "\n",
    "import shutil\n",
    "\n",
    "train_dir = os.path.join(base_dir, 'train')\n",
    "#os.mkdir(train_dir)\n",
    "\n",
    "validation_dir = os.path.join(base_dir, 'validation')\n",
    "#os.mkdir(validation_dir)\n",
    "\n",
    "test_dir = os.path.join(base_dir, 'test')\n",
    "#os.mkdir(test_dir)\n",
    "'''\n",
    "for cls in classes_list:\n",
    "    os.mkdir(os.path.join(train_dir, cls))\n",
    "    os.mkdir(os.path.join(validation_dir, cls))\n",
    "    os.mkdir(os.path.join(test_dir, cls))\n",
    "''';"
   ]
  },
  {
   "cell_type": "code",
   "execution_count": 7,
   "id": "65c382d8",
   "metadata": {
    "ExecuteTime": {
     "end_time": "2023-10-03T06:45:57.328723Z",
     "start_time": "2023-10-03T06:44:50.913645Z"
    }
   },
   "outputs": [],
   "source": [
    "## 이미지를 위에 만들어 놓은 폴더에 담기\n",
    "## train:valid:test == 6:2:2 비율\n",
    "\n",
    "import math\n",
    "\n",
    "for cls in classes_list:\n",
    "    path = os.path.join(original_dataset_dir, cls)     # 이미지파일의 경로\n",
    "    fnames = os.listdir(path)               # 이미지 파일의 이름 -> len하면 그 폴더의 이미지 전체 개수\n",
    "    \n",
    "    train_size = math.floor(len(fnames) * 0.6)         # 이미지 총 개수 * 0.6\n",
    "    validation_size = math.floor(len(fnames) * 0.2)    # 이미지 총 개수 * 0.2\n",
    "    test_size = math.floor(len(fnames) * 0.2)          # 이미지 총 개수 * 0.2\n",
    "    \n",
    "    train_fnames = fnames[:train_size]                 # 이미지 => [0:6]\n",
    "    #print(\"Train size(\",cls,\"): \", len(train_fnames))\n",
    "    for fname in train_fnames:                         # train 이미지 파일을 하나씩 train_dir에 복사\n",
    "        src = os.path.join(path, fname)\n",
    "        dst = os.path.join(os.path.join(train_dir, cls), fname)\n",
    "        shutil.copyfile(src, dst)\n",
    "        \n",
    "    validation_fnames = fnames[train_size:(train_size + validation_size)] # 이미지 6 : 6 + 2 => [6:8]\n",
    "    #print(\"Validation size(\",cls,\"): \", len(validation_fnames))\n",
    "    for fname in validation_fnames:                    # train 이미지 파일을 하나씩 train_dir에 복사\n",
    "        src = os.path.join(path, fname)\n",
    "        dst = os.path.join(os.path.join(validation_dir, cls), fname)\n",
    "        shutil.copyfile(src, dst)\n",
    "        \n",
    "    test_fnames = fnames[(train_size + validation_size):(train_size + validation_size + test_size)] # 이미지 6+2 : 6+2+2 => [8:10]\n",
    "    #print(\"Test size(\",cls,\"): \", len(test_fnames))\n",
    "    for fname in test_fnames:                    # train 이미지 파일을 하나씩 train_dir에 복사\n",
    "        src = os.path.join(path, fname)\n",
    "        dst = os.path.join(os.path.join(test_dir, cls), fname)\n",
    "        shutil.copyfile(src, dst)"
   ]
  },
  {
   "cell_type": "markdown",
   "id": "969d14eb",
   "metadata": {},
   "source": [
    "### torch 학습"
   ]
  },
  {
   "cell_type": "code",
   "execution_count": 3,
   "id": "45a81d98",
   "metadata": {
    "ExecuteTime": {
     "end_time": "2023-10-04T13:38:01.195813Z",
     "start_time": "2023-10-04T13:37:59.125343Z"
    }
   },
   "outputs": [
    {
     "name": "stdout",
     "output_type": "stream",
     "text": [
      "Device is [ cuda ]\n"
     ]
    }
   ],
   "source": [
    "import torch\n",
    "import os\n",
    "\n",
    "USE_CUDA = torch.cuda.is_available()\n",
    "DEVICE = torch.device(\"cuda\" if USE_CUDA else 'cpu')\n",
    "print(\"Device is [\",DEVICE,\"]\")\n",
    "\n",
    "BATCH_SIZE = 256\n",
    "EPOCH = 30"
   ]
  },
  {
   "cell_type": "code",
   "execution_count": 4,
   "id": "715b51a8",
   "metadata": {
    "ExecuteTime": {
     "end_time": "2023-10-04T13:38:01.993366Z",
     "start_time": "2023-10-04T13:38:01.196833Z"
    }
   },
   "outputs": [],
   "source": [
    "import torchvision.transforms as transforms # resize / totensor\n",
    "from torchvision.datasets import ImageFolder\n",
    "\n",
    "# 폴더하나를 클래스로 매칭한다.... 폴더 이름을 라벨로 본다?\n",
    "transform_base = transforms.Compose([transforms.Resize((64,64)), transforms.ToTensor()])\n",
    "train_dataset = ImageFolder(root='./data/leaves_img_dataset/splitted_data/train', transform=transform_base)\n",
    "val_dataset = ImageFolder(root='./data/leaves_img_dataset/splitted_data/validation', transform=transform_base)"
   ]
  },
  {
   "cell_type": "code",
   "execution_count": 5,
   "id": "c50cea33",
   "metadata": {
    "ExecuteTime": {
     "end_time": "2023-10-04T13:38:03.375869Z",
     "start_time": "2023-10-04T13:38:03.363177Z"
    }
   },
   "outputs": [],
   "source": [
    "## 데이터 읽기\n",
    "\n",
    "from torch.utils.data import DataLoader\n",
    "\n",
    "train_loader = torch.utils.data.DataLoader(train_dataset,\n",
    "                                          batch_size=BATCH_SIZE,\n",
    "                                          shuffle=True,\n",
    "                                          num_workers=4)\n",
    "\n",
    "val_loader = torch.utils.data.DataLoader(val_dataset,\n",
    "                                          batch_size=BATCH_SIZE,\n",
    "                                          shuffle=True,\n",
    "                                          num_workers=4)"
   ]
  },
  {
   "cell_type": "code",
   "execution_count": 6,
   "id": "c59bc1d3",
   "metadata": {
    "ExecuteTime": {
     "end_time": "2023-10-04T13:38:05.383781Z",
     "start_time": "2023-10-04T13:38:05.370544Z"
    }
   },
   "outputs": [],
   "source": [
    "## 학습 구조 \n",
    "\n",
    "import torch.nn as nn\n",
    "import torch.nn.functional as F\n",
    "import torch.optim as optim\n",
    "\n",
    "class Net(nn.Module):\n",
    "    \n",
    "    def __init__(self):\n",
    "        \n",
    "        super(Net, self).__init__()\n",
    "        \n",
    "        self.conv1 = nn.Conv2d(3, 32, 3, padding=1)\n",
    "        self.pool = nn.MaxPool2d(2,2)\n",
    "        self.conv2 = nn.Conv2d(32, 64, 3, padding=1)\n",
    "        self.conv3 = nn.Conv2d(64, 64, 3, padding=1)\n",
    "\n",
    "        self.fc1 = nn.Linear(4096, 512)\n",
    "        self.fc2 = nn.Linear(512, 33)\n",
    "\n",
    "    def forward(self, x):\n",
    "        \n",
    "        x = self.conv1(x)\n",
    "        x = F.relu(x)\n",
    "        x = self.pool(x)\n",
    "        x = F.dropout(x, p=0.25, training=self.training) # 트레이닝에서만 사용한다?\n",
    "        \n",
    "        x = self.conv2(x)\n",
    "        x = F.relu(x)\n",
    "        x = self.pool(x)\n",
    "        x = F.dropout(x, p=0.25, training=self.training)\n",
    "        \n",
    "        x = self.conv3(x)\n",
    "        x = F.relu(x)\n",
    "        x = self.pool(x)\n",
    "        x = F.dropout(x, p=0.25, training=self.training)\n",
    "        \n",
    "        x = x.view(-1, 4096) # == flatten 과 같은 기능?\n",
    "        x = self.fc1(x)\n",
    "        x = F.relu(x)\n",
    "        x = F.dropout(x, p=0.5, training=self.training)\n",
    "        x = self.fc2(x)\n",
    "        \n",
    "        return F.log_softmax(x, dim=1)"
   ]
  },
  {
   "cell_type": "code",
   "execution_count": 7,
   "id": "a6690b01",
   "metadata": {
    "ExecuteTime": {
     "end_time": "2023-10-04T13:35:19.143209Z",
     "start_time": "2023-10-04T13:35:19.019965Z"
    }
   },
   "outputs": [],
   "source": [
    "## 모델/ 최적화 선언\n",
    "model_base = Net().to(DEVICE)\n",
    "optimizer = optim.Adam(model_base.parameters(), lr=0.001)"
   ]
  },
  {
   "cell_type": "code",
   "execution_count": 8,
   "id": "f3e03fe2",
   "metadata": {
    "ExecuteTime": {
     "end_time": "2023-10-04T13:35:19.742685Z",
     "start_time": "2023-10-04T13:35:19.724244Z"
    }
   },
   "outputs": [],
   "source": [
    "## 학습 시키는 함수 만들기\n",
    "\n",
    "def train(model, train_loader, optimizer):\n",
    "    model.train()\n",
    "    for batch_idx, (data, target) in enumerate(train_loader):\n",
    "        data, target = data.to(DEVICE), target.to(DEVICE)\n",
    "        optimizer.zero_grad()\n",
    "        output = model(data)\n",
    "        loss = F.cross_entropy(output, target)\n",
    "        loss.backward()\n",
    "        optimizer.step()"
   ]
  },
  {
   "cell_type": "code",
   "execution_count": 17,
   "id": "70a7d99c",
   "metadata": {
    "ExecuteTime": {
     "end_time": "2023-10-04T14:00:49.273300Z",
     "start_time": "2023-10-04T14:00:49.261650Z"
    }
   },
   "outputs": [],
   "source": [
    "## 평가 함수\n",
    "\n",
    "def evalulate(model, test_loader):\n",
    "    model.eval()\n",
    "    test_loss = 0\n",
    "    correct = 0\n",
    "    # 모델을 평가할때는 가중치업데이트가 되면 안된다.\n",
    "    # no_grad : 기울기 업데이트 없게 하고 그 동안 for문으로 평가 해라\n",
    "    with torch.no_grad(): # 어떤 자원을 사용하고 자동으로 멈춰줌 ex) usb open -> usb close\n",
    "        for data, target in test_loader:\n",
    "            data, target = data.to(DEVICE), target.to(DEVICE)\n",
    "            output = model(data)\n",
    "            \n",
    "            test_loss += F.cross_entropy(output,target, reduction='sum').item()\n",
    "            \n",
    "            pred = output.max(1, keepdim=True)[1]\n",
    "            correct += pred.eq(target.view_as(pred)).sum().item()\n",
    "            \n",
    "    test_loss /= len(test_loader.dataset)\n",
    "    test_accuracy = 100. * correct / len(test_loader.dataset)\n",
    "    return test_loss, test_accuracy"
   ]
  },
  {
   "cell_type": "code",
   "execution_count": 25,
   "id": "76ba7279",
   "metadata": {
    "ExecuteTime": {
     "end_time": "2023-10-04T06:02:42.368292Z",
     "start_time": "2023-10-04T05:16:56.244108Z"
    },
    "scrolled": false
   },
   "outputs": [
    {
     "data": {
      "application/vnd.jupyter.widget-view+json": {
       "model_id": "c332aa822d2f429b8219b1620c38b880",
       "version_major": 2,
       "version_minor": 0
      },
      "text/plain": [
       "  0%|          | 0/30 [00:00<?, ?it/s]"
      ]
     },
     "metadata": {},
     "output_type": "display_data"
    },
    {
     "name": "stdout",
     "output_type": "stream",
     "text": [
      "----------------- epoch 1 -----------------\n",
      "train Loss : 0.9699, Accuracy : 71.11%\n",
      "val Loss : 1.0098, Accuracy : 70.06%\n",
      "Completed in 1m 31s\n",
      "----------------- epoch 2 -----------------\n",
      "train Loss : 0.6971, Accuracy : 78.12%\n",
      "val Loss : 0.7513, Accuracy : 76.58%\n",
      "Completed in 1m 43s\n",
      "----------------- epoch 3 -----------------\n",
      "train Loss : 0.5830, Accuracy : 81.98%\n",
      "val Loss : 0.6427, Accuracy : 80.01%\n",
      "Completed in 1m 35s\n",
      "----------------- epoch 4 -----------------\n",
      "train Loss : 0.4619, Accuracy : 86.01%\n",
      "val Loss : 0.5323, Accuracy : 83.50%\n",
      "Completed in 1m 31s\n",
      "----------------- epoch 5 -----------------\n",
      "train Loss : 0.4532, Accuracy : 85.69%\n",
      "val Loss : 0.5293, Accuracy : 82.88%\n",
      "Completed in 1m 31s\n",
      "----------------- epoch 6 -----------------\n",
      "train Loss : 0.3523, Accuracy : 89.65%\n",
      "val Loss : 0.4333, Accuracy : 86.43%\n",
      "Completed in 1m 32s\n",
      "----------------- epoch 7 -----------------\n",
      "train Loss : 0.3002, Accuracy : 91.17%\n",
      "val Loss : 0.3828, Accuracy : 88.08%\n",
      "Completed in 1m 31s\n",
      "----------------- epoch 8 -----------------\n",
      "train Loss : 0.2833, Accuracy : 91.02%\n",
      "val Loss : 0.3733, Accuracy : 88.08%\n",
      "Completed in 1m 31s\n",
      "----------------- epoch 9 -----------------\n",
      "train Loss : 0.2471, Accuracy : 92.38%\n",
      "val Loss : 0.3434, Accuracy : 88.67%\n",
      "Completed in 1m 31s\n",
      "----------------- epoch 10 -----------------\n",
      "train Loss : 0.2407, Accuracy : 92.75%\n",
      "val Loss : 0.3429, Accuracy : 88.97%\n",
      "Completed in 1m 32s\n",
      "----------------- epoch 11 -----------------\n",
      "train Loss : 0.1865, Accuracy : 94.56%\n",
      "val Loss : 0.2876, Accuracy : 90.65%\n",
      "Completed in 1m 31s\n",
      "----------------- epoch 12 -----------------\n",
      "train Loss : 0.2156, Accuracy : 92.95%\n",
      "val Loss : 0.3286, Accuracy : 88.98%\n",
      "Completed in 1m 33s\n",
      "----------------- epoch 13 -----------------\n",
      "train Loss : 0.1682, Accuracy : 95.04%\n",
      "val Loss : 0.2821, Accuracy : 91.09%\n",
      "Completed in 1m 31s\n",
      "----------------- epoch 14 -----------------\n",
      "train Loss : 0.1417, Accuracy : 96.02%\n",
      "val Loss : 0.2536, Accuracy : 91.59%\n",
      "Completed in 1m 29s\n",
      "----------------- epoch 15 -----------------\n",
      "train Loss : 0.1645, Accuracy : 95.32%\n",
      "val Loss : 0.2839, Accuracy : 90.86%\n",
      "Completed in 1m 32s\n",
      "----------------- epoch 16 -----------------\n",
      "train Loss : 0.1208, Accuracy : 96.26%\n",
      "val Loss : 0.2437, Accuracy : 92.15%\n",
      "Completed in 1m 31s\n",
      "----------------- epoch 17 -----------------\n",
      "train Loss : 0.1452, Accuracy : 95.31%\n",
      "val Loss : 0.2736, Accuracy : 90.89%\n",
      "Completed in 1m 31s\n",
      "----------------- epoch 18 -----------------\n",
      "train Loss : 0.0941, Accuracy : 97.43%\n",
      "val Loss : 0.2199, Accuracy : 93.09%\n",
      "Completed in 1m 31s\n",
      "----------------- epoch 19 -----------------\n",
      "train Loss : 0.0946, Accuracy : 97.27%\n",
      "val Loss : 0.2275, Accuracy : 92.58%\n",
      "Completed in 1m 31s\n",
      "----------------- epoch 20 -----------------\n",
      "train Loss : 0.0754, Accuracy : 98.03%\n",
      "val Loss : 0.2071, Accuracy : 93.19%\n",
      "Completed in 1m 31s\n",
      "----------------- epoch 21 -----------------\n",
      "train Loss : 0.0818, Accuracy : 97.68%\n",
      "val Loss : 0.2139, Accuracy : 93.13%\n",
      "Completed in 1m 31s\n",
      "----------------- epoch 22 -----------------\n",
      "train Loss : 0.0623, Accuracy : 98.29%\n",
      "val Loss : 0.2017, Accuracy : 93.60%\n",
      "Completed in 1m 30s\n",
      "----------------- epoch 23 -----------------\n",
      "train Loss : 0.0680, Accuracy : 98.38%\n",
      "val Loss : 0.2053, Accuracy : 93.39%\n",
      "Completed in 1m 31s\n",
      "----------------- epoch 24 -----------------\n",
      "train Loss : 0.0634, Accuracy : 98.31%\n",
      "val Loss : 0.2074, Accuracy : 93.63%\n",
      "Completed in 1m 30s\n",
      "----------------- epoch 25 -----------------\n",
      "train Loss : 0.0663, Accuracy : 98.27%\n",
      "val Loss : 0.2103, Accuracy : 93.32%\n",
      "Completed in 1m 30s\n",
      "----------------- epoch 26 -----------------\n",
      "train Loss : 0.0598, Accuracy : 98.47%\n",
      "val Loss : 0.2002, Accuracy : 93.52%\n",
      "Completed in 1m 31s\n",
      "----------------- epoch 27 -----------------\n",
      "train Loss : 0.0442, Accuracy : 99.01%\n",
      "val Loss : 0.1757, Accuracy : 94.23%\n",
      "Completed in 1m 31s\n",
      "----------------- epoch 28 -----------------\n",
      "train Loss : 0.0438, Accuracy : 98.98%\n",
      "val Loss : 0.1893, Accuracy : 94.05%\n",
      "Completed in 1m 31s\n",
      "----------------- epoch 29 -----------------\n",
      "train Loss : 0.0460, Accuracy : 98.91%\n",
      "val Loss : 0.1857, Accuracy : 94.14%\n",
      "Completed in 1m 31s\n",
      "----------------- epoch 30 -----------------\n",
      "train Loss : 0.0458, Accuracy : 98.87%\n",
      "val Loss : 0.2009, Accuracy : 93.60%\n",
      "Completed in 1m 30s\n"
     ]
    }
   ],
   "source": [
    "## 학습 시작?\n",
    "\n",
    "import time\n",
    "import copy\n",
    "\n",
    "def train_baseline(model, train_loader, val_loader, optimizer, num_epochs = 30):\n",
    "    from tqdm.notebook import tqdm\n",
    "\n",
    "    best_acc = 0\n",
    "    best_model_wts = copy.deepcopy(model.state_dict()) #정확도가 가장 높은 모델의 가중치\n",
    "    \n",
    "    for epoch in tqdm(range(1, num_epochs + 1)):\n",
    "        since = time.time()\n",
    "        train(model, train_loader, optimizer)\n",
    "        train_loss, train_acc = evalulate(model, train_loader)\n",
    "        val_loss, val_acc = evalulate(model, val_loader)\n",
    "        \n",
    "        if val_acc > best_acc:\n",
    "            best_acc = val_acc\n",
    "            best_model_wts = copy.deepcopy(model.state_dict())\n",
    "            \n",
    "        time_elapsed = time.time() - since\n",
    "        print('----------------- epoch {} -----------------'.format(epoch))\n",
    "        print('train Loss : {:.4f}, Accuracy : {:.2f}%'.format(train_loss, train_acc))\n",
    "        print('val Loss : {:.4f}, Accuracy : {:.2f}%'.format(val_loss, val_acc))\n",
    "        print('Completed in {:.0f}m {:.0f}s'.format(time_elapsed // 60, time_elapsed % 60))\n",
    "    \n",
    "    model.load_state_dict(best_model_wts)\n",
    "    return model\n",
    "        \n",
    "base = train_baseline(model=model_base,\n",
    "                      train_loader=train_loader,\n",
    "                      val_loader=val_loader,\n",
    "                      optimizer=optimizer,\n",
    "                      num_epochs=EPOCH)\n",
    "\n",
    "torch.save(base,'14. base_model.pt')"
   ]
  },
  {
   "cell_type": "markdown",
   "id": "82421b21",
   "metadata": {},
   "source": [
    "## 저장했으니 불러와서 작업할때!!"
   ]
  },
  {
   "cell_type": "code",
   "execution_count": 7,
   "id": "c72060b2",
   "metadata": {
    "ExecuteTime": {
     "end_time": "2023-10-04T13:38:17.027052Z",
     "start_time": "2023-10-04T13:38:16.901372Z"
    }
   },
   "outputs": [
    {
     "name": "stdout",
     "output_type": "stream",
     "text": [
      "Device is [ cuda ]\n"
     ]
    }
   ],
   "source": [
    "## 모델 불러오기\n",
    "## 학습 구조인 클래스를 같이 활성화 해주어야 에러없이 잘 불러온다.\n",
    "\n",
    "import torch\n",
    "import os\n",
    "import torch.nn as nn\n",
    "import torch.nn.functional as F\n",
    "import torch.optim as optim\n",
    "\n",
    "USE_CUDA = torch.cuda.is_available()\n",
    "DEVICE = torch.device(\"cuda\" if USE_CUDA else 'cpu')\n",
    "print(\"Device is [\",DEVICE,\"]\")\n",
    "\n",
    "BATCH_SIZE = 256; EPOCH = 30\n",
    "\n",
    "class Net(nn.Module):\n",
    "    \n",
    "    def __init__(self):\n",
    "        \n",
    "        super(Net, self).__init__()\n",
    "        \n",
    "        self.conv1 = nn.Conv2d(3, 32, 3, padding=1)\n",
    "        self.pool = nn.MaxPool2d(2,2)\n",
    "        self.conv2 = nn.Conv2d(32, 64, 3, padding=1)\n",
    "        self.conv3 = nn.Conv2d(64, 64, 3, padding=1)\n",
    "\n",
    "        self.fc1 = nn.Linear(4096, 512)\n",
    "        self.fc2 = nn.Linear(512, 33)\n",
    "\n",
    "    def forward(self, x):\n",
    "        \n",
    "        x = self.conv1(x)\n",
    "        x = F.relu(x)\n",
    "        x = self.pool(x)\n",
    "        x = F.dropout(x, p=0.25, training=self.training) # 트레이닝에서만 사용한다?\n",
    "        \n",
    "        x = self.conv2(x)\n",
    "        x = F.relu(x)\n",
    "        x = self.pool(x)\n",
    "        x = F.dropout(x, p=0.25, training=self.training)\n",
    "        \n",
    "        x = self.conv3(x)\n",
    "        x = F.relu(x)\n",
    "        x = self.pool(x)\n",
    "        x = F.dropout(x, p=0.25, training=self.training)\n",
    "        \n",
    "        x = x.view(-1, 4096) # == flatten 과 같은 기능?\n",
    "        x = self.fc1(x)\n",
    "        x = F.relu(x)\n",
    "        x = F.dropout(x, p=0.5, training=self.training)\n",
    "        x = self.fc2(x)\n",
    "        \n",
    "        return F.log_softmax(x, dim=1)\n",
    "\n",
    "base = torch.load(\"./14. base_model.pt\", map_location=DEVICE)"
   ]
  },
  {
   "cell_type": "markdown",
   "id": "33526996",
   "metadata": {},
   "source": [
    "## 전이학습\n",
    "\n",
    "전이학습(Transfer Learning)이란, 기존에 사전학습된(pre trained) 모델을 가져와, 사용하고자 하는 학습 데이터를 학습시켜 이용하는 방법으로, 기존에 비슷한 도메인의 데이터를 학습한 모델이라면 현재 갖고있는 데이터가 다소 적더라도 좋은 성능을 보여줄 수 있다.\n",
    "\n",
    "가중치를 랜덤하게 학습하지 않고 따른 모델의 구조를 사용해 더 빠르게 학습하는 방법으로\n",
    "특정레이어에서 결과를 바로 사용하거나, 가중치만 가져와서 학습에 사용하거나 할수 있다."
   ]
  },
  {
   "attachments": {
    "image.png": {
     "image/png": "[encoded data removed]"
    }
   },
   "cell_type": "markdown",
   "id": "a5ed69f2",
   "metadata": {},
   "source": [
    "![image.png](attachment:image.png)"
   ]
  },
  {
   "cell_type": "code",
   "execution_count": 8,
   "id": "b2c99017",
   "metadata": {
    "ExecuteTime": {
     "end_time": "2023-10-04T13:38:20.528393Z",
     "start_time": "2023-10-04T13:38:20.519997Z"
    }
   },
   "outputs": [],
   "source": [
    "## 토치 이미지폴더 함수에 넣을 딕셔너리\n",
    "\n",
    "## Compose는 전처리할때 사용 -> resize\n",
    "\n",
    "## flip -> 상하좌우 반전해라 \n",
    "## 반전 주는 이유 : 한가지 class를 한가지 포즈로만 학습하면 과적합 될수도 있어 방지용\n",
    "\n",
    "## Crop -> 이미지를 무작위로 잘라냄 -> (52 * 52) 사이즈로\n",
    "\n",
    "## Normalize -> RGB 색상값 (0~1)이라 가정할떄 [평균] [표준편차] 의 셋팅\n",
    "\n",
    "data_transforms = {\n",
    "    'train' : transforms.Compose([\n",
    "           transforms.Resize([64,64]),\n",
    "           transforms.RandomHorizontalFlip(), transforms.RandomVerticalFlip(),\n",
    "           transforms.RandomCrop(52), transforms.ToTensor(),\n",
    "           transforms.Normalize([0.485, 0.456, 0.406], [0.229, 0.224, 0.225]) \n",
    "        ]),\n",
    "    \n",
    "    'validation' : transforms.Compose([\n",
    "           transforms.Resize([64,64]),\n",
    "           transforms.RandomHorizontalFlip(), transforms.RandomVerticalFlip(),\n",
    "           transforms.RandomCrop(52), transforms.ToTensor(),\n",
    "           transforms.Normalize([0.485, 0.456, 0.406], [0.229, 0.224, 0.225]) \n",
    "        ])\n",
    "}"
   ]
  },
  {
   "cell_type": "code",
   "execution_count": 10,
   "id": "29b933b6",
   "metadata": {
    "ExecuteTime": {
     "end_time": "2023-10-04T13:38:37.032746Z",
     "start_time": "2023-10-04T13:38:36.752865Z"
    }
   },
   "outputs": [],
   "source": [
    "## train과 validation 폴더의 이미지를 지정한 변환장치를 거쳐 이미지폴더로 저장해라\n",
    "\n",
    "data_dir = './data/leaves_img_dataset/splitted_data'\n",
    "\n",
    "image_datasets = {x : ImageFolder(root = os.path.join(data_dir, x),\n",
    "                               transform = data_transforms[x]) for x in ['train', 'validation']}\n",
    "\n",
    "data_loaders = {x : torch.utils.data.DataLoader(image_datasets[x],\n",
    "                                                batch_size = BATCH_SIZE,\n",
    "                                                shuffle = True,\n",
    "                                                num_workers = 4) for x in ['train', 'validation']}\n",
    "dataset_sizes = {x : len(image_datasets[x]) for x in ['train', 'validation']}\n",
    "\n",
    "class_names = image_datasets['train'].classes"
   ]
  },
  {
   "cell_type": "code",
   "execution_count": 11,
   "id": "3080e1ce",
   "metadata": {
    "ExecuteTime": {
     "end_time": "2023-10-04T13:38:38.292035Z",
     "start_time": "2023-10-04T13:38:37.827888Z"
    }
   },
   "outputs": [],
   "source": [
    "## 전이학습에 사용할 학습된 모델을 불러오기\n",
    "\n",
    "# ------------- 이전 표현 -------------\n",
    "#from torchvision import models\n",
    "#resnet = models.resnet50(pretrained=True)  # true는 학습 가중치 가져옴, False는 구조만\n",
    "# ------------- 이전 표현 -------------\n",
    "# 새로운 방식 : https://pytorch.org/vision/stable/models.html\n",
    "\n",
    "from torchvision.models import resnet50, ResNet50_Weights\n",
    "resnet = resnet50(weights=ResNet50_Weights.DEFAULT)\n",
    "\n",
    "        ##  resnet출력은 50이다 근데 우리모델은 33개로 잡아놨다. \n",
    "        ## 즉 , 마지막 fullyconnected 레이어를 50에서 33으로 바꿔줘야 한다.\n",
    "num_ftrs = resnet.fc.in_features       # resnet50의 마지막 fc레이어의 피쳐를 불러오기\n",
    "resnet.fc = nn.Linear(num_ftrs, 33)    # fc레이어를 nn리니어를 거쳐 33으로 다시 나오도록 바꿔주기\n",
    "resnet = resnet.to(DEVICE)\n",
    "\n",
    "criterion = nn.CrossEntropyLoss()\n",
    "\n",
    "        # 원레 resnet모델의 가중치는 다 안다. 근데 마지막 fc레이어는 우리가 수정해서 가중치를 모른다.\n",
    "        # 그래서 그것만 최적화 작업을 해라\n",
    "optimizer_ft = optim.Adam(filter(lambda p : p.requires_grad, resnet.parameters()), lr=0.001)\n",
    "\n",
    "\n",
    "        ## 에포크에 따라서 lr을 바꿔준다. lr을 step_size마다 gamma만큼 감소시킨다.\n",
    "from torch.optim import lr_scheduler\n",
    "exp_lr_scheduler = lr_scheduler.StepLR(optimizer_ft, step_size=7, gamma=0.1)"
   ]
  },
  {
   "cell_type": "markdown",
   "id": "5d2e260a",
   "metadata": {},
   "source": [
    "- ### filter(조건 함수, 순회 가능한 데이터)\n",
    "<br>\n",
    "filter() 함수는 두 번째 인자로 넘어온 데이터 중에서 첫 번째 인자로 넘어온 조건 함수를 만족하는 데이터만 찾아서 반환해줍니다.\n",
    "\n",
    "ex)\n",
    "```python\n",
    "filter(lambda x: x < 5, range(10))\n",
    "\n",
    "=> [0, 1, 2, 3, 4]\n",
    "```"
   ]
  },
  {
   "cell_type": "code",
   "execution_count": 12,
   "id": "f4c454b2",
   "metadata": {
    "ExecuteTime": {
     "end_time": "2023-10-04T13:38:44.126325Z",
     "start_time": "2023-10-04T13:38:44.119648Z"
    }
   },
   "outputs": [],
   "source": [
    "## cildren : 모델에 속해있는 하위레이어들의 정보  \n",
    "\n",
    "ct = 0\n",
    "for child in resnet.children():\n",
    "    ct += 1\n",
    "    if ct < 6: # 입력단과 가까운 층 5개는 고정을 시킨다 (Freeze)\n",
    "        for param in child.parameters():\n",
    "            param.requires_grad = False"
   ]
  },
  {
   "cell_type": "code",
   "execution_count": 13,
   "id": "f44d39e3",
   "metadata": {
    "ExecuteTime": {
     "end_time": "2023-10-04T13:38:51.877543Z",
     "start_time": "2023-10-04T13:38:51.862744Z"
    }
   },
   "outputs": [],
   "source": [
    "def train_resnet(model, criterion, optimizer, scheduler, num_epoch=25):\n",
    "    from tqdm.notebook import tqdm; import time;\n",
    "    \n",
    "    # 처음에 resnet의 가중치 복사\n",
    "    # 1 ~ 32는 그대로 33은 랜덤하게 잡혀있는 상태\n",
    "    \n",
    "    best_model_wts = copy.deepcopy(model.state_dict()) \n",
    "    best_acc = 0.0\n",
    "    \n",
    "    for epoch in tqdm(range(num_epoch)):\n",
    "        print('----------------- epoch {} -----------------'.format(epoch+1))\n",
    "        since = time.time()\n",
    "        for phase in ['train', 'validation']:\n",
    "            if phase == 'train':\n",
    "                model.train()\n",
    "            else:\n",
    "                model.eval()\n",
    "                \n",
    "            running_loss = 0.0\n",
    "            running_corrects = 0\n",
    "            \n",
    "            for inputs, labels in data_loaders[phase]:\n",
    "                inputs = inputs.to(DEVICE)\n",
    "                labels = labels.to(DEVICE)\n",
    "                optimizer.zero_grad()\n",
    "                \n",
    "                ## train이라면 가중치 업데이트를 허가한다.\n",
    "                with torch.set_grad_enabled(phase == 'train'):\n",
    "                    outputs = model(inputs)\n",
    "                    _, preds = torch.max(outputs, 1) #가장 높은 숫자 : 즉, 예측 결과\n",
    "                    loss = criterion(outputs, labels)\n",
    "                    \n",
    "                    if phase == 'train':\n",
    "                        loss.backward()\n",
    "                        optimizer.step()\n",
    "                        \n",
    "                running_loss += loss.item() * inputs.size(0) # 총 손실 = 손실 * batch_size\n",
    "                running_corrects += torch.sum(preds == labels.data) # 예측이 맞는지\n",
    "            if phase == 'train':\n",
    "                scheduler.step()\n",
    "                \n",
    "            epoch_loss = running_loss/dataset_sizes[phase]\n",
    "            epoch_acc = running_corrects.double() / dataset_sizes[phase]\n",
    "            \n",
    "            print('{} Loss : {:.4f} Acc : {:.4f}'.format(phase, epoch_loss, epoch_acc))\n",
    "            \n",
    "            \n",
    "            if phase == 'validation' and epoch_acc > best_acc:\n",
    "                best_acc = epoch_acc\n",
    "                best_model_wts = copy.deepcopy(model.state_dict())\n",
    "            \n",
    "        time_elapsed = time.time() - since\n",
    "        print('Completed in {:.0f}m {:.0f}s'.format(time_elapsed // 60, time_elapsed % 60))\n",
    "    print('Best validation Accuracy : {:.4}'.format(best_acc))\n",
    "    \n",
    "    model.load_state_dict(best_model_wts)\n",
    "    \n",
    "    return model"
   ]
  },
  {
   "cell_type": "code",
   "execution_count": 15,
   "id": "3e3843af",
   "metadata": {
    "ExecuteTime": {
     "end_time": "2023-10-04T13:55:00.103765Z",
     "start_time": "2023-10-04T13:39:39.708290Z"
    },
    "scrolled": false
   },
   "outputs": [
    {
     "data": {
      "application/vnd.jupyter.widget-view+json": {
       "model_id": "e70d68006d5d40a999009b0f9d68b37f",
       "version_major": 2,
       "version_minor": 0
      },
      "text/plain": [
       "  0%|          | 0/30 [00:00<?, ?it/s]"
      ]
     },
     "metadata": {},
     "output_type": "display_data"
    },
    {
     "name": "stdout",
     "output_type": "stream",
     "text": [
      "----------------- epoch 1 -----------------\n",
      "train Loss : 0.5859 Acc : 0.8328\n",
      "validation Loss : 0.1803 Acc : 0.9404\n",
      "Completed in 1m 15s\n",
      "----------------- epoch 2 -----------------\n",
      "train Loss : 0.1225 Acc : 0.9594\n",
      "validation Loss : 0.1350 Acc : 0.9556\n",
      "Completed in 0m 27s\n",
      "----------------- epoch 3 -----------------\n",
      "train Loss : 0.0880 Acc : 0.9720\n",
      "validation Loss : 0.1136 Acc : 0.9660\n",
      "Completed in 0m 27s\n",
      "----------------- epoch 4 -----------------\n",
      "train Loss : 0.0744 Acc : 0.9754\n",
      "validation Loss : 0.0959 Acc : 0.9692\n",
      "Completed in 0m 28s\n",
      "----------------- epoch 5 -----------------\n",
      "train Loss : 0.0599 Acc : 0.9796\n",
      "validation Loss : 0.0772 Acc : 0.9751\n",
      "Completed in 0m 36s\n",
      "----------------- epoch 6 -----------------\n",
      "train Loss : 0.0537 Acc : 0.9819\n",
      "validation Loss : 0.0801 Acc : 0.9777\n",
      "Completed in 0m 29s\n",
      "----------------- epoch 7 -----------------\n",
      "train Loss : 0.0496 Acc : 0.9830\n",
      "validation Loss : 0.0749 Acc : 0.9771\n",
      "Completed in 0m 29s\n",
      "----------------- epoch 8 -----------------\n",
      "train Loss : 0.0253 Acc : 0.9924\n",
      "validation Loss : 0.0374 Acc : 0.9876\n",
      "Completed in 0m 28s\n",
      "----------------- epoch 9 -----------------\n",
      "train Loss : 0.0143 Acc : 0.9953\n",
      "validation Loss : 0.0320 Acc : 0.9901\n",
      "Completed in 0m 27s\n",
      "----------------- epoch 10 -----------------\n",
      "train Loss : 0.0124 Acc : 0.9960\n",
      "validation Loss : 0.0330 Acc : 0.9894\n",
      "Completed in 0m 28s\n",
      "----------------- epoch 11 -----------------\n",
      "train Loss : 0.0123 Acc : 0.9958\n",
      "validation Loss : 0.0282 Acc : 0.9911\n",
      "Completed in 0m 28s\n",
      "----------------- epoch 12 -----------------\n",
      "train Loss : 0.0106 Acc : 0.9965\n",
      "validation Loss : 0.0277 Acc : 0.9917\n",
      "Completed in 0m 29s\n",
      "----------------- epoch 13 -----------------\n",
      "train Loss : 0.0095 Acc : 0.9970\n",
      "validation Loss : 0.0298 Acc : 0.9922\n",
      "Completed in 0m 27s\n",
      "----------------- epoch 14 -----------------\n",
      "train Loss : 0.0079 Acc : 0.9975\n",
      "validation Loss : 0.0269 Acc : 0.9911\n",
      "Completed in 0m 27s\n",
      "----------------- epoch 15 -----------------\n",
      "train Loss : 0.0070 Acc : 0.9978\n",
      "validation Loss : 0.0254 Acc : 0.9921\n",
      "Completed in 0m 35s\n",
      "----------------- epoch 16 -----------------\n",
      "train Loss : 0.0072 Acc : 0.9975\n",
      "validation Loss : 0.0292 Acc : 0.9911\n",
      "Completed in 0m 28s\n",
      "----------------- epoch 17 -----------------\n",
      "train Loss : 0.0055 Acc : 0.9977\n",
      "validation Loss : 0.0259 Acc : 0.9931\n",
      "Completed in 0m 33s\n",
      "----------------- epoch 18 -----------------\n",
      "train Loss : 0.0063 Acc : 0.9977\n",
      "validation Loss : 0.0305 Acc : 0.9916\n",
      "Completed in 0m 27s\n",
      "----------------- epoch 19 -----------------\n",
      "train Loss : 0.0074 Acc : 0.9972\n",
      "validation Loss : 0.0268 Acc : 0.9921\n",
      "Completed in 0m 27s\n",
      "----------------- epoch 20 -----------------\n",
      "train Loss : 0.0061 Acc : 0.9981\n",
      "validation Loss : 0.0226 Acc : 0.9931\n",
      "Completed in 0m 31s\n",
      "----------------- epoch 21 -----------------\n",
      "train Loss : 0.0068 Acc : 0.9978\n",
      "validation Loss : 0.0268 Acc : 0.9922\n",
      "Completed in 0m 30s\n",
      "----------------- epoch 22 -----------------\n",
      "train Loss : 0.0055 Acc : 0.9985\n",
      "validation Loss : 0.0265 Acc : 0.9911\n",
      "Completed in 0m 28s\n",
      "----------------- epoch 23 -----------------\n",
      "train Loss : 0.0060 Acc : 0.9980\n",
      "validation Loss : 0.0257 Acc : 0.9915\n",
      "Completed in 0m 27s\n",
      "----------------- epoch 24 -----------------\n",
      "train Loss : 0.0066 Acc : 0.9977\n",
      "validation Loss : 0.0266 Acc : 0.9931\n",
      "Completed in 0m 27s\n",
      "----------------- epoch 25 -----------------\n",
      "train Loss : 0.0064 Acc : 0.9975\n",
      "validation Loss : 0.0282 Acc : 0.9920\n",
      "Completed in 0m 29s\n",
      "----------------- epoch 26 -----------------\n",
      "train Loss : 0.0067 Acc : 0.9975\n",
      "validation Loss : 0.0256 Acc : 0.9925\n",
      "Completed in 0m 31s\n",
      "----------------- epoch 27 -----------------\n",
      "train Loss : 0.0056 Acc : 0.9983\n",
      "validation Loss : 0.0274 Acc : 0.9921\n",
      "Completed in 0m 29s\n",
      "----------------- epoch 28 -----------------\n",
      "train Loss : 0.0059 Acc : 0.9981\n",
      "validation Loss : 0.0255 Acc : 0.9931\n",
      "Completed in 0m 31s\n",
      "----------------- epoch 29 -----------------\n",
      "train Loss : 0.0054 Acc : 0.9981\n",
      "validation Loss : 0.0263 Acc : 0.9925\n",
      "Completed in 0m 31s\n",
      "----------------- epoch 30 -----------------\n",
      "train Loss : 0.0054 Acc : 0.9984\n",
      "validation Loss : 0.0249 Acc : 0.9917\n",
      "Completed in 0m 29s\n",
      "Best validation Accuracy : 0.9931\n"
     ]
    }
   ],
   "source": [
    "from tqdm.notebook import tqdm\n",
    "import copy\n",
    "\n",
    "model_resnet50 = train_resnet(model=resnet,\n",
    "                             criterion=criterion,\n",
    "                             optimizer=optimizer_ft,\n",
    "                             scheduler=exp_lr_scheduler,\n",
    "                             num_epoch=EPOCH)\n",
    "\n",
    "torch.save(model_resnet50,'14. base_model(resnet50).pt')"
   ]
  },
  {
   "cell_type": "code",
   "execution_count": 20,
   "id": "02ab6fac",
   "metadata": {
    "ExecuteTime": {
     "end_time": "2023-10-04T14:04:39.198715Z",
     "start_time": "2023-10-04T14:04:39.095599Z"
    }
   },
   "outputs": [],
   "source": [
    "transform_resnet = transforms.Compose([\n",
    "    transforms.Resize([64, 64]),\n",
    "    transforms.RandomCrop(52),\n",
    "    transforms.ToTensor(),\n",
    "    transforms.Normalize([0.485, 0.456, 0.406], [0.229, 0.224, 0.225])\n",
    "])\n",
    "\n",
    "test_resnet = ImageFolder(root = './data/leaves_img_dataset/splitted_data/test/', transform=transform_resnet)\n",
    "test_loader_resnet = torch.utils.data.DataLoader(test_resnet,\n",
    "                                                batch_size=BATCH_SIZE,\n",
    "                                                shuffle=True,\n",
    "                                                num_workers=4)"
   ]
  },
  {
   "cell_type": "code",
   "execution_count": 21,
   "id": "fa734af3",
   "metadata": {
    "ExecuteTime": {
     "end_time": "2023-10-04T14:04:49.594851Z",
     "start_time": "2023-10-04T14:04:41.565910Z"
    }
   },
   "outputs": [
    {
     "name": "stdout",
     "output_type": "stream",
     "text": [
      "Resnet test acc : 99.06120916259857\n"
     ]
    }
   ],
   "source": [
    "resnet50 = torch.load('./14. base_model(resnet50).pt')\n",
    "resnet50.eval()\n",
    "test_loss, test_accuracy = evalulate(resnet50, test_loader_resnet)\n",
    "\n",
    "print('Resnet test acc :', test_accuracy)"
   ]
  },
  {
   "cell_type": "code",
   "execution_count": null,
   "id": "55de84b0",
   "metadata": {},
   "outputs": [],
   "source": []
  }
 ],
 "metadata": {
  "kernelspec": {
   "display_name": "GPU",
   "language": "python",
   "name": "gpu"
  },
  "language_info": {
   "codemirror_mode": {
    "name": "ipython",
    "version": 3
   },
   "file_extension": ".py",
   "mimetype": "text/x-python",
   "name": "python",
   "nbconvert_exporter": "python",
   "pygments_lexer": "ipython3",
   "version": "3.8.18"
  },
  "toc": {
   "base_numbering": 1,
   "nav_menu": {},
   "number_sections": true,
   "sideBar": true,
   "skip_h1_title": false,
   "title_cell": "Table of Contents",
   "title_sidebar": "Contents",
   "toc_cell": false,
   "toc_position": {},
   "toc_section_display": true,
   "toc_window_display": false
  }
 },
 "nbformat": 4,
 "nbformat_minor": 5
}
