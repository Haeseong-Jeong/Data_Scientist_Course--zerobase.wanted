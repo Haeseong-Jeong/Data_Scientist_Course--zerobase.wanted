{
 "cells": [
  {
   "cell_type": "code",
   "execution_count": 1,
   "id": "e1cad50c",
   "metadata": {
    "ExecuteTime": {
     "end_time": "2023-10-01T07:00:14.847036Z",
     "start_time": "2023-10-01T07:00:14.829988Z"
    }
   },
   "outputs": [],
   "source": [
    "import os\n",
    "os.environ[\"CUDA_VISIBLE_DEVICES\"] = \"0\""
   ]
  },
  {
   "cell_type": "code",
   "execution_count": 2,
   "id": "2b51e1a6",
   "metadata": {
    "ExecuteTime": {
     "end_time": "2023-10-01T07:00:27.898056Z",
     "start_time": "2023-10-01T07:00:22.745626Z"
    }
   },
   "outputs": [
    {
     "data": {
      "text/plain": [
       "[name: \"/device:CPU:0\"\n",
       " device_type: \"CPU\"\n",
       " memory_limit: 268435456\n",
       " locality {\n",
       " }\n",
       " incarnation: 2414515380977517745\n",
       " xla_global_id: -1]"
      ]
     },
     "execution_count": 2,
     "metadata": {},
     "output_type": "execute_result"
    }
   ],
   "source": [
    "from tensorflow.python.client import device_lib\n",
    "device_lib.list_local_devices()"
   ]
  },
  {
   "cell_type": "code",
   "execution_count": 78,
   "id": "b5fa44af",
   "metadata": {
    "ExecuteTime": {
     "end_time": "2023-10-01T04:33:53.956957Z",
     "start_time": "2023-10-01T04:33:53.944798Z"
    }
   },
   "outputs": [
    {
     "data": {
      "text/plain": [
       "[]"
      ]
     },
     "execution_count": 78,
     "metadata": {},
     "output_type": "execute_result"
    }
   ],
   "source": [
    "from tensorflow.python.client import device_lib\n",
    "\n",
    "def get_available_gpus():\n",
    "\n",
    "    local_device_protos = device_lib.list_local_devices()\n",
    "\n",
    "    return [x.name for x in local_device_protos if x.device_type == 'GPU']\n",
    "\n",
    "get_available_gpus()"
   ]
  },
  {
   "cell_type": "code",
   "execution_count": 79,
   "id": "f00d8b80",
   "metadata": {
    "ExecuteTime": {
     "end_time": "2023-10-01T04:34:06.825865Z",
     "start_time": "2023-10-01T04:34:06.807864Z"
    }
   },
   "outputs": [
    {
     "name": "stdout",
     "output_type": "stream",
     "text": [
      "False\n",
      "WARNING:tensorflow:From C:\\Users\\Sam\\AppData\\Local\\Temp\\ipykernel_10268\\1066710858.py:5: is_gpu_available (from tensorflow.python.framework.test_util) is deprecated and will be removed in a future version.\n",
      "Instructions for updating:\n",
      "Use `tf.config.list_physical_devices('GPU')` instead.\n",
      "False\n"
     ]
    }
   ],
   "source": [
    "import tensorflow as tf\n",
    "\n",
    "print(tf.test.is_built_with_cuda())\n",
    "\n",
    "print(tf.test.is_gpu_available(cuda_only=False, min_cuda_compute_capability=None))"
   ]
  },
  {
   "cell_type": "code",
   "execution_count": 80,
   "id": "52c429c8",
   "metadata": {
    "ExecuteTime": {
     "end_time": "2023-10-01T04:34:22.539502Z",
     "start_time": "2023-10-01T04:34:22.527387Z"
    }
   },
   "outputs": [
    {
     "name": "stdout",
     "output_type": "stream",
     "text": [
      "[name: \"/device:CPU:0\"\n",
      "device_type: \"CPU\"\n",
      "memory_limit: 268435456\n",
      "locality {\n",
      "}\n",
      "incarnation: 3681853215288019513\n",
      "xla_global_id: -1\n",
      "]\n"
     ]
    }
   ],
   "source": [
    "from tensorflow.python.client import device_lib\n",
    "\n",
    "print(device_lib.list_local_devices())"
   ]
  },
  {
   "cell_type": "code",
   "execution_count": null,
   "id": "f51db491",
   "metadata": {},
   "outputs": [],
   "source": []
  },
  {
   "cell_type": "markdown",
   "id": "58a9acf6",
   "metadata": {
    "ExecuteTime": {
     "end_time": "2023-10-01T03:08:52.235478Z",
     "start_time": "2023-10-01T03:08:52.216365Z"
    }
   },
   "source": [
    "## O X 손글씨 분류\n",
    "- 손으로 직접 그려서 사진으로 만들기 번거로워서 그림판으로 수작업...."
   ]
  },
  {
   "cell_type": "code",
   "execution_count": 3,
   "id": "3fd724aa",
   "metadata": {
    "ExecuteTime": {
     "end_time": "2023-10-01T03:03:21.219397Z",
     "start_time": "2023-10-01T03:03:21.200281Z"
    }
   },
   "outputs": [
    {
     "data": {
      "text/plain": [
       "['./data/OX_images/train_raw/o\\\\o1.png',\n",
       " './data/OX_images/train_raw/o\\\\o2.png',\n",
       " './data/OX_images/train_raw/o\\\\o3.png']"
      ]
     },
     "execution_count": 3,
     "metadata": {},
     "output_type": "execute_result"
    }
   ],
   "source": [
    "from glob import glob\n",
    "\n",
    "train_raw_0_list = glob('./data/OX_images/train_raw/o/*')\n",
    "train_raw_0_list[:3]"
   ]
  },
  {
   "cell_type": "code",
   "execution_count": 5,
   "id": "c4d02486",
   "metadata": {
    "ExecuteTime": {
     "end_time": "2023-10-01T03:04:44.811103Z",
     "start_time": "2023-10-01T03:04:44.792326Z"
    },
    "scrolled": true
   },
   "outputs": [],
   "source": [
    "#!pip install scikit-image"
   ]
  },
  {
   "cell_type": "code",
   "execution_count": 6,
   "id": "d39baf95",
   "metadata": {
    "ExecuteTime": {
     "end_time": "2023-10-01T03:05:42.893581Z",
     "start_time": "2023-10-01T03:05:42.391353Z"
    }
   },
   "outputs": [],
   "source": [
    "from skimage.transform import rescale, resize\n",
    "from skimage import color\n",
    "from skimage.io import imread, imsave\n",
    "import matplotlib.pyplot as plt"
   ]
  },
  {
   "cell_type": "code",
   "execution_count": 8,
   "id": "95abb62e",
   "metadata": {
    "ExecuteTime": {
     "end_time": "2023-10-01T03:06:34.262565Z",
     "start_time": "2023-10-01T03:06:34.097289Z"
    }
   },
   "outputs": [
    {
     "data": {
      "image/png": "[encoded data removed]",
      "text/plain": [
       "<Figure size 640x480 with 1 Axes>"
      ]
     },
     "metadata": {},
     "output_type": "display_data"
    }
   ],
   "source": [
    "image = imread(train_raw_0_list[0])\n",
    "image = color.rgb2gray(image)\n",
    "plt.imshow(image, cmap='gray');"
   ]
  },
  {
   "cell_type": "code",
   "execution_count": 9,
   "id": "ded4959a",
   "metadata": {
    "ExecuteTime": {
     "end_time": "2023-10-01T03:07:20.993866Z",
     "start_time": "2023-10-01T03:07:20.822911Z"
    }
   },
   "outputs": [
    {
     "name": "stdout",
     "output_type": "stream",
     "text": [
      "(28, 28)\n"
     ]
    },
    {
     "data": {
      "image/png": "[encoded data removed]",
      "text/plain": [
       "<Figure size 640x480 with 1 Axes>"
      ]
     },
     "metadata": {},
     "output_type": "display_data"
    }
   ],
   "source": [
    "img_resized = resize(image, (28,28))\n",
    "print(img_resized.shape)\n",
    "plt.imshow(img_resized, cmap='gray');"
   ]
  },
  {
   "cell_type": "code",
   "execution_count": 28,
   "id": "a1bc8ddc",
   "metadata": {
    "ExecuteTime": {
     "end_time": "2023-10-01T03:26:00.415576Z",
     "start_time": "2023-10-01T03:26:00.402582Z"
    }
   },
   "outputs": [],
   "source": [
    "import numpy as np\n",
    "\n",
    "# 0 ~ 1 사이로 되있는 픽셀값을 다시 255로 복원시켜주는 작업?\n",
    "imsave('./data/OX_images/train_raw/tmp.png', np.round(img_resized*255).astype(np.uint8))"
   ]
  },
  {
   "cell_type": "code",
   "execution_count": 29,
   "id": "6aba146b",
   "metadata": {
    "ExecuteTime": {
     "end_time": "2023-10-01T03:26:04.014757Z",
     "start_time": "2023-10-01T03:26:03.997906Z"
    }
   },
   "outputs": [
    {
     "data": {
      "text/plain": [
       "'o1'"
      ]
     },
     "execution_count": 29,
     "metadata": {},
     "output_type": "execute_result"
    }
   ],
   "source": [
    "train_raw_0_list[0].split('/')[-1][-6:-4]"
   ]
  },
  {
   "cell_type": "code",
   "execution_count": 30,
   "id": "db8fb01e",
   "metadata": {
    "ExecuteTime": {
     "end_time": "2023-10-01T03:26:04.425370Z",
     "start_time": "2023-10-01T03:26:04.405130Z"
    }
   },
   "outputs": [],
   "source": [
    "def img_resize(img):\n",
    "    img = color.rgb2gray(img)\n",
    "    return resize(img, (28,28))"
   ]
  },
  {
   "cell_type": "code",
   "execution_count": 31,
   "id": "4486ef27",
   "metadata": {
    "ExecuteTime": {
     "end_time": "2023-10-01T03:26:16.309906Z",
     "start_time": "2023-10-01T03:26:16.242590Z"
    }
   },
   "outputs": [
    {
     "data": {
      "application/vnd.jupyter.widget-view+json": {
       "model_id": "210ccdebef5040e79b836985e865a0c1",
       "version_major": 2,
       "version_minor": 0
      },
      "text/plain": [
       "  0%|          | 0/7 [00:00<?, ?it/s]"
      ]
     },
     "metadata": {},
     "output_type": "display_data"
    }
   ],
   "source": [
    "from tqdm.notebook import tqdm\n",
    "\n",
    "def conver_train_o():\n",
    "    train_raw_0_list = glob('./data/OX_images/train_raw/o/*')\n",
    "    for each in tqdm(train_raw_0_list):\n",
    "        img = imread(each)\n",
    "        img_resized = img_resize(img)\n",
    "        save_name = './data/OX_images/train/o/' + each.split('/')[-1][-6:-4] + '.png'\n",
    "        imsave(save_name , np.round(img_resized*255).astype(np.uint8))\n",
    "        \n",
    "conver_train_o()"
   ]
  },
  {
   "cell_type": "code",
   "execution_count": 32,
   "id": "3d3f855f",
   "metadata": {
    "ExecuteTime": {
     "end_time": "2023-10-01T03:27:05.061461Z",
     "start_time": "2023-10-01T03:27:04.978825Z"
    }
   },
   "outputs": [
    {
     "data": {
      "application/vnd.jupyter.widget-view+json": {
       "model_id": "f70e9a2e8e764798b0e94c40fd42da21",
       "version_major": 2,
       "version_minor": 0
      },
      "text/plain": [
       "  0%|          | 0/7 [00:00<?, ?it/s]"
      ]
     },
     "metadata": {},
     "output_type": "display_data"
    }
   ],
   "source": [
    "def conver_train_x():\n",
    "    train_raw_x_list = glob('./data/OX_images/train_raw/x/*')\n",
    "    for each in tqdm(train_raw_x_list):\n",
    "        img = imread(each)\n",
    "        img_resized = img_resize(img)\n",
    "        save_name = './data/OX_images/train/x/' + each.split('/')[-1][-6:-4] + '.png'\n",
    "        imsave(save_name , np.round(img_resized*255).astype(np.uint8))\n",
    "        \n",
    "conver_train_x()"
   ]
  },
  {
   "cell_type": "code",
   "execution_count": 33,
   "id": "762c8f7a",
   "metadata": {
    "ExecuteTime": {
     "end_time": "2023-10-01T03:28:27.038553Z",
     "start_time": "2023-10-01T03:28:26.985766Z"
    }
   },
   "outputs": [
    {
     "data": {
      "application/vnd.jupyter.widget-view+json": {
       "model_id": "875a8e128a3d4897ba154bdad3a93f55",
       "version_major": 2,
       "version_minor": 0
      },
      "text/plain": [
       "  0%|          | 0/3 [00:00<?, ?it/s]"
      ]
     },
     "metadata": {},
     "output_type": "display_data"
    }
   ],
   "source": [
    "def conver_test_o():\n",
    "    test_raw_0_list = glob('./data/OX_images/test_raw/o/*')\n",
    "    for each in tqdm(test_raw_0_list):\n",
    "        img = imread(each)\n",
    "        img_resized = img_resize(img)\n",
    "        save_name = './data/OX_images/test/o/' + each.split('/')[-1][-6:-4] + '.png'\n",
    "        imsave(save_name , np.round(img_resized*255).astype(np.uint8))\n",
    "        \n",
    "conver_test_o()"
   ]
  },
  {
   "cell_type": "code",
   "execution_count": 34,
   "id": "cb9bea99",
   "metadata": {
    "ExecuteTime": {
     "end_time": "2023-10-01T03:28:54.509825Z",
     "start_time": "2023-10-01T03:28:54.451173Z"
    }
   },
   "outputs": [
    {
     "data": {
      "application/vnd.jupyter.widget-view+json": {
       "model_id": "9e31d98d521f47809c7b43647e5d0f5f",
       "version_major": 2,
       "version_minor": 0
      },
      "text/plain": [
       "  0%|          | 0/3 [00:00<?, ?it/s]"
      ]
     },
     "metadata": {},
     "output_type": "display_data"
    }
   ],
   "source": [
    "def conver_test_x():\n",
    "    test_raw_x_list = glob('./data/OX_images/test_raw/x/*')\n",
    "    for each in tqdm(test_raw_x_list):\n",
    "        img = imread(each)\n",
    "        img_resized = img_resize(img)\n",
    "        save_name = './data/OX_images/test/x/' + each.split('/')[-1][-6:-4] + '.png'\n",
    "        imsave(save_name , np.round(img_resized*255).astype(np.uint8))\n",
    "        \n",
    "conver_test_x()"
   ]
  },
  {
   "cell_type": "code",
   "execution_count": 58,
   "id": "a88af0df",
   "metadata": {
    "ExecuteTime": {
     "end_time": "2023-10-01T04:00:10.400153Z",
     "start_time": "2023-10-01T04:00:10.390483Z"
    }
   },
   "outputs": [],
   "source": [
    "import numpy as np\n",
    "\n",
    "from tensorflow.keras.models import Sequential\n",
    "from tensorflow.keras.layers import Dense, Flatten\n",
    "from tensorflow.keras.layers import Conv2D, MaxPooling2D\n",
    "from tensorflow.keras.preprocessing.image import ImageDataGenerator\n",
    "\n",
    "np.random.seed(13)\n",
    "batch_size = 3"
   ]
  },
  {
   "cell_type": "code",
   "execution_count": 59,
   "id": "674def86",
   "metadata": {
    "ExecuteTime": {
     "end_time": "2023-10-01T04:00:16.125538Z",
     "start_time": "2023-10-01T04:00:16.105431Z"
    }
   },
   "outputs": [
    {
     "name": "stdout",
     "output_type": "stream",
     "text": [
      "Found 14 images belonging to 2 classes.\n"
     ]
    }
   ],
   "source": [
    "train_datagen = ImageDataGenerator(rescale=1.0/255)\n",
    "\n",
    "train_generator = train_datagen.flow_from_directory(\n",
    "    './data/OX_images/train',\n",
    "    target_size=(28,28),\n",
    "    batch_size=batch_size,\n",
    "    class_mode='categorical'\n",
    ")"
   ]
  },
  {
   "cell_type": "code",
   "execution_count": 60,
   "id": "e4bbbb50",
   "metadata": {
    "ExecuteTime": {
     "end_time": "2023-10-01T04:00:16.637248Z",
     "start_time": "2023-10-01T04:00:16.618730Z"
    }
   },
   "outputs": [
    {
     "name": "stdout",
     "output_type": "stream",
     "text": [
      "Found 6 images belonging to 2 classes.\n"
     ]
    }
   ],
   "source": [
    "test_datagen = ImageDataGenerator(rescale=1.0/255)\n",
    "\n",
    "test_generator = test_datagen.flow_from_directory(\n",
    "    './data/OX_images/test',\n",
    "    target_size=(28,28),\n",
    "    batch_size=batch_size,\n",
    "    class_mode='categorical'\n",
    ")"
   ]
  },
  {
   "cell_type": "code",
   "execution_count": 61,
   "id": "14f96244",
   "metadata": {
    "ExecuteTime": {
     "end_time": "2023-10-01T04:00:19.727186Z",
     "start_time": "2023-10-01T04:00:19.628882Z"
    }
   },
   "outputs": [],
   "source": [
    "model = Sequential()\n",
    "model.add(Conv2D(32, kernel_size=(3,3), activation='relu', input_shape=(28,28,3)))\n",
    "model.add(Conv2D(64,(3,3), activation='relu'))\n",
    "model.add(Flatten())\n",
    "model.add(Dense(128, activation='relu'))\n",
    "model.add(Dense(2, activation='softmax'))"
   ]
  },
  {
   "cell_type": "code",
   "execution_count": 62,
   "id": "d88d6f0b",
   "metadata": {
    "ExecuteTime": {
     "end_time": "2023-10-01T04:00:20.972005Z",
     "start_time": "2023-10-01T04:00:20.959368Z"
    }
   },
   "outputs": [],
   "source": [
    "model.compile(loss='categorical_crossentropy', optimizer='adam', metrics=['accuracy'])"
   ]
  },
  {
   "cell_type": "code",
   "execution_count": 63,
   "id": "6e1dc38d",
   "metadata": {
    "ExecuteTime": {
     "end_time": "2023-10-01T04:00:40.543524Z",
     "start_time": "2023-10-01T04:00:23.933173Z"
    },
    "scrolled": true
   },
   "outputs": [
    {
     "name": "stdout",
     "output_type": "stream",
     "text": [
      "Epoch 1/50\n",
      "4/4 [==============================] - 1s 118ms/step - loss: 2.5818 - accuracy: 0.5455 - val_loss: 0.7220 - val_accuracy: 0.5000\n",
      "Epoch 2/50\n",
      "4/4 [==============================] - 0s 75ms/step - loss: 0.6796 - accuracy: 0.5455 - val_loss: 0.7130 - val_accuracy: 0.5000\n",
      "Epoch 3/50\n",
      "4/4 [==============================] - 0s 71ms/step - loss: 0.7140 - accuracy: 0.4167 - val_loss: 0.6900 - val_accuracy: 0.5000\n",
      "Epoch 4/50\n",
      "4/4 [==============================] - 0s 71ms/step - loss: 0.6518 - accuracy: 0.6364 - val_loss: 0.6636 - val_accuracy: 0.5000\n",
      "Epoch 5/50\n",
      "4/4 [==============================] - 0s 78ms/step - loss: 0.5085 - accuracy: 0.8182 - val_loss: 0.6099 - val_accuracy: 0.5000\n",
      "Epoch 6/50\n",
      "4/4 [==============================] - 0s 79ms/step - loss: 0.5903 - accuracy: 0.6364 - val_loss: 0.5938 - val_accuracy: 0.8333\n",
      "Epoch 7/50\n",
      "4/4 [==============================] - 0s 71ms/step - loss: 0.2684 - accuracy: 0.9091 - val_loss: 0.5476 - val_accuracy: 0.6667\n",
      "Epoch 8/50\n",
      "4/4 [==============================] - 0s 71ms/step - loss: 0.2159 - accuracy: 1.0000 - val_loss: 0.5121 - val_accuracy: 0.8333\n",
      "Epoch 9/50\n",
      "4/4 [==============================] - 0s 78ms/step - loss: 0.0809 - accuracy: 1.0000 - val_loss: 0.5477 - val_accuracy: 0.6667\n",
      "Epoch 10/50\n",
      "4/4 [==============================] - 0s 76ms/step - loss: 0.0453 - accuracy: 1.0000 - val_loss: 0.4445 - val_accuracy: 0.8333\n",
      "Epoch 11/50\n",
      "4/4 [==============================] - 0s 77ms/step - loss: 0.0109 - accuracy: 1.0000 - val_loss: 0.4340 - val_accuracy: 0.8333\n",
      "Epoch 12/50\n",
      "4/4 [==============================] - 0s 79ms/step - loss: 0.0050 - accuracy: 1.0000 - val_loss: 0.4585 - val_accuracy: 0.8333\n",
      "Epoch 13/50\n",
      "4/4 [==============================] - 0s 78ms/step - loss: 0.0048 - accuracy: 1.0000 - val_loss: 0.4108 - val_accuracy: 0.8333\n",
      "Epoch 14/50\n",
      "4/4 [==============================] - 0s 76ms/step - loss: 0.0019 - accuracy: 1.0000 - val_loss: 0.4395 - val_accuracy: 0.5000\n",
      "Epoch 15/50\n",
      "4/4 [==============================] - 0s 75ms/step - loss: 4.8815e-04 - accuracy: 1.0000 - val_loss: 0.4669 - val_accuracy: 0.5000\n",
      "Epoch 16/50\n",
      "4/4 [==============================] - 0s 76ms/step - loss: 7.5172e-04 - accuracy: 1.0000 - val_loss: 0.4267 - val_accuracy: 0.5000\n",
      "Epoch 17/50\n",
      "4/4 [==============================] - 0s 79ms/step - loss: 5.6359e-04 - accuracy: 1.0000 - val_loss: 0.4696 - val_accuracy: 0.8333\n",
      "Epoch 18/50\n",
      "4/4 [==============================] - 0s 78ms/step - loss: 5.3557e-04 - accuracy: 1.0000 - val_loss: 0.3999 - val_accuracy: 0.8333\n",
      "Epoch 19/50\n",
      "4/4 [==============================] - 0s 78ms/step - loss: 2.6380e-04 - accuracy: 1.0000 - val_loss: 0.4069 - val_accuracy: 0.6667\n",
      "Epoch 20/50\n",
      "4/4 [==============================] - 0s 74ms/step - loss: 2.6479e-04 - accuracy: 1.0000 - val_loss: 0.4099 - val_accuracy: 0.6667\n",
      "Epoch 21/50\n",
      "4/4 [==============================] - 0s 76ms/step - loss: 2.2592e-04 - accuracy: 1.0000 - val_loss: 0.3968 - val_accuracy: 0.8333\n",
      "Epoch 22/50\n",
      "4/4 [==============================] - 0s 79ms/step - loss: 1.4431e-04 - accuracy: 1.0000 - val_loss: 0.3989 - val_accuracy: 0.8333\n",
      "Epoch 23/50\n",
      "4/4 [==============================] - 0s 75ms/step - loss: 1.4223e-04 - accuracy: 1.0000 - val_loss: 0.3997 - val_accuracy: 0.8333\n",
      "Epoch 24/50\n",
      "4/4 [==============================] - 0s 81ms/step - loss: 7.5854e-05 - accuracy: 1.0000 - val_loss: 0.4026 - val_accuracy: 0.8333\n",
      "Epoch 25/50\n",
      "4/4 [==============================] - 0s 78ms/step - loss: 9.8812e-05 - accuracy: 1.0000 - val_loss: 0.4055 - val_accuracy: 0.8333\n",
      "Epoch 26/50\n",
      "4/4 [==============================] - 0s 78ms/step - loss: 9.3200e-05 - accuracy: 1.0000 - val_loss: 0.3924 - val_accuracy: 0.8333\n",
      "Epoch 27/50\n",
      "4/4 [==============================] - 0s 79ms/step - loss: 5.8396e-05 - accuracy: 1.0000 - val_loss: 0.3935 - val_accuracy: 0.6667\n",
      "Epoch 28/50\n",
      "4/4 [==============================] - 0s 77ms/step - loss: 5.3543e-05 - accuracy: 1.0000 - val_loss: 0.3905 - val_accuracy: 0.6667\n",
      "Epoch 29/50\n",
      "4/4 [==============================] - 0s 76ms/step - loss: 6.7239e-05 - accuracy: 1.0000 - val_loss: 0.3857 - val_accuracy: 0.8333\n",
      "Epoch 30/50\n",
      "4/4 [==============================] - 0s 78ms/step - loss: 5.3305e-05 - accuracy: 1.0000 - val_loss: 0.3840 - val_accuracy: 0.8333\n",
      "Epoch 31/50\n",
      "4/4 [==============================] - 0s 73ms/step - loss: 4.9035e-05 - accuracy: 1.0000 - val_loss: 0.3913 - val_accuracy: 0.8333\n",
      "Epoch 32/50\n",
      "4/4 [==============================] - 0s 75ms/step - loss: 4.2490e-05 - accuracy: 1.0000 - val_loss: 0.3835 - val_accuracy: 0.8333\n",
      "Epoch 33/50\n",
      "4/4 [==============================] - 0s 77ms/step - loss: 4.3661e-05 - accuracy: 1.0000 - val_loss: 0.3776 - val_accuracy: 0.8333\n",
      "Epoch 34/50\n",
      "4/4 [==============================] - 0s 83ms/step - loss: 3.0831e-05 - accuracy: 1.0000 - val_loss: 0.3743 - val_accuracy: 0.8333\n",
      "Epoch 35/50\n",
      "4/4 [==============================] - 0s 75ms/step - loss: 2.8858e-05 - accuracy: 1.0000 - val_loss: 0.3724 - val_accuracy: 0.8333\n",
      "Epoch 36/50\n",
      "4/4 [==============================] - 0s 75ms/step - loss: 3.9814e-05 - accuracy: 1.0000 - val_loss: 0.3697 - val_accuracy: 0.8333\n",
      "Epoch 37/50\n",
      "4/4 [==============================] - 0s 83ms/step - loss: 2.9303e-05 - accuracy: 1.0000 - val_loss: 0.3743 - val_accuracy: 0.8333\n",
      "Epoch 38/50\n",
      "4/4 [==============================] - 0s 79ms/step - loss: 2.9531e-05 - accuracy: 1.0000 - val_loss: 0.3787 - val_accuracy: 0.8333\n",
      "Epoch 39/50\n",
      "4/4 [==============================] - 0s 83ms/step - loss: 2.9054e-05 - accuracy: 1.0000 - val_loss: 0.3695 - val_accuracy: 0.8333\n",
      "Epoch 40/50\n",
      "4/4 [==============================] - 0s 79ms/step - loss: 2.4855e-05 - accuracy: 1.0000 - val_loss: 0.3617 - val_accuracy: 0.8333\n",
      "Epoch 41/50\n",
      "4/4 [==============================] - 0s 87ms/step - loss: 2.1555e-05 - accuracy: 1.0000 - val_loss: 0.3583 - val_accuracy: 0.8333\n",
      "Epoch 42/50\n",
      "4/4 [==============================] - 0s 83ms/step - loss: 2.2758e-05 - accuracy: 1.0000 - val_loss: 0.3560 - val_accuracy: 0.8333\n",
      "Epoch 43/50\n",
      "4/4 [==============================] - 0s 78ms/step - loss: 1.6788e-05 - accuracy: 1.0000 - val_loss: 0.3544 - val_accuracy: 0.8333\n",
      "Epoch 44/50\n",
      "4/4 [==============================] - 0s 76ms/step - loss: 1.5070e-05 - accuracy: 1.0000 - val_loss: 0.3611 - val_accuracy: 0.8333\n",
      "Epoch 45/50\n",
      "4/4 [==============================] - 0s 79ms/step - loss: 2.1891e-05 - accuracy: 1.0000 - val_loss: 0.3621 - val_accuracy: 0.8333\n",
      "Epoch 46/50\n",
      "4/4 [==============================] - 0s 81ms/step - loss: 1.8553e-05 - accuracy: 1.0000 - val_loss: 0.3525 - val_accuracy: 0.8333\n",
      "Epoch 47/50\n",
      "4/4 [==============================] - 0s 80ms/step - loss: 1.4348e-05 - accuracy: 1.0000 - val_loss: 0.3487 - val_accuracy: 0.8333\n",
      "Epoch 48/50\n",
      "4/4 [==============================] - 0s 75ms/step - loss: 1.1374e-05 - accuracy: 1.0000 - val_loss: 0.3485 - val_accuracy: 0.6667\n",
      "Epoch 49/50\n",
      "4/4 [==============================] - 0s 85ms/step - loss: 1.1542e-05 - accuracy: 1.0000 - val_loss: 0.3469 - val_accuracy: 0.6667\n",
      "Epoch 50/50\n",
      "4/4 [==============================] - 0s 77ms/step - loss: 1.0599e-05 - accuracy: 1.0000 - val_loss: 0.3453 - val_accuracy: 0.6667\n"
     ]
    }
   ],
   "source": [
    "hist = model.fit(\n",
    "    train_generator,\n",
    "    steps_per_epoch=len(train_generator.filepaths)//batch_size,\n",
    "    epochs=50,\n",
    "    validation_data=test_generator,\n",
    "    validation_steps=len(test_generator.filepaths)//batch_size\n",
    ")"
   ]
  },
  {
   "cell_type": "code",
   "execution_count": 64,
   "id": "6cc6caac",
   "metadata": {
    "ExecuteTime": {
     "end_time": "2023-10-01T04:00:53.235354Z",
     "start_time": "2023-10-01T04:00:51.924605Z"
    },
    "scrolled": false
   },
   "outputs": [
    {
     "name": "stdout",
     "output_type": "stream",
     "text": [
      "1/1 [==============================] - 0s 58ms/step\n"
     ]
    },
    {
     "data": {
      "image/png": "[encoded data removed]",
      "text/plain": [
       "<Figure size 640x480 with 1 Axes>"
      ]
     },
     "metadata": {},
     "output_type": "display_data"
    },
    {
     "name": "stdout",
     "output_type": "stream",
     "text": [
      "1/1 [==============================] - 0s 23ms/step\n"
     ]
    },
    {
     "data": {
      "image/png": "[encoded data removed]",
      "text/plain": [
       "<Figure size 640x480 with 1 Axes>"
      ]
     },
     "metadata": {},
     "output_type": "display_data"
    },
    {
     "name": "stdout",
     "output_type": "stream",
     "text": [
      "1/1 [==============================] - 0s 8ms/step\n"
     ]
    },
    {
     "data": {
      "image/png": "[encoded data removed]",
      "text/plain": [
       "<Figure size 640x480 with 1 Axes>"
      ]
     },
     "metadata": {},
     "output_type": "display_data"
    },
    {
     "name": "stdout",
     "output_type": "stream",
     "text": [
      "1/1 [==============================] - 0s 21ms/step\n"
     ]
    },
    {
     "data": {
      "image/png": "[encoded data removed]",
      "text/plain": [
       "<Figure size 640x480 with 1 Axes>"
      ]
     },
     "metadata": {},
     "output_type": "display_data"
    },
    {
     "name": "stdout",
     "output_type": "stream",
     "text": [
      "1/1 [==============================] - 0s 24ms/step\n"
     ]
    },
    {
     "data": {
      "image/png": "[encoded data removed]",
      "text/plain": [
       "<Figure size 640x480 with 1 Axes>"
      ]
     },
     "metadata": {},
     "output_type": "display_data"
    },
    {
     "name": "stdout",
     "output_type": "stream",
     "text": [
      "1/1 [==============================] - 0s 22ms/step\n"
     ]
    },
    {
     "data": {
      "image/png": "[encoded data removed]",
      "text/plain": [
       "<Figure size 640x480 with 1 Axes>"
      ]
     },
     "metadata": {},
     "output_type": "display_data"
    }
   ],
   "source": [
    "def show_prediction_result(n):\n",
    "    img = imread(test_generator.filepaths[n])\n",
    "    pred = model.predict(np.expand_dims(color.gray2rgb(img), axis=0))\n",
    "    title = 'Predict :' + str(np.argmax(pred))\n",
    "    plt.imshow(img/255.0, cmap='gray')\n",
    "    plt.title(title)\n",
    "    plt.show();\n",
    "\n",
    "for n in range(len(test_generator.filepaths)):\n",
    "    show_prediction_result(n)"
   ]
  },
  {
   "cell_type": "markdown",
   "id": "6985b587",
   "metadata": {},
   "source": [
    "데이터가 적어서 예측이 잘 안되는 것 같다. 다음에 시간이 되면 데이터를 늘려서 해보자"
   ]
  },
  {
   "cell_type": "code",
   "execution_count": null,
   "id": "a58a08ba",
   "metadata": {},
   "outputs": [],
   "source": []
  }
 ],
 "metadata": {
  "kernelspec": {
   "display_name": "Python 3 (ipykernel)",
   "language": "python",
   "name": "python3"
  },
  "language_info": {
   "codemirror_mode": {
    "name": "ipython",
    "version": 3
   },
   "file_extension": ".py",
   "mimetype": "text/x-python",
   "name": "python",
   "nbconvert_exporter": "python",
   "pygments_lexer": "ipython3",
   "version": "3.8.18"
  }
 },
 "nbformat": 4,
 "nbformat_minor": 5
}
