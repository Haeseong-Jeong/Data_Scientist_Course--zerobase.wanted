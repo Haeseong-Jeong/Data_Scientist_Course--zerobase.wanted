{
 "cells": [
  {
   "cell_type": "markdown",
   "id": "ee1ef7f8",
   "metadata": {},
   "source": [
    "## 숫자 이미지를 직접 만들어서 분류 해보자"
   ]
  },
  {
   "cell_type": "code",
   "execution_count": 60,
   "id": "9953d761",
   "metadata": {},
   "outputs": [],
   "source": [
    "import numpy as np\n",
    "import matplotlib.pyplot as plt\n",
    "from tqdm.notebook import trange, tqdm"
   ]
  },
  {
   "cell_type": "markdown",
   "id": "8f228857",
   "metadata": {},
   "source": [
    "##### Softmax 함수 구현"
   ]
  },
  {
   "cell_type": "code",
   "execution_count": 61,
   "id": "cc23b391",
   "metadata": {},
   "outputs": [],
   "source": [
    "def Softmax(x):\n",
    "    x = np.subtract(x,np.max(x)) # prevent overflow??????\n",
    "    ex = np.exp(x)\n",
    "    \n",
    "    return ex / np.sum(ex)"
   ]
  },
  {
   "cell_type": "markdown",
   "id": "a21aaf46",
   "metadata": {},
   "source": [
    "##### 숫자 1,2,3,4,5 이미지 만들기"
   ]
  },
  {
   "cell_type": "code",
   "execution_count": 62,
   "id": "4524e51b",
   "metadata": {},
   "outputs": [],
   "source": [
    "X = np.zeros((5,5,5))\n",
    "\n",
    "X[:, :, 0] =  [ [0,1,1,0,0], [0,0,1,0,0], [0,0,1,0,0], [0,0,1,0,0], [0,1,1,1,0] ]\n",
    "X[:, :, 1] =  [ [1,1,1,1,0], [0,0,0,0,1], [0,1,1,1,0], [1,0,0,0,0], [1,1,1,1,1] ]\n",
    "X[:, :, 2] =  [ [1,1,1,1,0], [0,0,0,0,1], [0,1,1,1,0], [0,0,0,0,1], [1,1,1,1,0] ]\n",
    "X[:, :, 3] =  [ [0,0,0,1,0], [0,0,1,1,0], [0,1,0,1,0], [1,1,1,1,1], [0,0,0,1,0] ]\n",
    "X[:, :, 4] =  [ [1,1,1,1,1], [1,0,0,0,0], [1,1,1,1,0], [0,0,0,0,1], [1,1,1,1,0] ]"
   ]
  },
  {
   "cell_type": "markdown",
   "id": "f998e087",
   "metadata": {},
   "source": [
    "##### 라벨 1 ~ 5"
   ]
  },
  {
   "cell_type": "code",
   "execution_count": 63,
   "id": "5e3e772a",
   "metadata": {},
   "outputs": [],
   "source": [
    "D = np.array([\n",
    "    [ [1,0,0,0,0]], [[0,1,0,0,0]], [[0,0,1,0,0]], [[0,0,0,1,0]], [[0,0,0,0,1]]\n",
    "])"
   ]
  },
  {
   "cell_type": "code",
   "execution_count": 64,
   "id": "bf5e3a6d",
   "metadata": {
    "scrolled": false
   },
   "outputs": [
    {
     "data": {
      "image/png": "[encoded data removed]",
      "text/plain": [
       "<Figure size 1200x400 with 5 Axes>"
      ]
     },
     "metadata": {},
     "output_type": "display_data"
    }
   ],
   "source": [
    "plt.figure(figsize=(12,4))\n",
    "for n in range(5):\n",
    "    plt.subplot(1,5,n+1)\n",
    "    plt.imshow(X[:,:,n])\n",
    "    \n",
    "plt.show()"
   ]
  },
  {
   "cell_type": "markdown",
   "id": "1f6cd3a0",
   "metadata": {},
   "source": [
    "##### ReLU 함수 만들기"
   ]
  },
  {
   "cell_type": "code",
   "execution_count": 65,
   "id": "7d67a127",
   "metadata": {},
   "outputs": [],
   "source": [
    "def ReLU(x):\n",
    "    return np.maximum(0,x)"
   ]
  },
  {
   "cell_type": "markdown",
   "id": "54672b69",
   "metadata": {},
   "source": [
    "##### ReLU를 이용한 정방향 계산 ( 순방향 추론 )"
   ]
  },
  {
   "cell_type": "code",
   "execution_count": 66,
   "id": "8f04cc94",
   "metadata": {},
   "outputs": [],
   "source": [
    "def calcOutput_ReLU(W1, W2, W3, W4, x):\n",
    "    v1 = np.matmul(W1, x)\n",
    "    y1 = ReLU(v1)\n",
    "    \n",
    "    v2 = np.matmul(W2, y1)\n",
    "    y2 = ReLU(v2)\n",
    "    \n",
    "    v3 = np.matmul(W3, y2)\n",
    "    y3 = ReLU(v3)\n",
    "    \n",
    "    v = np.matmul(W4, y3)\n",
    "    y = Softmax(v)\n",
    "    \n",
    "    return y, v1, v2, v3, y1, y2, y3"
   ]
  },
  {
   "cell_type": "markdown",
   "id": "9e091d08",
   "metadata": {},
   "source": [
    "##### 역전파 (W를 업데이트 하려면 delta를 계산해야함)"
   ]
  },
  {
   "cell_type": "code",
   "execution_count": 67,
   "id": "4ea06fb8",
   "metadata": {},
   "outputs": [],
   "source": [
    "## 입력단 -> 1 -> 2 -> 3 -> 출력단\n",
    "##        W1   W2   W3   W4\n",
    "\n",
    "def backpropagation_ReLU(d, y, W2, W3, W4, v1, v2, v3):\n",
    "    # cross entropy\n",
    "    e = d - y\n",
    "    delta = e\n",
    "    \n",
    "    e3 = np.matmul(W4.T, delta)\n",
    "    delta3 = (v3 > 0) * e3\n",
    "    \n",
    "    e2 = np.matmul(W3.T, delta3)\n",
    "    delta2 = (v2 > 0) * e2\n",
    "    \n",
    "    e1 = np.matmul(W2.T, delta2)\n",
    "    delta1 = (v1 > 0) * e1\n",
    "    \n",
    "    return delta, delta1, delta2, delta3"
   ]
  },
  {
   "cell_type": "markdown",
   "id": "a3a92953",
   "metadata": {},
   "source": [
    "##### 가중치 계산"
   ]
  },
  {
   "cell_type": "code",
   "execution_count": 68,
   "id": "62e28217",
   "metadata": {},
   "outputs": [],
   "source": [
    "def calcWs(alpha, delta, delta1, delta2, delta3, y1, y2, y3, x, W1, W2, W3, W4):\n",
    "    dW4 = alpha * delta * y3.T\n",
    "    W4 = W4 + dW4\n",
    "    \n",
    "    dW3 = alpha * delta3 * y2.T\n",
    "    W3 = W3 + dW3\n",
    "    \n",
    "    dW2 = alpha * delta2 * y1.T\n",
    "    W2 = W2 + dW2\n",
    "    \n",
    "    dW1 = alpha * delta1 * x.T\n",
    "    W1 = W1 + dW1\n",
    "    \n",
    "    return W1, W2, W3, W4"
   ]
  },
  {
   "cell_type": "markdown",
   "id": "2a50c2fa",
   "metadata": {},
   "source": [
    "##### 가중치 업데이트"
   ]
  },
  {
   "cell_type": "code",
   "execution_count": 69,
   "id": "2b30ab72",
   "metadata": {},
   "outputs": [],
   "source": [
    "def DeepReLU(W1, W2, W3, W4, X, D, alpha):\n",
    "    for k in range(5):\n",
    "        x = np.reshape(X[:,:,k], (25,1))\n",
    "        d = D[k,:].T\n",
    "        \n",
    "         # 출력단 계산\n",
    "        y, v1, v2, v3, y1, y2, y3 = calcOutput_ReLU(W1,W2,W3,W4,x) \n",
    "        \n",
    "         # 역전파 델타 계산\n",
    "        delta, delta1, delta2, delta3 = backpropagation_ReLU(d,y,W2,W3,W4,v1,v2,v3)\n",
    "        \n",
    "         # 가중치 계산 후 업데이트\n",
    "        W1, W2, W3, W4 = calcWs(alpha, delta, delta1, delta2, delta3, y1, y2, y3, x, W1, W2, W3, W4)\n",
    "        \n",
    "    return W1, W2, W3, W4"
   ]
  },
  {
   "cell_type": "markdown",
   "id": "ad7eaf93",
   "metadata": {},
   "source": [
    "##### 학습 시작"
   ]
  },
  {
   "cell_type": "code",
   "execution_count": 70,
   "id": "be0deb8a",
   "metadata": {},
   "outputs": [
    {
     "data": {
      "application/vnd.jupyter.widget-view+json": {
       "model_id": "577cdefc48464a52b5c448d7e1503a4b",
       "version_major": 2,
       "version_minor": 0
      },
      "text/plain": [
       "  0%|          | 0/10000 [00:00<?, ?it/s]"
      ]
     },
     "metadata": {},
     "output_type": "display_data"
    }
   ],
   "source": [
    "# 입력은 25개 -> 20으로 줄여\n",
    "# 20 -> 20 층 반복\n",
    "# 20 -> 5개의 출력 (1 ~ 5 추론)\n",
    "\n",
    "W1 = 2*np.random.random((20,25)) - 1\n",
    "W2 = 2*np.random.random((20,20)) - 1\n",
    "W3 = 2*np.random.random((20,20)) - 1\n",
    "W4 = 2*np.random.random((5,20)) - 1\n",
    "\n",
    "alpha = 0.01\n",
    "epochs = 10000\n",
    "\n",
    "for epoch in tqdm(range(epochs)):\n",
    "    W1, W2, W3, W4 = DeepReLU(W1, W2, W3, W4, X, D, alpha)"
   ]
  },
  {
   "cell_type": "code",
   "execution_count": 71,
   "id": "878a40a6",
   "metadata": {},
   "outputs": [],
   "source": [
    "def verify_algorithm(x, W1, W2, W3, W4):\n",
    "    v1 = np.matmul(W1, x)\n",
    "    y1 = ReLU(v1)\n",
    "    \n",
    "    v2 = np.matmul(W2, y1)\n",
    "    y2 = ReLU(v2)\n",
    "    \n",
    "    v3 = np.matmul(W3, y2)\n",
    "    y3 = ReLU(v3)\n",
    "    \n",
    "    v = np.matmul(W4, y3)\n",
    "    y = Softmax(v)\n",
    "    \n",
    "    return y"
   ]
  },
  {
   "cell_type": "code",
   "execution_count": 72,
   "id": "84a87d96",
   "metadata": {},
   "outputs": [
    {
     "name": "stdout",
     "output_type": "stream",
     "text": [
      "실제 Y = 1\n",
      "예측 Y = [1]\n",
      "----------------------\n",
      "[[9.99958980e-01]\n",
      " [2.05426054e-05]\n",
      " [6.62875760e-06]\n",
      " [8.11987122e-06]\n",
      " [5.72841443e-06]]\n",
      "----------------------\n",
      "실제 Y = 2\n",
      "예측 Y = [2]\n",
      "----------------------\n",
      "[[1.49959210e-05]\n",
      " [9.99971450e-01]\n",
      " [1.34475291e-05]\n",
      " [8.37437633e-08]\n",
      " [2.23752237e-08]]\n",
      "----------------------\n",
      "실제 Y = 3\n",
      "예측 Y = [3]\n",
      "----------------------\n",
      "[[1.53628551e-06]\n",
      " [1.82047262e-05]\n",
      " [9.99969198e-01]\n",
      " [8.53351587e-09]\n",
      " [1.10522481e-05]]\n",
      "----------------------\n",
      "실제 Y = 4\n",
      "예측 Y = [4]\n",
      "----------------------\n",
      "[[3.61492786e-06]\n",
      " [5.26326983e-07]\n",
      " [7.74539928e-07]\n",
      " [9.99992229e-01]\n",
      " [2.85538915e-06]]\n",
      "----------------------\n",
      "실제 Y = 5\n",
      "예측 Y = [5]\n",
      "----------------------\n",
      "[[2.96504648e-06]\n",
      " [4.54768455e-07]\n",
      " [8.45651412e-06]\n",
      " [2.75368347e-07]\n",
      " [9.99987848e-01]]\n",
      "----------------------\n"
     ]
    }
   ],
   "source": [
    "N = 5\n",
    "\n",
    "for k in range(N):\n",
    "    x = np.reshape(X[:,:,k], (25,1))\n",
    "    y = verify_algorithm(x, W1, W2, W3, W4)\n",
    "    \n",
    "    print('실제 Y = {}'.format(k+1))\n",
    "    print('예측 Y =',np.argmax(y, axis=0) + 1)\n",
    "    print('----------------------')\n",
    "    print(y)\n",
    "    print('----------------------')"
   ]
  },
  {
   "cell_type": "markdown",
   "id": "9c9af717",
   "metadata": {},
   "source": [
    "- 학습은 매우 잘 된 것 같다.\n",
    "- 이제 테스트 데이터를 만들어서 학습시켜 보자"
   ]
  },
  {
   "cell_type": "code",
   "execution_count": 73,
   "id": "beb6d258",
   "metadata": {},
   "outputs": [],
   "source": [
    "X_test = np.zeros((5,5,5))\n",
    "\n",
    "X_test[:, :, 0] =  [ [0,0,0,0,0], [0,1,0,0,0], [1,0,1,0,0], [0,0,1,0,0], [0,1,1,1,0] ]\n",
    "X_test[:, :, 1] =  [ [1,1,1,1,0], [0,0,0,0,0], [0,1,1,1,0], [0,0,0,0,1], [1,1,1,1,0] ]\n",
    "X_test[:, :, 2] =  [ [0,0,0,1,0], [0,0,1,1,0], [0,1,0,0,0], [1,1,1,0,1], [0,0,0,1,0] ]\n",
    "X_test[:, :, 3] =  [ [1,1,1,1,0], [0,0,0,0,0], [0,1,1,1,0], [1,0,0,0,0], [1,1,1,0,0] ]\n",
    "X_test[:, :, 4] =  [ [0,1,1,1,1], [1,1,0,0,0], [1,1,1,1,0], [0,0,0,1,1], [1,1,1,1,0] ]"
   ]
  },
  {
   "cell_type": "code",
   "execution_count": 74,
   "id": "2b1e94f4",
   "metadata": {},
   "outputs": [
    {
     "data": {
      "image/png": "[encoded data removed]",
      "text/plain": [
       "<Figure size 1200x400 with 5 Axes>"
      ]
     },
     "metadata": {},
     "output_type": "display_data"
    }
   ],
   "source": [
    "plt.figure(figsize=(12,4))\n",
    "for n in range(5):\n",
    "    plt.subplot(1,5,n+1)\n",
    "    plt.imshow(X_test[:,:,n])\n",
    "    \n",
    "plt.show()"
   ]
  },
  {
   "cell_type": "code",
   "execution_count": 75,
   "id": "32f9861d",
   "metadata": {},
   "outputs": [
    {
     "name": "stdout",
     "output_type": "stream",
     "text": [
      "실제 Y = 1\n",
      "예측 Y = [2]\n",
      "----------------------\n",
      "[[3.80016469e-01]\n",
      " [5.17680482e-01]\n",
      " [9.59845291e-05]\n",
      " [2.13759678e-02]\n",
      " [8.08310965e-02]]\n",
      "----------------------\n",
      "실제 Y = 2\n",
      "예측 Y = [3]\n",
      "----------------------\n",
      "[[2.70981190e-03]\n",
      " [5.12136799e-04]\n",
      " [9.79506007e-01]\n",
      " [2.50564160e-06]\n",
      " [1.72695386e-02]]\n",
      "----------------------\n",
      "실제 Y = 3\n",
      "예측 Y = [4]\n",
      "----------------------\n",
      "[[2.27173534e-07]\n",
      " [2.72880930e-07]\n",
      " [4.79319912e-07]\n",
      " [9.99997545e-01]\n",
      " [1.47537718e-06]]\n",
      "----------------------\n",
      "실제 Y = 4\n",
      "예측 Y = [2]\n",
      "----------------------\n",
      "[[9.65365146e-04]\n",
      " [9.98958219e-01]\n",
      " [7.51777813e-05]\n",
      " [1.14124032e-06]\n",
      " [9.65222853e-08]]\n",
      "----------------------\n",
      "실제 Y = 5\n",
      "예측 Y = [5]\n",
      "----------------------\n",
      "[[1.42395469e-05]\n",
      " [1.16019172e-07]\n",
      " [3.35225499e-09]\n",
      " [9.50877018e-06]\n",
      " [9.99976132e-01]]\n",
      "----------------------\n"
     ]
    }
   ],
   "source": [
    "learning_result = [0,0,0,0,0]\n",
    "\n",
    "N = 5\n",
    "\n",
    "for k in range(N):\n",
    "    x = np.reshape(X_test[:,:,k], (25,1))\n",
    "    y = verify_algorithm(x, W1, W2, W3, W4)\n",
    "    \n",
    "    learning_result[k] = np.argmax(y, axis=0) + 1\n",
    "    \n",
    "    print('실제 Y = {}'.format(k+1))\n",
    "    print('예측 Y =',np.argmax(y, axis=0) + 1)\n",
    "    print('----------------------')\n",
    "    print(y)\n",
    "    print('----------------------')"
   ]
  },
  {
   "cell_type": "code",
   "execution_count": 76,
   "id": "a23621b4",
   "metadata": {},
   "outputs": [
    {
     "data": {
      "image/png": "[encoded data removed]",
      "text/plain": [
       "<Figure size 1200x400 with 10 Axes>"
      ]
     },
     "metadata": {},
     "output_type": "display_data"
    }
   ],
   "source": [
    "plt.figure(figsize=(12,4))\n",
    "for k in range(5):\n",
    "    plt.subplot(2,5,k+1)\n",
    "    plt.imshow(X_test[:,:,k])\n",
    "    plt.subplot(2,5,k+6)\n",
    "    plt.imshow(X[:,:,learning_result[k][0]-1])\n",
    "    \n",
    "plt.show()"
   ]
  },
  {
   "cell_type": "markdown",
   "id": "66a42e59",
   "metadata": {},
   "source": [
    "##### dropout"
   ]
  },
  {
   "cell_type": "code",
   "execution_count": 87,
   "id": "dc498148",
   "metadata": {},
   "outputs": [
    {
     "data": {
      "text/plain": [
       "(8, 1.5999999999999996, 2)"
      ]
     },
     "execution_count": 87,
     "metadata": {},
     "output_type": "execute_result"
    }
   ],
   "source": [
    "y = np.array([0.1, 0.2, 0.5, 0.8, 0.8, 0.8, 0.8, 0.8,])\n",
    "\n",
    "\n",
    "# 총 개수, 80% 제거 한 개수, 80% 제거 한 개수의 정수형\n",
    "y.size, y.size*(1-0.8), round(y.size*(1-0.8))"
   ]
  },
  {
   "cell_type": "code",
   "execution_count": 88,
   "id": "b5ad1068",
   "metadata": {},
   "outputs": [
    {
     "data": {
      "text/plain": [
       "array([5, 7])"
      ]
     },
     "execution_count": 88,
     "metadata": {},
     "output_type": "execute_result"
    }
   ],
   "source": [
    "num = round(y.size*(1-0.8))\n",
    "np.random.choice(y.size, num) # num 개수 만큼 인덱스 번호 추출"
   ]
  },
  {
   "cell_type": "code",
   "execution_count": 89,
   "id": "6b54d083",
   "metadata": {},
   "outputs": [],
   "source": [
    "def Dropout(y, ratio):\n",
    "    ym = np.zeros_like(y)\n",
    "    \n",
    "    num = round(y.size*(1-ratio))\n",
    "    idx = np.random.choice(y.size, num, replace=False)\n",
    "    ym[idx] = 1.0 / (1.0 - ratio)\n",
    "    \n",
    "    return ym"
   ]
  },
  {
   "cell_type": "code",
   "execution_count": 90,
   "id": "0163adc8",
   "metadata": {},
   "outputs": [],
   "source": [
    "def sigmoid(x):\n",
    "    return 1.0 / (1.0 + np.exp(-x))"
   ]
  },
  {
   "cell_type": "code",
   "execution_count": 91,
   "id": "1a5d28c9",
   "metadata": {},
   "outputs": [],
   "source": [
    "def calcOutput_Dropuout(W1, W2, W3, W4, x):\n",
    "    v1 = np.matmul(W1, x)\n",
    "    y1 = sigmoid(v1)\n",
    "    y1 = y1*Dropout(y1, 0.2)\n",
    "    \n",
    "    v2 = np.matmul(W2, y1)\n",
    "    y2 = sigmoid(v2)\n",
    "    y2 = y2*Dropout(y2, 0.2)\n",
    "    \n",
    "    v3 = np.matmul(W3, y2)\n",
    "    y3 = sigmoid(v3)\n",
    "    y3 = y3*Dropout(y3, 0.2)\n",
    "    \n",
    "    v = np.matmul(W4, y3)\n",
    "    y = Softmax(v)\n",
    "    \n",
    "    return y, v1, v2, v3, y1, y2, y3"
   ]
  },
  {
   "cell_type": "code",
   "execution_count": 96,
   "id": "91be401d",
   "metadata": {},
   "outputs": [],
   "source": [
    "## 입력단 -> 1 -> 2 -> 3 -> 출력단\n",
    "##        W1   W2   W3   W4\n",
    "\n",
    "def backpropagation_Dropuout(d, y, y1, y2, y3, W2, W3, W4, v1, v2, v3):\n",
    "    # cross entropy\n",
    "    e = d - y\n",
    "    delta = e\n",
    "    \n",
    "    e3 = np.matmul(W4.T, delta)\n",
    "    delta3 = y3*(1-y3) * e3\n",
    "    \n",
    "    e2 = np.matmul(W3.T, delta3)\n",
    "    delta2 = y2*(1-y2) * e2\n",
    "    \n",
    "    e1 = np.matmul(W2.T, delta2)\n",
    "    delta1 = y1*(1-y1) * e1\n",
    "    \n",
    "    return delta, delta1, delta2, delta3"
   ]
  },
  {
   "cell_type": "code",
   "execution_count": 97,
   "id": "053e0d35",
   "metadata": {},
   "outputs": [],
   "source": [
    "def DeepDropuout(W1, W2, W3, W4, X, D, alpha):\n",
    "    for k in range(5):\n",
    "        x = np.reshape(X[:,:,k], (25,1))\n",
    "        d = D[k,:].T\n",
    "        \n",
    "         # 출력단 계산\n",
    "        y, v1, v2, v3, y1, y2, y3 = calcOutput_Dropuout(W1,W2,W3,W4,x) \n",
    "        \n",
    "         # 역전파 델타 계산\n",
    "        delta, delta1, delta2, delta3 = backpropagation_Dropuout(d, y, y1, y2, y3, W2, W3, W4, v1, v2, v3)\n",
    "        \n",
    "         # 가중치 계산 후 업데이트\n",
    "        W1, W2, W3, W4 = calcWs(alpha, delta, delta1, delta2, delta3, y1, y2, y3, x, W1, W2, W3, W4)\n",
    "        \n",
    "    return W1, W2, W3, W4"
   ]
  },
  {
   "cell_type": "code",
   "execution_count": 98,
   "id": "ec818378",
   "metadata": {},
   "outputs": [
    {
     "data": {
      "application/vnd.jupyter.widget-view+json": {
       "model_id": "3f4e55b18f2343059ad40e5818986454",
       "version_major": 2,
       "version_minor": 0
      },
      "text/plain": [
       "  0%|          | 0/10000 [00:00<?, ?it/s]"
      ]
     },
     "metadata": {},
     "output_type": "display_data"
    }
   ],
   "source": [
    "# 입력은 25개 -> 20으로 줄여\n",
    "# 20 -> 20 층 반복\n",
    "# 20 -> 5개의 출력 (1 ~ 5 추론)\n",
    "\n",
    "W1 = 2*np.random.random((20,25)) - 1\n",
    "W2 = 2*np.random.random((20,20)) - 1\n",
    "W3 = 2*np.random.random((20,20)) - 1\n",
    "W4 = 2*np.random.random((5,20)) - 1\n",
    "\n",
    "alpha = 0.01\n",
    "epochs = 10000\n",
    "\n",
    "for epoch in tqdm(range(epochs)):\n",
    "    W1, W2, W3, W4 = DeepDropuout(W1, W2, W3, W4, X, D, alpha)"
   ]
  },
  {
   "cell_type": "code",
   "execution_count": 99,
   "id": "639ab4ba",
   "metadata": {},
   "outputs": [
    {
     "name": "stdout",
     "output_type": "stream",
     "text": [
      "실제 Y = 1\n",
      "예측 Y = [1]\n",
      "----------------------\n",
      "[[1.00000000e+00]\n",
      " [6.89763953e-22]\n",
      " [3.26784997e-57]\n",
      " [7.32862122e-45]\n",
      " [4.72087812e-27]]\n",
      "----------------------\n",
      "실제 Y = 2\n",
      "예측 Y = [5]\n",
      "----------------------\n",
      "[[7.89289970e-30]\n",
      " [4.58986967e-15]\n",
      " [4.75586205e-03]\n",
      " [3.30144410e-30]\n",
      " [9.95244138e-01]]\n",
      "----------------------\n",
      "실제 Y = 3\n",
      "예측 Y = [4]\n",
      "----------------------\n",
      "[[1.00155769e-07]\n",
      " [3.66342791e-21]\n",
      " [6.51729472e-21]\n",
      " [9.99999900e-01]\n",
      " [1.73356794e-11]]\n",
      "----------------------\n",
      "실제 Y = 4\n",
      "예측 Y = [5]\n",
      "----------------------\n",
      "[[5.03090497e-17]\n",
      " [4.93241931e-01]\n",
      " [2.72495006e-03]\n",
      " [9.33399749e-23]\n",
      " [5.04033119e-01]]\n",
      "----------------------\n",
      "실제 Y = 5\n",
      "예측 Y = [5]\n",
      "----------------------\n",
      "[[4.30875836e-32]\n",
      " [4.39257965e-13]\n",
      " [1.81691911e-16]\n",
      " [5.55281076e-46]\n",
      " [1.00000000e+00]]\n",
      "----------------------\n"
     ]
    }
   ],
   "source": [
    "learning_result = [0,0,0,0,0]\n",
    "\n",
    "N = 5\n",
    "\n",
    "for k in range(N):\n",
    "    x = np.reshape(X_test[:,:,k], (25,1))\n",
    "    y = verify_algorithm(x, W1, W2, W3, W4)\n",
    "    \n",
    "    learning_result[k] = np.argmax(y, axis=0) + 1\n",
    "    \n",
    "    print('실제 Y = {}'.format(k+1))\n",
    "    print('예측 Y =',np.argmax(y, axis=0) + 1)\n",
    "    print('----------------------')\n",
    "    print(y)\n",
    "    print('----------------------')"
   ]
  },
  {
   "cell_type": "code",
   "execution_count": 100,
   "id": "43439c88",
   "metadata": {},
   "outputs": [
    {
     "data": {
      "image/png": "[encoded data removed]",
      "text/plain": [
       "<Figure size 1200x400 with 10 Axes>"
      ]
     },
     "metadata": {},
     "output_type": "display_data"
    }
   ],
   "source": [
    "plt.figure(figsize=(12,4))\n",
    "for k in range(5):\n",
    "    plt.subplot(2,5,k+1)\n",
    "    plt.imshow(X_test[:,:,k])\n",
    "    plt.subplot(2,5,k+6)\n",
    "    plt.imshow(X[:,:,learning_result[k][0]-1])\n",
    "    \n",
    "plt.show()"
   ]
  },
  {
   "cell_type": "code",
   "execution_count": null,
   "id": "15e4b663",
   "metadata": {},
   "outputs": [],
   "source": []
  }
 ],
 "metadata": {
  "kernelspec": {
   "display_name": "Python 3 (ipykernel)",
   "language": "python",
   "name": "python3"
  },
  "language_info": {
   "codemirror_mode": {
    "name": "ipython",
    "version": 3
   },
   "file_extension": ".py",
   "mimetype": "text/x-python",
   "name": "python",
   "nbconvert_exporter": "python",
   "pygments_lexer": "ipython3",
   "version": "3.8.18"
  }
 },
 "nbformat": 4,
 "nbformat_minor": 5
}
