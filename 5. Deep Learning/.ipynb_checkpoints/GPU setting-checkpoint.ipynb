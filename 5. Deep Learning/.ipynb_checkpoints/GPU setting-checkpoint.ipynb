{
 "cells": [
  {
   "cell_type": "markdown",
   "id": "62337931",
   "metadata": {},
   "source": [
    "## 설치 확인"
   ]
  },
  {
   "cell_type": "code",
   "execution_count": 1,
   "id": "2a61202b",
   "metadata": {
    "ExecuteTime": {
     "end_time": "2023-10-03T02:46:15.428655Z",
     "start_time": "2023-10-03T02:45:54.266437Z"
    }
   },
   "outputs": [
    {
     "name": "stdout",
     "output_type": "stream",
     "text": [
      "2.9.0\n",
      "2.0.1+cu117\n"
     ]
    }
   ],
   "source": [
    "import tensorflow as tf\n",
    "import torch\n",
    "\n",
    "print(tf.__version__)\n",
    "print(torch.__version__)"
   ]
  },
  {
   "cell_type": "markdown",
   "id": "261d6d3b-d998-4a15-9576-63e07e579996",
   "metadata": {},
   "source": [
    "## GPU가 인식 되는 지 확인"
   ]
  },
  {
   "cell_type": "code",
   "execution_count": 2,
   "id": "9f259364",
   "metadata": {
    "ExecuteTime": {
     "end_time": "2023-10-03T02:46:21.281919Z",
     "start_time": "2023-10-03T02:46:19.035331Z"
    }
   },
   "outputs": [
    {
     "data": {
      "text/plain": [
       "[name: \"/device:CPU:0\"\n",
       " device_type: \"CPU\"\n",
       " memory_limit: 268435456\n",
       " locality {\n",
       " }\n",
       " incarnation: 677742629824872918\n",
       " xla_global_id: -1,\n",
       " name: \"/device:GPU:0\"\n",
       " device_type: \"GPU\"\n",
       " memory_limit: 2916089856\n",
       " locality {\n",
       "   bus_id: 1\n",
       "   links {\n",
       "   }\n",
       " }\n",
       " incarnation: 17689905916185281668\n",
       " physical_device_desc: \"device: 0, name: NVIDIA GeForce GTX 1050, pci bus id: 0000:01:00.0, compute capability: 6.1\"\n",
       " xla_global_id: 416903419]"
      ]
     },
     "execution_count": 2,
     "metadata": {},
     "output_type": "execute_result"
    }
   ],
   "source": [
    "from tensorflow.python.client import device_lib\n",
    "device_lib.list_local_devices()"
   ]
  },
  {
   "cell_type": "code",
   "execution_count": 3,
   "id": "58025880-f8ad-4969-8eff-9297545e04c2",
   "metadata": {
    "ExecuteTime": {
     "end_time": "2023-10-03T02:46:24.049445Z",
     "start_time": "2023-10-03T02:46:24.041333Z"
    }
   },
   "outputs": [
    {
     "name": "stdout",
     "output_type": "stream",
     "text": [
      "C:\\Users\\Sam\\Documents\\ML_DL_studyplace\\10. Deep Learning\n",
      "C:\\Users\\Sam\\miniconda3\\envs\\gpu\\python38.zip\n",
      "C:\\Users\\Sam\\miniconda3\\envs\\gpu\\DLLs\n",
      "C:\\Users\\Sam\\miniconda3\\envs\\gpu\\lib\n",
      "C:\\Users\\Sam\\miniconda3\\envs\\gpu\n",
      "\n",
      "C:\\Users\\Sam\\miniconda3\\envs\\gpu\\lib\\site-packages\n",
      "C:\\Users\\Sam\\miniconda3\\envs\\gpu\\lib\\site-packages\\win32\n",
      "C:\\Users\\Sam\\miniconda3\\envs\\gpu\\lib\\site-packages\\win32\\lib\n",
      "C:\\Users\\Sam\\miniconda3\\envs\\gpu\\lib\\site-packages\\Pythonwin\n"
     ]
    }
   ],
   "source": [
    "import sys\n",
    "\n",
    "# import path 확인\n",
    "for i in sys.path:\n",
    "    print(i)"
   ]
  },
  {
   "cell_type": "code",
   "execution_count": 4,
   "id": "39ace01a",
   "metadata": {
    "ExecuteTime": {
     "end_time": "2023-10-03T02:46:26.660234Z",
     "start_time": "2023-10-03T02:46:26.651758Z"
    }
   },
   "outputs": [
    {
     "name": "stdout",
     "output_type": "stream",
     "text": [
      "True\n"
     ]
    }
   ],
   "source": [
    "import torch\n",
    "\n",
    "# GPU 사용 가능 -> True, GPU 사용 불가 -> False\n",
    "print(torch.cuda.is_available())"
   ]
  },
  {
   "cell_type": "code",
   "execution_count": 5,
   "id": "fdadbd51",
   "metadata": {
    "ExecuteTime": {
     "end_time": "2023-10-03T02:46:29.529495Z",
     "start_time": "2023-10-03T02:46:29.514511Z"
    }
   },
   "outputs": [
    {
     "data": {
      "text/plain": [
       "['/device:GPU:0']"
      ]
     },
     "execution_count": 5,
     "metadata": {},
     "output_type": "execute_result"
    }
   ],
   "source": [
    "from tensorflow.python.client import device_lib\n",
    "\n",
    "def get_available_gpus():\n",
    "\n",
    "    local_device_protos = device_lib.list_local_devices()\n",
    "\n",
    "    return [x.name for x in local_device_protos if x.device_type == 'GPU']\n",
    "\n",
    "get_available_gpus()"
   ]
  },
  {
   "cell_type": "markdown",
   "id": "6a3b4e22-e3c1-4745-a3b0-494edc22b969",
   "metadata": {},
   "source": [
    "### nvidia 살펴보기"
   ]
  },
  {
   "cell_type": "code",
   "execution_count": 6,
   "id": "b20fc9c2",
   "metadata": {
    "ExecuteTime": {
     "end_time": "2023-10-03T02:46:31.441484Z",
     "start_time": "2023-10-03T02:46:31.254688Z"
    }
   },
   "outputs": [
    {
     "name": "stdout",
     "output_type": "stream",
     "text": [
      "Tue Oct  3 11:46:31 2023       \n",
      "+---------------------------------------------------------------------------------------+\n",
      "| NVIDIA-SMI 537.42                 Driver Version: 537.42       CUDA Version: 12.2     |\n",
      "|-----------------------------------------+----------------------+----------------------+\n",
      "| GPU  Name                     TCC/WDDM  | Bus-Id        Disp.A | Volatile Uncorr. ECC |\n",
      "| Fan  Temp   Perf          Pwr:Usage/Cap |         Memory-Usage | GPU-Util  Compute M. |\n",
      "|                                         |                      |               MIG M. |\n",
      "|=========================================+======================+======================|\n",
      "|   0  NVIDIA GeForce GTX 1050      WDDM  | 00000000:01:00.0 Off |                  N/A |\n",
      "| N/A   48C    P3              N/A / ERR! |    136MiB /  4096MiB |      0%      Default |\n",
      "|                                         |                      |                  N/A |\n",
      "+-----------------------------------------+----------------------+----------------------+\n",
      "                                                                                         \n",
      "+---------------------------------------------------------------------------------------+\n",
      "| Processes:                                                                            |\n",
      "|  GPU   GI   CI        PID   Type   Process name                            GPU Memory |\n",
      "|        ID   ID                                                             Usage      |\n",
      "|=======================================================================================|\n",
      "|    0   N/A  N/A     10296      C   ...\\Sam\\miniconda3\\envs\\gpu\\python.exe    N/A      |\n",
      "+---------------------------------------------------------------------------------------+\n"
     ]
    }
   ],
   "source": [
    "!nvidia-smi"
   ]
  },
  {
   "cell_type": "code",
   "execution_count": 6,
   "id": "3c592f66",
   "metadata": {
    "ExecuteTime": {
     "end_time": "2023-10-01T07:51:30.908715Z",
     "start_time": "2023-10-01T07:51:29.960695Z"
    }
   },
   "outputs": [
    {
     "name": "stdout",
     "output_type": "stream",
     "text": [
      "GPU 0: NVIDIA GeForce GTX 1050 (UUID: GPU-b9304a58-6592-6d12-3209-69ba0757922a)\n"
     ]
    }
   ],
   "source": [
    "!nvidia-smi -L"
   ]
  },
  {
   "cell_type": "code",
   "execution_count": 7,
   "id": "60f8c697",
   "metadata": {
    "ExecuteTime": {
     "end_time": "2023-10-01T07:51:32.704523Z",
     "start_time": "2023-10-01T07:51:32.409365Z"
    }
   },
   "outputs": [
    {
     "name": "stdout",
     "output_type": "stream",
     "text": [
      "\n",
      "==============NVSMI LOG==============\n",
      "\n",
      "Timestamp                                 : Mon Oct  2 22:33:10 2023\n",
      "Driver Version                            : 537.42\n",
      "CUDA Version                              : 12.2\n",
      "\n",
      "Attached GPUs                             : 1\n",
      "GPU 00000000:01:00.0\n",
      "    FB Memory Usage\n",
      "        Total                             : 4096 MiB\n",
      "        Reserved                          : 76 MiB\n",
      "        Used                              : 136 MiB\n",
      "        Free                              : 3883 MiB\n",
      "    BAR1 Memory Usage\n",
      "        Total                             : 256 MiB\n",
      "        Used                              : 2 MiB\n",
      "        Free                              : 254 MiB\n",
      "    Conf Compute Protected Memory Usage\n",
      "        Total                             : N/A\n",
      "        Used                              : N/A\n",
      "        Free                              : N/A\n",
      "\n"
     ]
    }
   ],
   "source": [
    "!nvidia-smi -q -d memory"
   ]
  },
  {
   "cell_type": "code",
   "execution_count": 9,
   "id": "56912145",
   "metadata": {},
   "outputs": [],
   "source": [
    "import os\n",
    "\n",
    "# 0, 1, 2번의 GPU를 모두 사용하고 싶은 경우 예시(각각 cuda:0, cuda:1, cuda:2에 지정)\n",
    "#os.environ[\"CUDA_DEVICE_ORDER\"] = \"PCI_BUS_ID\"\n",
    "#os.environ[\"CUDA_VISIBLE_DEVICES\"] = \"0,1,2\"\n",
    "\n",
    "# 2번 GPU만 사용하고 싶은 경우 예시(cuda:0에 지정)\n",
    "os.environ[\"CUDA_DEVICE_ORDER\"] = \"PCI_BUS_ID\"\n",
    "os.environ[\"CUDA_VISIBLE_DEVICES\"] = \"2\""
   ]
  },
  {
   "cell_type": "code",
   "execution_count": null,
   "id": "88927a15-3694-444a-8216-a4019b8b6138",
   "metadata": {},
   "outputs": [],
   "source": []
  }
 ],
 "metadata": {
  "kernelspec": {
   "display_name": "GPU",
   "language": "python",
   "name": "gpu"
  },
  "language_info": {
   "codemirror_mode": {
    "name": "ipython",
    "version": 3
   },
   "file_extension": ".py",
   "mimetype": "text/x-python",
   "name": "python",
   "nbconvert_exporter": "python",
   "pygments_lexer": "ipython3",
   "version": "3.8.18"
  }
 },
 "nbformat": 4,
 "nbformat_minor": 5
}
